{
 "cells": [
  {
   "cell_type": "code",
   "execution_count": 1,
   "id": "62aa5169",
   "metadata": {},
   "outputs": [],
   "source": [
    "#import dependencies\n",
    "import warnings\n",
    "warnings.filterwarnings('ignore')"
   ]
  },
  {
   "cell_type": "code",
   "execution_count": 2,
   "id": "0e763a16",
   "metadata": {},
   "outputs": [],
   "source": [
    "#import dependencies\n",
    "import numpy as np\n",
    "import pandas as pd\n",
    "import os\n",
    "from pathlib import Path\n",
    "from collections import Counter"
   ]
  },
  {
   "cell_type": "code",
   "execution_count": 3,
   "id": "6f6e6b28",
   "metadata": {},
   "outputs": [
    {
     "data": {
      "text/html": [
       "<div>\n",
       "<style scoped>\n",
       "    .dataframe tbody tr th:only-of-type {\n",
       "        vertical-align: middle;\n",
       "    }\n",
       "\n",
       "    .dataframe tbody tr th {\n",
       "        vertical-align: top;\n",
       "    }\n",
       "\n",
       "    .dataframe thead th {\n",
       "        text-align: right;\n",
       "    }\n",
       "</style>\n",
       "<table border=\"1\" class=\"dataframe\">\n",
       "  <thead>\n",
       "    <tr style=\"text-align: right;\">\n",
       "      <th></th>\n",
       "      <th>Diabetes_012</th>\n",
       "      <th>HighBP</th>\n",
       "      <th>HighChol</th>\n",
       "      <th>CholCheck</th>\n",
       "      <th>BMI</th>\n",
       "      <th>Smoker</th>\n",
       "      <th>Stroke</th>\n",
       "      <th>HeartDiseaseorAttack</th>\n",
       "      <th>PhysActivity</th>\n",
       "      <th>Fruits</th>\n",
       "      <th>...</th>\n",
       "      <th>AnyHealthcare</th>\n",
       "      <th>NoDocbcCost</th>\n",
       "      <th>GenHlth</th>\n",
       "      <th>MentHlth</th>\n",
       "      <th>PhysHlth</th>\n",
       "      <th>DiffWalk</th>\n",
       "      <th>Sex</th>\n",
       "      <th>Age</th>\n",
       "      <th>Education</th>\n",
       "      <th>Income</th>\n",
       "    </tr>\n",
       "  </thead>\n",
       "  <tbody>\n",
       "    <tr>\n",
       "      <th>0</th>\n",
       "      <td>0.0</td>\n",
       "      <td>1.0</td>\n",
       "      <td>1.0</td>\n",
       "      <td>1.0</td>\n",
       "      <td>40.0</td>\n",
       "      <td>1.0</td>\n",
       "      <td>0.0</td>\n",
       "      <td>0.0</td>\n",
       "      <td>0.0</td>\n",
       "      <td>0.0</td>\n",
       "      <td>...</td>\n",
       "      <td>1.0</td>\n",
       "      <td>0.0</td>\n",
       "      <td>5.0</td>\n",
       "      <td>18.0</td>\n",
       "      <td>15.0</td>\n",
       "      <td>1.0</td>\n",
       "      <td>0.0</td>\n",
       "      <td>9.0</td>\n",
       "      <td>4.0</td>\n",
       "      <td>3.0</td>\n",
       "    </tr>\n",
       "    <tr>\n",
       "      <th>1</th>\n",
       "      <td>0.0</td>\n",
       "      <td>0.0</td>\n",
       "      <td>0.0</td>\n",
       "      <td>0.0</td>\n",
       "      <td>25.0</td>\n",
       "      <td>1.0</td>\n",
       "      <td>0.0</td>\n",
       "      <td>0.0</td>\n",
       "      <td>1.0</td>\n",
       "      <td>0.0</td>\n",
       "      <td>...</td>\n",
       "      <td>0.0</td>\n",
       "      <td>1.0</td>\n",
       "      <td>3.0</td>\n",
       "      <td>0.0</td>\n",
       "      <td>0.0</td>\n",
       "      <td>0.0</td>\n",
       "      <td>0.0</td>\n",
       "      <td>7.0</td>\n",
       "      <td>6.0</td>\n",
       "      <td>1.0</td>\n",
       "    </tr>\n",
       "    <tr>\n",
       "      <th>2</th>\n",
       "      <td>0.0</td>\n",
       "      <td>1.0</td>\n",
       "      <td>1.0</td>\n",
       "      <td>1.0</td>\n",
       "      <td>28.0</td>\n",
       "      <td>0.0</td>\n",
       "      <td>0.0</td>\n",
       "      <td>0.0</td>\n",
       "      <td>0.0</td>\n",
       "      <td>1.0</td>\n",
       "      <td>...</td>\n",
       "      <td>1.0</td>\n",
       "      <td>1.0</td>\n",
       "      <td>5.0</td>\n",
       "      <td>30.0</td>\n",
       "      <td>30.0</td>\n",
       "      <td>1.0</td>\n",
       "      <td>0.0</td>\n",
       "      <td>9.0</td>\n",
       "      <td>4.0</td>\n",
       "      <td>8.0</td>\n",
       "    </tr>\n",
       "    <tr>\n",
       "      <th>3</th>\n",
       "      <td>0.0</td>\n",
       "      <td>1.0</td>\n",
       "      <td>0.0</td>\n",
       "      <td>1.0</td>\n",
       "      <td>27.0</td>\n",
       "      <td>0.0</td>\n",
       "      <td>0.0</td>\n",
       "      <td>0.0</td>\n",
       "      <td>1.0</td>\n",
       "      <td>1.0</td>\n",
       "      <td>...</td>\n",
       "      <td>1.0</td>\n",
       "      <td>0.0</td>\n",
       "      <td>2.0</td>\n",
       "      <td>0.0</td>\n",
       "      <td>0.0</td>\n",
       "      <td>0.0</td>\n",
       "      <td>0.0</td>\n",
       "      <td>11.0</td>\n",
       "      <td>3.0</td>\n",
       "      <td>6.0</td>\n",
       "    </tr>\n",
       "    <tr>\n",
       "      <th>4</th>\n",
       "      <td>0.0</td>\n",
       "      <td>1.0</td>\n",
       "      <td>1.0</td>\n",
       "      <td>1.0</td>\n",
       "      <td>24.0</td>\n",
       "      <td>0.0</td>\n",
       "      <td>0.0</td>\n",
       "      <td>0.0</td>\n",
       "      <td>1.0</td>\n",
       "      <td>1.0</td>\n",
       "      <td>...</td>\n",
       "      <td>1.0</td>\n",
       "      <td>0.0</td>\n",
       "      <td>2.0</td>\n",
       "      <td>3.0</td>\n",
       "      <td>0.0</td>\n",
       "      <td>0.0</td>\n",
       "      <td>0.0</td>\n",
       "      <td>11.0</td>\n",
       "      <td>5.0</td>\n",
       "      <td>4.0</td>\n",
       "    </tr>\n",
       "    <tr>\n",
       "      <th>...</th>\n",
       "      <td>...</td>\n",
       "      <td>...</td>\n",
       "      <td>...</td>\n",
       "      <td>...</td>\n",
       "      <td>...</td>\n",
       "      <td>...</td>\n",
       "      <td>...</td>\n",
       "      <td>...</td>\n",
       "      <td>...</td>\n",
       "      <td>...</td>\n",
       "      <td>...</td>\n",
       "      <td>...</td>\n",
       "      <td>...</td>\n",
       "      <td>...</td>\n",
       "      <td>...</td>\n",
       "      <td>...</td>\n",
       "      <td>...</td>\n",
       "      <td>...</td>\n",
       "      <td>...</td>\n",
       "      <td>...</td>\n",
       "      <td>...</td>\n",
       "    </tr>\n",
       "    <tr>\n",
       "      <th>253675</th>\n",
       "      <td>0.0</td>\n",
       "      <td>1.0</td>\n",
       "      <td>1.0</td>\n",
       "      <td>1.0</td>\n",
       "      <td>45.0</td>\n",
       "      <td>0.0</td>\n",
       "      <td>0.0</td>\n",
       "      <td>0.0</td>\n",
       "      <td>0.0</td>\n",
       "      <td>1.0</td>\n",
       "      <td>...</td>\n",
       "      <td>1.0</td>\n",
       "      <td>0.0</td>\n",
       "      <td>3.0</td>\n",
       "      <td>0.0</td>\n",
       "      <td>5.0</td>\n",
       "      <td>0.0</td>\n",
       "      <td>1.0</td>\n",
       "      <td>5.0</td>\n",
       "      <td>6.0</td>\n",
       "      <td>7.0</td>\n",
       "    </tr>\n",
       "    <tr>\n",
       "      <th>253676</th>\n",
       "      <td>2.0</td>\n",
       "      <td>1.0</td>\n",
       "      <td>1.0</td>\n",
       "      <td>1.0</td>\n",
       "      <td>18.0</td>\n",
       "      <td>0.0</td>\n",
       "      <td>0.0</td>\n",
       "      <td>0.0</td>\n",
       "      <td>0.0</td>\n",
       "      <td>0.0</td>\n",
       "      <td>...</td>\n",
       "      <td>1.0</td>\n",
       "      <td>0.0</td>\n",
       "      <td>4.0</td>\n",
       "      <td>0.0</td>\n",
       "      <td>0.0</td>\n",
       "      <td>1.0</td>\n",
       "      <td>0.0</td>\n",
       "      <td>11.0</td>\n",
       "      <td>2.0</td>\n",
       "      <td>4.0</td>\n",
       "    </tr>\n",
       "    <tr>\n",
       "      <th>253677</th>\n",
       "      <td>0.0</td>\n",
       "      <td>0.0</td>\n",
       "      <td>0.0</td>\n",
       "      <td>1.0</td>\n",
       "      <td>28.0</td>\n",
       "      <td>0.0</td>\n",
       "      <td>0.0</td>\n",
       "      <td>0.0</td>\n",
       "      <td>1.0</td>\n",
       "      <td>1.0</td>\n",
       "      <td>...</td>\n",
       "      <td>1.0</td>\n",
       "      <td>0.0</td>\n",
       "      <td>1.0</td>\n",
       "      <td>0.0</td>\n",
       "      <td>0.0</td>\n",
       "      <td>0.0</td>\n",
       "      <td>0.0</td>\n",
       "      <td>2.0</td>\n",
       "      <td>5.0</td>\n",
       "      <td>2.0</td>\n",
       "    </tr>\n",
       "    <tr>\n",
       "      <th>253678</th>\n",
       "      <td>0.0</td>\n",
       "      <td>1.0</td>\n",
       "      <td>0.0</td>\n",
       "      <td>1.0</td>\n",
       "      <td>23.0</td>\n",
       "      <td>0.0</td>\n",
       "      <td>0.0</td>\n",
       "      <td>0.0</td>\n",
       "      <td>0.0</td>\n",
       "      <td>1.0</td>\n",
       "      <td>...</td>\n",
       "      <td>1.0</td>\n",
       "      <td>0.0</td>\n",
       "      <td>3.0</td>\n",
       "      <td>0.0</td>\n",
       "      <td>0.0</td>\n",
       "      <td>0.0</td>\n",
       "      <td>1.0</td>\n",
       "      <td>7.0</td>\n",
       "      <td>5.0</td>\n",
       "      <td>1.0</td>\n",
       "    </tr>\n",
       "    <tr>\n",
       "      <th>253679</th>\n",
       "      <td>2.0</td>\n",
       "      <td>1.0</td>\n",
       "      <td>1.0</td>\n",
       "      <td>1.0</td>\n",
       "      <td>25.0</td>\n",
       "      <td>0.0</td>\n",
       "      <td>0.0</td>\n",
       "      <td>1.0</td>\n",
       "      <td>1.0</td>\n",
       "      <td>1.0</td>\n",
       "      <td>...</td>\n",
       "      <td>1.0</td>\n",
       "      <td>0.0</td>\n",
       "      <td>2.0</td>\n",
       "      <td>0.0</td>\n",
       "      <td>0.0</td>\n",
       "      <td>0.0</td>\n",
       "      <td>0.0</td>\n",
       "      <td>9.0</td>\n",
       "      <td>6.0</td>\n",
       "      <td>2.0</td>\n",
       "    </tr>\n",
       "  </tbody>\n",
       "</table>\n",
       "<p>253680 rows × 22 columns</p>\n",
       "</div>"
      ],
      "text/plain": [
       "        Diabetes_012  HighBP  HighChol  CholCheck   BMI  Smoker  Stroke  \\\n",
       "0                0.0     1.0       1.0        1.0  40.0     1.0     0.0   \n",
       "1                0.0     0.0       0.0        0.0  25.0     1.0     0.0   \n",
       "2                0.0     1.0       1.0        1.0  28.0     0.0     0.0   \n",
       "3                0.0     1.0       0.0        1.0  27.0     0.0     0.0   \n",
       "4                0.0     1.0       1.0        1.0  24.0     0.0     0.0   \n",
       "...              ...     ...       ...        ...   ...     ...     ...   \n",
       "253675           0.0     1.0       1.0        1.0  45.0     0.0     0.0   \n",
       "253676           2.0     1.0       1.0        1.0  18.0     0.0     0.0   \n",
       "253677           0.0     0.0       0.0        1.0  28.0     0.0     0.0   \n",
       "253678           0.0     1.0       0.0        1.0  23.0     0.0     0.0   \n",
       "253679           2.0     1.0       1.0        1.0  25.0     0.0     0.0   \n",
       "\n",
       "        HeartDiseaseorAttack  PhysActivity  Fruits  ...  AnyHealthcare  \\\n",
       "0                        0.0           0.0     0.0  ...            1.0   \n",
       "1                        0.0           1.0     0.0  ...            0.0   \n",
       "2                        0.0           0.0     1.0  ...            1.0   \n",
       "3                        0.0           1.0     1.0  ...            1.0   \n",
       "4                        0.0           1.0     1.0  ...            1.0   \n",
       "...                      ...           ...     ...  ...            ...   \n",
       "253675                   0.0           0.0     1.0  ...            1.0   \n",
       "253676                   0.0           0.0     0.0  ...            1.0   \n",
       "253677                   0.0           1.0     1.0  ...            1.0   \n",
       "253678                   0.0           0.0     1.0  ...            1.0   \n",
       "253679                   1.0           1.0     1.0  ...            1.0   \n",
       "\n",
       "        NoDocbcCost  GenHlth  MentHlth  PhysHlth  DiffWalk  Sex   Age  \\\n",
       "0               0.0      5.0      18.0      15.0       1.0  0.0   9.0   \n",
       "1               1.0      3.0       0.0       0.0       0.0  0.0   7.0   \n",
       "2               1.0      5.0      30.0      30.0       1.0  0.0   9.0   \n",
       "3               0.0      2.0       0.0       0.0       0.0  0.0  11.0   \n",
       "4               0.0      2.0       3.0       0.0       0.0  0.0  11.0   \n",
       "...             ...      ...       ...       ...       ...  ...   ...   \n",
       "253675          0.0      3.0       0.0       5.0       0.0  1.0   5.0   \n",
       "253676          0.0      4.0       0.0       0.0       1.0  0.0  11.0   \n",
       "253677          0.0      1.0       0.0       0.0       0.0  0.0   2.0   \n",
       "253678          0.0      3.0       0.0       0.0       0.0  1.0   7.0   \n",
       "253679          0.0      2.0       0.0       0.0       0.0  0.0   9.0   \n",
       "\n",
       "        Education  Income  \n",
       "0             4.0     3.0  \n",
       "1             6.0     1.0  \n",
       "2             4.0     8.0  \n",
       "3             3.0     6.0  \n",
       "4             5.0     4.0  \n",
       "...           ...     ...  \n",
       "253675        6.0     7.0  \n",
       "253676        2.0     4.0  \n",
       "253677        5.0     2.0  \n",
       "253678        5.0     1.0  \n",
       "253679        6.0     2.0  \n",
       "\n",
       "[253680 rows x 22 columns]"
      ]
     },
     "execution_count": 3,
     "metadata": {},
     "output_type": "execute_result"
    }
   ],
   "source": [
    "#set file path\n",
    "file_path3 = Path(r'resources\\diabetes.csv')\n",
    "\n",
    "#read file into memory\n",
    "diabetes_df = pd.read_csv(file_path3)\n",
    "\n",
    "#validate load\n",
    "diabetes_df"
   ]
  },
  {
   "cell_type": "code",
   "execution_count": 4,
   "id": "8eb4f00b",
   "metadata": {},
   "outputs": [
    {
     "data": {
      "text/plain": [
       "Index(['Diabetes_012', 'HighBP', 'HighChol', 'CholCheck', 'BMI', 'Smoker',\n",
       "       'Stroke', 'HeartDiseaseorAttack', 'PhysActivity', 'Fruits', 'Veggies',\n",
       "       'HvyAlcoholConsump', 'AnyHealthcare', 'NoDocbcCost', 'GenHlth',\n",
       "       'MentHlth', 'PhysHlth', 'DiffWalk', 'Sex', 'Age', 'Education',\n",
       "       'Income'],\n",
       "      dtype='object')"
      ]
     },
     "execution_count": 4,
     "metadata": {},
     "output_type": "execute_result"
    }
   ],
   "source": [
    "#Column_listing\n",
    "diabetes_df.columns"
   ]
  },
  {
   "cell_type": "code",
   "execution_count": 5,
   "id": "26e45c9c",
   "metadata": {},
   "outputs": [],
   "source": [
    "#Determine Null Values \n",
    "nan_count = diabetes_df.isna().sum(axis = 1)"
   ]
  },
  {
   "cell_type": "code",
   "execution_count": 6,
   "id": "0adf79bb",
   "metadata": {},
   "outputs": [
    {
     "name": "stdout",
     "output_type": "stream",
     "text": [
      "There are 23899 duplicate records\n"
     ]
    }
   ],
   "source": [
    "#determine count of duplicate values \n",
    "dupe_records = len(diabetes_df)-len(diabetes_df.drop_duplicates())\n",
    "\n",
    "print(f\"There are {dupe_records} duplicate records\")"
   ]
  },
  {
   "cell_type": "code",
   "execution_count": 7,
   "id": "45ae01a5",
   "metadata": {},
   "outputs": [
    {
     "data": {
      "text/plain": [
       "Diabetes_012            229781\n",
       "HighBP                  229781\n",
       "HighChol                229781\n",
       "CholCheck               229781\n",
       "BMI                     229781\n",
       "Smoker                  229781\n",
       "Stroke                  229781\n",
       "HeartDiseaseorAttack    229781\n",
       "PhysActivity            229781\n",
       "Fruits                  229781\n",
       "Veggies                 229781\n",
       "HvyAlcoholConsump       229781\n",
       "AnyHealthcare           229781\n",
       "NoDocbcCost             229781\n",
       "GenHlth                 229781\n",
       "MentHlth                229781\n",
       "PhysHlth                229781\n",
       "DiffWalk                229781\n",
       "Sex                     229781\n",
       "Age                     229781\n",
       "Education               229781\n",
       "Income                  229781\n",
       "dtype: int64"
      ]
     },
     "execution_count": 7,
     "metadata": {},
     "output_type": "execute_result"
    }
   ],
   "source": [
    "#Drop all duplicate records\n",
    "diabetesnd_df = diabetes_df.drop_duplicates() \n",
    "\n",
    "#display count of records after drop\n",
    "diabetesnd_df.count()"
   ]
  },
  {
   "cell_type": "code",
   "execution_count": 8,
   "id": "0fd32668",
   "metadata": {},
   "outputs": [
    {
     "data": {
      "text/plain": [
       "Diabetes_012            float64\n",
       "HighBP                  float64\n",
       "HighChol                float64\n",
       "CholCheck               float64\n",
       "BMI                     float64\n",
       "Smoker                  float64\n",
       "Stroke                  float64\n",
       "HeartDiseaseorAttack    float64\n",
       "PhysActivity            float64\n",
       "Fruits                  float64\n",
       "Veggies                 float64\n",
       "HvyAlcoholConsump       float64\n",
       "AnyHealthcare           float64\n",
       "NoDocbcCost             float64\n",
       "GenHlth                 float64\n",
       "MentHlth                float64\n",
       "PhysHlth                float64\n",
       "DiffWalk                float64\n",
       "Sex                     float64\n",
       "Age                     float64\n",
       "Education               float64\n",
       "Income                  float64\n",
       "dtype: object"
      ]
     },
     "execution_count": 8,
     "metadata": {},
     "output_type": "execute_result"
    }
   ],
   "source": [
    "#Check Data types - all fields should be numeric \n",
    "diabetesnd_df.dtypes"
   ]
  },
  {
   "cell_type": "code",
   "execution_count": 9,
   "id": "3fb2a0de",
   "metadata": {},
   "outputs": [
    {
     "data": {
      "text/plain": [
       "0.0    190055\n",
       "2.0     35097\n",
       "1.0      4629\n",
       "Name: Diabetes_012, dtype: int64"
      ]
     },
     "execution_count": 9,
     "metadata": {},
     "output_type": "execute_result"
    }
   ],
   "source": [
    "#Count number of each value in Diabetes 012 column\n",
    "#0-no diabetes, 1-prediabetes 2-diabetes\n",
    "#this is what we want our model to train on - recommend combining 1&2 into one value to make it binary 'get checked'\n",
    "diabetesnd_df['Diabetes_012'].value_counts()"
   ]
  },
  {
   "cell_type": "code",
   "execution_count": 10,
   "id": "c3312b8b",
   "metadata": {},
   "outputs": [
    {
     "data": {
      "text/plain": [
       "0.0    0.827114\n",
       "2.0    0.152741\n",
       "1.0    0.020145\n",
       "Name: Diabetes_012, dtype: float64"
      ]
     },
     "execution_count": 10,
     "metadata": {},
     "output_type": "execute_result"
    }
   ],
   "source": [
    "#percentage of each value in Diabetes 012 column\n",
    "diabetesnd_df.Diabetes_012.value_counts(normalize=True)"
   ]
  },
  {
   "cell_type": "code",
   "execution_count": 11,
   "id": "60fd1df7",
   "metadata": {},
   "outputs": [
    {
     "data": {
      "text/plain": [
       "count     229781\n",
       "unique         2\n",
       "top            1\n",
       "freq      190055\n",
       "Name: Diabetes_Status, dtype: int64"
      ]
     },
     "execution_count": 11,
     "metadata": {},
     "output_type": "execute_result"
    }
   ],
   "source": [
    "#binning of Diabetes Status \n",
    "status_bin_range = [-1, 0, 4]\n",
    "\n",
    "status_bins = [1, 2]\n",
    "\n",
    "diabetesnd_df['Diabetes_Status'] = pd.cut(diabetes_df['Diabetes_012'], status_bin_range, labels=status_bins)\n",
    "\n",
    "diabetesnd_df.Diabetes_Status.describe()"
   ]
  },
  {
   "cell_type": "code",
   "execution_count": 12,
   "id": "e4c50d3f",
   "metadata": {},
   "outputs": [
    {
     "data": {
      "text/plain": [
       "Index(['Diabetes_012', 'HighBP', 'HighChol', 'CholCheck', 'BMI', 'Smoker',\n",
       "       'Stroke', 'HeartDiseaseorAttack', 'PhysActivity', 'Fruits', 'Veggies',\n",
       "       'HvyAlcoholConsump', 'AnyHealthcare', 'NoDocbcCost', 'GenHlth',\n",
       "       'MentHlth', 'PhysHlth', 'DiffWalk', 'Sex', 'Age', 'Education', 'Income',\n",
       "       'Diabetes_Status'],\n",
       "      dtype='object')"
      ]
     },
     "execution_count": 12,
     "metadata": {},
     "output_type": "execute_result"
    }
   ],
   "source": [
    "diabetesnd_df.columns"
   ]
  },
  {
   "cell_type": "code",
   "execution_count": 13,
   "id": "d71b7707",
   "metadata": {},
   "outputs": [
    {
     "data": {
      "text/html": [
       "<div>\n",
       "<style scoped>\n",
       "    .dataframe tbody tr th:only-of-type {\n",
       "        vertical-align: middle;\n",
       "    }\n",
       "\n",
       "    .dataframe tbody tr th {\n",
       "        vertical-align: top;\n",
       "    }\n",
       "\n",
       "    .dataframe thead th {\n",
       "        text-align: right;\n",
       "    }\n",
       "</style>\n",
       "<table border=\"1\" class=\"dataframe\">\n",
       "  <thead>\n",
       "    <tr style=\"text-align: right;\">\n",
       "      <th></th>\n",
       "      <th>Diabetes_012</th>\n",
       "      <th>HighBP</th>\n",
       "      <th>HighChol</th>\n",
       "      <th>CholCheck</th>\n",
       "      <th>BMI</th>\n",
       "      <th>Smoker</th>\n",
       "      <th>Stroke</th>\n",
       "      <th>HeartDiseaseorAttack</th>\n",
       "      <th>PhysActivity</th>\n",
       "      <th>Fruits</th>\n",
       "      <th>...</th>\n",
       "      <th>NoDocbcCost</th>\n",
       "      <th>GenHlth</th>\n",
       "      <th>MentHlth</th>\n",
       "      <th>PhysHlth</th>\n",
       "      <th>DiffWalk</th>\n",
       "      <th>Sex</th>\n",
       "      <th>Age</th>\n",
       "      <th>Education</th>\n",
       "      <th>Income</th>\n",
       "      <th>Diabetes_Status</th>\n",
       "    </tr>\n",
       "  </thead>\n",
       "  <tbody>\n",
       "    <tr>\n",
       "      <th>0</th>\n",
       "      <td>0.0</td>\n",
       "      <td>1.0</td>\n",
       "      <td>1.0</td>\n",
       "      <td>1.0</td>\n",
       "      <td>40.0</td>\n",
       "      <td>1.0</td>\n",
       "      <td>0.0</td>\n",
       "      <td>0.0</td>\n",
       "      <td>0.0</td>\n",
       "      <td>0.0</td>\n",
       "      <td>...</td>\n",
       "      <td>0.0</td>\n",
       "      <td>5.0</td>\n",
       "      <td>18.0</td>\n",
       "      <td>15.0</td>\n",
       "      <td>1.0</td>\n",
       "      <td>0.0</td>\n",
       "      <td>9.0</td>\n",
       "      <td>4.0</td>\n",
       "      <td>3.0</td>\n",
       "      <td>1</td>\n",
       "    </tr>\n",
       "    <tr>\n",
       "      <th>1</th>\n",
       "      <td>0.0</td>\n",
       "      <td>0.0</td>\n",
       "      <td>0.0</td>\n",
       "      <td>0.0</td>\n",
       "      <td>25.0</td>\n",
       "      <td>1.0</td>\n",
       "      <td>0.0</td>\n",
       "      <td>0.0</td>\n",
       "      <td>1.0</td>\n",
       "      <td>0.0</td>\n",
       "      <td>...</td>\n",
       "      <td>1.0</td>\n",
       "      <td>3.0</td>\n",
       "      <td>0.0</td>\n",
       "      <td>0.0</td>\n",
       "      <td>0.0</td>\n",
       "      <td>0.0</td>\n",
       "      <td>7.0</td>\n",
       "      <td>6.0</td>\n",
       "      <td>1.0</td>\n",
       "      <td>1</td>\n",
       "    </tr>\n",
       "    <tr>\n",
       "      <th>2</th>\n",
       "      <td>0.0</td>\n",
       "      <td>1.0</td>\n",
       "      <td>1.0</td>\n",
       "      <td>1.0</td>\n",
       "      <td>28.0</td>\n",
       "      <td>0.0</td>\n",
       "      <td>0.0</td>\n",
       "      <td>0.0</td>\n",
       "      <td>0.0</td>\n",
       "      <td>1.0</td>\n",
       "      <td>...</td>\n",
       "      <td>1.0</td>\n",
       "      <td>5.0</td>\n",
       "      <td>30.0</td>\n",
       "      <td>30.0</td>\n",
       "      <td>1.0</td>\n",
       "      <td>0.0</td>\n",
       "      <td>9.0</td>\n",
       "      <td>4.0</td>\n",
       "      <td>8.0</td>\n",
       "      <td>1</td>\n",
       "    </tr>\n",
       "    <tr>\n",
       "      <th>3</th>\n",
       "      <td>0.0</td>\n",
       "      <td>1.0</td>\n",
       "      <td>0.0</td>\n",
       "      <td>1.0</td>\n",
       "      <td>27.0</td>\n",
       "      <td>0.0</td>\n",
       "      <td>0.0</td>\n",
       "      <td>0.0</td>\n",
       "      <td>1.0</td>\n",
       "      <td>1.0</td>\n",
       "      <td>...</td>\n",
       "      <td>0.0</td>\n",
       "      <td>2.0</td>\n",
       "      <td>0.0</td>\n",
       "      <td>0.0</td>\n",
       "      <td>0.0</td>\n",
       "      <td>0.0</td>\n",
       "      <td>11.0</td>\n",
       "      <td>3.0</td>\n",
       "      <td>6.0</td>\n",
       "      <td>1</td>\n",
       "    </tr>\n",
       "    <tr>\n",
       "      <th>4</th>\n",
       "      <td>0.0</td>\n",
       "      <td>1.0</td>\n",
       "      <td>1.0</td>\n",
       "      <td>1.0</td>\n",
       "      <td>24.0</td>\n",
       "      <td>0.0</td>\n",
       "      <td>0.0</td>\n",
       "      <td>0.0</td>\n",
       "      <td>1.0</td>\n",
       "      <td>1.0</td>\n",
       "      <td>...</td>\n",
       "      <td>0.0</td>\n",
       "      <td>2.0</td>\n",
       "      <td>3.0</td>\n",
       "      <td>0.0</td>\n",
       "      <td>0.0</td>\n",
       "      <td>0.0</td>\n",
       "      <td>11.0</td>\n",
       "      <td>5.0</td>\n",
       "      <td>4.0</td>\n",
       "      <td>1</td>\n",
       "    </tr>\n",
       "  </tbody>\n",
       "</table>\n",
       "<p>5 rows × 23 columns</p>\n",
       "</div>"
      ],
      "text/plain": [
       "   Diabetes_012  HighBP  HighChol  CholCheck   BMI  Smoker  Stroke  \\\n",
       "0           0.0     1.0       1.0        1.0  40.0     1.0     0.0   \n",
       "1           0.0     0.0       0.0        0.0  25.0     1.0     0.0   \n",
       "2           0.0     1.0       1.0        1.0  28.0     0.0     0.0   \n",
       "3           0.0     1.0       0.0        1.0  27.0     0.0     0.0   \n",
       "4           0.0     1.0       1.0        1.0  24.0     0.0     0.0   \n",
       "\n",
       "   HeartDiseaseorAttack  PhysActivity  Fruits  ...  NoDocbcCost  GenHlth  \\\n",
       "0                   0.0           0.0     0.0  ...          0.0      5.0   \n",
       "1                   0.0           1.0     0.0  ...          1.0      3.0   \n",
       "2                   0.0           0.0     1.0  ...          1.0      5.0   \n",
       "3                   0.0           1.0     1.0  ...          0.0      2.0   \n",
       "4                   0.0           1.0     1.0  ...          0.0      2.0   \n",
       "\n",
       "   MentHlth  PhysHlth  DiffWalk  Sex   Age  Education  Income  Diabetes_Status  \n",
       "0      18.0      15.0       1.0  0.0   9.0        4.0     3.0                1  \n",
       "1       0.0       0.0       0.0  0.0   7.0        6.0     1.0                1  \n",
       "2      30.0      30.0       1.0  0.0   9.0        4.0     8.0                1  \n",
       "3       0.0       0.0       0.0  0.0  11.0        3.0     6.0                1  \n",
       "4       3.0       0.0       0.0  0.0  11.0        5.0     4.0                1  \n",
       "\n",
       "[5 rows x 23 columns]"
      ]
     },
     "execution_count": 13,
     "metadata": {},
     "output_type": "execute_result"
    }
   ],
   "source": [
    "diabetesnd_df.head()"
   ]
  },
  {
   "cell_type": "code",
   "execution_count": 14,
   "id": "12771800",
   "metadata": {},
   "outputs": [
    {
     "name": "stdout",
     "output_type": "stream",
     "text": [
      "<class 'pandas.core.frame.DataFrame'>\n",
      "Int64Index: 229781 entries, 0 to 253679\n",
      "Data columns (total 23 columns):\n",
      " #   Column                Non-Null Count   Dtype   \n",
      "---  ------                --------------   -----   \n",
      " 0   Diabetes_012          229781 non-null  float64 \n",
      " 1   HighBP                229781 non-null  float64 \n",
      " 2   HighChol              229781 non-null  float64 \n",
      " 3   CholCheck             229781 non-null  float64 \n",
      " 4   BMI                   229781 non-null  float64 \n",
      " 5   Smoker                229781 non-null  float64 \n",
      " 6   Stroke                229781 non-null  float64 \n",
      " 7   HeartDiseaseorAttack  229781 non-null  float64 \n",
      " 8   PhysActivity          229781 non-null  float64 \n",
      " 9   Fruits                229781 non-null  float64 \n",
      " 10  Veggies               229781 non-null  float64 \n",
      " 11  HvyAlcoholConsump     229781 non-null  float64 \n",
      " 12  AnyHealthcare         229781 non-null  float64 \n",
      " 13  NoDocbcCost           229781 non-null  float64 \n",
      " 14  GenHlth               229781 non-null  float64 \n",
      " 15  MentHlth              229781 non-null  float64 \n",
      " 16  PhysHlth              229781 non-null  float64 \n",
      " 17  DiffWalk              229781 non-null  float64 \n",
      " 18  Sex                   229781 non-null  float64 \n",
      " 19  Age                   229781 non-null  float64 \n",
      " 20  Education             229781 non-null  float64 \n",
      " 21  Income                229781 non-null  float64 \n",
      " 22  Diabetes_Status       229781 non-null  category\n",
      "dtypes: category(1), float64(22)\n",
      "memory usage: 40.5 MB\n"
     ]
    }
   ],
   "source": [
    "diabetesnd_df.info()"
   ]
  },
  {
   "cell_type": "code",
   "execution_count": 15,
   "id": "effffb13",
   "metadata": {},
   "outputs": [
    {
     "data": {
      "text/plain": [
       "0.0    125359\n",
       "1.0    104422\n",
       "Name: HighBP, dtype: int64"
      ]
     },
     "execution_count": 15,
     "metadata": {},
     "output_type": "execute_result"
    }
   ],
   "source": [
    "#Count number of each value in HighBP Column\n",
    "# 0 - noHBP, 1 -  HBP \n",
    "diabetesnd_df['HighBP'].value_counts()\n"
   ]
  },
  {
   "cell_type": "code",
   "execution_count": 16,
   "id": "989fbf23",
   "metadata": {},
   "outputs": [
    {
     "data": {
      "text/plain": [
       "0.0    0.545559\n",
       "1.0    0.454441\n",
       "Name: HighBP, dtype: float64"
      ]
     },
     "execution_count": 16,
     "metadata": {},
     "output_type": "execute_result"
    }
   ],
   "source": [
    "#percentage of each value \n",
    "diabetesnd_df.HighBP.value_counts(normalize=True)"
   ]
  },
  {
   "cell_type": "code",
   "execution_count": 17,
   "id": "b286e514",
   "metadata": {},
   "outputs": [
    {
     "data": {
      "text/plain": [
       "0.0    128273\n",
       "1.0    101508\n",
       "Name: HighChol, dtype: int64"
      ]
     },
     "execution_count": 17,
     "metadata": {},
     "output_type": "execute_result"
    }
   ],
   "source": [
    "#Count number of each value in HighChol Column\n",
    "#0 = no high cholesterol 1 = high cholesterol\n",
    "diabetesnd_df['HighChol'].value_counts()\n"
   ]
  },
  {
   "cell_type": "code",
   "execution_count": 18,
   "id": "e0b3f517",
   "metadata": {},
   "outputs": [
    {
     "data": {
      "text/plain": [
       "0.0    0.55824\n",
       "1.0    0.44176\n",
       "Name: HighChol, dtype: float64"
      ]
     },
     "execution_count": 18,
     "metadata": {},
     "output_type": "execute_result"
    }
   ],
   "source": [
    "#percentage\n",
    "diabetesnd_df.HighChol.value_counts(normalize=True)"
   ]
  },
  {
   "cell_type": "code",
   "execution_count": 19,
   "id": "23aeb221",
   "metadata": {},
   "outputs": [
    {
     "data": {
      "text/plain": [
       "1.0    220483\n",
       "0.0      9298\n",
       "Name: CholCheck, dtype: int64"
      ]
     },
     "execution_count": 19,
     "metadata": {},
     "output_type": "execute_result"
    }
   ],
   "source": [
    "#Count number of each value in CholCheck Column\n",
    "#0 = no cholesterol check in 5 years 1 = yes cholesterol check in 5 years\n",
    "diabetesnd_df['CholCheck'].value_counts()\n"
   ]
  },
  {
   "cell_type": "code",
   "execution_count": 20,
   "id": "56139d1f",
   "metadata": {},
   "outputs": [
    {
     "data": {
      "text/plain": [
       "1.0    0.959535\n",
       "0.0    0.040465\n",
       "Name: CholCheck, dtype: float64"
      ]
     },
     "execution_count": 20,
     "metadata": {},
     "output_type": "execute_result"
    }
   ],
   "source": [
    "#percentage\n",
    "diabetesnd_df.CholCheck.value_counts(normalize=True)"
   ]
  },
  {
   "cell_type": "code",
   "execution_count": 21,
   "id": "7bce4547",
   "metadata": {},
   "outputs": [
    {
     "data": {
      "text/plain": [
       "27.0    21551\n",
       "26.0    17808\n",
       "24.0    16537\n",
       "28.0    14933\n",
       "25.0    14809\n",
       "        ...  \n",
       "85.0        1\n",
       "91.0        1\n",
       "86.0        1\n",
       "90.0        1\n",
       "78.0        1\n",
       "Name: BMI, Length: 84, dtype: int64"
      ]
     },
     "execution_count": 21,
     "metadata": {},
     "output_type": "execute_result"
    }
   ],
   "source": [
    "#Count number of each value in BMI Column\n",
    "#calculate BMI by dividing weight in pounds (lb) by height in inches (in) squared and multiplying by a conversion factor of 703\n",
    "#Will need to have user enter height and weight of subject \n",
    "\n",
    "diabetesnd_df['BMI'].value_counts()\n"
   ]
  },
  {
   "cell_type": "code",
   "execution_count": 26,
   "id": "2c128a2a",
   "metadata": {},
   "outputs": [
    {
     "data": {
      "text/plain": [
       "27.0    0.093789\n",
       "26.0    0.077500\n",
       "24.0    0.071969\n",
       "28.0    0.064988\n",
       "25.0    0.064448\n",
       "          ...   \n",
       "85.0    0.000004\n",
       "91.0    0.000004\n",
       "86.0    0.000004\n",
       "90.0    0.000004\n",
       "78.0    0.000004\n",
       "Name: BMI, Length: 84, dtype: float64"
      ]
     },
     "execution_count": 26,
     "metadata": {},
     "output_type": "execute_result"
    }
   ],
   "source": [
    "#percentage\n",
    "diabetesnd_df.BMI.value_counts(normalize=True)"
   ]
  },
  {
   "cell_type": "code",
   "execution_count": 22,
   "id": "4148daa6",
   "metadata": {},
   "outputs": [
    {
     "data": {
      "text/plain": [
       "count    229781.00000\n",
       "mean         28.68567\n",
       "std           6.78636\n",
       "min          12.00000\n",
       "25%          24.00000\n",
       "50%          27.00000\n",
       "75%          32.00000\n",
       "max          98.00000\n",
       "Name: BMI, dtype: float64"
      ]
     },
     "execution_count": 22,
     "metadata": {},
     "output_type": "execute_result"
    }
   ],
   "source": [
    "#Determine bucketing for BMI values \n",
    "diabetesnd_df.BMI.describe()"
   ]
  },
  {
   "cell_type": "code",
   "execution_count": null,
   "id": "ce4bc586",
   "metadata": {},
   "outputs": [],
   "source": [
    "# BMI Binning \n",
    "# https://qpp.cms.gov/docs/QPP_quality_measure_specifications/CQM-Measures/2019_Measure_128_MIPSCQM.pdf\n",
    "# BMI 1 is less than 18.5\n",
    "# BMI 2  is 18.5 to 24.9,\n",
    "# BMI 3  is 25.0 to 29.9\n",
    "# BMI 4 is 30.0 or higher"
   ]
  },
  {
   "cell_type": "code",
   "execution_count": 23,
   "id": "4f9b5267",
   "metadata": {},
   "outputs": [
    {
     "data": {
      "text/plain": [
       "count     229781\n",
       "unique         4\n",
       "top            4\n",
       "freq       84942\n",
       "Name: BMI_Range, dtype: int64"
      ]
     },
     "execution_count": 23,
     "metadata": {},
     "output_type": "execute_result"
    }
   ],
   "source": [
    "#define ranges\n",
    "bmi_bin_range = [0, 18.5, 24.9, 29.9, 100]\n",
    "\n",
    "#define bins \n",
    "bmi_bins = [1, 2, 3, 4]\n",
    "\n",
    "#sort data into bins\n",
    "diabetesnd_df['BMI_Range'] = pd.cut(diabetesnd_df['BMI'], bmi_bin_range, labels=bmi_bins)\n",
    "\n",
    "#describe model after binning\n",
    "diabetesnd_df.BMI_Range.describe()"
   ]
  },
  {
   "cell_type": "code",
   "execution_count": 24,
   "id": "1f529242",
   "metadata": {},
   "outputs": [
    {
     "data": {
      "text/plain": [
       "Index(['Diabetes_012', 'HighBP', 'HighChol', 'CholCheck', 'BMI', 'Smoker',\n",
       "       'Stroke', 'HeartDiseaseorAttack', 'PhysActivity', 'Fruits', 'Veggies',\n",
       "       'HvyAlcoholConsump', 'AnyHealthcare', 'NoDocbcCost', 'GenHlth',\n",
       "       'MentHlth', 'PhysHlth', 'DiffWalk', 'Sex', 'Age', 'Education', 'Income',\n",
       "       'Diabetes_Status', 'BMI_Range'],\n",
       "      dtype='object')"
      ]
     },
     "execution_count": 24,
     "metadata": {},
     "output_type": "execute_result"
    }
   ],
   "source": [
    "diabetesnd_df.columns"
   ]
  },
  {
   "cell_type": "code",
   "execution_count": 25,
   "id": "6ed21a2b",
   "metadata": {},
   "outputs": [
    {
     "data": {
      "text/html": [
       "<div>\n",
       "<style scoped>\n",
       "    .dataframe tbody tr th:only-of-type {\n",
       "        vertical-align: middle;\n",
       "    }\n",
       "\n",
       "    .dataframe tbody tr th {\n",
       "        vertical-align: top;\n",
       "    }\n",
       "\n",
       "    .dataframe thead th {\n",
       "        text-align: right;\n",
       "    }\n",
       "</style>\n",
       "<table border=\"1\" class=\"dataframe\">\n",
       "  <thead>\n",
       "    <tr style=\"text-align: right;\">\n",
       "      <th></th>\n",
       "      <th>Diabetes_012</th>\n",
       "      <th>HighBP</th>\n",
       "      <th>HighChol</th>\n",
       "      <th>CholCheck</th>\n",
       "      <th>BMI</th>\n",
       "      <th>Smoker</th>\n",
       "      <th>Stroke</th>\n",
       "      <th>HeartDiseaseorAttack</th>\n",
       "      <th>PhysActivity</th>\n",
       "      <th>Fruits</th>\n",
       "      <th>...</th>\n",
       "      <th>GenHlth</th>\n",
       "      <th>MentHlth</th>\n",
       "      <th>PhysHlth</th>\n",
       "      <th>DiffWalk</th>\n",
       "      <th>Sex</th>\n",
       "      <th>Age</th>\n",
       "      <th>Education</th>\n",
       "      <th>Income</th>\n",
       "      <th>Diabetes_Status</th>\n",
       "      <th>BMI_Range</th>\n",
       "    </tr>\n",
       "  </thead>\n",
       "  <tbody>\n",
       "    <tr>\n",
       "      <th>0</th>\n",
       "      <td>0.0</td>\n",
       "      <td>1.0</td>\n",
       "      <td>1.0</td>\n",
       "      <td>1.0</td>\n",
       "      <td>40.0</td>\n",
       "      <td>1.0</td>\n",
       "      <td>0.0</td>\n",
       "      <td>0.0</td>\n",
       "      <td>0.0</td>\n",
       "      <td>0.0</td>\n",
       "      <td>...</td>\n",
       "      <td>5.0</td>\n",
       "      <td>18.0</td>\n",
       "      <td>15.0</td>\n",
       "      <td>1.0</td>\n",
       "      <td>0.0</td>\n",
       "      <td>9.0</td>\n",
       "      <td>4.0</td>\n",
       "      <td>3.0</td>\n",
       "      <td>1</td>\n",
       "      <td>4</td>\n",
       "    </tr>\n",
       "    <tr>\n",
       "      <th>1</th>\n",
       "      <td>0.0</td>\n",
       "      <td>0.0</td>\n",
       "      <td>0.0</td>\n",
       "      <td>0.0</td>\n",
       "      <td>25.0</td>\n",
       "      <td>1.0</td>\n",
       "      <td>0.0</td>\n",
       "      <td>0.0</td>\n",
       "      <td>1.0</td>\n",
       "      <td>0.0</td>\n",
       "      <td>...</td>\n",
       "      <td>3.0</td>\n",
       "      <td>0.0</td>\n",
       "      <td>0.0</td>\n",
       "      <td>0.0</td>\n",
       "      <td>0.0</td>\n",
       "      <td>7.0</td>\n",
       "      <td>6.0</td>\n",
       "      <td>1.0</td>\n",
       "      <td>1</td>\n",
       "      <td>3</td>\n",
       "    </tr>\n",
       "    <tr>\n",
       "      <th>2</th>\n",
       "      <td>0.0</td>\n",
       "      <td>1.0</td>\n",
       "      <td>1.0</td>\n",
       "      <td>1.0</td>\n",
       "      <td>28.0</td>\n",
       "      <td>0.0</td>\n",
       "      <td>0.0</td>\n",
       "      <td>0.0</td>\n",
       "      <td>0.0</td>\n",
       "      <td>1.0</td>\n",
       "      <td>...</td>\n",
       "      <td>5.0</td>\n",
       "      <td>30.0</td>\n",
       "      <td>30.0</td>\n",
       "      <td>1.0</td>\n",
       "      <td>0.0</td>\n",
       "      <td>9.0</td>\n",
       "      <td>4.0</td>\n",
       "      <td>8.0</td>\n",
       "      <td>1</td>\n",
       "      <td>3</td>\n",
       "    </tr>\n",
       "    <tr>\n",
       "      <th>3</th>\n",
       "      <td>0.0</td>\n",
       "      <td>1.0</td>\n",
       "      <td>0.0</td>\n",
       "      <td>1.0</td>\n",
       "      <td>27.0</td>\n",
       "      <td>0.0</td>\n",
       "      <td>0.0</td>\n",
       "      <td>0.0</td>\n",
       "      <td>1.0</td>\n",
       "      <td>1.0</td>\n",
       "      <td>...</td>\n",
       "      <td>2.0</td>\n",
       "      <td>0.0</td>\n",
       "      <td>0.0</td>\n",
       "      <td>0.0</td>\n",
       "      <td>0.0</td>\n",
       "      <td>11.0</td>\n",
       "      <td>3.0</td>\n",
       "      <td>6.0</td>\n",
       "      <td>1</td>\n",
       "      <td>3</td>\n",
       "    </tr>\n",
       "    <tr>\n",
       "      <th>4</th>\n",
       "      <td>0.0</td>\n",
       "      <td>1.0</td>\n",
       "      <td>1.0</td>\n",
       "      <td>1.0</td>\n",
       "      <td>24.0</td>\n",
       "      <td>0.0</td>\n",
       "      <td>0.0</td>\n",
       "      <td>0.0</td>\n",
       "      <td>1.0</td>\n",
       "      <td>1.0</td>\n",
       "      <td>...</td>\n",
       "      <td>2.0</td>\n",
       "      <td>3.0</td>\n",
       "      <td>0.0</td>\n",
       "      <td>0.0</td>\n",
       "      <td>0.0</td>\n",
       "      <td>11.0</td>\n",
       "      <td>5.0</td>\n",
       "      <td>4.0</td>\n",
       "      <td>1</td>\n",
       "      <td>2</td>\n",
       "    </tr>\n",
       "  </tbody>\n",
       "</table>\n",
       "<p>5 rows × 24 columns</p>\n",
       "</div>"
      ],
      "text/plain": [
       "   Diabetes_012  HighBP  HighChol  CholCheck   BMI  Smoker  Stroke  \\\n",
       "0           0.0     1.0       1.0        1.0  40.0     1.0     0.0   \n",
       "1           0.0     0.0       0.0        0.0  25.0     1.0     0.0   \n",
       "2           0.0     1.0       1.0        1.0  28.0     0.0     0.0   \n",
       "3           0.0     1.0       0.0        1.0  27.0     0.0     0.0   \n",
       "4           0.0     1.0       1.0        1.0  24.0     0.0     0.0   \n",
       "\n",
       "   HeartDiseaseorAttack  PhysActivity  Fruits  ...  GenHlth  MentHlth  \\\n",
       "0                   0.0           0.0     0.0  ...      5.0      18.0   \n",
       "1                   0.0           1.0     0.0  ...      3.0       0.0   \n",
       "2                   0.0           0.0     1.0  ...      5.0      30.0   \n",
       "3                   0.0           1.0     1.0  ...      2.0       0.0   \n",
       "4                   0.0           1.0     1.0  ...      2.0       3.0   \n",
       "\n",
       "   PhysHlth  DiffWalk  Sex   Age  Education  Income  Diabetes_Status  \\\n",
       "0      15.0       1.0  0.0   9.0        4.0     3.0                1   \n",
       "1       0.0       0.0  0.0   7.0        6.0     1.0                1   \n",
       "2      30.0       1.0  0.0   9.0        4.0     8.0                1   \n",
       "3       0.0       0.0  0.0  11.0        3.0     6.0                1   \n",
       "4       0.0       0.0  0.0  11.0        5.0     4.0                1   \n",
       "\n",
       "   BMI_Range  \n",
       "0          4  \n",
       "1          3  \n",
       "2          3  \n",
       "3          3  \n",
       "4          2  \n",
       "\n",
       "[5 rows x 24 columns]"
      ]
     },
     "execution_count": 25,
     "metadata": {},
     "output_type": "execute_result"
    }
   ],
   "source": [
    "diabetesnd_df.head()"
   ]
  },
  {
   "cell_type": "code",
   "execution_count": 27,
   "id": "b2a621b3",
   "metadata": {},
   "outputs": [
    {
     "data": {
      "text/plain": [
       "0.0    122781\n",
       "1.0    107000\n",
       "Name: Smoker, dtype: int64"
      ]
     },
     "execution_count": 27,
     "metadata": {},
     "output_type": "execute_result"
    }
   ],
   "source": [
    "#Count number of each value in Smoker Column\n",
    "#Have you smoked at least 100 cigarettes in your entire life? [Note: 5 packs = 100 cigarettes] 0 = no 1 = yes\n",
    "diabetesnd_df['Smoker'].value_counts()\n"
   ]
  },
  {
   "cell_type": "code",
   "execution_count": 28,
   "id": "619df326",
   "metadata": {},
   "outputs": [
    {
     "data": {
      "text/plain": [
       "0.0    0.534339\n",
       "1.0    0.465661\n",
       "Name: Smoker, dtype: float64"
      ]
     },
     "execution_count": 28,
     "metadata": {},
     "output_type": "execute_result"
    }
   ],
   "source": [
    "#percentage\n",
    "diabetesnd_df.Smoker.value_counts(normalize=True)"
   ]
  },
  {
   "cell_type": "code",
   "execution_count": 29,
   "id": "4d310334",
   "metadata": {},
   "outputs": [
    {
     "data": {
      "text/plain": [
       "0.0    219497\n",
       "1.0     10284\n",
       "Name: Stroke, dtype: int64"
      ]
     },
     "execution_count": 29,
     "metadata": {},
     "output_type": "execute_result"
    }
   ],
   "source": [
    "#Count number of each value in Stroke Column\n",
    "#(Ever told) you had a stroke. 0 = no 1 = yes\n",
    "diabetesnd_df['Stroke'].value_counts()"
   ]
  },
  {
   "cell_type": "code",
   "execution_count": 30,
   "id": "b455355b",
   "metadata": {},
   "outputs": [
    {
     "data": {
      "text/plain": [
       "0.0    0.955244\n",
       "1.0    0.044756\n",
       "Name: Stroke, dtype: float64"
      ]
     },
     "execution_count": 30,
     "metadata": {},
     "output_type": "execute_result"
    }
   ],
   "source": [
    "#Percentage \n",
    "diabetesnd_df.Stroke.value_counts(normalize=True)"
   ]
  },
  {
   "cell_type": "code",
   "execution_count": 31,
   "id": "164eea01",
   "metadata": {},
   "outputs": [
    {
     "data": {
      "text/plain": [
       "0.0    206064\n",
       "1.0     23717\n",
       "Name: HeartDiseaseorAttack, dtype: int64"
      ]
     },
     "execution_count": 31,
     "metadata": {},
     "output_type": "execute_result"
    }
   ],
   "source": [
    "#Count number of each value in HeartDiseaseorAttack Column\n",
    "#coronary heart disease (CHD) or myocardial infarction (MI) 0 = no 1 = yes\n",
    "diabetesnd_df['HeartDiseaseorAttack'].value_counts()\n"
   ]
  },
  {
   "cell_type": "code",
   "execution_count": 32,
   "id": "a9d69cce",
   "metadata": {},
   "outputs": [
    {
     "data": {
      "text/plain": [
       "0.0    0.896784\n",
       "1.0    0.103216\n",
       "Name: HeartDiseaseorAttack, dtype: float64"
      ]
     },
     "execution_count": 32,
     "metadata": {},
     "output_type": "execute_result"
    }
   ],
   "source": [
    "#percentage\n",
    "diabetesnd_df.HeartDiseaseorAttack.value_counts(normalize=True)"
   ]
  },
  {
   "cell_type": "code",
   "execution_count": 33,
   "id": "0d07cfeb",
   "metadata": {},
   "outputs": [
    {
     "data": {
      "text/plain": [
       "1.0    168511\n",
       "0.0     61270\n",
       "Name: PhysActivity, dtype: int64"
      ]
     },
     "execution_count": 33,
     "metadata": {},
     "output_type": "execute_result"
    }
   ],
   "source": [
    "#Count number of each value in PhysActivity Column\n",
    "#physical activity in past 30 days - not including job 0 = no 1 = yes\n",
    "diabetesnd_df['PhysActivity'].value_counts()\n"
   ]
  },
  {
   "cell_type": "code",
   "execution_count": 34,
   "id": "b1745f8f",
   "metadata": {},
   "outputs": [
    {
     "data": {
      "text/plain": [
       "1.0    0.733355\n",
       "0.0    0.266645\n",
       "Name: PhysActivity, dtype: float64"
      ]
     },
     "execution_count": 34,
     "metadata": {},
     "output_type": "execute_result"
    }
   ],
   "source": [
    "#percentage\n",
    "diabetesnd_df.PhysActivity.value_counts(normalize=True)"
   ]
  },
  {
   "cell_type": "code",
   "execution_count": 35,
   "id": "273f0353",
   "metadata": {},
   "outputs": [
    {
     "data": {
      "text/plain": [
       "1.0    140848\n",
       "0.0     88933\n",
       "Name: Fruits, dtype: int64"
      ]
     },
     "execution_count": 35,
     "metadata": {},
     "output_type": "execute_result"
    }
   ],
   "source": [
    "#Count number of each value in Fruits Column\n",
    "#Consume Fruit 1 or more times per day 0 = no 1 = yes\n",
    "diabetesnd_df['Fruits'].value_counts()\n"
   ]
  },
  {
   "cell_type": "code",
   "execution_count": 36,
   "id": "9617019f",
   "metadata": {},
   "outputs": [
    {
     "data": {
      "text/plain": [
       "1.0    0.612966\n",
       "0.0    0.387034\n",
       "Name: Fruits, dtype: float64"
      ]
     },
     "execution_count": 36,
     "metadata": {},
     "output_type": "execute_result"
    }
   ],
   "source": [
    "#percentage\n",
    "diabetesnd_df.Fruits.value_counts(normalize=True)"
   ]
  },
  {
   "cell_type": "code",
   "execution_count": 37,
   "id": "8722e339",
   "metadata": {},
   "outputs": [
    {
     "data": {
      "text/plain": [
       "1.0    182633\n",
       "0.0     47148\n",
       "Name: Veggies, dtype: int64"
      ]
     },
     "execution_count": 37,
     "metadata": {},
     "output_type": "execute_result"
    }
   ],
   "source": [
    "#Count number of each value in Veggies Column\n",
    "#Consume Vegetables 1 or more times per day 0 = no 1 = yes\n",
    "diabetesnd_df['Veggies'].value_counts()\n"
   ]
  },
  {
   "cell_type": "code",
   "execution_count": 38,
   "id": "21e341da",
   "metadata": {},
   "outputs": [
    {
     "data": {
      "text/plain": [
       "1.0    0.794813\n",
       "0.0    0.205187\n",
       "Name: Veggies, dtype: float64"
      ]
     },
     "execution_count": 38,
     "metadata": {},
     "output_type": "execute_result"
    }
   ],
   "source": [
    "#percentage\n",
    "diabetesnd_df.Veggies.value_counts(normalize=True)"
   ]
  },
  {
   "cell_type": "code",
   "execution_count": 39,
   "id": "856d2e78",
   "metadata": {},
   "outputs": [
    {
     "data": {
      "text/plain": [
       "0.0    215831\n",
       "1.0     13950\n",
       "Name: HvyAlcoholConsump, dtype: int64"
      ]
     },
     "execution_count": 39,
     "metadata": {},
     "output_type": "execute_result"
    }
   ],
   "source": [
    "#Count number of each value in HvyAlcoholConsump Column\n",
    "#Heavy drinkers (adult men having more than 14 drinks per week and adult women having more than 7 drinks per week) 0 = no 1 = yes\n",
    "diabetesnd_df['HvyAlcoholConsump'].value_counts()"
   ]
  },
  {
   "cell_type": "code",
   "execution_count": 41,
   "id": "4c363684",
   "metadata": {},
   "outputs": [
    {
     "data": {
      "text/plain": [
       "0.0    0.93929\n",
       "1.0    0.06071\n",
       "Name: HvyAlcoholConsump, dtype: float64"
      ]
     },
     "execution_count": 41,
     "metadata": {},
     "output_type": "execute_result"
    }
   ],
   "source": [
    "#percentage\n",
    "diabetesnd_df.HvyAlcoholConsump.value_counts(normalize=True)"
   ]
  },
  {
   "cell_type": "code",
   "execution_count": 42,
   "id": "5627b86c",
   "metadata": {},
   "outputs": [
    {
     "data": {
      "text/plain": [
       "1.0    217390\n",
       "0.0     12391\n",
       "Name: AnyHealthcare, dtype: int64"
      ]
     },
     "execution_count": 42,
     "metadata": {},
     "output_type": "execute_result"
    }
   ],
   "source": [
    "#Count number of each value in AnyHealthcare Column\n",
    "#Have any kind of health care coverage, including health insurance, prepaid plans such as HMO, etc. 0 = no 1 = yes\n",
    "diabetesnd_df['AnyHealthcare'].value_counts()"
   ]
  },
  {
   "cell_type": "code",
   "execution_count": 43,
   "id": "1d9b5465",
   "metadata": {},
   "outputs": [
    {
     "data": {
      "text/plain": [
       "1.0    0.946075\n",
       "0.0    0.053925\n",
       "Name: AnyHealthcare, dtype: float64"
      ]
     },
     "execution_count": 43,
     "metadata": {},
     "output_type": "execute_result"
    }
   ],
   "source": [
    "#percentage\n",
    "diabetesnd_df.AnyHealthcare.value_counts(normalize=True)"
   ]
  },
  {
   "cell_type": "code",
   "execution_count": 44,
   "id": "be735e6e",
   "metadata": {},
   "outputs": [
    {
     "data": {
      "text/plain": [
       "0.0    208455\n",
       "1.0     21326\n",
       "Name: NoDocbcCost, dtype: int64"
      ]
     },
     "execution_count": 44,
     "metadata": {},
     "output_type": "execute_result"
    }
   ],
   "source": [
    "#Count number of each value in NoDocbcCost Column\n",
    "#Was there a time in the past 12 months when you needed to see a doctor but could not because of cost? 0 = no 1 = yes\n",
    "diabetesnd_df['NoDocbcCost'].value_counts()"
   ]
  },
  {
   "cell_type": "code",
   "execution_count": 45,
   "id": "6e65563d",
   "metadata": {},
   "outputs": [
    {
     "data": {
      "text/plain": [
       "0.0    0.90719\n",
       "1.0    0.09281\n",
       "Name: NoDocbcCost, dtype: float64"
      ]
     },
     "execution_count": 45,
     "metadata": {},
     "output_type": "execute_result"
    }
   ],
   "source": [
    "#percentage\n",
    "diabetesnd_df.NoDocbcCost.value_counts(normalize=True)"
   ]
  },
  {
   "cell_type": "code",
   "execution_count": 46,
   "id": "20eddc7f",
   "metadata": {},
   "outputs": [
    {
     "data": {
      "text/plain": [
       "2.0    77536\n",
       "3.0    73714\n",
       "1.0    34907\n",
       "4.0    31546\n",
       "5.0    12078\n",
       "Name: GenHlth, dtype: int64"
      ]
     },
     "execution_count": 46,
     "metadata": {},
     "output_type": "execute_result"
    }
   ],
   "source": [
    "#Count number of each value in GenHlth Column\n",
    "#Would you say that in general your health is: scale 1-5 1 = excellent 2 = very good 3 = good 4 = fair 5 = poor\n",
    "diabetesnd_df['GenHlth'].value_counts()"
   ]
  },
  {
   "cell_type": "code",
   "execution_count": 47,
   "id": "2dcbcc30",
   "metadata": {},
   "outputs": [
    {
     "data": {
      "text/plain": [
       "2.0    0.337434\n",
       "3.0    0.320801\n",
       "1.0    0.151914\n",
       "4.0    0.137287\n",
       "5.0    0.052563\n",
       "Name: GenHlth, dtype: float64"
      ]
     },
     "execution_count": 47,
     "metadata": {},
     "output_type": "execute_result"
    }
   ],
   "source": [
    "#percentage\n",
    "diabetesnd_df.GenHlth.value_counts(normalize=True)"
   ]
  },
  {
   "cell_type": "code",
   "execution_count": 48,
   "id": "d77563c0",
   "metadata": {
    "scrolled": true
   },
   "outputs": [
    {
     "data": {
      "text/plain": [
       "0.0     152623\n",
       "2.0      12697\n",
       "30.0     12080\n",
       "5.0       8913\n",
       "1.0       8309\n",
       "3.0       7302\n",
       "10.0      6352\n",
       "15.0      5501\n",
       "4.0       3774\n",
       "20.0      3362\n",
       "7.0       3090\n",
       "25.0      1188\n",
       "14.0      1167\n",
       "6.0        988\n",
       "8.0        639\n",
       "12.0       398\n",
       "28.0       327\n",
       "21.0       227\n",
       "29.0       158\n",
       "18.0        97\n",
       "9.0         91\n",
       "16.0        88\n",
       "27.0        79\n",
       "22.0        63\n",
       "17.0        54\n",
       "26.0        45\n",
       "11.0        41\n",
       "13.0        41\n",
       "23.0        38\n",
       "24.0        33\n",
       "19.0        16\n",
       "Name: MentHlth, dtype: int64"
      ]
     },
     "execution_count": 48,
     "metadata": {},
     "output_type": "execute_result"
    }
   ],
   "source": [
    "#Count number of each value in MentHlth Column\n",
    "#Now thinking about your mental health, which includes stress, depression, and problems with \n",
    "#emotions, for how many days during the past 30 days was your mental health not good? scale 1-30 days\n",
    "diabetesnd_df['MentHlth'].value_counts()\n"
   ]
  },
  {
   "cell_type": "code",
   "execution_count": 49,
   "id": "6e655605",
   "metadata": {
    "scrolled": true
   },
   "outputs": [
    {
     "data": {
      "text/plain": [
       "0.0     0.664211\n",
       "2.0     0.055257\n",
       "30.0    0.052572\n",
       "5.0     0.038789\n",
       "1.0     0.036161\n",
       "3.0     0.031778\n",
       "10.0    0.027644\n",
       "15.0    0.023940\n",
       "4.0     0.016424\n",
       "20.0    0.014631\n",
       "7.0     0.013448\n",
       "25.0    0.005170\n",
       "14.0    0.005079\n",
       "6.0     0.004300\n",
       "8.0     0.002781\n",
       "12.0    0.001732\n",
       "28.0    0.001423\n",
       "21.0    0.000988\n",
       "29.0    0.000688\n",
       "18.0    0.000422\n",
       "9.0     0.000396\n",
       "16.0    0.000383\n",
       "27.0    0.000344\n",
       "22.0    0.000274\n",
       "17.0    0.000235\n",
       "26.0    0.000196\n",
       "11.0    0.000178\n",
       "13.0    0.000178\n",
       "23.0    0.000165\n",
       "24.0    0.000144\n",
       "19.0    0.000070\n",
       "Name: MentHlth, dtype: float64"
      ]
     },
     "execution_count": 49,
     "metadata": {},
     "output_type": "execute_result"
    }
   ],
   "source": [
    "#percentage\n",
    "diabetesnd_df.MentHlth.value_counts(normalize=True)"
   ]
  },
  {
   "cell_type": "code",
   "execution_count": 40,
   "id": "08c67d46",
   "metadata": {},
   "outputs": [],
   "source": [
    "#### Buckets \n",
    "# 0 Days \n",
    "# 1-5 Days\n",
    "# 6-10 Days\n",
    "# 11-15 Days\n",
    "# 16-20 Days\n",
    "# 21-25 Days\n",
    "# 26-30 Days"
   ]
  },
  {
   "cell_type": "code",
   "execution_count": 50,
   "id": "da8fa3d6",
   "metadata": {},
   "outputs": [
    {
     "data": {
      "text/plain": [
       "count     229781\n",
       "unique         6\n",
       "top            1\n",
       "freq      193618\n",
       "Name: Mental_Health_Range, dtype: int64"
      ]
     },
     "execution_count": 50,
     "metadata": {},
     "output_type": "execute_result"
    }
   ],
   "source": [
    "mhealth_bin_range = [-1, 5, 10, 15, 20, 25, 32]\n",
    "\n",
    "mhealth_bins = [1, 2, 3, 4, 5, 6]\n",
    "\n",
    "diabetesnd_df['Mental_Health_Range'] = pd.cut(diabetesnd_df['MentHlth'], mhealth_bin_range, labels=mhealth_bins)\n",
    "\n",
    "diabetesnd_df.Mental_Health_Range.describe()"
   ]
  },
  {
   "cell_type": "code",
   "execution_count": 51,
   "id": "7044865a",
   "metadata": {},
   "outputs": [
    {
     "data": {
      "text/plain": [
       "Index(['Diabetes_012', 'HighBP', 'HighChol', 'CholCheck', 'BMI', 'Smoker',\n",
       "       'Stroke', 'HeartDiseaseorAttack', 'PhysActivity', 'Fruits', 'Veggies',\n",
       "       'HvyAlcoholConsump', 'AnyHealthcare', 'NoDocbcCost', 'GenHlth',\n",
       "       'MentHlth', 'PhysHlth', 'DiffWalk', 'Sex', 'Age', 'Education', 'Income',\n",
       "       'Diabetes_Status', 'BMI_Range', 'Mental_Health_Range'],\n",
       "      dtype='object')"
      ]
     },
     "execution_count": 51,
     "metadata": {},
     "output_type": "execute_result"
    }
   ],
   "source": [
    "diabetesnd_df.columns"
   ]
  },
  {
   "cell_type": "code",
   "execution_count": 52,
   "id": "e5720bb5",
   "metadata": {},
   "outputs": [
    {
     "data": {
      "text/html": [
       "<div>\n",
       "<style scoped>\n",
       "    .dataframe tbody tr th:only-of-type {\n",
       "        vertical-align: middle;\n",
       "    }\n",
       "\n",
       "    .dataframe tbody tr th {\n",
       "        vertical-align: top;\n",
       "    }\n",
       "\n",
       "    .dataframe thead th {\n",
       "        text-align: right;\n",
       "    }\n",
       "</style>\n",
       "<table border=\"1\" class=\"dataframe\">\n",
       "  <thead>\n",
       "    <tr style=\"text-align: right;\">\n",
       "      <th></th>\n",
       "      <th>Diabetes_012</th>\n",
       "      <th>HighBP</th>\n",
       "      <th>HighChol</th>\n",
       "      <th>CholCheck</th>\n",
       "      <th>BMI</th>\n",
       "      <th>Smoker</th>\n",
       "      <th>Stroke</th>\n",
       "      <th>HeartDiseaseorAttack</th>\n",
       "      <th>PhysActivity</th>\n",
       "      <th>Fruits</th>\n",
       "      <th>...</th>\n",
       "      <th>MentHlth</th>\n",
       "      <th>PhysHlth</th>\n",
       "      <th>DiffWalk</th>\n",
       "      <th>Sex</th>\n",
       "      <th>Age</th>\n",
       "      <th>Education</th>\n",
       "      <th>Income</th>\n",
       "      <th>Diabetes_Status</th>\n",
       "      <th>BMI_Range</th>\n",
       "      <th>Mental_Health_Range</th>\n",
       "    </tr>\n",
       "  </thead>\n",
       "  <tbody>\n",
       "    <tr>\n",
       "      <th>0</th>\n",
       "      <td>0.0</td>\n",
       "      <td>1.0</td>\n",
       "      <td>1.0</td>\n",
       "      <td>1.0</td>\n",
       "      <td>40.0</td>\n",
       "      <td>1.0</td>\n",
       "      <td>0.0</td>\n",
       "      <td>0.0</td>\n",
       "      <td>0.0</td>\n",
       "      <td>0.0</td>\n",
       "      <td>...</td>\n",
       "      <td>18.0</td>\n",
       "      <td>15.0</td>\n",
       "      <td>1.0</td>\n",
       "      <td>0.0</td>\n",
       "      <td>9.0</td>\n",
       "      <td>4.0</td>\n",
       "      <td>3.0</td>\n",
       "      <td>1</td>\n",
       "      <td>4</td>\n",
       "      <td>4</td>\n",
       "    </tr>\n",
       "    <tr>\n",
       "      <th>1</th>\n",
       "      <td>0.0</td>\n",
       "      <td>0.0</td>\n",
       "      <td>0.0</td>\n",
       "      <td>0.0</td>\n",
       "      <td>25.0</td>\n",
       "      <td>1.0</td>\n",
       "      <td>0.0</td>\n",
       "      <td>0.0</td>\n",
       "      <td>1.0</td>\n",
       "      <td>0.0</td>\n",
       "      <td>...</td>\n",
       "      <td>0.0</td>\n",
       "      <td>0.0</td>\n",
       "      <td>0.0</td>\n",
       "      <td>0.0</td>\n",
       "      <td>7.0</td>\n",
       "      <td>6.0</td>\n",
       "      <td>1.0</td>\n",
       "      <td>1</td>\n",
       "      <td>3</td>\n",
       "      <td>1</td>\n",
       "    </tr>\n",
       "    <tr>\n",
       "      <th>2</th>\n",
       "      <td>0.0</td>\n",
       "      <td>1.0</td>\n",
       "      <td>1.0</td>\n",
       "      <td>1.0</td>\n",
       "      <td>28.0</td>\n",
       "      <td>0.0</td>\n",
       "      <td>0.0</td>\n",
       "      <td>0.0</td>\n",
       "      <td>0.0</td>\n",
       "      <td>1.0</td>\n",
       "      <td>...</td>\n",
       "      <td>30.0</td>\n",
       "      <td>30.0</td>\n",
       "      <td>1.0</td>\n",
       "      <td>0.0</td>\n",
       "      <td>9.0</td>\n",
       "      <td>4.0</td>\n",
       "      <td>8.0</td>\n",
       "      <td>1</td>\n",
       "      <td>3</td>\n",
       "      <td>6</td>\n",
       "    </tr>\n",
       "    <tr>\n",
       "      <th>3</th>\n",
       "      <td>0.0</td>\n",
       "      <td>1.0</td>\n",
       "      <td>0.0</td>\n",
       "      <td>1.0</td>\n",
       "      <td>27.0</td>\n",
       "      <td>0.0</td>\n",
       "      <td>0.0</td>\n",
       "      <td>0.0</td>\n",
       "      <td>1.0</td>\n",
       "      <td>1.0</td>\n",
       "      <td>...</td>\n",
       "      <td>0.0</td>\n",
       "      <td>0.0</td>\n",
       "      <td>0.0</td>\n",
       "      <td>0.0</td>\n",
       "      <td>11.0</td>\n",
       "      <td>3.0</td>\n",
       "      <td>6.0</td>\n",
       "      <td>1</td>\n",
       "      <td>3</td>\n",
       "      <td>1</td>\n",
       "    </tr>\n",
       "    <tr>\n",
       "      <th>4</th>\n",
       "      <td>0.0</td>\n",
       "      <td>1.0</td>\n",
       "      <td>1.0</td>\n",
       "      <td>1.0</td>\n",
       "      <td>24.0</td>\n",
       "      <td>0.0</td>\n",
       "      <td>0.0</td>\n",
       "      <td>0.0</td>\n",
       "      <td>1.0</td>\n",
       "      <td>1.0</td>\n",
       "      <td>...</td>\n",
       "      <td>3.0</td>\n",
       "      <td>0.0</td>\n",
       "      <td>0.0</td>\n",
       "      <td>0.0</td>\n",
       "      <td>11.0</td>\n",
       "      <td>5.0</td>\n",
       "      <td>4.0</td>\n",
       "      <td>1</td>\n",
       "      <td>2</td>\n",
       "      <td>1</td>\n",
       "    </tr>\n",
       "  </tbody>\n",
       "</table>\n",
       "<p>5 rows × 25 columns</p>\n",
       "</div>"
      ],
      "text/plain": [
       "   Diabetes_012  HighBP  HighChol  CholCheck   BMI  Smoker  Stroke  \\\n",
       "0           0.0     1.0       1.0        1.0  40.0     1.0     0.0   \n",
       "1           0.0     0.0       0.0        0.0  25.0     1.0     0.0   \n",
       "2           0.0     1.0       1.0        1.0  28.0     0.0     0.0   \n",
       "3           0.0     1.0       0.0        1.0  27.0     0.0     0.0   \n",
       "4           0.0     1.0       1.0        1.0  24.0     0.0     0.0   \n",
       "\n",
       "   HeartDiseaseorAttack  PhysActivity  Fruits  ...  MentHlth  PhysHlth  \\\n",
       "0                   0.0           0.0     0.0  ...      18.0      15.0   \n",
       "1                   0.0           1.0     0.0  ...       0.0       0.0   \n",
       "2                   0.0           0.0     1.0  ...      30.0      30.0   \n",
       "3                   0.0           1.0     1.0  ...       0.0       0.0   \n",
       "4                   0.0           1.0     1.0  ...       3.0       0.0   \n",
       "\n",
       "   DiffWalk  Sex   Age  Education  Income  Diabetes_Status  BMI_Range  \\\n",
       "0       1.0  0.0   9.0        4.0     3.0                1          4   \n",
       "1       0.0  0.0   7.0        6.0     1.0                1          3   \n",
       "2       1.0  0.0   9.0        4.0     8.0                1          3   \n",
       "3       0.0  0.0  11.0        3.0     6.0                1          3   \n",
       "4       0.0  0.0  11.0        5.0     4.0                1          2   \n",
       "\n",
       "   Mental_Health_Range  \n",
       "0                    4  \n",
       "1                    1  \n",
       "2                    6  \n",
       "3                    1  \n",
       "4                    1  \n",
       "\n",
       "[5 rows x 25 columns]"
      ]
     },
     "execution_count": 52,
     "metadata": {},
     "output_type": "execute_result"
    }
   ],
   "source": [
    "diabetesnd_df.head()"
   ]
  },
  {
   "cell_type": "code",
   "execution_count": 53,
   "id": "e1db30e6",
   "metadata": {},
   "outputs": [
    {
     "name": "stdout",
     "output_type": "stream",
     "text": [
      "<class 'pandas.core.frame.DataFrame'>\n",
      "Int64Index: 229781 entries, 0 to 253679\n",
      "Data columns (total 25 columns):\n",
      " #   Column                Non-Null Count   Dtype   \n",
      "---  ------                --------------   -----   \n",
      " 0   Diabetes_012          229781 non-null  float64 \n",
      " 1   HighBP                229781 non-null  float64 \n",
      " 2   HighChol              229781 non-null  float64 \n",
      " 3   CholCheck             229781 non-null  float64 \n",
      " 4   BMI                   229781 non-null  float64 \n",
      " 5   Smoker                229781 non-null  float64 \n",
      " 6   Stroke                229781 non-null  float64 \n",
      " 7   HeartDiseaseorAttack  229781 non-null  float64 \n",
      " 8   PhysActivity          229781 non-null  float64 \n",
      " 9   Fruits                229781 non-null  float64 \n",
      " 10  Veggies               229781 non-null  float64 \n",
      " 11  HvyAlcoholConsump     229781 non-null  float64 \n",
      " 12  AnyHealthcare         229781 non-null  float64 \n",
      " 13  NoDocbcCost           229781 non-null  float64 \n",
      " 14  GenHlth               229781 non-null  float64 \n",
      " 15  MentHlth              229781 non-null  float64 \n",
      " 16  PhysHlth              229781 non-null  float64 \n",
      " 17  DiffWalk              229781 non-null  float64 \n",
      " 18  Sex                   229781 non-null  float64 \n",
      " 19  Age                   229781 non-null  float64 \n",
      " 20  Education             229781 non-null  float64 \n",
      " 21  Income                229781 non-null  float64 \n",
      " 22  Diabetes_Status       229781 non-null  category\n",
      " 23  BMI_Range             229781 non-null  category\n",
      " 24  Mental_Health_Range   229781 non-null  category\n",
      "dtypes: category(3), float64(22)\n",
      "memory usage: 41.0 MB\n"
     ]
    }
   ],
   "source": [
    "diabetesnd_df.info()"
   ]
  },
  {
   "cell_type": "code",
   "execution_count": 54,
   "id": "ed67511c",
   "metadata": {},
   "outputs": [
    {
     "data": {
      "text/plain": [
       "0.0     136877\n",
       "30.0     19386\n",
       "2.0      14495\n",
       "1.0      11074\n",
       "3.0       8435\n",
       "5.0       7597\n",
       "10.0      5588\n",
       "15.0      4914\n",
       "7.0       4531\n",
       "4.0       4521\n",
       "20.0      3273\n",
       "14.0      2584\n",
       "25.0      1336\n",
       "6.0       1328\n",
       "8.0        809\n",
       "21.0       663\n",
       "12.0       578\n",
       "28.0       522\n",
       "29.0       215\n",
       "9.0        179\n",
       "18.0       152\n",
       "16.0       112\n",
       "27.0        99\n",
       "17.0        96\n",
       "24.0        72\n",
       "22.0        70\n",
       "26.0        69\n",
       "13.0        68\n",
       "11.0        60\n",
       "23.0        56\n",
       "19.0        22\n",
       "Name: PhysHlth, dtype: int64"
      ]
     },
     "execution_count": 54,
     "metadata": {},
     "output_type": "execute_result"
    }
   ],
   "source": [
    "#Count number of each value in PhysHlth Column\n",
    "#Now thinking about your physical health, which includes physical illness and injury, for how many days \n",
    "#during the past 30 days was your physical health not good? scale 1-30 days\n",
    "diabetesnd_df['PhysHlth'].value_counts()\n"
   ]
  },
  {
   "cell_type": "code",
   "execution_count": 55,
   "id": "fd473a2c",
   "metadata": {
    "scrolled": true
   },
   "outputs": [
    {
     "data": {
      "text/plain": [
       "0.0     0.595685\n",
       "30.0    0.084367\n",
       "2.0     0.063082\n",
       "1.0     0.048194\n",
       "3.0     0.036709\n",
       "5.0     0.033062\n",
       "10.0    0.024319\n",
       "15.0    0.021386\n",
       "7.0     0.019719\n",
       "4.0     0.019675\n",
       "20.0    0.014244\n",
       "14.0    0.011245\n",
       "25.0    0.005814\n",
       "6.0     0.005779\n",
       "8.0     0.003521\n",
       "21.0    0.002885\n",
       "12.0    0.002515\n",
       "28.0    0.002272\n",
       "29.0    0.000936\n",
       "9.0     0.000779\n",
       "18.0    0.000661\n",
       "16.0    0.000487\n",
       "27.0    0.000431\n",
       "17.0    0.000418\n",
       "24.0    0.000313\n",
       "22.0    0.000305\n",
       "26.0    0.000300\n",
       "13.0    0.000296\n",
       "11.0    0.000261\n",
       "23.0    0.000244\n",
       "19.0    0.000096\n",
       "Name: PhysHlth, dtype: float64"
      ]
     },
     "execution_count": 55,
     "metadata": {},
     "output_type": "execute_result"
    }
   ],
   "source": [
    "#percentage\n",
    "diabetesnd_df.PhysHlth.value_counts(normalize=True)"
   ]
  },
  {
   "cell_type": "code",
   "execution_count": 56,
   "id": "eedae421",
   "metadata": {},
   "outputs": [
    {
     "data": {
      "text/plain": [
       "count     229781\n",
       "unique         6\n",
       "top            1\n",
       "freq      182999\n",
       "Name: Physical_Health_Range, dtype: int64"
      ]
     },
     "execution_count": 56,
     "metadata": {},
     "output_type": "execute_result"
    }
   ],
   "source": [
    "phealth_bin_range = [-1, 5, 10, 15, 20, 25, 32]\n",
    "\n",
    "phealth_bins = [1, 2, 3, 4, 5, 6]\n",
    "\n",
    "diabetesnd_df['Physical_Health_Range'] = pd.cut(diabetesnd_df['PhysHlth'], phealth_bin_range, labels=phealth_bins)\n",
    "\n",
    "diabetesnd_df.Physical_Health_Range.describe()"
   ]
  },
  {
   "cell_type": "code",
   "execution_count": 57,
   "id": "0d3d814f",
   "metadata": {},
   "outputs": [
    {
     "data": {
      "text/plain": [
       "Index(['Diabetes_012', 'HighBP', 'HighChol', 'CholCheck', 'BMI', 'Smoker',\n",
       "       'Stroke', 'HeartDiseaseorAttack', 'PhysActivity', 'Fruits', 'Veggies',\n",
       "       'HvyAlcoholConsump', 'AnyHealthcare', 'NoDocbcCost', 'GenHlth',\n",
       "       'MentHlth', 'PhysHlth', 'DiffWalk', 'Sex', 'Age', 'Education', 'Income',\n",
       "       'Diabetes_Status', 'BMI_Range', 'Mental_Health_Range',\n",
       "       'Physical_Health_Range'],\n",
       "      dtype='object')"
      ]
     },
     "execution_count": 57,
     "metadata": {},
     "output_type": "execute_result"
    }
   ],
   "source": [
    "diabetesnd_df.columns"
   ]
  },
  {
   "cell_type": "code",
   "execution_count": 58,
   "id": "66aeb543",
   "metadata": {},
   "outputs": [
    {
     "data": {
      "text/html": [
       "<div>\n",
       "<style scoped>\n",
       "    .dataframe tbody tr th:only-of-type {\n",
       "        vertical-align: middle;\n",
       "    }\n",
       "\n",
       "    .dataframe tbody tr th {\n",
       "        vertical-align: top;\n",
       "    }\n",
       "\n",
       "    .dataframe thead th {\n",
       "        text-align: right;\n",
       "    }\n",
       "</style>\n",
       "<table border=\"1\" class=\"dataframe\">\n",
       "  <thead>\n",
       "    <tr style=\"text-align: right;\">\n",
       "      <th></th>\n",
       "      <th>Diabetes_012</th>\n",
       "      <th>HighBP</th>\n",
       "      <th>HighChol</th>\n",
       "      <th>CholCheck</th>\n",
       "      <th>BMI</th>\n",
       "      <th>Smoker</th>\n",
       "      <th>Stroke</th>\n",
       "      <th>HeartDiseaseorAttack</th>\n",
       "      <th>PhysActivity</th>\n",
       "      <th>Fruits</th>\n",
       "      <th>...</th>\n",
       "      <th>PhysHlth</th>\n",
       "      <th>DiffWalk</th>\n",
       "      <th>Sex</th>\n",
       "      <th>Age</th>\n",
       "      <th>Education</th>\n",
       "      <th>Income</th>\n",
       "      <th>Diabetes_Status</th>\n",
       "      <th>BMI_Range</th>\n",
       "      <th>Mental_Health_Range</th>\n",
       "      <th>Physical_Health_Range</th>\n",
       "    </tr>\n",
       "  </thead>\n",
       "  <tbody>\n",
       "    <tr>\n",
       "      <th>0</th>\n",
       "      <td>0.0</td>\n",
       "      <td>1.0</td>\n",
       "      <td>1.0</td>\n",
       "      <td>1.0</td>\n",
       "      <td>40.0</td>\n",
       "      <td>1.0</td>\n",
       "      <td>0.0</td>\n",
       "      <td>0.0</td>\n",
       "      <td>0.0</td>\n",
       "      <td>0.0</td>\n",
       "      <td>...</td>\n",
       "      <td>15.0</td>\n",
       "      <td>1.0</td>\n",
       "      <td>0.0</td>\n",
       "      <td>9.0</td>\n",
       "      <td>4.0</td>\n",
       "      <td>3.0</td>\n",
       "      <td>1</td>\n",
       "      <td>4</td>\n",
       "      <td>4</td>\n",
       "      <td>3</td>\n",
       "    </tr>\n",
       "    <tr>\n",
       "      <th>1</th>\n",
       "      <td>0.0</td>\n",
       "      <td>0.0</td>\n",
       "      <td>0.0</td>\n",
       "      <td>0.0</td>\n",
       "      <td>25.0</td>\n",
       "      <td>1.0</td>\n",
       "      <td>0.0</td>\n",
       "      <td>0.0</td>\n",
       "      <td>1.0</td>\n",
       "      <td>0.0</td>\n",
       "      <td>...</td>\n",
       "      <td>0.0</td>\n",
       "      <td>0.0</td>\n",
       "      <td>0.0</td>\n",
       "      <td>7.0</td>\n",
       "      <td>6.0</td>\n",
       "      <td>1.0</td>\n",
       "      <td>1</td>\n",
       "      <td>3</td>\n",
       "      <td>1</td>\n",
       "      <td>1</td>\n",
       "    </tr>\n",
       "    <tr>\n",
       "      <th>2</th>\n",
       "      <td>0.0</td>\n",
       "      <td>1.0</td>\n",
       "      <td>1.0</td>\n",
       "      <td>1.0</td>\n",
       "      <td>28.0</td>\n",
       "      <td>0.0</td>\n",
       "      <td>0.0</td>\n",
       "      <td>0.0</td>\n",
       "      <td>0.0</td>\n",
       "      <td>1.0</td>\n",
       "      <td>...</td>\n",
       "      <td>30.0</td>\n",
       "      <td>1.0</td>\n",
       "      <td>0.0</td>\n",
       "      <td>9.0</td>\n",
       "      <td>4.0</td>\n",
       "      <td>8.0</td>\n",
       "      <td>1</td>\n",
       "      <td>3</td>\n",
       "      <td>6</td>\n",
       "      <td>6</td>\n",
       "    </tr>\n",
       "    <tr>\n",
       "      <th>3</th>\n",
       "      <td>0.0</td>\n",
       "      <td>1.0</td>\n",
       "      <td>0.0</td>\n",
       "      <td>1.0</td>\n",
       "      <td>27.0</td>\n",
       "      <td>0.0</td>\n",
       "      <td>0.0</td>\n",
       "      <td>0.0</td>\n",
       "      <td>1.0</td>\n",
       "      <td>1.0</td>\n",
       "      <td>...</td>\n",
       "      <td>0.0</td>\n",
       "      <td>0.0</td>\n",
       "      <td>0.0</td>\n",
       "      <td>11.0</td>\n",
       "      <td>3.0</td>\n",
       "      <td>6.0</td>\n",
       "      <td>1</td>\n",
       "      <td>3</td>\n",
       "      <td>1</td>\n",
       "      <td>1</td>\n",
       "    </tr>\n",
       "    <tr>\n",
       "      <th>4</th>\n",
       "      <td>0.0</td>\n",
       "      <td>1.0</td>\n",
       "      <td>1.0</td>\n",
       "      <td>1.0</td>\n",
       "      <td>24.0</td>\n",
       "      <td>0.0</td>\n",
       "      <td>0.0</td>\n",
       "      <td>0.0</td>\n",
       "      <td>1.0</td>\n",
       "      <td>1.0</td>\n",
       "      <td>...</td>\n",
       "      <td>0.0</td>\n",
       "      <td>0.0</td>\n",
       "      <td>0.0</td>\n",
       "      <td>11.0</td>\n",
       "      <td>5.0</td>\n",
       "      <td>4.0</td>\n",
       "      <td>1</td>\n",
       "      <td>2</td>\n",
       "      <td>1</td>\n",
       "      <td>1</td>\n",
       "    </tr>\n",
       "  </tbody>\n",
       "</table>\n",
       "<p>5 rows × 26 columns</p>\n",
       "</div>"
      ],
      "text/plain": [
       "   Diabetes_012  HighBP  HighChol  CholCheck   BMI  Smoker  Stroke  \\\n",
       "0           0.0     1.0       1.0        1.0  40.0     1.0     0.0   \n",
       "1           0.0     0.0       0.0        0.0  25.0     1.0     0.0   \n",
       "2           0.0     1.0       1.0        1.0  28.0     0.0     0.0   \n",
       "3           0.0     1.0       0.0        1.0  27.0     0.0     0.0   \n",
       "4           0.0     1.0       1.0        1.0  24.0     0.0     0.0   \n",
       "\n",
       "   HeartDiseaseorAttack  PhysActivity  Fruits  ...  PhysHlth  DiffWalk  Sex  \\\n",
       "0                   0.0           0.0     0.0  ...      15.0       1.0  0.0   \n",
       "1                   0.0           1.0     0.0  ...       0.0       0.0  0.0   \n",
       "2                   0.0           0.0     1.0  ...      30.0       1.0  0.0   \n",
       "3                   0.0           1.0     1.0  ...       0.0       0.0  0.0   \n",
       "4                   0.0           1.0     1.0  ...       0.0       0.0  0.0   \n",
       "\n",
       "    Age  Education  Income  Diabetes_Status  BMI_Range  Mental_Health_Range  \\\n",
       "0   9.0        4.0     3.0                1          4                    4   \n",
       "1   7.0        6.0     1.0                1          3                    1   \n",
       "2   9.0        4.0     8.0                1          3                    6   \n",
       "3  11.0        3.0     6.0                1          3                    1   \n",
       "4  11.0        5.0     4.0                1          2                    1   \n",
       "\n",
       "   Physical_Health_Range  \n",
       "0                      3  \n",
       "1                      1  \n",
       "2                      6  \n",
       "3                      1  \n",
       "4                      1  \n",
       "\n",
       "[5 rows x 26 columns]"
      ]
     },
     "execution_count": 58,
     "metadata": {},
     "output_type": "execute_result"
    }
   ],
   "source": [
    "diabetesnd_df.head()"
   ]
  },
  {
   "cell_type": "code",
   "execution_count": 59,
   "id": "f437bbd4",
   "metadata": {},
   "outputs": [
    {
     "name": "stdout",
     "output_type": "stream",
     "text": [
      "<class 'pandas.core.frame.DataFrame'>\n",
      "Int64Index: 229781 entries, 0 to 253679\n",
      "Data columns (total 26 columns):\n",
      " #   Column                 Non-Null Count   Dtype   \n",
      "---  ------                 --------------   -----   \n",
      " 0   Diabetes_012           229781 non-null  float64 \n",
      " 1   HighBP                 229781 non-null  float64 \n",
      " 2   HighChol               229781 non-null  float64 \n",
      " 3   CholCheck              229781 non-null  float64 \n",
      " 4   BMI                    229781 non-null  float64 \n",
      " 5   Smoker                 229781 non-null  float64 \n",
      " 6   Stroke                 229781 non-null  float64 \n",
      " 7   HeartDiseaseorAttack   229781 non-null  float64 \n",
      " 8   PhysActivity           229781 non-null  float64 \n",
      " 9   Fruits                 229781 non-null  float64 \n",
      " 10  Veggies                229781 non-null  float64 \n",
      " 11  HvyAlcoholConsump      229781 non-null  float64 \n",
      " 12  AnyHealthcare          229781 non-null  float64 \n",
      " 13  NoDocbcCost            229781 non-null  float64 \n",
      " 14  GenHlth                229781 non-null  float64 \n",
      " 15  MentHlth               229781 non-null  float64 \n",
      " 16  PhysHlth               229781 non-null  float64 \n",
      " 17  DiffWalk               229781 non-null  float64 \n",
      " 18  Sex                    229781 non-null  float64 \n",
      " 19  Age                    229781 non-null  float64 \n",
      " 20  Education              229781 non-null  float64 \n",
      " 21  Income                 229781 non-null  float64 \n",
      " 22  Diabetes_Status        229781 non-null  category\n",
      " 23  BMI_Range              229781 non-null  category\n",
      " 24  Mental_Health_Range    229781 non-null  category\n",
      " 25  Physical_Health_Range  229781 non-null  category\n",
      "dtypes: category(4), float64(22)\n",
      "memory usage: 41.2 MB\n"
     ]
    }
   ],
   "source": [
    "diabetesnd_df.info()"
   ]
  },
  {
   "cell_type": "code",
   "execution_count": 60,
   "id": "87780db9",
   "metadata": {},
   "outputs": [
    {
     "data": {
      "text/plain": [
       "0.0    187155\n",
       "1.0     42626\n",
       "Name: DiffWalk, dtype: int64"
      ]
     },
     "execution_count": 60,
     "metadata": {},
     "output_type": "execute_result"
    }
   ],
   "source": [
    "#Count number of each value in DiffWalk Column\n",
    "#Do you have serious difficulty walking or climbing stairs? 0 = no 1 = yes\n",
    "diabetesnd_df['DiffWalk'].value_counts()\n"
   ]
  },
  {
   "cell_type": "code",
   "execution_count": 61,
   "id": "9ad12276",
   "metadata": {},
   "outputs": [
    {
     "data": {
      "text/plain": [
       "0.0    0.814493\n",
       "1.0    0.185507\n",
       "Name: DiffWalk, dtype: float64"
      ]
     },
     "execution_count": 61,
     "metadata": {},
     "output_type": "execute_result"
    }
   ],
   "source": [
    "#percentage\n",
    "diabetesnd_df.DiffWalk.value_counts(normalize=True)"
   ]
  },
  {
   "cell_type": "code",
   "execution_count": 62,
   "id": "c42b36b0",
   "metadata": {},
   "outputs": [
    {
     "data": {
      "text/plain": [
       "0.0    128854\n",
       "1.0    100927\n",
       "Name: Sex, dtype: int64"
      ]
     },
     "execution_count": 62,
     "metadata": {},
     "output_type": "execute_result"
    }
   ],
   "source": [
    "#Count number of each value in Sex Column\n",
    "#0 = female 1 = male\n",
    "diabetesnd_df['Sex'].value_counts()"
   ]
  },
  {
   "cell_type": "code",
   "execution_count": 63,
   "id": "90dfd861",
   "metadata": {},
   "outputs": [
    {
     "data": {
      "text/plain": [
       "0.0    0.560769\n",
       "1.0    0.439231\n",
       "Name: Sex, dtype: float64"
      ]
     },
     "execution_count": 63,
     "metadata": {},
     "output_type": "execute_result"
    }
   ],
   "source": [
    "#percentage\n",
    "diabetesnd_df.Sex.value_counts(normalize=True)"
   ]
  },
  {
   "cell_type": "code",
   "execution_count": 64,
   "id": "d641a123",
   "metadata": {},
   "outputs": [
    {
     "data": {
      "text/plain": [
       "9.0     29736\n",
       "10.0    29168\n",
       "8.0     27301\n",
       "7.0     23140\n",
       "11.0    22041\n",
       "6.0     17299\n",
       "13.0    16813\n",
       "12.0    15394\n",
       "5.0     14050\n",
       "4.0     12234\n",
       "3.0     10025\n",
       "2.0      7068\n",
       "1.0      5512\n",
       "Name: Age, dtype: int64"
      ]
     },
     "execution_count": 64,
     "metadata": {},
     "output_type": "execute_result"
    }
   ],
   "source": [
    "#Count number of each value in Age Column\n",
    "#13-level age category (_AGEG5YR see codebook) 1 = 18-24 9 = 60-64 13 = 80 or older\n",
    "#link to codebook here: https://www.cdc.gov/brfss/annual_data/2015/pdf/codebook15_llcp.pdf\n",
    "diabetesnd_df['Age'].value_counts()"
   ]
  },
  {
   "cell_type": "code",
   "execution_count": 65,
   "id": "4aae6d86",
   "metadata": {},
   "outputs": [
    {
     "data": {
      "text/plain": [
       "9.0     0.129410\n",
       "10.0    0.126938\n",
       "8.0     0.118813\n",
       "7.0     0.100705\n",
       "11.0    0.095922\n",
       "6.0     0.075285\n",
       "13.0    0.073170\n",
       "12.0    0.066994\n",
       "5.0     0.061145\n",
       "4.0     0.053242\n",
       "3.0     0.043628\n",
       "2.0     0.030760\n",
       "1.0     0.023988\n",
       "Name: Age, dtype: float64"
      ]
     },
     "execution_count": 65,
     "metadata": {},
     "output_type": "execute_result"
    }
   ],
   "source": [
    "#Percentage\n",
    "diabetesnd_df.Age.value_counts(normalize=True)"
   ]
  },
  {
   "cell_type": "code",
   "execution_count": 66,
   "id": "42eb121f",
   "metadata": {},
   "outputs": [
    {
     "data": {
      "text/plain": [
       "6.0    88443\n",
       "5.0    66499\n",
       "4.0    61158\n",
       "3.0     9467\n",
       "2.0     4040\n",
       "1.0      174\n",
       "Name: Education, dtype: int64"
      ]
     },
     "execution_count": 66,
     "metadata": {},
     "output_type": "execute_result"
    }
   ],
   "source": [
    "#Count number of each value in Education Column\n",
    "#Education level (EDUCA see codebook) scale 1-6 1 = Never attended school or only kindergarten \n",
    "#2 = Grades 1 through 8 (Elementary) 3 = Grades 9 through 11 (Some high school) 4 = Grade 12 or GED (High school graduate) \n",
    "#5 = College 1 year to 3 years (Some college or technical school) 6 = College 4 years or more (College graduate)\n",
    "#link to codebook here: https://www.cdc.gov/brfss/annual_data/2015/pdf/codebook15_llcp.pdf\n",
    "diabetesnd_df['Education'].value_counts()\n"
   ]
  },
  {
   "cell_type": "code",
   "execution_count": 67,
   "id": "ddc9dfe9",
   "metadata": {},
   "outputs": [
    {
     "data": {
      "text/plain": [
       "6.0    0.384901\n",
       "5.0    0.289402\n",
       "4.0    0.266158\n",
       "3.0    0.041200\n",
       "2.0    0.017582\n",
       "1.0    0.000757\n",
       "Name: Education, dtype: float64"
      ]
     },
     "execution_count": 67,
     "metadata": {},
     "output_type": "execute_result"
    }
   ],
   "source": [
    "#percentage\n",
    "diabetesnd_df.Education.value_counts(normalize=True)"
   ]
  },
  {
   "cell_type": "code",
   "execution_count": 68,
   "id": "a25e5a98",
   "metadata": {},
   "outputs": [
    {
     "data": {
      "text/plain": [
       "8.0    71818\n",
       "7.0    40189\n",
       "6.0    35001\n",
       "5.0    25345\n",
       "4.0    19957\n",
       "3.0    15922\n",
       "2.0    11757\n",
       "1.0     9792\n",
       "Name: Income, dtype: int64"
      ]
     },
     "execution_count": 68,
     "metadata": {},
     "output_type": "execute_result"
    }
   ],
   "source": [
    "#Count number of each value in Income Column\n",
    "#Income scale (INCOME2 see codebook) scale 1-8 1 = less than $10,000 5 = less than $35,000 8 = $75,000 or more\n",
    "#link to codebook here https://www.cdc.gov/brfss/annual_data/2015/pdf/codebook15_llcp.pdf\n",
    "diabetesnd_df['Income'].value_counts()\n"
   ]
  },
  {
   "cell_type": "code",
   "execution_count": 69,
   "id": "5a79e204",
   "metadata": {},
   "outputs": [
    {
     "data": {
      "text/plain": [
       "8.0    0.312550\n",
       "7.0    0.174901\n",
       "6.0    0.152323\n",
       "5.0    0.110301\n",
       "4.0    0.086852\n",
       "3.0    0.069292\n",
       "2.0    0.051166\n",
       "1.0    0.042614\n",
       "Name: Income, dtype: float64"
      ]
     },
     "execution_count": 69,
     "metadata": {},
     "output_type": "execute_result"
    }
   ],
   "source": [
    "#percentage\n",
    "diabetesnd_df.Income.value_counts(normalize=True)"
   ]
  },
  {
   "cell_type": "code",
   "execution_count": 70,
   "id": "1d3fca86",
   "metadata": {},
   "outputs": [],
   "source": [
    "diabetes_df.to_csv('results/diabetes_similiarfilesremoved.csv', encoding='utf-8')"
   ]
  },
  {
   "cell_type": "code",
   "execution_count": null,
   "id": "438486ae",
   "metadata": {},
   "outputs": [],
   "source": []
  }
 ],
 "metadata": {
  "kernelspec": {
   "display_name": "mlenv",
   "language": "python",
   "name": "mlenv"
  },
  "language_info": {
   "codemirror_mode": {
    "name": "ipython",
    "version": 3
   },
   "file_extension": ".py",
   "mimetype": "text/x-python",
   "name": "python",
   "nbconvert_exporter": "python",
   "pygments_lexer": "ipython3",
   "version": "3.9.15"
  }
 },
 "nbformat": 4,
 "nbformat_minor": 5
}
