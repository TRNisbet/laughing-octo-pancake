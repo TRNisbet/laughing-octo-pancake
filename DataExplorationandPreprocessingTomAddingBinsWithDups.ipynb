{
 "cells": [
  {
   "cell_type": "code",
   "execution_count": 1,
   "id": "62aa5169",
   "metadata": {},
   "outputs": [],
   "source": [
    "#import dependencies\n",
    "import warnings\n",
    "warnings.filterwarnings('ignore')"
   ]
  },
  {
   "cell_type": "code",
   "execution_count": 2,
   "id": "0e763a16",
   "metadata": {},
   "outputs": [],
   "source": [
    "#import dependencies\n",
    "import numpy as np\n",
    "import pandas as pd\n",
    "import os\n",
    "from pathlib import Path\n",
    "from collections import Counter"
   ]
  },
  {
   "cell_type": "markdown",
   "id": "b6f6e6a7",
   "metadata": {},
   "source": [
    "## File Considerations"
   ]
  },
  {
   "cell_type": "markdown",
   "id": "81b9e542",
   "metadata": {},
   "source": [
    "The team downloaded and reviewed multiple datasets to determine which source data would be best for the project being built.  Rational for selecting or not selecting a dataset follows the import and review code blocks"
   ]
  },
  {
   "cell_type": "markdown",
   "id": "21294fd2",
   "metadata": {},
   "source": [
    "### Diabetes Data Set \n",
    "\n",
    "This file was sourced from: https://www.kaggle.com/datasets/alexteboul/diabetes-health-indicators-dataset\n",
    "\n",
    "Three datasets are provided on this page, and the team based their decision off of the 'Binary Health Indicators' version of the data.  \n",
    "\n",
    "This file includese multiple binary attributes that a non medical user would most likely be able to answer about the child they are responding for.  Additionally, the file has over 250,000 records, which will provide substantial training data for our algorithm.  \n",
    "\n",
    "This dataset was selected for use.  Details of preprocessing steps are included beneath the appropriate code blocks below. "
   ]
  },
  {
   "cell_type": "code",
   "execution_count": 3,
   "id": "6f6e6b28",
   "metadata": {},
   "outputs": [
    {
     "data": {
      "text/html": [
       "<div>\n",
       "<style scoped>\n",
       "    .dataframe tbody tr th:only-of-type {\n",
       "        vertical-align: middle;\n",
       "    }\n",
       "\n",
       "    .dataframe tbody tr th {\n",
       "        vertical-align: top;\n",
       "    }\n",
       "\n",
       "    .dataframe thead th {\n",
       "        text-align: right;\n",
       "    }\n",
       "</style>\n",
       "<table border=\"1\" class=\"dataframe\">\n",
       "  <thead>\n",
       "    <tr style=\"text-align: right;\">\n",
       "      <th></th>\n",
       "      <th>Diabetes_012</th>\n",
       "      <th>HighBP</th>\n",
       "      <th>HighChol</th>\n",
       "      <th>CholCheck</th>\n",
       "      <th>BMI</th>\n",
       "      <th>Smoker</th>\n",
       "      <th>Stroke</th>\n",
       "      <th>HeartDiseaseorAttack</th>\n",
       "      <th>PhysActivity</th>\n",
       "      <th>Fruits</th>\n",
       "      <th>...</th>\n",
       "      <th>AnyHealthcare</th>\n",
       "      <th>NoDocbcCost</th>\n",
       "      <th>GenHlth</th>\n",
       "      <th>MentHlth</th>\n",
       "      <th>PhysHlth</th>\n",
       "      <th>DiffWalk</th>\n",
       "      <th>Sex</th>\n",
       "      <th>Age</th>\n",
       "      <th>Education</th>\n",
       "      <th>Income</th>\n",
       "    </tr>\n",
       "  </thead>\n",
       "  <tbody>\n",
       "    <tr>\n",
       "      <th>0</th>\n",
       "      <td>0.0</td>\n",
       "      <td>1.0</td>\n",
       "      <td>1.0</td>\n",
       "      <td>1.0</td>\n",
       "      <td>40.0</td>\n",
       "      <td>1.0</td>\n",
       "      <td>0.0</td>\n",
       "      <td>0.0</td>\n",
       "      <td>0.0</td>\n",
       "      <td>0.0</td>\n",
       "      <td>...</td>\n",
       "      <td>1.0</td>\n",
       "      <td>0.0</td>\n",
       "      <td>5.0</td>\n",
       "      <td>18.0</td>\n",
       "      <td>15.0</td>\n",
       "      <td>1.0</td>\n",
       "      <td>0.0</td>\n",
       "      <td>9.0</td>\n",
       "      <td>4.0</td>\n",
       "      <td>3.0</td>\n",
       "    </tr>\n",
       "    <tr>\n",
       "      <th>1</th>\n",
       "      <td>0.0</td>\n",
       "      <td>0.0</td>\n",
       "      <td>0.0</td>\n",
       "      <td>0.0</td>\n",
       "      <td>25.0</td>\n",
       "      <td>1.0</td>\n",
       "      <td>0.0</td>\n",
       "      <td>0.0</td>\n",
       "      <td>1.0</td>\n",
       "      <td>0.0</td>\n",
       "      <td>...</td>\n",
       "      <td>0.0</td>\n",
       "      <td>1.0</td>\n",
       "      <td>3.0</td>\n",
       "      <td>0.0</td>\n",
       "      <td>0.0</td>\n",
       "      <td>0.0</td>\n",
       "      <td>0.0</td>\n",
       "      <td>7.0</td>\n",
       "      <td>6.0</td>\n",
       "      <td>1.0</td>\n",
       "    </tr>\n",
       "    <tr>\n",
       "      <th>2</th>\n",
       "      <td>0.0</td>\n",
       "      <td>1.0</td>\n",
       "      <td>1.0</td>\n",
       "      <td>1.0</td>\n",
       "      <td>28.0</td>\n",
       "      <td>0.0</td>\n",
       "      <td>0.0</td>\n",
       "      <td>0.0</td>\n",
       "      <td>0.0</td>\n",
       "      <td>1.0</td>\n",
       "      <td>...</td>\n",
       "      <td>1.0</td>\n",
       "      <td>1.0</td>\n",
       "      <td>5.0</td>\n",
       "      <td>30.0</td>\n",
       "      <td>30.0</td>\n",
       "      <td>1.0</td>\n",
       "      <td>0.0</td>\n",
       "      <td>9.0</td>\n",
       "      <td>4.0</td>\n",
       "      <td>8.0</td>\n",
       "    </tr>\n",
       "    <tr>\n",
       "      <th>3</th>\n",
       "      <td>0.0</td>\n",
       "      <td>1.0</td>\n",
       "      <td>0.0</td>\n",
       "      <td>1.0</td>\n",
       "      <td>27.0</td>\n",
       "      <td>0.0</td>\n",
       "      <td>0.0</td>\n",
       "      <td>0.0</td>\n",
       "      <td>1.0</td>\n",
       "      <td>1.0</td>\n",
       "      <td>...</td>\n",
       "      <td>1.0</td>\n",
       "      <td>0.0</td>\n",
       "      <td>2.0</td>\n",
       "      <td>0.0</td>\n",
       "      <td>0.0</td>\n",
       "      <td>0.0</td>\n",
       "      <td>0.0</td>\n",
       "      <td>11.0</td>\n",
       "      <td>3.0</td>\n",
       "      <td>6.0</td>\n",
       "    </tr>\n",
       "    <tr>\n",
       "      <th>4</th>\n",
       "      <td>0.0</td>\n",
       "      <td>1.0</td>\n",
       "      <td>1.0</td>\n",
       "      <td>1.0</td>\n",
       "      <td>24.0</td>\n",
       "      <td>0.0</td>\n",
       "      <td>0.0</td>\n",
       "      <td>0.0</td>\n",
       "      <td>1.0</td>\n",
       "      <td>1.0</td>\n",
       "      <td>...</td>\n",
       "      <td>1.0</td>\n",
       "      <td>0.0</td>\n",
       "      <td>2.0</td>\n",
       "      <td>3.0</td>\n",
       "      <td>0.0</td>\n",
       "      <td>0.0</td>\n",
       "      <td>0.0</td>\n",
       "      <td>11.0</td>\n",
       "      <td>5.0</td>\n",
       "      <td>4.0</td>\n",
       "    </tr>\n",
       "    <tr>\n",
       "      <th>...</th>\n",
       "      <td>...</td>\n",
       "      <td>...</td>\n",
       "      <td>...</td>\n",
       "      <td>...</td>\n",
       "      <td>...</td>\n",
       "      <td>...</td>\n",
       "      <td>...</td>\n",
       "      <td>...</td>\n",
       "      <td>...</td>\n",
       "      <td>...</td>\n",
       "      <td>...</td>\n",
       "      <td>...</td>\n",
       "      <td>...</td>\n",
       "      <td>...</td>\n",
       "      <td>...</td>\n",
       "      <td>...</td>\n",
       "      <td>...</td>\n",
       "      <td>...</td>\n",
       "      <td>...</td>\n",
       "      <td>...</td>\n",
       "      <td>...</td>\n",
       "    </tr>\n",
       "    <tr>\n",
       "      <th>253675</th>\n",
       "      <td>0.0</td>\n",
       "      <td>1.0</td>\n",
       "      <td>1.0</td>\n",
       "      <td>1.0</td>\n",
       "      <td>45.0</td>\n",
       "      <td>0.0</td>\n",
       "      <td>0.0</td>\n",
       "      <td>0.0</td>\n",
       "      <td>0.0</td>\n",
       "      <td>1.0</td>\n",
       "      <td>...</td>\n",
       "      <td>1.0</td>\n",
       "      <td>0.0</td>\n",
       "      <td>3.0</td>\n",
       "      <td>0.0</td>\n",
       "      <td>5.0</td>\n",
       "      <td>0.0</td>\n",
       "      <td>1.0</td>\n",
       "      <td>5.0</td>\n",
       "      <td>6.0</td>\n",
       "      <td>7.0</td>\n",
       "    </tr>\n",
       "    <tr>\n",
       "      <th>253676</th>\n",
       "      <td>2.0</td>\n",
       "      <td>1.0</td>\n",
       "      <td>1.0</td>\n",
       "      <td>1.0</td>\n",
       "      <td>18.0</td>\n",
       "      <td>0.0</td>\n",
       "      <td>0.0</td>\n",
       "      <td>0.0</td>\n",
       "      <td>0.0</td>\n",
       "      <td>0.0</td>\n",
       "      <td>...</td>\n",
       "      <td>1.0</td>\n",
       "      <td>0.0</td>\n",
       "      <td>4.0</td>\n",
       "      <td>0.0</td>\n",
       "      <td>0.0</td>\n",
       "      <td>1.0</td>\n",
       "      <td>0.0</td>\n",
       "      <td>11.0</td>\n",
       "      <td>2.0</td>\n",
       "      <td>4.0</td>\n",
       "    </tr>\n",
       "    <tr>\n",
       "      <th>253677</th>\n",
       "      <td>0.0</td>\n",
       "      <td>0.0</td>\n",
       "      <td>0.0</td>\n",
       "      <td>1.0</td>\n",
       "      <td>28.0</td>\n",
       "      <td>0.0</td>\n",
       "      <td>0.0</td>\n",
       "      <td>0.0</td>\n",
       "      <td>1.0</td>\n",
       "      <td>1.0</td>\n",
       "      <td>...</td>\n",
       "      <td>1.0</td>\n",
       "      <td>0.0</td>\n",
       "      <td>1.0</td>\n",
       "      <td>0.0</td>\n",
       "      <td>0.0</td>\n",
       "      <td>0.0</td>\n",
       "      <td>0.0</td>\n",
       "      <td>2.0</td>\n",
       "      <td>5.0</td>\n",
       "      <td>2.0</td>\n",
       "    </tr>\n",
       "    <tr>\n",
       "      <th>253678</th>\n",
       "      <td>0.0</td>\n",
       "      <td>1.0</td>\n",
       "      <td>0.0</td>\n",
       "      <td>1.0</td>\n",
       "      <td>23.0</td>\n",
       "      <td>0.0</td>\n",
       "      <td>0.0</td>\n",
       "      <td>0.0</td>\n",
       "      <td>0.0</td>\n",
       "      <td>1.0</td>\n",
       "      <td>...</td>\n",
       "      <td>1.0</td>\n",
       "      <td>0.0</td>\n",
       "      <td>3.0</td>\n",
       "      <td>0.0</td>\n",
       "      <td>0.0</td>\n",
       "      <td>0.0</td>\n",
       "      <td>1.0</td>\n",
       "      <td>7.0</td>\n",
       "      <td>5.0</td>\n",
       "      <td>1.0</td>\n",
       "    </tr>\n",
       "    <tr>\n",
       "      <th>253679</th>\n",
       "      <td>2.0</td>\n",
       "      <td>1.0</td>\n",
       "      <td>1.0</td>\n",
       "      <td>1.0</td>\n",
       "      <td>25.0</td>\n",
       "      <td>0.0</td>\n",
       "      <td>0.0</td>\n",
       "      <td>1.0</td>\n",
       "      <td>1.0</td>\n",
       "      <td>1.0</td>\n",
       "      <td>...</td>\n",
       "      <td>1.0</td>\n",
       "      <td>0.0</td>\n",
       "      <td>2.0</td>\n",
       "      <td>0.0</td>\n",
       "      <td>0.0</td>\n",
       "      <td>0.0</td>\n",
       "      <td>0.0</td>\n",
       "      <td>9.0</td>\n",
       "      <td>6.0</td>\n",
       "      <td>2.0</td>\n",
       "    </tr>\n",
       "  </tbody>\n",
       "</table>\n",
       "<p>253680 rows × 22 columns</p>\n",
       "</div>"
      ],
      "text/plain": [
       "        Diabetes_012  HighBP  HighChol  CholCheck   BMI  Smoker  Stroke  \\\n",
       "0                0.0     1.0       1.0        1.0  40.0     1.0     0.0   \n",
       "1                0.0     0.0       0.0        0.0  25.0     1.0     0.0   \n",
       "2                0.0     1.0       1.0        1.0  28.0     0.0     0.0   \n",
       "3                0.0     1.0       0.0        1.0  27.0     0.0     0.0   \n",
       "4                0.0     1.0       1.0        1.0  24.0     0.0     0.0   \n",
       "...              ...     ...       ...        ...   ...     ...     ...   \n",
       "253675           0.0     1.0       1.0        1.0  45.0     0.0     0.0   \n",
       "253676           2.0     1.0       1.0        1.0  18.0     0.0     0.0   \n",
       "253677           0.0     0.0       0.0        1.0  28.0     0.0     0.0   \n",
       "253678           0.0     1.0       0.0        1.0  23.0     0.0     0.0   \n",
       "253679           2.0     1.0       1.0        1.0  25.0     0.0     0.0   \n",
       "\n",
       "        HeartDiseaseorAttack  PhysActivity  Fruits  ...  AnyHealthcare  \\\n",
       "0                        0.0           0.0     0.0  ...            1.0   \n",
       "1                        0.0           1.0     0.0  ...            0.0   \n",
       "2                        0.0           0.0     1.0  ...            1.0   \n",
       "3                        0.0           1.0     1.0  ...            1.0   \n",
       "4                        0.0           1.0     1.0  ...            1.0   \n",
       "...                      ...           ...     ...  ...            ...   \n",
       "253675                   0.0           0.0     1.0  ...            1.0   \n",
       "253676                   0.0           0.0     0.0  ...            1.0   \n",
       "253677                   0.0           1.0     1.0  ...            1.0   \n",
       "253678                   0.0           0.0     1.0  ...            1.0   \n",
       "253679                   1.0           1.0     1.0  ...            1.0   \n",
       "\n",
       "        NoDocbcCost  GenHlth  MentHlth  PhysHlth  DiffWalk  Sex   Age  \\\n",
       "0               0.0      5.0      18.0      15.0       1.0  0.0   9.0   \n",
       "1               1.0      3.0       0.0       0.0       0.0  0.0   7.0   \n",
       "2               1.0      5.0      30.0      30.0       1.0  0.0   9.0   \n",
       "3               0.0      2.0       0.0       0.0       0.0  0.0  11.0   \n",
       "4               0.0      2.0       3.0       0.0       0.0  0.0  11.0   \n",
       "...             ...      ...       ...       ...       ...  ...   ...   \n",
       "253675          0.0      3.0       0.0       5.0       0.0  1.0   5.0   \n",
       "253676          0.0      4.0       0.0       0.0       1.0  0.0  11.0   \n",
       "253677          0.0      1.0       0.0       0.0       0.0  0.0   2.0   \n",
       "253678          0.0      3.0       0.0       0.0       0.0  1.0   7.0   \n",
       "253679          0.0      2.0       0.0       0.0       0.0  0.0   9.0   \n",
       "\n",
       "        Education  Income  \n",
       "0             4.0     3.0  \n",
       "1             6.0     1.0  \n",
       "2             4.0     8.0  \n",
       "3             3.0     6.0  \n",
       "4             5.0     4.0  \n",
       "...           ...     ...  \n",
       "253675        6.0     7.0  \n",
       "253676        2.0     4.0  \n",
       "253677        5.0     2.0  \n",
       "253678        5.0     1.0  \n",
       "253679        6.0     2.0  \n",
       "\n",
       "[253680 rows x 22 columns]"
      ]
     },
     "execution_count": 3,
     "metadata": {},
     "output_type": "execute_result"
    }
   ],
   "source": [
    "#set file path\n",
    "file_path3 = Path(r'resources\\diabetes.csv')\n",
    "\n",
    "#read file into memory\n",
    "diabetes_df = pd.read_csv(file_path3)\n",
    "\n",
    "#validate load\n",
    "diabetes_df"
   ]
  },
  {
   "cell_type": "code",
   "execution_count": 4,
   "id": "8eb4f00b",
   "metadata": {},
   "outputs": [
    {
     "data": {
      "text/plain": [
       "Index(['Diabetes_012', 'HighBP', 'HighChol', 'CholCheck', 'BMI', 'Smoker',\n",
       "       'Stroke', 'HeartDiseaseorAttack', 'PhysActivity', 'Fruits', 'Veggies',\n",
       "       'HvyAlcoholConsump', 'AnyHealthcare', 'NoDocbcCost', 'GenHlth',\n",
       "       'MentHlth', 'PhysHlth', 'DiffWalk', 'Sex', 'Age', 'Education',\n",
       "       'Income'],\n",
       "      dtype='object')"
      ]
     },
     "execution_count": 4,
     "metadata": {},
     "output_type": "execute_result"
    }
   ],
   "source": [
    "#Column_listing\n",
    "diabetes_df.columns"
   ]
  },
  {
   "cell_type": "code",
   "execution_count": 5,
   "id": "26e45c9c",
   "metadata": {},
   "outputs": [],
   "source": [
    "#Determine Null Values \n",
    "nan_count = diabetes_df.isna().sum(axis = 1)"
   ]
  },
  {
   "cell_type": "markdown",
   "id": "59001cfa",
   "metadata": {},
   "source": [
    "Null values are ont contained in any of the records in the dataframe.  Null cleanup is not necessary. "
   ]
  },
  {
   "cell_type": "code",
   "execution_count": 6,
   "id": "0adf79bb",
   "metadata": {},
   "outputs": [
    {
     "name": "stdout",
     "output_type": "stream",
     "text": [
      "There are 23899 duplicate records\n"
     ]
    }
   ],
   "source": [
    "#determine count of duplicate values \n",
    "dupe_records = len(diabetes_df)-len(diabetes_df.drop_duplicates())\n",
    "\n",
    "print(f\"There are {dupe_records} duplicate records\")"
   ]
  },
  {
   "cell_type": "code",
   "execution_count": 7,
   "id": "45ae01a5",
   "metadata": {},
   "outputs": [
    {
     "data": {
      "text/plain": [
       "Diabetes_012            229781\n",
       "HighBP                  229781\n",
       "HighChol                229781\n",
       "CholCheck               229781\n",
       "BMI                     229781\n",
       "Smoker                  229781\n",
       "Stroke                  229781\n",
       "HeartDiseaseorAttack    229781\n",
       "PhysActivity            229781\n",
       "Fruits                  229781\n",
       "Veggies                 229781\n",
       "HvyAlcoholConsump       229781\n",
       "AnyHealthcare           229781\n",
       "NoDocbcCost             229781\n",
       "GenHlth                 229781\n",
       "MentHlth                229781\n",
       "PhysHlth                229781\n",
       "DiffWalk                229781\n",
       "Sex                     229781\n",
       "Age                     229781\n",
       "Education               229781\n",
       "Income                  229781\n",
       "dtype: int64"
      ]
     },
     "execution_count": 7,
     "metadata": {},
     "output_type": "execute_result"
    }
   ],
   "source": [
    "#Drop all duplicate records\n",
    "diabetesnd_df = diabetes_df.drop_duplicates() \n",
    "\n",
    "#display count of records after drop\n",
    "diabetesnd_df.count()"
   ]
  },
  {
   "cell_type": "code",
   "execution_count": 8,
   "id": "0fd32668",
   "metadata": {},
   "outputs": [
    {
     "data": {
      "text/plain": [
       "Diabetes_012            float64\n",
       "HighBP                  float64\n",
       "HighChol                float64\n",
       "CholCheck               float64\n",
       "BMI                     float64\n",
       "Smoker                  float64\n",
       "Stroke                  float64\n",
       "HeartDiseaseorAttack    float64\n",
       "PhysActivity            float64\n",
       "Fruits                  float64\n",
       "Veggies                 float64\n",
       "HvyAlcoholConsump       float64\n",
       "AnyHealthcare           float64\n",
       "NoDocbcCost             float64\n",
       "GenHlth                 float64\n",
       "MentHlth                float64\n",
       "PhysHlth                float64\n",
       "DiffWalk                float64\n",
       "Sex                     float64\n",
       "Age                     float64\n",
       "Education               float64\n",
       "Income                  float64\n",
       "dtype: object"
      ]
     },
     "execution_count": 8,
     "metadata": {},
     "output_type": "execute_result"
    }
   ],
   "source": [
    "#Check Data types - all fields should be numeric \n",
    "diabetesnd_df.dtypes"
   ]
  },
  {
   "cell_type": "code",
   "execution_count": 9,
   "id": "3fb2a0de",
   "metadata": {},
   "outputs": [
    {
     "data": {
      "text/plain": [
       "0.0    190055\n",
       "2.0     35097\n",
       "1.0      4629\n",
       "Name: Diabetes_012, dtype: int64"
      ]
     },
     "execution_count": 9,
     "metadata": {},
     "output_type": "execute_result"
    }
   ],
   "source": [
    "#Count number of each value in Diabetes 012 column\n",
    "#0-no diabetes, 1-prediabetes 2-diabetes\n",
    "#this is what we want our model to train on - recommend combining 1&2 into one value to make it binary 'get checked'\n",
    "diabetesnd_df['Diabetes_012'].value_counts()"
   ]
  },
  {
   "cell_type": "code",
   "execution_count": 10,
   "id": "c3312b8b",
   "metadata": {},
   "outputs": [
    {
     "data": {
      "text/plain": [
       "0.0    0.827114\n",
       "2.0    0.152741\n",
       "1.0    0.020145\n",
       "Name: Diabetes_012, dtype: float64"
      ]
     },
     "execution_count": 10,
     "metadata": {},
     "output_type": "execute_result"
    }
   ],
   "source": [
    "#percentage of each value in Diabetes 012 column\n",
    "diabetesnd_df.Diabetes_012.value_counts(normalize=True)"
   ]
  },
  {
   "cell_type": "code",
   "execution_count": 11,
   "id": "effffb13",
   "metadata": {},
   "outputs": [
    {
     "data": {
      "text/plain": [
       "0.0    125359\n",
       "1.0    104422\n",
       "Name: HighBP, dtype: int64"
      ]
     },
     "execution_count": 11,
     "metadata": {},
     "output_type": "execute_result"
    }
   ],
   "source": [
    "#Count number of each value in HighBP Column\n",
    "# 0 - noHBP, 1 -  HBP \n",
    "diabetesnd_df['HighBP'].value_counts()\n"
   ]
  },
  {
   "cell_type": "code",
   "execution_count": 12,
   "id": "989fbf23",
   "metadata": {},
   "outputs": [
    {
     "data": {
      "text/plain": [
       "0.0    0.545559\n",
       "1.0    0.454441\n",
       "Name: HighBP, dtype: float64"
      ]
     },
     "execution_count": 12,
     "metadata": {},
     "output_type": "execute_result"
    }
   ],
   "source": [
    "#percentage of each value \n",
    "diabetesnd_df.HighBP.value_counts(normalize=True)"
   ]
  },
  {
   "cell_type": "code",
   "execution_count": 13,
   "id": "b286e514",
   "metadata": {},
   "outputs": [
    {
     "data": {
      "text/plain": [
       "0.0    128273\n",
       "1.0    101508\n",
       "Name: HighChol, dtype: int64"
      ]
     },
     "execution_count": 13,
     "metadata": {},
     "output_type": "execute_result"
    }
   ],
   "source": [
    "#Count number of each value in HighChol Column\n",
    "#0 = no high cholesterol 1 = high cholesterol\n",
    "diabetesnd_df['HighChol'].value_counts()\n"
   ]
  },
  {
   "cell_type": "code",
   "execution_count": 14,
   "id": "e0b3f517",
   "metadata": {},
   "outputs": [
    {
     "data": {
      "text/plain": [
       "0.0    0.55824\n",
       "1.0    0.44176\n",
       "Name: HighChol, dtype: float64"
      ]
     },
     "execution_count": 14,
     "metadata": {},
     "output_type": "execute_result"
    }
   ],
   "source": [
    "#percentage\n",
    "diabetesnd_df.HighChol.value_counts(normalize=True)"
   ]
  },
  {
   "cell_type": "code",
   "execution_count": 15,
   "id": "23aeb221",
   "metadata": {},
   "outputs": [
    {
     "data": {
      "text/plain": [
       "1.0    220483\n",
       "0.0      9298\n",
       "Name: CholCheck, dtype: int64"
      ]
     },
     "execution_count": 15,
     "metadata": {},
     "output_type": "execute_result"
    }
   ],
   "source": [
    "#Count number of each value in CholCheck Column\n",
    "#0 = no cholesterol check in 5 years 1 = yes cholesterol check in 5 years\n",
    "diabetesnd_df['CholCheck'].value_counts()\n"
   ]
  },
  {
   "cell_type": "code",
   "execution_count": 16,
   "id": "56139d1f",
   "metadata": {},
   "outputs": [
    {
     "data": {
      "text/plain": [
       "1.0    0.959535\n",
       "0.0    0.040465\n",
       "Name: CholCheck, dtype: float64"
      ]
     },
     "execution_count": 16,
     "metadata": {},
     "output_type": "execute_result"
    }
   ],
   "source": [
    "#percentage\n",
    "diabetesnd_df.CholCheck.value_counts(normalize=True)"
   ]
  },
  {
   "cell_type": "code",
   "execution_count": 17,
   "id": "7bce4547",
   "metadata": {},
   "outputs": [
    {
     "data": {
      "text/plain": [
       "27.0    21551\n",
       "26.0    17808\n",
       "24.0    16537\n",
       "28.0    14933\n",
       "25.0    14809\n",
       "        ...  \n",
       "85.0        1\n",
       "91.0        1\n",
       "86.0        1\n",
       "90.0        1\n",
       "78.0        1\n",
       "Name: BMI, Length: 84, dtype: int64"
      ]
     },
     "execution_count": 17,
     "metadata": {},
     "output_type": "execute_result"
    }
   ],
   "source": [
    "#Count number of each value in BMI Column\n",
    "#calculate BMI by dividing weight in pounds (lb) by height in inches (in) squared and multiplying by a conversion factor of 703\n",
    "#Will need to have user enter height and weight of subject \n",
    "\n",
    "diabetesnd_df['BMI'].value_counts()\n"
   ]
  },
  {
   "cell_type": "code",
   "execution_count": 18,
   "id": "4148daa6",
   "metadata": {},
   "outputs": [
    {
     "data": {
      "text/plain": [
       "count    229781.00000\n",
       "mean         28.68567\n",
       "std           6.78636\n",
       "min          12.00000\n",
       "25%          24.00000\n",
       "50%          27.00000\n",
       "75%          32.00000\n",
       "max          98.00000\n",
       "Name: BMI, dtype: float64"
      ]
     },
     "execution_count": 18,
     "metadata": {},
     "output_type": "execute_result"
    }
   ],
   "source": [
    "#Determine bucketing for BMI values \n",
    "diabetesnd_df.BMI.describe()"
   ]
  },
  {
   "cell_type": "code",
   "execution_count": 19,
   "id": "ce4bc586",
   "metadata": {},
   "outputs": [],
   "source": [
    "# BMI Binning "
   ]
  },
  {
   "cell_type": "code",
   "execution_count": 25,
   "id": "4f9b5267",
   "metadata": {},
   "outputs": [
    {
     "data": {
      "text/plain": [
       "count            229781\n",
       "unique                4\n",
       "top       (29.9, 100.0]\n",
       "freq              84942\n",
       "Name: bmi_bin, dtype: object"
      ]
     },
     "execution_count": 25,
     "metadata": {},
     "output_type": "execute_result"
    }
   ],
   "source": [
    "bmi_bins = [0, 18.5, 24.9, 29.9, 100]\n",
    "diabetesnd_df['bmi_bin'] = pd.cut(diabetesnd_df['BMI'], bmi_bins)\n",
    "diabetesnd_df.bmi_bin.describe()"
   ]
  },
  {
   "cell_type": "code",
   "execution_count": 26,
   "id": "47b38d7f",
   "metadata": {},
   "outputs": [
    {
     "data": {
      "text/plain": [
       "Index(['Diabetes_012', 'HighBP', 'HighChol', 'CholCheck', 'BMI', 'Smoker',\n",
       "       'Stroke', 'HeartDiseaseorAttack', 'PhysActivity', 'Fruits', 'Veggies',\n",
       "       'HvyAlcoholConsump', 'AnyHealthcare', 'NoDocbcCost', 'GenHlth',\n",
       "       'MentHlth', 'PhysHlth', 'DiffWalk', 'Sex', 'Age', 'Education', 'Income',\n",
       "       'bmi_bin'],\n",
       "      dtype='object')"
      ]
     },
     "execution_count": 26,
     "metadata": {},
     "output_type": "execute_result"
    }
   ],
   "source": [
    "diabetesnd_df.columns"
   ]
  },
  {
   "cell_type": "code",
   "execution_count": 27,
   "id": "066d52cd",
   "metadata": {},
   "outputs": [
    {
     "data": {
      "text/html": [
       "<div>\n",
       "<style scoped>\n",
       "    .dataframe tbody tr th:only-of-type {\n",
       "        vertical-align: middle;\n",
       "    }\n",
       "\n",
       "    .dataframe tbody tr th {\n",
       "        vertical-align: top;\n",
       "    }\n",
       "\n",
       "    .dataframe thead th {\n",
       "        text-align: right;\n",
       "    }\n",
       "</style>\n",
       "<table border=\"1\" class=\"dataframe\">\n",
       "  <thead>\n",
       "    <tr style=\"text-align: right;\">\n",
       "      <th></th>\n",
       "      <th>Diabetes_012</th>\n",
       "      <th>HighBP</th>\n",
       "      <th>HighChol</th>\n",
       "      <th>CholCheck</th>\n",
       "      <th>BMI</th>\n",
       "      <th>Smoker</th>\n",
       "      <th>Stroke</th>\n",
       "      <th>HeartDiseaseorAttack</th>\n",
       "      <th>PhysActivity</th>\n",
       "      <th>Fruits</th>\n",
       "      <th>...</th>\n",
       "      <th>NoDocbcCost</th>\n",
       "      <th>GenHlth</th>\n",
       "      <th>MentHlth</th>\n",
       "      <th>PhysHlth</th>\n",
       "      <th>DiffWalk</th>\n",
       "      <th>Sex</th>\n",
       "      <th>Age</th>\n",
       "      <th>Education</th>\n",
       "      <th>Income</th>\n",
       "      <th>bmi_bin</th>\n",
       "    </tr>\n",
       "  </thead>\n",
       "  <tbody>\n",
       "    <tr>\n",
       "      <th>0</th>\n",
       "      <td>0.0</td>\n",
       "      <td>1.0</td>\n",
       "      <td>1.0</td>\n",
       "      <td>1.0</td>\n",
       "      <td>40.0</td>\n",
       "      <td>1.0</td>\n",
       "      <td>0.0</td>\n",
       "      <td>0.0</td>\n",
       "      <td>0.0</td>\n",
       "      <td>0.0</td>\n",
       "      <td>...</td>\n",
       "      <td>0.0</td>\n",
       "      <td>5.0</td>\n",
       "      <td>18.0</td>\n",
       "      <td>15.0</td>\n",
       "      <td>1.0</td>\n",
       "      <td>0.0</td>\n",
       "      <td>9.0</td>\n",
       "      <td>4.0</td>\n",
       "      <td>3.0</td>\n",
       "      <td>(29.9, 100.0]</td>\n",
       "    </tr>\n",
       "    <tr>\n",
       "      <th>1</th>\n",
       "      <td>0.0</td>\n",
       "      <td>0.0</td>\n",
       "      <td>0.0</td>\n",
       "      <td>0.0</td>\n",
       "      <td>25.0</td>\n",
       "      <td>1.0</td>\n",
       "      <td>0.0</td>\n",
       "      <td>0.0</td>\n",
       "      <td>1.0</td>\n",
       "      <td>0.0</td>\n",
       "      <td>...</td>\n",
       "      <td>1.0</td>\n",
       "      <td>3.0</td>\n",
       "      <td>0.0</td>\n",
       "      <td>0.0</td>\n",
       "      <td>0.0</td>\n",
       "      <td>0.0</td>\n",
       "      <td>7.0</td>\n",
       "      <td>6.0</td>\n",
       "      <td>1.0</td>\n",
       "      <td>(24.9, 29.9]</td>\n",
       "    </tr>\n",
       "    <tr>\n",
       "      <th>2</th>\n",
       "      <td>0.0</td>\n",
       "      <td>1.0</td>\n",
       "      <td>1.0</td>\n",
       "      <td>1.0</td>\n",
       "      <td>28.0</td>\n",
       "      <td>0.0</td>\n",
       "      <td>0.0</td>\n",
       "      <td>0.0</td>\n",
       "      <td>0.0</td>\n",
       "      <td>1.0</td>\n",
       "      <td>...</td>\n",
       "      <td>1.0</td>\n",
       "      <td>5.0</td>\n",
       "      <td>30.0</td>\n",
       "      <td>30.0</td>\n",
       "      <td>1.0</td>\n",
       "      <td>0.0</td>\n",
       "      <td>9.0</td>\n",
       "      <td>4.0</td>\n",
       "      <td>8.0</td>\n",
       "      <td>(24.9, 29.9]</td>\n",
       "    </tr>\n",
       "    <tr>\n",
       "      <th>3</th>\n",
       "      <td>0.0</td>\n",
       "      <td>1.0</td>\n",
       "      <td>0.0</td>\n",
       "      <td>1.0</td>\n",
       "      <td>27.0</td>\n",
       "      <td>0.0</td>\n",
       "      <td>0.0</td>\n",
       "      <td>0.0</td>\n",
       "      <td>1.0</td>\n",
       "      <td>1.0</td>\n",
       "      <td>...</td>\n",
       "      <td>0.0</td>\n",
       "      <td>2.0</td>\n",
       "      <td>0.0</td>\n",
       "      <td>0.0</td>\n",
       "      <td>0.0</td>\n",
       "      <td>0.0</td>\n",
       "      <td>11.0</td>\n",
       "      <td>3.0</td>\n",
       "      <td>6.0</td>\n",
       "      <td>(24.9, 29.9]</td>\n",
       "    </tr>\n",
       "    <tr>\n",
       "      <th>4</th>\n",
       "      <td>0.0</td>\n",
       "      <td>1.0</td>\n",
       "      <td>1.0</td>\n",
       "      <td>1.0</td>\n",
       "      <td>24.0</td>\n",
       "      <td>0.0</td>\n",
       "      <td>0.0</td>\n",
       "      <td>0.0</td>\n",
       "      <td>1.0</td>\n",
       "      <td>1.0</td>\n",
       "      <td>...</td>\n",
       "      <td>0.0</td>\n",
       "      <td>2.0</td>\n",
       "      <td>3.0</td>\n",
       "      <td>0.0</td>\n",
       "      <td>0.0</td>\n",
       "      <td>0.0</td>\n",
       "      <td>11.0</td>\n",
       "      <td>5.0</td>\n",
       "      <td>4.0</td>\n",
       "      <td>(18.5, 24.9]</td>\n",
       "    </tr>\n",
       "  </tbody>\n",
       "</table>\n",
       "<p>5 rows × 23 columns</p>\n",
       "</div>"
      ],
      "text/plain": [
       "   Diabetes_012  HighBP  HighChol  CholCheck   BMI  Smoker  Stroke  \\\n",
       "0           0.0     1.0       1.0        1.0  40.0     1.0     0.0   \n",
       "1           0.0     0.0       0.0        0.0  25.0     1.0     0.0   \n",
       "2           0.0     1.0       1.0        1.0  28.0     0.0     0.0   \n",
       "3           0.0     1.0       0.0        1.0  27.0     0.0     0.0   \n",
       "4           0.0     1.0       1.0        1.0  24.0     0.0     0.0   \n",
       "\n",
       "   HeartDiseaseorAttack  PhysActivity  Fruits  ...  NoDocbcCost  GenHlth  \\\n",
       "0                   0.0           0.0     0.0  ...          0.0      5.0   \n",
       "1                   0.0           1.0     0.0  ...          1.0      3.0   \n",
       "2                   0.0           0.0     1.0  ...          1.0      5.0   \n",
       "3                   0.0           1.0     1.0  ...          0.0      2.0   \n",
       "4                   0.0           1.0     1.0  ...          0.0      2.0   \n",
       "\n",
       "   MentHlth  PhysHlth  DiffWalk  Sex   Age  Education  Income        bmi_bin  \n",
       "0      18.0      15.0       1.0  0.0   9.0        4.0     3.0  (29.9, 100.0]  \n",
       "1       0.0       0.0       0.0  0.0   7.0        6.0     1.0   (24.9, 29.9]  \n",
       "2      30.0      30.0       1.0  0.0   9.0        4.0     8.0   (24.9, 29.9]  \n",
       "3       0.0       0.0       0.0  0.0  11.0        3.0     6.0   (24.9, 29.9]  \n",
       "4       3.0       0.0       0.0  0.0  11.0        5.0     4.0   (18.5, 24.9]  \n",
       "\n",
       "[5 rows x 23 columns]"
      ]
     },
     "execution_count": 27,
     "metadata": {},
     "output_type": "execute_result"
    }
   ],
   "source": [
    "diabetesnd_df.head()"
   ]
  },
  {
   "cell_type": "markdown",
   "id": "b38d123d",
   "metadata": {},
   "source": [
    "### Recommend bucketing this value to reduce the number of columns \n",
    "#### Buckets \n",
    "10-19\n",
    "20-29\n",
    "30-39\n",
    "40-49\n",
    "50-59\n",
    "60-69\n",
    "70-79\n",
    "80-89\n",
    "90-99"
   ]
  },
  {
   "cell_type": "code",
   "execution_count": 21,
   "id": "2c128a2a",
   "metadata": {},
   "outputs": [
    {
     "data": {
      "text/plain": [
       "27.0    0.093789\n",
       "26.0    0.077500\n",
       "24.0    0.071969\n",
       "28.0    0.064988\n",
       "25.0    0.064448\n",
       "          ...   \n",
       "85.0    0.000004\n",
       "91.0    0.000004\n",
       "86.0    0.000004\n",
       "90.0    0.000004\n",
       "78.0    0.000004\n",
       "Name: BMI, Length: 84, dtype: float64"
      ]
     },
     "execution_count": 21,
     "metadata": {},
     "output_type": "execute_result"
    }
   ],
   "source": [
    "#percentage\n",
    "diabetesnd_df.BMI.value_counts(normalize=True)"
   ]
  },
  {
   "cell_type": "code",
   "execution_count": 22,
   "id": "08c67d46",
   "metadata": {},
   "outputs": [
    {
     "ename": "SyntaxError",
     "evalue": "invalid syntax (1955888305.py, line 3)",
     "output_type": "error",
     "traceback": [
      "\u001b[1;36m  File \u001b[1;32m\"C:\\Users\\thoma\\AppData\\Local\\Temp\\ipykernel_1692\\1955888305.py\"\u001b[1;36m, line \u001b[1;32m3\u001b[0m\n\u001b[1;33m    0 Days\u001b[0m\n\u001b[1;37m         ^\u001b[0m\n\u001b[1;31mSyntaxError\u001b[0m\u001b[1;31m:\u001b[0m invalid syntax\n"
     ]
    }
   ],
   "source": [
    "### Recommend bucketing this value to reduce the number of columns \n",
    "#### Buckets \n",
    "0 Days \n",
    "1-5 Days\n",
    "6-10 Days\n",
    "11-15 Days\n",
    "16-20 Days\n",
    "21-25 Days\n",
    "26-30 Days"
   ]
  },
  {
   "cell_type": "code",
   "execution_count": null,
   "id": "b2a621b3",
   "metadata": {},
   "outputs": [],
   "source": [
    "#Count number of each value in Smoker Column\n",
    "#Have you smoked at least 100 cigarettes in your entire life? [Note: 5 packs = 100 cigarettes] 0 = no 1 = yes\n",
    "diabetesnd_df['Smoker'].value_counts()\n"
   ]
  },
  {
   "cell_type": "code",
   "execution_count": null,
   "id": "619df326",
   "metadata": {},
   "outputs": [],
   "source": [
    "#percentage\n",
    "diabetesnd_df.Smoker.value_counts(normalize=True)"
   ]
  },
  {
   "cell_type": "code",
   "execution_count": null,
   "id": "4d310334",
   "metadata": {},
   "outputs": [],
   "source": [
    "#Count number of each value in Stroke Column\n",
    "#(Ever told) you had a stroke. 0 = no 1 = yes\n",
    "diabetesnd_df['Stroke'].value_counts()"
   ]
  },
  {
   "cell_type": "code",
   "execution_count": null,
   "id": "b455355b",
   "metadata": {},
   "outputs": [],
   "source": [
    "#Percentage \n",
    "diabetesnd_df.Stroke.value_counts(normalize=True)"
   ]
  },
  {
   "cell_type": "code",
   "execution_count": null,
   "id": "164eea01",
   "metadata": {},
   "outputs": [],
   "source": [
    "#Count number of each value in HeartDiseaseorAttack Column\n",
    "#coronary heart disease (CHD) or myocardial infarction (MI) 0 = no 1 = yes\n",
    "diabetesnd_df['HeartDiseaseorAttack'].value_counts()\n"
   ]
  },
  {
   "cell_type": "code",
   "execution_count": null,
   "id": "a9d69cce",
   "metadata": {},
   "outputs": [],
   "source": [
    "#percentage\n",
    "diabetesnd_df.HeartDiseaseorAttack.value_counts(normalize=True)"
   ]
  },
  {
   "cell_type": "code",
   "execution_count": null,
   "id": "0d07cfeb",
   "metadata": {},
   "outputs": [],
   "source": [
    "#Count number of each value in PhysActivity Column\n",
    "#physical activity in past 30 days - not including job 0 = no 1 = yes\n",
    "diabetesnd_df['PhysActivity'].value_counts()\n"
   ]
  },
  {
   "cell_type": "code",
   "execution_count": null,
   "id": "b1745f8f",
   "metadata": {},
   "outputs": [],
   "source": [
    "#percentage\n",
    "diabetesnd_df.PhysActivity.value_counts(normalize=True)"
   ]
  },
  {
   "cell_type": "code",
   "execution_count": null,
   "id": "273f0353",
   "metadata": {},
   "outputs": [],
   "source": [
    "#Count number of each value in Fruits Column\n",
    "#Consume Fruit 1 or more times per day 0 = no 1 = yes\n",
    "diabetesnd_df['Fruits'].value_counts()\n"
   ]
  },
  {
   "cell_type": "code",
   "execution_count": null,
   "id": "9617019f",
   "metadata": {},
   "outputs": [],
   "source": [
    "#percentage\n",
    "diabetesnd_df.Fruits.value_counts(normalize=True)"
   ]
  },
  {
   "cell_type": "code",
   "execution_count": null,
   "id": "8722e339",
   "metadata": {},
   "outputs": [],
   "source": [
    "#Count number of each value in Veggies Column\n",
    "#Consume Vegetables 1 or more times per day 0 = no 1 = yes\n",
    "diabetesnd_df['Veggies'].value_counts()\n"
   ]
  },
  {
   "cell_type": "code",
   "execution_count": null,
   "id": "21e341da",
   "metadata": {},
   "outputs": [],
   "source": [
    "#percentage\n",
    "diabetesnd_df.Veggies.value_counts(normalize=True)"
   ]
  },
  {
   "cell_type": "code",
   "execution_count": null,
   "id": "856d2e78",
   "metadata": {},
   "outputs": [],
   "source": [
    "#Count number of each value in HvyAlcoholConsump Column\n",
    "#Heavy drinkers (adult men having more than 14 drinks per week and adult women having more than 7 drinks per week) 0 = no 1 = yes\n",
    "diabetesnd_df['HvyAlcoholConsump'].value_counts()"
   ]
  },
  {
   "cell_type": "code",
   "execution_count": null,
   "id": "4c363684",
   "metadata": {},
   "outputs": [],
   "source": [
    "#percentage\n",
    "diabetesnd_df.HvyAlcoholConsump.value_counts(normalize=True)"
   ]
  },
  {
   "cell_type": "code",
   "execution_count": null,
   "id": "5627b86c",
   "metadata": {},
   "outputs": [],
   "source": [
    "#Count number of each value in AnyHealthcare Column\n",
    "#Have any kind of health care coverage, including health insurance, prepaid plans such as HMO, etc. 0 = no 1 = yes\n",
    "diabetesnd_df['AnyHealthcare'].value_counts()"
   ]
  },
  {
   "cell_type": "code",
   "execution_count": null,
   "id": "1d9b5465",
   "metadata": {},
   "outputs": [],
   "source": [
    "#percentage\n",
    "diabetesnd_df.AnyHealthcare.value_counts(normalize=True)"
   ]
  },
  {
   "cell_type": "code",
   "execution_count": null,
   "id": "be735e6e",
   "metadata": {},
   "outputs": [],
   "source": [
    "#Count number of each value in NoDocbcCost Column\n",
    "#Was there a time in the past 12 months when you needed to see a doctor but could not because of cost? 0 = no 1 = yes\n",
    "diabetesnd_df['NoDocbcCost'].value_counts()"
   ]
  },
  {
   "cell_type": "code",
   "execution_count": null,
   "id": "6e65563d",
   "metadata": {},
   "outputs": [],
   "source": [
    "#percentage\n",
    "diabetesnd_df.NoDocbcCost.value_counts(normalize=True)"
   ]
  },
  {
   "cell_type": "code",
   "execution_count": null,
   "id": "20eddc7f",
   "metadata": {},
   "outputs": [],
   "source": [
    "#Count number of each value in GenHlth Column\n",
    "#Would you say that in general your health is: scale 1-5 1 = excellent 2 = very good 3 = good 4 = fair 5 = poor\n",
    "diabetesnd_df['GenHlth'].value_counts()"
   ]
  },
  {
   "cell_type": "code",
   "execution_count": null,
   "id": "2dcbcc30",
   "metadata": {},
   "outputs": [],
   "source": [
    "#percentage\n",
    "diabetesnd_df.GenHlth.value_counts(normalize=True)"
   ]
  },
  {
   "cell_type": "code",
   "execution_count": null,
   "id": "d77563c0",
   "metadata": {
    "scrolled": true
   },
   "outputs": [],
   "source": [
    "#Count number of each value in MentHlth Column\n",
    "#Now thinking about your mental health, which includes stress, depression, and problems with \n",
    "#emotions, for how many days during the past 30 days was your mental health not good? scale 1-30 days\n",
    "diabetesnd_df['MentHlth'].value_counts()\n"
   ]
  },
  {
   "cell_type": "code",
   "execution_count": null,
   "id": "6e655605",
   "metadata": {
    "scrolled": true
   },
   "outputs": [],
   "source": [
    "#percentage\n",
    "diabetesnd_df.MentHlth.value_counts(normalize=True)"
   ]
  },
  {
   "cell_type": "markdown",
   "id": "9447ba11",
   "metadata": {},
   "source": [
    "### Recommend bucketing this value to reduce the number of columns \n",
    "#### Buckets \n",
    "0 Days \n",
    "1-5 Days\n",
    "6-10 Days\n",
    "11-15 Days\n",
    "16-20 Days\n",
    "21-25 Days\n",
    "26-30 Days"
   ]
  },
  {
   "cell_type": "code",
   "execution_count": null,
   "id": "ed67511c",
   "metadata": {},
   "outputs": [],
   "source": [
    "#Count number of each value in PhysHlth Column\n",
    "#Now thinking about your physical health, which includes physical illness and injury, for how many days \n",
    "#during the past 30 days was your physical health not good? scale 1-30 days\n",
    "diabetesnd_df['PhysHlth'].value_counts()\n"
   ]
  },
  {
   "cell_type": "code",
   "execution_count": null,
   "id": "fd473a2c",
   "metadata": {
    "scrolled": true
   },
   "outputs": [],
   "source": [
    "#percentage\n",
    "diabetesnd_df.PhysHlth.value_counts(normalize=True)"
   ]
  },
  {
   "cell_type": "markdown",
   "id": "1b692ba5",
   "metadata": {},
   "source": [
    "### Recommend bucketing this value to reduce the number of columns \n",
    "#### Buckets \n",
    "0 Days \n",
    "1-5 Days\n",
    "6-10 Days\n",
    "11-15 Days\n",
    "16-20 Days\n",
    "21-25 Days\n",
    "26-30 Days"
   ]
  },
  {
   "cell_type": "code",
   "execution_count": null,
   "id": "87780db9",
   "metadata": {},
   "outputs": [],
   "source": [
    "#Count number of each value in DiffWalk Column\n",
    "#Do you have serious difficulty walking or climbing stairs? 0 = no 1 = yes\n",
    "diabetesnd_df['DiffWalk'].value_counts()\n"
   ]
  },
  {
   "cell_type": "code",
   "execution_count": null,
   "id": "9ad12276",
   "metadata": {},
   "outputs": [],
   "source": [
    "#percentage\n",
    "diabetesnd_df.DiffWalk.value_counts(normalize=True)"
   ]
  },
  {
   "cell_type": "code",
   "execution_count": null,
   "id": "c42b36b0",
   "metadata": {},
   "outputs": [],
   "source": [
    "#Count number of each value in Sex Column\n",
    "#0 = female 1 = male\n",
    "diabetesnd_df['Sex'].value_counts()"
   ]
  },
  {
   "cell_type": "code",
   "execution_count": null,
   "id": "90dfd861",
   "metadata": {},
   "outputs": [],
   "source": [
    "#percentage\n",
    "diabetesnd_df.Sex.value_counts(normalize=True)"
   ]
  },
  {
   "cell_type": "code",
   "execution_count": null,
   "id": "d641a123",
   "metadata": {},
   "outputs": [],
   "source": [
    "#Count number of each value in Age Column\n",
    "#13-level age category (_AGEG5YR see codebook) 1 = 18-24 9 = 60-64 13 = 80 or older\n",
    "#link to codebook here: https://www.cdc.gov/brfss/annual_data/2015/pdf/codebook15_llcp.pdf\n",
    "diabetesnd_df['Age'].value_counts()"
   ]
  },
  {
   "cell_type": "code",
   "execution_count": null,
   "id": "4aae6d86",
   "metadata": {},
   "outputs": [],
   "source": [
    "#Percentage\n",
    "diabetesnd_df.Age.value_counts(normalize=True)"
   ]
  },
  {
   "cell_type": "code",
   "execution_count": null,
   "id": "42eb121f",
   "metadata": {},
   "outputs": [],
   "source": [
    "#Count number of each value in Education Column\n",
    "#Education level (EDUCA see codebook) scale 1-6 1 = Never attended school or only kindergarten \n",
    "#2 = Grades 1 through 8 (Elementary) 3 = Grades 9 through 11 (Some high school) 4 = Grade 12 or GED (High school graduate) \n",
    "#5 = College 1 year to 3 years (Some college or technical school) 6 = College 4 years or more (College graduate)\n",
    "#link to codebook here: https://www.cdc.gov/brfss/annual_data/2015/pdf/codebook15_llcp.pdf\n",
    "diabetesnd_df['Education'].value_counts()\n"
   ]
  },
  {
   "cell_type": "code",
   "execution_count": null,
   "id": "ddc9dfe9",
   "metadata": {},
   "outputs": [],
   "source": [
    "#percentage\n",
    "diabetesnd_df.Education.value_counts(normalize=True)"
   ]
  },
  {
   "cell_type": "code",
   "execution_count": null,
   "id": "a25e5a98",
   "metadata": {},
   "outputs": [],
   "source": [
    "#Count number of each value in Income Column\n",
    "#Income scale (INCOME2 see codebook) scale 1-8 1 = less than $10,000 5 = less than $35,000 8 = $75,000 or more\n",
    "#link to codebook here https://www.cdc.gov/brfss/annual_data/2015/pdf/codebook15_llcp.pdf\n",
    "diabetesnd_df['Income'].value_counts()\n"
   ]
  },
  {
   "cell_type": "code",
   "execution_count": null,
   "id": "5a79e204",
   "metadata": {},
   "outputs": [],
   "source": [
    "#percentage\n",
    "diabetesnd_df.Income.value_counts(normalize=True)"
   ]
  },
  {
   "cell_type": "code",
   "execution_count": null,
   "id": "1d3fca86",
   "metadata": {},
   "outputs": [],
   "source": []
  }
 ],
 "metadata": {
  "kernelspec": {
   "display_name": "PythonData",
   "language": "python",
   "name": "pythondata"
  },
  "language_info": {
   "codemirror_mode": {
    "name": "ipython",
    "version": 3
   },
   "file_extension": ".py",
   "mimetype": "text/x-python",
   "name": "python",
   "nbconvert_exporter": "python",
   "pygments_lexer": "ipython3",
   "version": "3.7.13"
  }
 },
 "nbformat": 4,
 "nbformat_minor": 5
}
