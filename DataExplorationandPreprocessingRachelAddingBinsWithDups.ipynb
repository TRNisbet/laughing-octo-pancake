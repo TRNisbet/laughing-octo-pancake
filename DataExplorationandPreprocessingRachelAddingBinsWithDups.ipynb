{
 "cells": [
  {
   "cell_type": "code",
   "execution_count": 1,
   "id": "62aa5169",
   "metadata": {},
   "outputs": [],
   "source": [
    "#import dependencies\n",
    "import warnings\n",
    "warnings.filterwarnings('ignore')"
   ]
  },
  {
   "cell_type": "code",
   "execution_count": 2,
   "id": "0e763a16",
   "metadata": {},
   "outputs": [],
   "source": [
    "#import dependencies\n",
    "import numpy as np\n",
    "import pandas as pd\n",
    "import os\n",
    "from pathlib import Path\n",
    "from collections import Counter"
   ]
  },
  {
   "cell_type": "code",
   "execution_count": 3,
   "id": "6f6e6b28",
   "metadata": {},
   "outputs": [
    {
     "data": {
      "text/html": [
       "<div>\n",
       "<style scoped>\n",
       "    .dataframe tbody tr th:only-of-type {\n",
       "        vertical-align: middle;\n",
       "    }\n",
       "\n",
       "    .dataframe tbody tr th {\n",
       "        vertical-align: top;\n",
       "    }\n",
       "\n",
       "    .dataframe thead th {\n",
       "        text-align: right;\n",
       "    }\n",
       "</style>\n",
       "<table border=\"1\" class=\"dataframe\">\n",
       "  <thead>\n",
       "    <tr style=\"text-align: right;\">\n",
       "      <th></th>\n",
       "      <th>Diabetes_012</th>\n",
       "      <th>HighBP</th>\n",
       "      <th>HighChol</th>\n",
       "      <th>CholCheck</th>\n",
       "      <th>BMI</th>\n",
       "      <th>Smoker</th>\n",
       "      <th>Stroke</th>\n",
       "      <th>HeartDiseaseorAttack</th>\n",
       "      <th>PhysActivity</th>\n",
       "      <th>Fruits</th>\n",
       "      <th>...</th>\n",
       "      <th>AnyHealthcare</th>\n",
       "      <th>NoDocbcCost</th>\n",
       "      <th>GenHlth</th>\n",
       "      <th>MentHlth</th>\n",
       "      <th>PhysHlth</th>\n",
       "      <th>DiffWalk</th>\n",
       "      <th>Sex</th>\n",
       "      <th>Age</th>\n",
       "      <th>Education</th>\n",
       "      <th>Income</th>\n",
       "    </tr>\n",
       "  </thead>\n",
       "  <tbody>\n",
       "    <tr>\n",
       "      <th>0</th>\n",
       "      <td>0.0</td>\n",
       "      <td>1.0</td>\n",
       "      <td>1.0</td>\n",
       "      <td>1.0</td>\n",
       "      <td>40.0</td>\n",
       "      <td>1.0</td>\n",
       "      <td>0.0</td>\n",
       "      <td>0.0</td>\n",
       "      <td>0.0</td>\n",
       "      <td>0.0</td>\n",
       "      <td>...</td>\n",
       "      <td>1.0</td>\n",
       "      <td>0.0</td>\n",
       "      <td>5.0</td>\n",
       "      <td>18.0</td>\n",
       "      <td>15.0</td>\n",
       "      <td>1.0</td>\n",
       "      <td>0.0</td>\n",
       "      <td>9.0</td>\n",
       "      <td>4.0</td>\n",
       "      <td>3.0</td>\n",
       "    </tr>\n",
       "    <tr>\n",
       "      <th>1</th>\n",
       "      <td>0.0</td>\n",
       "      <td>0.0</td>\n",
       "      <td>0.0</td>\n",
       "      <td>0.0</td>\n",
       "      <td>25.0</td>\n",
       "      <td>1.0</td>\n",
       "      <td>0.0</td>\n",
       "      <td>0.0</td>\n",
       "      <td>1.0</td>\n",
       "      <td>0.0</td>\n",
       "      <td>...</td>\n",
       "      <td>0.0</td>\n",
       "      <td>1.0</td>\n",
       "      <td>3.0</td>\n",
       "      <td>0.0</td>\n",
       "      <td>0.0</td>\n",
       "      <td>0.0</td>\n",
       "      <td>0.0</td>\n",
       "      <td>7.0</td>\n",
       "      <td>6.0</td>\n",
       "      <td>1.0</td>\n",
       "    </tr>\n",
       "    <tr>\n",
       "      <th>2</th>\n",
       "      <td>0.0</td>\n",
       "      <td>1.0</td>\n",
       "      <td>1.0</td>\n",
       "      <td>1.0</td>\n",
       "      <td>28.0</td>\n",
       "      <td>0.0</td>\n",
       "      <td>0.0</td>\n",
       "      <td>0.0</td>\n",
       "      <td>0.0</td>\n",
       "      <td>1.0</td>\n",
       "      <td>...</td>\n",
       "      <td>1.0</td>\n",
       "      <td>1.0</td>\n",
       "      <td>5.0</td>\n",
       "      <td>30.0</td>\n",
       "      <td>30.0</td>\n",
       "      <td>1.0</td>\n",
       "      <td>0.0</td>\n",
       "      <td>9.0</td>\n",
       "      <td>4.0</td>\n",
       "      <td>8.0</td>\n",
       "    </tr>\n",
       "    <tr>\n",
       "      <th>3</th>\n",
       "      <td>0.0</td>\n",
       "      <td>1.0</td>\n",
       "      <td>0.0</td>\n",
       "      <td>1.0</td>\n",
       "      <td>27.0</td>\n",
       "      <td>0.0</td>\n",
       "      <td>0.0</td>\n",
       "      <td>0.0</td>\n",
       "      <td>1.0</td>\n",
       "      <td>1.0</td>\n",
       "      <td>...</td>\n",
       "      <td>1.0</td>\n",
       "      <td>0.0</td>\n",
       "      <td>2.0</td>\n",
       "      <td>0.0</td>\n",
       "      <td>0.0</td>\n",
       "      <td>0.0</td>\n",
       "      <td>0.0</td>\n",
       "      <td>11.0</td>\n",
       "      <td>3.0</td>\n",
       "      <td>6.0</td>\n",
       "    </tr>\n",
       "    <tr>\n",
       "      <th>4</th>\n",
       "      <td>0.0</td>\n",
       "      <td>1.0</td>\n",
       "      <td>1.0</td>\n",
       "      <td>1.0</td>\n",
       "      <td>24.0</td>\n",
       "      <td>0.0</td>\n",
       "      <td>0.0</td>\n",
       "      <td>0.0</td>\n",
       "      <td>1.0</td>\n",
       "      <td>1.0</td>\n",
       "      <td>...</td>\n",
       "      <td>1.0</td>\n",
       "      <td>0.0</td>\n",
       "      <td>2.0</td>\n",
       "      <td>3.0</td>\n",
       "      <td>0.0</td>\n",
       "      <td>0.0</td>\n",
       "      <td>0.0</td>\n",
       "      <td>11.0</td>\n",
       "      <td>5.0</td>\n",
       "      <td>4.0</td>\n",
       "    </tr>\n",
       "    <tr>\n",
       "      <th>...</th>\n",
       "      <td>...</td>\n",
       "      <td>...</td>\n",
       "      <td>...</td>\n",
       "      <td>...</td>\n",
       "      <td>...</td>\n",
       "      <td>...</td>\n",
       "      <td>...</td>\n",
       "      <td>...</td>\n",
       "      <td>...</td>\n",
       "      <td>...</td>\n",
       "      <td>...</td>\n",
       "      <td>...</td>\n",
       "      <td>...</td>\n",
       "      <td>...</td>\n",
       "      <td>...</td>\n",
       "      <td>...</td>\n",
       "      <td>...</td>\n",
       "      <td>...</td>\n",
       "      <td>...</td>\n",
       "      <td>...</td>\n",
       "      <td>...</td>\n",
       "    </tr>\n",
       "    <tr>\n",
       "      <th>253675</th>\n",
       "      <td>0.0</td>\n",
       "      <td>1.0</td>\n",
       "      <td>1.0</td>\n",
       "      <td>1.0</td>\n",
       "      <td>45.0</td>\n",
       "      <td>0.0</td>\n",
       "      <td>0.0</td>\n",
       "      <td>0.0</td>\n",
       "      <td>0.0</td>\n",
       "      <td>1.0</td>\n",
       "      <td>...</td>\n",
       "      <td>1.0</td>\n",
       "      <td>0.0</td>\n",
       "      <td>3.0</td>\n",
       "      <td>0.0</td>\n",
       "      <td>5.0</td>\n",
       "      <td>0.0</td>\n",
       "      <td>1.0</td>\n",
       "      <td>5.0</td>\n",
       "      <td>6.0</td>\n",
       "      <td>7.0</td>\n",
       "    </tr>\n",
       "    <tr>\n",
       "      <th>253676</th>\n",
       "      <td>2.0</td>\n",
       "      <td>1.0</td>\n",
       "      <td>1.0</td>\n",
       "      <td>1.0</td>\n",
       "      <td>18.0</td>\n",
       "      <td>0.0</td>\n",
       "      <td>0.0</td>\n",
       "      <td>0.0</td>\n",
       "      <td>0.0</td>\n",
       "      <td>0.0</td>\n",
       "      <td>...</td>\n",
       "      <td>1.0</td>\n",
       "      <td>0.0</td>\n",
       "      <td>4.0</td>\n",
       "      <td>0.0</td>\n",
       "      <td>0.0</td>\n",
       "      <td>1.0</td>\n",
       "      <td>0.0</td>\n",
       "      <td>11.0</td>\n",
       "      <td>2.0</td>\n",
       "      <td>4.0</td>\n",
       "    </tr>\n",
       "    <tr>\n",
       "      <th>253677</th>\n",
       "      <td>0.0</td>\n",
       "      <td>0.0</td>\n",
       "      <td>0.0</td>\n",
       "      <td>1.0</td>\n",
       "      <td>28.0</td>\n",
       "      <td>0.0</td>\n",
       "      <td>0.0</td>\n",
       "      <td>0.0</td>\n",
       "      <td>1.0</td>\n",
       "      <td>1.0</td>\n",
       "      <td>...</td>\n",
       "      <td>1.0</td>\n",
       "      <td>0.0</td>\n",
       "      <td>1.0</td>\n",
       "      <td>0.0</td>\n",
       "      <td>0.0</td>\n",
       "      <td>0.0</td>\n",
       "      <td>0.0</td>\n",
       "      <td>2.0</td>\n",
       "      <td>5.0</td>\n",
       "      <td>2.0</td>\n",
       "    </tr>\n",
       "    <tr>\n",
       "      <th>253678</th>\n",
       "      <td>0.0</td>\n",
       "      <td>1.0</td>\n",
       "      <td>0.0</td>\n",
       "      <td>1.0</td>\n",
       "      <td>23.0</td>\n",
       "      <td>0.0</td>\n",
       "      <td>0.0</td>\n",
       "      <td>0.0</td>\n",
       "      <td>0.0</td>\n",
       "      <td>1.0</td>\n",
       "      <td>...</td>\n",
       "      <td>1.0</td>\n",
       "      <td>0.0</td>\n",
       "      <td>3.0</td>\n",
       "      <td>0.0</td>\n",
       "      <td>0.0</td>\n",
       "      <td>0.0</td>\n",
       "      <td>1.0</td>\n",
       "      <td>7.0</td>\n",
       "      <td>5.0</td>\n",
       "      <td>1.0</td>\n",
       "    </tr>\n",
       "    <tr>\n",
       "      <th>253679</th>\n",
       "      <td>2.0</td>\n",
       "      <td>1.0</td>\n",
       "      <td>1.0</td>\n",
       "      <td>1.0</td>\n",
       "      <td>25.0</td>\n",
       "      <td>0.0</td>\n",
       "      <td>0.0</td>\n",
       "      <td>1.0</td>\n",
       "      <td>1.0</td>\n",
       "      <td>1.0</td>\n",
       "      <td>...</td>\n",
       "      <td>1.0</td>\n",
       "      <td>0.0</td>\n",
       "      <td>2.0</td>\n",
       "      <td>0.0</td>\n",
       "      <td>0.0</td>\n",
       "      <td>0.0</td>\n",
       "      <td>0.0</td>\n",
       "      <td>9.0</td>\n",
       "      <td>6.0</td>\n",
       "      <td>2.0</td>\n",
       "    </tr>\n",
       "  </tbody>\n",
       "</table>\n",
       "<p>253680 rows × 22 columns</p>\n",
       "</div>"
      ],
      "text/plain": [
       "        Diabetes_012  HighBP  HighChol  CholCheck   BMI  Smoker  Stroke  \\\n",
       "0                0.0     1.0       1.0        1.0  40.0     1.0     0.0   \n",
       "1                0.0     0.0       0.0        0.0  25.0     1.0     0.0   \n",
       "2                0.0     1.0       1.0        1.0  28.0     0.0     0.0   \n",
       "3                0.0     1.0       0.0        1.0  27.0     0.0     0.0   \n",
       "4                0.0     1.0       1.0        1.0  24.0     0.0     0.0   \n",
       "...              ...     ...       ...        ...   ...     ...     ...   \n",
       "253675           0.0     1.0       1.0        1.0  45.0     0.0     0.0   \n",
       "253676           2.0     1.0       1.0        1.0  18.0     0.0     0.0   \n",
       "253677           0.0     0.0       0.0        1.0  28.0     0.0     0.0   \n",
       "253678           0.0     1.0       0.0        1.0  23.0     0.0     0.0   \n",
       "253679           2.0     1.0       1.0        1.0  25.0     0.0     0.0   \n",
       "\n",
       "        HeartDiseaseorAttack  PhysActivity  Fruits  ...  AnyHealthcare  \\\n",
       "0                        0.0           0.0     0.0  ...            1.0   \n",
       "1                        0.0           1.0     0.0  ...            0.0   \n",
       "2                        0.0           0.0     1.0  ...            1.0   \n",
       "3                        0.0           1.0     1.0  ...            1.0   \n",
       "4                        0.0           1.0     1.0  ...            1.0   \n",
       "...                      ...           ...     ...  ...            ...   \n",
       "253675                   0.0           0.0     1.0  ...            1.0   \n",
       "253676                   0.0           0.0     0.0  ...            1.0   \n",
       "253677                   0.0           1.0     1.0  ...            1.0   \n",
       "253678                   0.0           0.0     1.0  ...            1.0   \n",
       "253679                   1.0           1.0     1.0  ...            1.0   \n",
       "\n",
       "        NoDocbcCost  GenHlth  MentHlth  PhysHlth  DiffWalk  Sex   Age  \\\n",
       "0               0.0      5.0      18.0      15.0       1.0  0.0   9.0   \n",
       "1               1.0      3.0       0.0       0.0       0.0  0.0   7.0   \n",
       "2               1.0      5.0      30.0      30.0       1.0  0.0   9.0   \n",
       "3               0.0      2.0       0.0       0.0       0.0  0.0  11.0   \n",
       "4               0.0      2.0       3.0       0.0       0.0  0.0  11.0   \n",
       "...             ...      ...       ...       ...       ...  ...   ...   \n",
       "253675          0.0      3.0       0.0       5.0       0.0  1.0   5.0   \n",
       "253676          0.0      4.0       0.0       0.0       1.0  0.0  11.0   \n",
       "253677          0.0      1.0       0.0       0.0       0.0  0.0   2.0   \n",
       "253678          0.0      3.0       0.0       0.0       0.0  1.0   7.0   \n",
       "253679          0.0      2.0       0.0       0.0       0.0  0.0   9.0   \n",
       "\n",
       "        Education  Income  \n",
       "0             4.0     3.0  \n",
       "1             6.0     1.0  \n",
       "2             4.0     8.0  \n",
       "3             3.0     6.0  \n",
       "4             5.0     4.0  \n",
       "...           ...     ...  \n",
       "253675        6.0     7.0  \n",
       "253676        2.0     4.0  \n",
       "253677        5.0     2.0  \n",
       "253678        5.0     1.0  \n",
       "253679        6.0     2.0  \n",
       "\n",
       "[253680 rows x 22 columns]"
      ]
     },
     "execution_count": 3,
     "metadata": {},
     "output_type": "execute_result"
    }
   ],
   "source": [
    "#set file path\n",
    "file_path3 = Path(r'resources\\diabetes.csv')\n",
    "\n",
    "#read file into memory\n",
    "diabetes_df = pd.read_csv(file_path3)\n",
    "\n",
    "#validate load\n",
    "diabetes_df"
   ]
  },
  {
   "cell_type": "code",
   "execution_count": 4,
   "id": "8eb4f00b",
   "metadata": {},
   "outputs": [
    {
     "data": {
      "text/plain": [
       "Index(['Diabetes_012', 'HighBP', 'HighChol', 'CholCheck', 'BMI', 'Smoker',\n",
       "       'Stroke', 'HeartDiseaseorAttack', 'PhysActivity', 'Fruits', 'Veggies',\n",
       "       'HvyAlcoholConsump', 'AnyHealthcare', 'NoDocbcCost', 'GenHlth',\n",
       "       'MentHlth', 'PhysHlth', 'DiffWalk', 'Sex', 'Age', 'Education',\n",
       "       'Income'],\n",
       "      dtype='object')"
      ]
     },
     "execution_count": 4,
     "metadata": {},
     "output_type": "execute_result"
    }
   ],
   "source": [
    "#Dataframe Column_listing\n",
    "diabetes_df.columns"
   ]
  },
  {
   "cell_type": "code",
   "execution_count": 5,
   "id": "26e45c9c",
   "metadata": {},
   "outputs": [],
   "source": [
    "#Determine Null Values \n",
    "nan_count = diabetes_df.isna().sum(axis = 1)"
   ]
  },
  {
   "cell_type": "code",
   "execution_count": 6,
   "id": "0fd32668",
   "metadata": {},
   "outputs": [
    {
     "data": {
      "text/plain": [
       "Diabetes_012            float64\n",
       "HighBP                  float64\n",
       "HighChol                float64\n",
       "CholCheck               float64\n",
       "BMI                     float64\n",
       "Smoker                  float64\n",
       "Stroke                  float64\n",
       "HeartDiseaseorAttack    float64\n",
       "PhysActivity            float64\n",
       "Fruits                  float64\n",
       "Veggies                 float64\n",
       "HvyAlcoholConsump       float64\n",
       "AnyHealthcare           float64\n",
       "NoDocbcCost             float64\n",
       "GenHlth                 float64\n",
       "MentHlth                float64\n",
       "PhysHlth                float64\n",
       "DiffWalk                float64\n",
       "Sex                     float64\n",
       "Age                     float64\n",
       "Education               float64\n",
       "Income                  float64\n",
       "dtype: object"
      ]
     },
     "execution_count": 6,
     "metadata": {},
     "output_type": "execute_result"
    }
   ],
   "source": [
    "#Check Data types - all fields should be numeric \n",
    "diabetes_df.dtypes"
   ]
  },
  {
   "cell_type": "code",
   "execution_count": 7,
   "id": "3fb2a0de",
   "metadata": {},
   "outputs": [
    {
     "data": {
      "text/plain": [
       "0.0    213703\n",
       "2.0     35346\n",
       "1.0      4631\n",
       "Name: Diabetes_012, dtype: int64"
      ]
     },
     "execution_count": 7,
     "metadata": {},
     "output_type": "execute_result"
    }
   ],
   "source": [
    "#Count number of each value in Diabetes 012 column\n",
    "#0-no diabetes, 1-prediabetes 2-diabetes\n",
    "#this is what we want our model to train on - recommend combining 1&2 into one value to make it binary 'get checked'\n",
    "diabetes_df['Diabetes_012'].value_counts()"
   ]
  },
  {
   "cell_type": "code",
   "execution_count": 8,
   "id": "c3312b8b",
   "metadata": {},
   "outputs": [
    {
     "data": {
      "text/plain": [
       "0.0    0.842412\n",
       "2.0    0.139333\n",
       "1.0    0.018255\n",
       "Name: Diabetes_012, dtype: float64"
      ]
     },
     "execution_count": 8,
     "metadata": {},
     "output_type": "execute_result"
    }
   ],
   "source": [
    "#percentage of each value in Diabetes 012 column\n",
    "diabetes_df.Diabetes_012.value_counts(normalize=True)"
   ]
  },
  {
   "cell_type": "code",
   "execution_count": 9,
   "id": "aff447c0",
   "metadata": {},
   "outputs": [
    {
     "data": {
      "text/plain": [
       "count     253680\n",
       "unique         2\n",
       "top            1\n",
       "freq      213703\n",
       "Name: Diabetes_Status, dtype: int64"
      ]
     },
     "execution_count": 9,
     "metadata": {},
     "output_type": "execute_result"
    }
   ],
   "source": [
    "#binning of Diabetes Status \n",
    "status_bin_range = [-1, 0, 4]\n",
    "\n",
    "status_bins = [1, 2]\n",
    "\n",
    "diabetes_df['Diabetes_Status'] = pd.cut(diabetes_df['Diabetes_012'], status_bin_range, labels=status_bins)\n",
    "\n",
    "diabetes_df.Diabetes_Status.describe()"
   ]
  },
  {
   "cell_type": "code",
   "execution_count": 10,
   "id": "1a118aa4",
   "metadata": {},
   "outputs": [
    {
     "data": {
      "text/plain": [
       "Index(['Diabetes_012', 'HighBP', 'HighChol', 'CholCheck', 'BMI', 'Smoker',\n",
       "       'Stroke', 'HeartDiseaseorAttack', 'PhysActivity', 'Fruits', 'Veggies',\n",
       "       'HvyAlcoholConsump', 'AnyHealthcare', 'NoDocbcCost', 'GenHlth',\n",
       "       'MentHlth', 'PhysHlth', 'DiffWalk', 'Sex', 'Age', 'Education', 'Income',\n",
       "       'Diabetes_Status'],\n",
       "      dtype='object')"
      ]
     },
     "execution_count": 10,
     "metadata": {},
     "output_type": "execute_result"
    }
   ],
   "source": [
    "diabetes_df.columns"
   ]
  },
  {
   "cell_type": "code",
   "execution_count": 11,
   "id": "890f04c4",
   "metadata": {},
   "outputs": [
    {
     "data": {
      "text/html": [
       "<div>\n",
       "<style scoped>\n",
       "    .dataframe tbody tr th:only-of-type {\n",
       "        vertical-align: middle;\n",
       "    }\n",
       "\n",
       "    .dataframe tbody tr th {\n",
       "        vertical-align: top;\n",
       "    }\n",
       "\n",
       "    .dataframe thead th {\n",
       "        text-align: right;\n",
       "    }\n",
       "</style>\n",
       "<table border=\"1\" class=\"dataframe\">\n",
       "  <thead>\n",
       "    <tr style=\"text-align: right;\">\n",
       "      <th></th>\n",
       "      <th>Diabetes_012</th>\n",
       "      <th>HighBP</th>\n",
       "      <th>HighChol</th>\n",
       "      <th>CholCheck</th>\n",
       "      <th>BMI</th>\n",
       "      <th>Smoker</th>\n",
       "      <th>Stroke</th>\n",
       "      <th>HeartDiseaseorAttack</th>\n",
       "      <th>PhysActivity</th>\n",
       "      <th>Fruits</th>\n",
       "      <th>...</th>\n",
       "      <th>NoDocbcCost</th>\n",
       "      <th>GenHlth</th>\n",
       "      <th>MentHlth</th>\n",
       "      <th>PhysHlth</th>\n",
       "      <th>DiffWalk</th>\n",
       "      <th>Sex</th>\n",
       "      <th>Age</th>\n",
       "      <th>Education</th>\n",
       "      <th>Income</th>\n",
       "      <th>Diabetes_Status</th>\n",
       "    </tr>\n",
       "  </thead>\n",
       "  <tbody>\n",
       "    <tr>\n",
       "      <th>0</th>\n",
       "      <td>0.0</td>\n",
       "      <td>1.0</td>\n",
       "      <td>1.0</td>\n",
       "      <td>1.0</td>\n",
       "      <td>40.0</td>\n",
       "      <td>1.0</td>\n",
       "      <td>0.0</td>\n",
       "      <td>0.0</td>\n",
       "      <td>0.0</td>\n",
       "      <td>0.0</td>\n",
       "      <td>...</td>\n",
       "      <td>0.0</td>\n",
       "      <td>5.0</td>\n",
       "      <td>18.0</td>\n",
       "      <td>15.0</td>\n",
       "      <td>1.0</td>\n",
       "      <td>0.0</td>\n",
       "      <td>9.0</td>\n",
       "      <td>4.0</td>\n",
       "      <td>3.0</td>\n",
       "      <td>1</td>\n",
       "    </tr>\n",
       "    <tr>\n",
       "      <th>1</th>\n",
       "      <td>0.0</td>\n",
       "      <td>0.0</td>\n",
       "      <td>0.0</td>\n",
       "      <td>0.0</td>\n",
       "      <td>25.0</td>\n",
       "      <td>1.0</td>\n",
       "      <td>0.0</td>\n",
       "      <td>0.0</td>\n",
       "      <td>1.0</td>\n",
       "      <td>0.0</td>\n",
       "      <td>...</td>\n",
       "      <td>1.0</td>\n",
       "      <td>3.0</td>\n",
       "      <td>0.0</td>\n",
       "      <td>0.0</td>\n",
       "      <td>0.0</td>\n",
       "      <td>0.0</td>\n",
       "      <td>7.0</td>\n",
       "      <td>6.0</td>\n",
       "      <td>1.0</td>\n",
       "      <td>1</td>\n",
       "    </tr>\n",
       "    <tr>\n",
       "      <th>2</th>\n",
       "      <td>0.0</td>\n",
       "      <td>1.0</td>\n",
       "      <td>1.0</td>\n",
       "      <td>1.0</td>\n",
       "      <td>28.0</td>\n",
       "      <td>0.0</td>\n",
       "      <td>0.0</td>\n",
       "      <td>0.0</td>\n",
       "      <td>0.0</td>\n",
       "      <td>1.0</td>\n",
       "      <td>...</td>\n",
       "      <td>1.0</td>\n",
       "      <td>5.0</td>\n",
       "      <td>30.0</td>\n",
       "      <td>30.0</td>\n",
       "      <td>1.0</td>\n",
       "      <td>0.0</td>\n",
       "      <td>9.0</td>\n",
       "      <td>4.0</td>\n",
       "      <td>8.0</td>\n",
       "      <td>1</td>\n",
       "    </tr>\n",
       "    <tr>\n",
       "      <th>3</th>\n",
       "      <td>0.0</td>\n",
       "      <td>1.0</td>\n",
       "      <td>0.0</td>\n",
       "      <td>1.0</td>\n",
       "      <td>27.0</td>\n",
       "      <td>0.0</td>\n",
       "      <td>0.0</td>\n",
       "      <td>0.0</td>\n",
       "      <td>1.0</td>\n",
       "      <td>1.0</td>\n",
       "      <td>...</td>\n",
       "      <td>0.0</td>\n",
       "      <td>2.0</td>\n",
       "      <td>0.0</td>\n",
       "      <td>0.0</td>\n",
       "      <td>0.0</td>\n",
       "      <td>0.0</td>\n",
       "      <td>11.0</td>\n",
       "      <td>3.0</td>\n",
       "      <td>6.0</td>\n",
       "      <td>1</td>\n",
       "    </tr>\n",
       "    <tr>\n",
       "      <th>4</th>\n",
       "      <td>0.0</td>\n",
       "      <td>1.0</td>\n",
       "      <td>1.0</td>\n",
       "      <td>1.0</td>\n",
       "      <td>24.0</td>\n",
       "      <td>0.0</td>\n",
       "      <td>0.0</td>\n",
       "      <td>0.0</td>\n",
       "      <td>1.0</td>\n",
       "      <td>1.0</td>\n",
       "      <td>...</td>\n",
       "      <td>0.0</td>\n",
       "      <td>2.0</td>\n",
       "      <td>3.0</td>\n",
       "      <td>0.0</td>\n",
       "      <td>0.0</td>\n",
       "      <td>0.0</td>\n",
       "      <td>11.0</td>\n",
       "      <td>5.0</td>\n",
       "      <td>4.0</td>\n",
       "      <td>1</td>\n",
       "    </tr>\n",
       "  </tbody>\n",
       "</table>\n",
       "<p>5 rows × 23 columns</p>\n",
       "</div>"
      ],
      "text/plain": [
       "   Diabetes_012  HighBP  HighChol  CholCheck   BMI  Smoker  Stroke  \\\n",
       "0           0.0     1.0       1.0        1.0  40.0     1.0     0.0   \n",
       "1           0.0     0.0       0.0        0.0  25.0     1.0     0.0   \n",
       "2           0.0     1.0       1.0        1.0  28.0     0.0     0.0   \n",
       "3           0.0     1.0       0.0        1.0  27.0     0.0     0.0   \n",
       "4           0.0     1.0       1.0        1.0  24.0     0.0     0.0   \n",
       "\n",
       "   HeartDiseaseorAttack  PhysActivity  Fruits  ...  NoDocbcCost  GenHlth  \\\n",
       "0                   0.0           0.0     0.0  ...          0.0      5.0   \n",
       "1                   0.0           1.0     0.0  ...          1.0      3.0   \n",
       "2                   0.0           0.0     1.0  ...          1.0      5.0   \n",
       "3                   0.0           1.0     1.0  ...          0.0      2.0   \n",
       "4                   0.0           1.0     1.0  ...          0.0      2.0   \n",
       "\n",
       "   MentHlth  PhysHlth  DiffWalk  Sex   Age  Education  Income  Diabetes_Status  \n",
       "0      18.0      15.0       1.0  0.0   9.0        4.0     3.0                1  \n",
       "1       0.0       0.0       0.0  0.0   7.0        6.0     1.0                1  \n",
       "2      30.0      30.0       1.0  0.0   9.0        4.0     8.0                1  \n",
       "3       0.0       0.0       0.0  0.0  11.0        3.0     6.0                1  \n",
       "4       3.0       0.0       0.0  0.0  11.0        5.0     4.0                1  \n",
       "\n",
       "[5 rows x 23 columns]"
      ]
     },
     "execution_count": 11,
     "metadata": {},
     "output_type": "execute_result"
    }
   ],
   "source": [
    "diabetes_df.head()"
   ]
  },
  {
   "cell_type": "code",
   "execution_count": 12,
   "id": "29043dec",
   "metadata": {},
   "outputs": [
    {
     "name": "stdout",
     "output_type": "stream",
     "text": [
      "<class 'pandas.core.frame.DataFrame'>\n",
      "RangeIndex: 253680 entries, 0 to 253679\n",
      "Data columns (total 23 columns):\n",
      " #   Column                Non-Null Count   Dtype   \n",
      "---  ------                --------------   -----   \n",
      " 0   Diabetes_012          253680 non-null  float64 \n",
      " 1   HighBP                253680 non-null  float64 \n",
      " 2   HighChol              253680 non-null  float64 \n",
      " 3   CholCheck             253680 non-null  float64 \n",
      " 4   BMI                   253680 non-null  float64 \n",
      " 5   Smoker                253680 non-null  float64 \n",
      " 6   Stroke                253680 non-null  float64 \n",
      " 7   HeartDiseaseorAttack  253680 non-null  float64 \n",
      " 8   PhysActivity          253680 non-null  float64 \n",
      " 9   Fruits                253680 non-null  float64 \n",
      " 10  Veggies               253680 non-null  float64 \n",
      " 11  HvyAlcoholConsump     253680 non-null  float64 \n",
      " 12  AnyHealthcare         253680 non-null  float64 \n",
      " 13  NoDocbcCost           253680 non-null  float64 \n",
      " 14  GenHlth               253680 non-null  float64 \n",
      " 15  MentHlth              253680 non-null  float64 \n",
      " 16  PhysHlth              253680 non-null  float64 \n",
      " 17  DiffWalk              253680 non-null  float64 \n",
      " 18  Sex                   253680 non-null  float64 \n",
      " 19  Age                   253680 non-null  float64 \n",
      " 20  Education             253680 non-null  float64 \n",
      " 21  Income                253680 non-null  float64 \n",
      " 22  Diabetes_Status       253680 non-null  category\n",
      "dtypes: category(1), float64(22)\n",
      "memory usage: 42.8 MB\n"
     ]
    }
   ],
   "source": [
    "diabetes_df.info()"
   ]
  },
  {
   "cell_type": "code",
   "execution_count": 13,
   "id": "effffb13",
   "metadata": {},
   "outputs": [
    {
     "data": {
      "text/plain": [
       "0.0    144851\n",
       "1.0    108829\n",
       "Name: HighBP, dtype: int64"
      ]
     },
     "execution_count": 13,
     "metadata": {},
     "output_type": "execute_result"
    }
   ],
   "source": [
    "#Count number of each value in HighBP Column\n",
    "# 0 - noHBP, 1 -  HBP \n",
    "diabetes_df['HighBP'].value_counts()\n"
   ]
  },
  {
   "cell_type": "code",
   "execution_count": 14,
   "id": "48a0dfc8",
   "metadata": {},
   "outputs": [
    {
     "name": "stdout",
     "output_type": "stream",
     "text": [
      "<class 'pandas.core.frame.DataFrame'>\n",
      "RangeIndex: 253680 entries, 0 to 253679\n",
      "Data columns (total 23 columns):\n",
      " #   Column                Non-Null Count   Dtype   \n",
      "---  ------                --------------   -----   \n",
      " 0   Diabetes_012          253680 non-null  float64 \n",
      " 1   HighBP                253680 non-null  float64 \n",
      " 2   HighChol              253680 non-null  float64 \n",
      " 3   CholCheck             253680 non-null  float64 \n",
      " 4   BMI                   253680 non-null  float64 \n",
      " 5   Smoker                253680 non-null  float64 \n",
      " 6   Stroke                253680 non-null  float64 \n",
      " 7   HeartDiseaseorAttack  253680 non-null  float64 \n",
      " 8   PhysActivity          253680 non-null  float64 \n",
      " 9   Fruits                253680 non-null  float64 \n",
      " 10  Veggies               253680 non-null  float64 \n",
      " 11  HvyAlcoholConsump     253680 non-null  float64 \n",
      " 12  AnyHealthcare         253680 non-null  float64 \n",
      " 13  NoDocbcCost           253680 non-null  float64 \n",
      " 14  GenHlth               253680 non-null  float64 \n",
      " 15  MentHlth              253680 non-null  float64 \n",
      " 16  PhysHlth              253680 non-null  float64 \n",
      " 17  DiffWalk              253680 non-null  float64 \n",
      " 18  Sex                   253680 non-null  float64 \n",
      " 19  Age                   253680 non-null  float64 \n",
      " 20  Education             253680 non-null  float64 \n",
      " 21  Income                253680 non-null  float64 \n",
      " 22  Diabetes_Status       253680 non-null  category\n",
      "dtypes: category(1), float64(22)\n",
      "memory usage: 42.8 MB\n"
     ]
    }
   ],
   "source": [
    "diabetes_df.info()"
   ]
  },
  {
   "cell_type": "code",
   "execution_count": 15,
   "id": "989fbf23",
   "metadata": {},
   "outputs": [
    {
     "data": {
      "text/plain": [
       "0.0    0.570999\n",
       "1.0    0.429001\n",
       "Name: HighBP, dtype: float64"
      ]
     },
     "execution_count": 15,
     "metadata": {},
     "output_type": "execute_result"
    }
   ],
   "source": [
    "#percentage of each value \n",
    "diabetes_df.HighBP.value_counts(normalize=True)"
   ]
  },
  {
   "cell_type": "code",
   "execution_count": 16,
   "id": "b286e514",
   "metadata": {},
   "outputs": [
    {
     "data": {
      "text/plain": [
       "0.0    146089\n",
       "1.0    107591\n",
       "Name: HighChol, dtype: int64"
      ]
     },
     "execution_count": 16,
     "metadata": {},
     "output_type": "execute_result"
    }
   ],
   "source": [
    "#Count number of each value in HighChol Column\n",
    "#0 = no high cholesterol 1 = high cholesterol\n",
    "diabetes_df['HighChol'].value_counts()\n"
   ]
  },
  {
   "cell_type": "code",
   "execution_count": 17,
   "id": "e0b3f517",
   "metadata": {},
   "outputs": [
    {
     "data": {
      "text/plain": [
       "0.0    0.575879\n",
       "1.0    0.424121\n",
       "Name: HighChol, dtype: float64"
      ]
     },
     "execution_count": 17,
     "metadata": {},
     "output_type": "execute_result"
    }
   ],
   "source": [
    "#percentage\n",
    "diabetes_df.HighChol.value_counts(normalize=True)"
   ]
  },
  {
   "cell_type": "code",
   "execution_count": 18,
   "id": "23aeb221",
   "metadata": {},
   "outputs": [
    {
     "data": {
      "text/plain": [
       "1.0    244210\n",
       "0.0      9470\n",
       "Name: CholCheck, dtype: int64"
      ]
     },
     "execution_count": 18,
     "metadata": {},
     "output_type": "execute_result"
    }
   ],
   "source": [
    "#Count number of each value in CholCheck Column\n",
    "#0 = no cholesterol check in 5 years 1 = yes cholesterol check in 5 years\n",
    "diabetes_df['CholCheck'].value_counts()\n"
   ]
  },
  {
   "cell_type": "code",
   "execution_count": 19,
   "id": "56139d1f",
   "metadata": {},
   "outputs": [
    {
     "data": {
      "text/plain": [
       "1.0    0.96267\n",
       "0.0    0.03733\n",
       "Name: CholCheck, dtype: float64"
      ]
     },
     "execution_count": 19,
     "metadata": {},
     "output_type": "execute_result"
    }
   ],
   "source": [
    "#percentage\n",
    "diabetes_df.CholCheck.value_counts(normalize=True)"
   ]
  },
  {
   "cell_type": "code",
   "execution_count": 20,
   "id": "7bce4547",
   "metadata": {},
   "outputs": [
    {
     "data": {
      "text/plain": [
       "27.0    24606\n",
       "26.0    20562\n",
       "24.0    19550\n",
       "25.0    17146\n",
       "28.0    16545\n",
       "        ...  \n",
       "85.0        1\n",
       "91.0        1\n",
       "86.0        1\n",
       "90.0        1\n",
       "78.0        1\n",
       "Name: BMI, Length: 84, dtype: int64"
      ]
     },
     "execution_count": 20,
     "metadata": {},
     "output_type": "execute_result"
    }
   ],
   "source": [
    "#Count number of each value in BMI Column\n",
    "#calculate BMI by dividing weight in pounds (lb) by height in inches (in) squared and multiplying by a conversion factor of 703\n",
    "#Will need to have user enter height and weight of subject \n",
    "\n",
    "diabetes_df['BMI'].value_counts()\n"
   ]
  },
  {
   "cell_type": "code",
   "execution_count": 21,
   "id": "4148daa6",
   "metadata": {},
   "outputs": [
    {
     "data": {
      "text/plain": [
       "count    253680.000000\n",
       "mean         28.382364\n",
       "std           6.608694\n",
       "min          12.000000\n",
       "25%          24.000000\n",
       "50%          27.000000\n",
       "75%          31.000000\n",
       "max          98.000000\n",
       "Name: BMI, dtype: float64"
      ]
     },
     "execution_count": 21,
     "metadata": {},
     "output_type": "execute_result"
    }
   ],
   "source": [
    "#Determine bucketing for BMI values \n",
    "diabetes_df.BMI.describe()"
   ]
  },
  {
   "cell_type": "code",
   "execution_count": 26,
   "id": "2c128a2a",
   "metadata": {},
   "outputs": [
    {
     "data": {
      "text/plain": [
       "27.0    0.096996\n",
       "26.0    0.081055\n",
       "24.0    0.077066\n",
       "25.0    0.067589\n",
       "28.0    0.065220\n",
       "          ...   \n",
       "85.0    0.000004\n",
       "91.0    0.000004\n",
       "86.0    0.000004\n",
       "90.0    0.000004\n",
       "78.0    0.000004\n",
       "Name: BMI, Length: 84, dtype: float64"
      ]
     },
     "execution_count": 26,
     "metadata": {},
     "output_type": "execute_result"
    }
   ],
   "source": [
    "#percentage\n",
    "diabetes_df.BMI.value_counts(normalize=True)"
   ]
  },
  {
   "cell_type": "code",
   "execution_count": 27,
   "id": "ce4bc586",
   "metadata": {},
   "outputs": [],
   "source": [
    "# BMI Binning \n",
    "https://qpp.cms.gov/docs/QPP_quality_measure_specifications/CQM-Measures/2019_Measure_128_MIPSCQM.pdf\n",
    "# BMI 1 is less than 18.5\n",
    "# BMI 2  is 18.5 to 24.9,\n",
    "# BMI 3  is 25.0 to 29.9\n",
    "# BMI 4 is 30.0 or higher"
   ]
  },
  {
   "cell_type": "code",
   "execution_count": 23,
   "id": "4f9b5267",
   "metadata": {},
   "outputs": [
    {
     "data": {
      "text/plain": [
       "count     253680\n",
       "unique         4\n",
       "top            3\n",
       "freq       93749\n",
       "Name: BMI_Range, dtype: int64"
      ]
     },
     "execution_count": 23,
     "metadata": {},
     "output_type": "execute_result"
    }
   ],
   "source": [
    "# define ranges\n",
    "bmi_bin_range = [0, 18.5, 24.9, 29.9, 100]\n",
    "\n",
    "#define bins \n",
    "bmi_bins = [1, 2, 3, 4]\n",
    "\n",
    "#sort data into bins \n",
    "diabetes_df['BMI_Range'] = pd.cut(diabetes_df['BMI'], bmi_bin_range, labels=bmi_bins)\n",
    "\n",
    "#describe model after binning \n",
    "diabetes_df.BMI_Range.describe()"
   ]
  },
  {
   "cell_type": "code",
   "execution_count": 24,
   "id": "27c16eac",
   "metadata": {},
   "outputs": [
    {
     "data": {
      "text/plain": [
       "Index(['Diabetes_012', 'HighBP', 'HighChol', 'CholCheck', 'BMI', 'Smoker',\n",
       "       'Stroke', 'HeartDiseaseorAttack', 'PhysActivity', 'Fruits', 'Veggies',\n",
       "       'HvyAlcoholConsump', 'AnyHealthcare', 'NoDocbcCost', 'GenHlth',\n",
       "       'MentHlth', 'PhysHlth', 'DiffWalk', 'Sex', 'Age', 'Education', 'Income',\n",
       "       'Diabetes_Status', 'BMI_Range'],\n",
       "      dtype='object')"
      ]
     },
     "execution_count": 24,
     "metadata": {},
     "output_type": "execute_result"
    }
   ],
   "source": [
    "#Validate columns post binning\n",
    "diabetes_df.columns"
   ]
  },
  {
   "cell_type": "code",
   "execution_count": 25,
   "id": "92281f56",
   "metadata": {},
   "outputs": [
    {
     "data": {
      "text/html": [
       "<div>\n",
       "<style scoped>\n",
       "    .dataframe tbody tr th:only-of-type {\n",
       "        vertical-align: middle;\n",
       "    }\n",
       "\n",
       "    .dataframe tbody tr th {\n",
       "        vertical-align: top;\n",
       "    }\n",
       "\n",
       "    .dataframe thead th {\n",
       "        text-align: right;\n",
       "    }\n",
       "</style>\n",
       "<table border=\"1\" class=\"dataframe\">\n",
       "  <thead>\n",
       "    <tr style=\"text-align: right;\">\n",
       "      <th></th>\n",
       "      <th>Diabetes_012</th>\n",
       "      <th>HighBP</th>\n",
       "      <th>HighChol</th>\n",
       "      <th>CholCheck</th>\n",
       "      <th>BMI</th>\n",
       "      <th>Smoker</th>\n",
       "      <th>Stroke</th>\n",
       "      <th>HeartDiseaseorAttack</th>\n",
       "      <th>PhysActivity</th>\n",
       "      <th>Fruits</th>\n",
       "      <th>...</th>\n",
       "      <th>GenHlth</th>\n",
       "      <th>MentHlth</th>\n",
       "      <th>PhysHlth</th>\n",
       "      <th>DiffWalk</th>\n",
       "      <th>Sex</th>\n",
       "      <th>Age</th>\n",
       "      <th>Education</th>\n",
       "      <th>Income</th>\n",
       "      <th>Diabetes_Status</th>\n",
       "      <th>BMI_Range</th>\n",
       "    </tr>\n",
       "  </thead>\n",
       "  <tbody>\n",
       "    <tr>\n",
       "      <th>0</th>\n",
       "      <td>0.0</td>\n",
       "      <td>1.0</td>\n",
       "      <td>1.0</td>\n",
       "      <td>1.0</td>\n",
       "      <td>40.0</td>\n",
       "      <td>1.0</td>\n",
       "      <td>0.0</td>\n",
       "      <td>0.0</td>\n",
       "      <td>0.0</td>\n",
       "      <td>0.0</td>\n",
       "      <td>...</td>\n",
       "      <td>5.0</td>\n",
       "      <td>18.0</td>\n",
       "      <td>15.0</td>\n",
       "      <td>1.0</td>\n",
       "      <td>0.0</td>\n",
       "      <td>9.0</td>\n",
       "      <td>4.0</td>\n",
       "      <td>3.0</td>\n",
       "      <td>1</td>\n",
       "      <td>4</td>\n",
       "    </tr>\n",
       "    <tr>\n",
       "      <th>1</th>\n",
       "      <td>0.0</td>\n",
       "      <td>0.0</td>\n",
       "      <td>0.0</td>\n",
       "      <td>0.0</td>\n",
       "      <td>25.0</td>\n",
       "      <td>1.0</td>\n",
       "      <td>0.0</td>\n",
       "      <td>0.0</td>\n",
       "      <td>1.0</td>\n",
       "      <td>0.0</td>\n",
       "      <td>...</td>\n",
       "      <td>3.0</td>\n",
       "      <td>0.0</td>\n",
       "      <td>0.0</td>\n",
       "      <td>0.0</td>\n",
       "      <td>0.0</td>\n",
       "      <td>7.0</td>\n",
       "      <td>6.0</td>\n",
       "      <td>1.0</td>\n",
       "      <td>1</td>\n",
       "      <td>3</td>\n",
       "    </tr>\n",
       "    <tr>\n",
       "      <th>2</th>\n",
       "      <td>0.0</td>\n",
       "      <td>1.0</td>\n",
       "      <td>1.0</td>\n",
       "      <td>1.0</td>\n",
       "      <td>28.0</td>\n",
       "      <td>0.0</td>\n",
       "      <td>0.0</td>\n",
       "      <td>0.0</td>\n",
       "      <td>0.0</td>\n",
       "      <td>1.0</td>\n",
       "      <td>...</td>\n",
       "      <td>5.0</td>\n",
       "      <td>30.0</td>\n",
       "      <td>30.0</td>\n",
       "      <td>1.0</td>\n",
       "      <td>0.0</td>\n",
       "      <td>9.0</td>\n",
       "      <td>4.0</td>\n",
       "      <td>8.0</td>\n",
       "      <td>1</td>\n",
       "      <td>3</td>\n",
       "    </tr>\n",
       "    <tr>\n",
       "      <th>3</th>\n",
       "      <td>0.0</td>\n",
       "      <td>1.0</td>\n",
       "      <td>0.0</td>\n",
       "      <td>1.0</td>\n",
       "      <td>27.0</td>\n",
       "      <td>0.0</td>\n",
       "      <td>0.0</td>\n",
       "      <td>0.0</td>\n",
       "      <td>1.0</td>\n",
       "      <td>1.0</td>\n",
       "      <td>...</td>\n",
       "      <td>2.0</td>\n",
       "      <td>0.0</td>\n",
       "      <td>0.0</td>\n",
       "      <td>0.0</td>\n",
       "      <td>0.0</td>\n",
       "      <td>11.0</td>\n",
       "      <td>3.0</td>\n",
       "      <td>6.0</td>\n",
       "      <td>1</td>\n",
       "      <td>3</td>\n",
       "    </tr>\n",
       "    <tr>\n",
       "      <th>4</th>\n",
       "      <td>0.0</td>\n",
       "      <td>1.0</td>\n",
       "      <td>1.0</td>\n",
       "      <td>1.0</td>\n",
       "      <td>24.0</td>\n",
       "      <td>0.0</td>\n",
       "      <td>0.0</td>\n",
       "      <td>0.0</td>\n",
       "      <td>1.0</td>\n",
       "      <td>1.0</td>\n",
       "      <td>...</td>\n",
       "      <td>2.0</td>\n",
       "      <td>3.0</td>\n",
       "      <td>0.0</td>\n",
       "      <td>0.0</td>\n",
       "      <td>0.0</td>\n",
       "      <td>11.0</td>\n",
       "      <td>5.0</td>\n",
       "      <td>4.0</td>\n",
       "      <td>1</td>\n",
       "      <td>2</td>\n",
       "    </tr>\n",
       "  </tbody>\n",
       "</table>\n",
       "<p>5 rows × 24 columns</p>\n",
       "</div>"
      ],
      "text/plain": [
       "   Diabetes_012  HighBP  HighChol  CholCheck   BMI  Smoker  Stroke  \\\n",
       "0           0.0     1.0       1.0        1.0  40.0     1.0     0.0   \n",
       "1           0.0     0.0       0.0        0.0  25.0     1.0     0.0   \n",
       "2           0.0     1.0       1.0        1.0  28.0     0.0     0.0   \n",
       "3           0.0     1.0       0.0        1.0  27.0     0.0     0.0   \n",
       "4           0.0     1.0       1.0        1.0  24.0     0.0     0.0   \n",
       "\n",
       "   HeartDiseaseorAttack  PhysActivity  Fruits  ...  GenHlth  MentHlth  \\\n",
       "0                   0.0           0.0     0.0  ...      5.0      18.0   \n",
       "1                   0.0           1.0     0.0  ...      3.0       0.0   \n",
       "2                   0.0           0.0     1.0  ...      5.0      30.0   \n",
       "3                   0.0           1.0     1.0  ...      2.0       0.0   \n",
       "4                   0.0           1.0     1.0  ...      2.0       3.0   \n",
       "\n",
       "   PhysHlth  DiffWalk  Sex   Age  Education  Income  Diabetes_Status  \\\n",
       "0      15.0       1.0  0.0   9.0        4.0     3.0                1   \n",
       "1       0.0       0.0  0.0   7.0        6.0     1.0                1   \n",
       "2      30.0       1.0  0.0   9.0        4.0     8.0                1   \n",
       "3       0.0       0.0  0.0  11.0        3.0     6.0                1   \n",
       "4       0.0       0.0  0.0  11.0        5.0     4.0                1   \n",
       "\n",
       "   BMI_Range  \n",
       "0          4  \n",
       "1          3  \n",
       "2          3  \n",
       "3          3  \n",
       "4          2  \n",
       "\n",
       "[5 rows x 24 columns]"
      ]
     },
     "execution_count": 25,
     "metadata": {},
     "output_type": "execute_result"
    }
   ],
   "source": [
    "#view data \n",
    "diabetes_df.head()"
   ]
  },
  {
   "cell_type": "code",
   "execution_count": 28,
   "id": "b2a621b3",
   "metadata": {},
   "outputs": [
    {
     "data": {
      "text/plain": [
       "0.0    141257\n",
       "1.0    112423\n",
       "Name: Smoker, dtype: int64"
      ]
     },
     "execution_count": 28,
     "metadata": {},
     "output_type": "execute_result"
    }
   ],
   "source": [
    "#Count number of each value in Smoker Column\n",
    "#Have you smoked at least 100 cigarettes in your entire life? [Note: 5 packs = 100 cigarettes] 0 = no 1 = yes\n",
    "diabetes_df['Smoker'].value_counts()\n"
   ]
  },
  {
   "cell_type": "code",
   "execution_count": 29,
   "id": "619df326",
   "metadata": {},
   "outputs": [
    {
     "data": {
      "text/plain": [
       "0.0    0.556831\n",
       "1.0    0.443169\n",
       "Name: Smoker, dtype: float64"
      ]
     },
     "execution_count": 29,
     "metadata": {},
     "output_type": "execute_result"
    }
   ],
   "source": [
    "#percentage\n",
    "diabetes_df.Smoker.value_counts(normalize=True)"
   ]
  },
  {
   "cell_type": "code",
   "execution_count": 30,
   "id": "4d310334",
   "metadata": {},
   "outputs": [
    {
     "data": {
      "text/plain": [
       "0.0    243388\n",
       "1.0     10292\n",
       "Name: Stroke, dtype: int64"
      ]
     },
     "execution_count": 30,
     "metadata": {},
     "output_type": "execute_result"
    }
   ],
   "source": [
    "#Count number of each value in Stroke Column\n",
    "#(Ever told) you had a stroke. 0 = no 1 = yes\n",
    "diabetes_df['Stroke'].value_counts()"
   ]
  },
  {
   "cell_type": "code",
   "execution_count": 31,
   "id": "b455355b",
   "metadata": {},
   "outputs": [
    {
     "data": {
      "text/plain": [
       "0.0    0.959429\n",
       "1.0    0.040571\n",
       "Name: Stroke, dtype: float64"
      ]
     },
     "execution_count": 31,
     "metadata": {},
     "output_type": "execute_result"
    }
   ],
   "source": [
    "#Percentage \n",
    "diabetes_df.Stroke.value_counts(normalize=True)"
   ]
  },
  {
   "cell_type": "code",
   "execution_count": 32,
   "id": "164eea01",
   "metadata": {},
   "outputs": [
    {
     "data": {
      "text/plain": [
       "0.0    229787\n",
       "1.0     23893\n",
       "Name: HeartDiseaseorAttack, dtype: int64"
      ]
     },
     "execution_count": 32,
     "metadata": {},
     "output_type": "execute_result"
    }
   ],
   "source": [
    "#Count number of each value in HeartDiseaseorAttack Column\n",
    "#coronary heart disease (CHD) or myocardial infarction (MI) 0 = no 1 = yes\n",
    "diabetes_df['HeartDiseaseorAttack'].value_counts()\n"
   ]
  },
  {
   "cell_type": "code",
   "execution_count": 33,
   "id": "a9d69cce",
   "metadata": {},
   "outputs": [
    {
     "data": {
      "text/plain": [
       "0.0    0.905814\n",
       "1.0    0.094186\n",
       "Name: HeartDiseaseorAttack, dtype: float64"
      ]
     },
     "execution_count": 33,
     "metadata": {},
     "output_type": "execute_result"
    }
   ],
   "source": [
    "#percentage\n",
    "diabetes_df.HeartDiseaseorAttack.value_counts(normalize=True)"
   ]
  },
  {
   "cell_type": "code",
   "execution_count": 34,
   "id": "0d07cfeb",
   "metadata": {},
   "outputs": [
    {
     "data": {
      "text/plain": [
       "1.0    191920\n",
       "0.0     61760\n",
       "Name: PhysActivity, dtype: int64"
      ]
     },
     "execution_count": 34,
     "metadata": {},
     "output_type": "execute_result"
    }
   ],
   "source": [
    "#Count number of each value in PhysActivity Column\n",
    "#physical activity in past 30 days - not including job 0 = no 1 = yes\n",
    "diabetes_df['PhysActivity'].value_counts()\n"
   ]
  },
  {
   "cell_type": "code",
   "execution_count": 35,
   "id": "b1745f8f",
   "metadata": {},
   "outputs": [
    {
     "data": {
      "text/plain": [
       "1.0    0.756544\n",
       "0.0    0.243456\n",
       "Name: PhysActivity, dtype: float64"
      ]
     },
     "execution_count": 35,
     "metadata": {},
     "output_type": "execute_result"
    }
   ],
   "source": [
    "#percentage\n",
    "diabetes_df.PhysActivity.value_counts(normalize=True)"
   ]
  },
  {
   "cell_type": "code",
   "execution_count": 36,
   "id": "273f0353",
   "metadata": {},
   "outputs": [
    {
     "data": {
      "text/plain": [
       "1.0    160898\n",
       "0.0     92782\n",
       "Name: Fruits, dtype: int64"
      ]
     },
     "execution_count": 36,
     "metadata": {},
     "output_type": "execute_result"
    }
   ],
   "source": [
    "#Count number of each value in Fruits Column\n",
    "#Consume Fruit 1 or more times per day 0 = no 1 = yes\n",
    "diabetes_df['Fruits'].value_counts()\n"
   ]
  },
  {
   "cell_type": "code",
   "execution_count": 37,
   "id": "9617019f",
   "metadata": {},
   "outputs": [
    {
     "data": {
      "text/plain": [
       "1.0    0.634256\n",
       "0.0    0.365744\n",
       "Name: Fruits, dtype: float64"
      ]
     },
     "execution_count": 37,
     "metadata": {},
     "output_type": "execute_result"
    }
   ],
   "source": [
    "#percentage\n",
    "diabetes_df.Fruits.value_counts(normalize=True)"
   ]
  },
  {
   "cell_type": "code",
   "execution_count": 38,
   "id": "8722e339",
   "metadata": {},
   "outputs": [
    {
     "data": {
      "text/plain": [
       "1.0    205841\n",
       "0.0     47839\n",
       "Name: Veggies, dtype: int64"
      ]
     },
     "execution_count": 38,
     "metadata": {},
     "output_type": "execute_result"
    }
   ],
   "source": [
    "#Count number of each value in Veggies Column\n",
    "#Consume Vegetables 1 or more times per day 0 = no 1 = yes\n",
    "diabetes_df['Veggies'].value_counts()\n"
   ]
  },
  {
   "cell_type": "code",
   "execution_count": 39,
   "id": "21e341da",
   "metadata": {},
   "outputs": [
    {
     "data": {
      "text/plain": [
       "1.0    0.81142\n",
       "0.0    0.18858\n",
       "Name: Veggies, dtype: float64"
      ]
     },
     "execution_count": 39,
     "metadata": {},
     "output_type": "execute_result"
    }
   ],
   "source": [
    "#percentage\n",
    "diabetes_df.Veggies.value_counts(normalize=True)"
   ]
  },
  {
   "cell_type": "code",
   "execution_count": 40,
   "id": "856d2e78",
   "metadata": {},
   "outputs": [
    {
     "data": {
      "text/plain": [
       "0.0    239424\n",
       "1.0     14256\n",
       "Name: HvyAlcoholConsump, dtype: int64"
      ]
     },
     "execution_count": 40,
     "metadata": {},
     "output_type": "execute_result"
    }
   ],
   "source": [
    "#Count number of each value in HvyAlcoholConsump Column\n",
    "#Heavy drinkers (adult men having more than 14 drinks per week and adult women having more than 7 drinks per week) 0 = no 1 = yes\n",
    "diabetes_df['HvyAlcoholConsump'].value_counts()"
   ]
  },
  {
   "cell_type": "code",
   "execution_count": 41,
   "id": "4c363684",
   "metadata": {},
   "outputs": [
    {
     "data": {
      "text/plain": [
       "0.0    0.943803\n",
       "1.0    0.056197\n",
       "Name: HvyAlcoholConsump, dtype: float64"
      ]
     },
     "execution_count": 41,
     "metadata": {},
     "output_type": "execute_result"
    }
   ],
   "source": [
    "#percentage\n",
    "diabetes_df.HvyAlcoholConsump.value_counts(normalize=True)"
   ]
  },
  {
   "cell_type": "code",
   "execution_count": 42,
   "id": "5627b86c",
   "metadata": {},
   "outputs": [
    {
     "data": {
      "text/plain": [
       "1.0    241263\n",
       "0.0     12417\n",
       "Name: AnyHealthcare, dtype: int64"
      ]
     },
     "execution_count": 42,
     "metadata": {},
     "output_type": "execute_result"
    }
   ],
   "source": [
    "#Count number of each value in AnyHealthcare Column\n",
    "#Have any kind of health care coverage, including health insurance, prepaid plans such as HMO, etc. 0 = no 1 = yes\n",
    "diabetes_df['AnyHealthcare'].value_counts()"
   ]
  },
  {
   "cell_type": "code",
   "execution_count": 43,
   "id": "1d9b5465",
   "metadata": {},
   "outputs": [
    {
     "data": {
      "text/plain": [
       "1.0    0.951053\n",
       "0.0    0.048947\n",
       "Name: AnyHealthcare, dtype: float64"
      ]
     },
     "execution_count": 43,
     "metadata": {},
     "output_type": "execute_result"
    }
   ],
   "source": [
    "#percentage\n",
    "diabetes_df.AnyHealthcare.value_counts(normalize=True)"
   ]
  },
  {
   "cell_type": "code",
   "execution_count": 44,
   "id": "be735e6e",
   "metadata": {},
   "outputs": [
    {
     "data": {
      "text/plain": [
       "0.0    232326\n",
       "1.0     21354\n",
       "Name: NoDocbcCost, dtype: int64"
      ]
     },
     "execution_count": 44,
     "metadata": {},
     "output_type": "execute_result"
    }
   ],
   "source": [
    "#Count number of each value in NoDocbcCost Column\n",
    "#Was there a time in the past 12 months when you needed to see a doctor but could not because of cost? 0 = no 1 = yes\n",
    "diabetes_df['NoDocbcCost'].value_counts()"
   ]
  },
  {
   "cell_type": "code",
   "execution_count": 45,
   "id": "6e65563d",
   "metadata": {},
   "outputs": [
    {
     "data": {
      "text/plain": [
       "0.0    0.915823\n",
       "1.0    0.084177\n",
       "Name: NoDocbcCost, dtype: float64"
      ]
     },
     "execution_count": 45,
     "metadata": {},
     "output_type": "execute_result"
    }
   ],
   "source": [
    "#percentage\n",
    "diabetes_df.NoDocbcCost.value_counts(normalize=True)"
   ]
  },
  {
   "cell_type": "code",
   "execution_count": 46,
   "id": "20eddc7f",
   "metadata": {},
   "outputs": [
    {
     "data": {
      "text/plain": [
       "2.0    89084\n",
       "3.0    75646\n",
       "1.0    45299\n",
       "4.0    31570\n",
       "5.0    12081\n",
       "Name: GenHlth, dtype: int64"
      ]
     },
     "execution_count": 46,
     "metadata": {},
     "output_type": "execute_result"
    }
   ],
   "source": [
    "#Count number of each value in GenHlth Column\n",
    "#Would you say that in general your health is: scale 1-5 1 = excellent 2 = very good 3 = good 4 = fair 5 = poor\n",
    "diabetes_df['GenHlth'].value_counts()"
   ]
  },
  {
   "cell_type": "code",
   "execution_count": 47,
   "id": "2dcbcc30",
   "metadata": {},
   "outputs": [
    {
     "data": {
      "text/plain": [
       "2.0    0.351167\n",
       "3.0    0.298195\n",
       "1.0    0.178567\n",
       "4.0    0.124448\n",
       "5.0    0.047623\n",
       "Name: GenHlth, dtype: float64"
      ]
     },
     "execution_count": 47,
     "metadata": {},
     "output_type": "execute_result"
    }
   ],
   "source": [
    "#percentage\n",
    "diabetes_df.GenHlth.value_counts(normalize=True)"
   ]
  },
  {
   "cell_type": "code",
   "execution_count": 48,
   "id": "d77563c0",
   "metadata": {
    "scrolled": true
   },
   "outputs": [
    {
     "data": {
      "text/plain": [
       "0.0     175680\n",
       "2.0      13054\n",
       "30.0     12088\n",
       "5.0       9030\n",
       "1.0       8538\n",
       "3.0       7381\n",
       "10.0      6373\n",
       "15.0      5505\n",
       "4.0       3789\n",
       "20.0      3364\n",
       "7.0       3100\n",
       "25.0      1188\n",
       "14.0      1167\n",
       "6.0        988\n",
       "8.0        639\n",
       "12.0       398\n",
       "28.0       327\n",
       "21.0       227\n",
       "29.0       158\n",
       "18.0        97\n",
       "9.0         91\n",
       "16.0        88\n",
       "27.0        79\n",
       "22.0        63\n",
       "17.0        54\n",
       "26.0        45\n",
       "11.0        41\n",
       "13.0        41\n",
       "23.0        38\n",
       "24.0        33\n",
       "19.0        16\n",
       "Name: MentHlth, dtype: int64"
      ]
     },
     "execution_count": 48,
     "metadata": {},
     "output_type": "execute_result"
    }
   ],
   "source": [
    "#Count number of each value in MentHlth Column\n",
    "#Now thinking about your mental health, which includes stress, depression, and problems with \n",
    "#emotions, for how many days during the past 30 days was your mental health not good? scale 1-30 days\n",
    "diabetes_df['MentHlth'].value_counts()\n"
   ]
  },
  {
   "cell_type": "code",
   "execution_count": 49,
   "id": "6e655605",
   "metadata": {
    "scrolled": true
   },
   "outputs": [
    {
     "data": {
      "text/plain": [
       "0.0     0.692526\n",
       "2.0     0.051459\n",
       "30.0    0.047651\n",
       "5.0     0.035596\n",
       "1.0     0.033657\n",
       "3.0     0.029096\n",
       "10.0    0.025122\n",
       "15.0    0.021701\n",
       "4.0     0.014936\n",
       "20.0    0.013261\n",
       "7.0     0.012220\n",
       "25.0    0.004683\n",
       "14.0    0.004600\n",
       "6.0     0.003895\n",
       "8.0     0.002519\n",
       "12.0    0.001569\n",
       "28.0    0.001289\n",
       "21.0    0.000895\n",
       "29.0    0.000623\n",
       "18.0    0.000382\n",
       "9.0     0.000359\n",
       "16.0    0.000347\n",
       "27.0    0.000311\n",
       "22.0    0.000248\n",
       "17.0    0.000213\n",
       "26.0    0.000177\n",
       "11.0    0.000162\n",
       "13.0    0.000162\n",
       "23.0    0.000150\n",
       "24.0    0.000130\n",
       "19.0    0.000063\n",
       "Name: MentHlth, dtype: float64"
      ]
     },
     "execution_count": 49,
     "metadata": {},
     "output_type": "execute_result"
    }
   ],
   "source": [
    "#percentage\n",
    "diabetes_df.MentHlth.value_counts(normalize=True)"
   ]
  },
  {
   "cell_type": "code",
   "execution_count": 51,
   "id": "08c67d46",
   "metadata": {},
   "outputs": [],
   "source": [
    "#### Buckets \n",
    "# 0 Days \n",
    "# 1-5 Days\n",
    "# 6-10 Days\n",
    "# 11-15 Days\n",
    "# 16-20 Days\n",
    "# 21-25 Days\n",
    "# 26-30 Days"
   ]
  },
  {
   "cell_type": "code",
   "execution_count": 52,
   "id": "225a8ce7",
   "metadata": {},
   "outputs": [
    {
     "data": {
      "text/plain": [
       "count     253680\n",
       "unique         6\n",
       "top            1\n",
       "freq      217472\n",
       "Name: Mental_Health_Range, dtype: int64"
      ]
     },
     "execution_count": 52,
     "metadata": {},
     "output_type": "execute_result"
    }
   ],
   "source": [
    "mhealth_bin_range = [-1, 5, 10, 15, 20, 25, 32]\n",
    "\n",
    "mhealth_bins = [1, 2, 3, 4, 5, 6]\n",
    "\n",
    "diabetes_df['Mental_Health_Range'] = pd.cut(diabetes_df['MentHlth'], mhealth_bin_range, labels=mhealth_bins)\n",
    "\n",
    "diabetes_df.Mental_Health_Range.describe()"
   ]
  },
  {
   "cell_type": "code",
   "execution_count": 53,
   "id": "77b2a695",
   "metadata": {},
   "outputs": [
    {
     "data": {
      "text/plain": [
       "Index(['Diabetes_012', 'HighBP', 'HighChol', 'CholCheck', 'BMI', 'Smoker',\n",
       "       'Stroke', 'HeartDiseaseorAttack', 'PhysActivity', 'Fruits', 'Veggies',\n",
       "       'HvyAlcoholConsump', 'AnyHealthcare', 'NoDocbcCost', 'GenHlth',\n",
       "       'MentHlth', 'PhysHlth', 'DiffWalk', 'Sex', 'Age', 'Education', 'Income',\n",
       "       'Diabetes_Status', 'BMI_Range', 'Mental_Health_Range'],\n",
       "      dtype='object')"
      ]
     },
     "execution_count": 53,
     "metadata": {},
     "output_type": "execute_result"
    }
   ],
   "source": [
    "#post bucketing column validation \n",
    "diabetes_df.columns"
   ]
  },
  {
   "cell_type": "code",
   "execution_count": 54,
   "id": "d68b5d72",
   "metadata": {},
   "outputs": [
    {
     "data": {
      "text/html": [
       "<div>\n",
       "<style scoped>\n",
       "    .dataframe tbody tr th:only-of-type {\n",
       "        vertical-align: middle;\n",
       "    }\n",
       "\n",
       "    .dataframe tbody tr th {\n",
       "        vertical-align: top;\n",
       "    }\n",
       "\n",
       "    .dataframe thead th {\n",
       "        text-align: right;\n",
       "    }\n",
       "</style>\n",
       "<table border=\"1\" class=\"dataframe\">\n",
       "  <thead>\n",
       "    <tr style=\"text-align: right;\">\n",
       "      <th></th>\n",
       "      <th>Diabetes_012</th>\n",
       "      <th>HighBP</th>\n",
       "      <th>HighChol</th>\n",
       "      <th>CholCheck</th>\n",
       "      <th>BMI</th>\n",
       "      <th>Smoker</th>\n",
       "      <th>Stroke</th>\n",
       "      <th>HeartDiseaseorAttack</th>\n",
       "      <th>PhysActivity</th>\n",
       "      <th>Fruits</th>\n",
       "      <th>...</th>\n",
       "      <th>MentHlth</th>\n",
       "      <th>PhysHlth</th>\n",
       "      <th>DiffWalk</th>\n",
       "      <th>Sex</th>\n",
       "      <th>Age</th>\n",
       "      <th>Education</th>\n",
       "      <th>Income</th>\n",
       "      <th>Diabetes_Status</th>\n",
       "      <th>BMI_Range</th>\n",
       "      <th>Mental_Health_Range</th>\n",
       "    </tr>\n",
       "  </thead>\n",
       "  <tbody>\n",
       "    <tr>\n",
       "      <th>0</th>\n",
       "      <td>0.0</td>\n",
       "      <td>1.0</td>\n",
       "      <td>1.0</td>\n",
       "      <td>1.0</td>\n",
       "      <td>40.0</td>\n",
       "      <td>1.0</td>\n",
       "      <td>0.0</td>\n",
       "      <td>0.0</td>\n",
       "      <td>0.0</td>\n",
       "      <td>0.0</td>\n",
       "      <td>...</td>\n",
       "      <td>18.0</td>\n",
       "      <td>15.0</td>\n",
       "      <td>1.0</td>\n",
       "      <td>0.0</td>\n",
       "      <td>9.0</td>\n",
       "      <td>4.0</td>\n",
       "      <td>3.0</td>\n",
       "      <td>1</td>\n",
       "      <td>4</td>\n",
       "      <td>4</td>\n",
       "    </tr>\n",
       "    <tr>\n",
       "      <th>1</th>\n",
       "      <td>0.0</td>\n",
       "      <td>0.0</td>\n",
       "      <td>0.0</td>\n",
       "      <td>0.0</td>\n",
       "      <td>25.0</td>\n",
       "      <td>1.0</td>\n",
       "      <td>0.0</td>\n",
       "      <td>0.0</td>\n",
       "      <td>1.0</td>\n",
       "      <td>0.0</td>\n",
       "      <td>...</td>\n",
       "      <td>0.0</td>\n",
       "      <td>0.0</td>\n",
       "      <td>0.0</td>\n",
       "      <td>0.0</td>\n",
       "      <td>7.0</td>\n",
       "      <td>6.0</td>\n",
       "      <td>1.0</td>\n",
       "      <td>1</td>\n",
       "      <td>3</td>\n",
       "      <td>1</td>\n",
       "    </tr>\n",
       "    <tr>\n",
       "      <th>2</th>\n",
       "      <td>0.0</td>\n",
       "      <td>1.0</td>\n",
       "      <td>1.0</td>\n",
       "      <td>1.0</td>\n",
       "      <td>28.0</td>\n",
       "      <td>0.0</td>\n",
       "      <td>0.0</td>\n",
       "      <td>0.0</td>\n",
       "      <td>0.0</td>\n",
       "      <td>1.0</td>\n",
       "      <td>...</td>\n",
       "      <td>30.0</td>\n",
       "      <td>30.0</td>\n",
       "      <td>1.0</td>\n",
       "      <td>0.0</td>\n",
       "      <td>9.0</td>\n",
       "      <td>4.0</td>\n",
       "      <td>8.0</td>\n",
       "      <td>1</td>\n",
       "      <td>3</td>\n",
       "      <td>6</td>\n",
       "    </tr>\n",
       "    <tr>\n",
       "      <th>3</th>\n",
       "      <td>0.0</td>\n",
       "      <td>1.0</td>\n",
       "      <td>0.0</td>\n",
       "      <td>1.0</td>\n",
       "      <td>27.0</td>\n",
       "      <td>0.0</td>\n",
       "      <td>0.0</td>\n",
       "      <td>0.0</td>\n",
       "      <td>1.0</td>\n",
       "      <td>1.0</td>\n",
       "      <td>...</td>\n",
       "      <td>0.0</td>\n",
       "      <td>0.0</td>\n",
       "      <td>0.0</td>\n",
       "      <td>0.0</td>\n",
       "      <td>11.0</td>\n",
       "      <td>3.0</td>\n",
       "      <td>6.0</td>\n",
       "      <td>1</td>\n",
       "      <td>3</td>\n",
       "      <td>1</td>\n",
       "    </tr>\n",
       "    <tr>\n",
       "      <th>4</th>\n",
       "      <td>0.0</td>\n",
       "      <td>1.0</td>\n",
       "      <td>1.0</td>\n",
       "      <td>1.0</td>\n",
       "      <td>24.0</td>\n",
       "      <td>0.0</td>\n",
       "      <td>0.0</td>\n",
       "      <td>0.0</td>\n",
       "      <td>1.0</td>\n",
       "      <td>1.0</td>\n",
       "      <td>...</td>\n",
       "      <td>3.0</td>\n",
       "      <td>0.0</td>\n",
       "      <td>0.0</td>\n",
       "      <td>0.0</td>\n",
       "      <td>11.0</td>\n",
       "      <td>5.0</td>\n",
       "      <td>4.0</td>\n",
       "      <td>1</td>\n",
       "      <td>2</td>\n",
       "      <td>1</td>\n",
       "    </tr>\n",
       "  </tbody>\n",
       "</table>\n",
       "<p>5 rows × 25 columns</p>\n",
       "</div>"
      ],
      "text/plain": [
       "   Diabetes_012  HighBP  HighChol  CholCheck   BMI  Smoker  Stroke  \\\n",
       "0           0.0     1.0       1.0        1.0  40.0     1.0     0.0   \n",
       "1           0.0     0.0       0.0        0.0  25.0     1.0     0.0   \n",
       "2           0.0     1.0       1.0        1.0  28.0     0.0     0.0   \n",
       "3           0.0     1.0       0.0        1.0  27.0     0.0     0.0   \n",
       "4           0.0     1.0       1.0        1.0  24.0     0.0     0.0   \n",
       "\n",
       "   HeartDiseaseorAttack  PhysActivity  Fruits  ...  MentHlth  PhysHlth  \\\n",
       "0                   0.0           0.0     0.0  ...      18.0      15.0   \n",
       "1                   0.0           1.0     0.0  ...       0.0       0.0   \n",
       "2                   0.0           0.0     1.0  ...      30.0      30.0   \n",
       "3                   0.0           1.0     1.0  ...       0.0       0.0   \n",
       "4                   0.0           1.0     1.0  ...       3.0       0.0   \n",
       "\n",
       "   DiffWalk  Sex   Age  Education  Income  Diabetes_Status  BMI_Range  \\\n",
       "0       1.0  0.0   9.0        4.0     3.0                1          4   \n",
       "1       0.0  0.0   7.0        6.0     1.0                1          3   \n",
       "2       1.0  0.0   9.0        4.0     8.0                1          3   \n",
       "3       0.0  0.0  11.0        3.0     6.0                1          3   \n",
       "4       0.0  0.0  11.0        5.0     4.0                1          2   \n",
       "\n",
       "   Mental_Health_Range  \n",
       "0                    4  \n",
       "1                    1  \n",
       "2                    6  \n",
       "3                    1  \n",
       "4                    1  \n",
       "\n",
       "[5 rows x 25 columns]"
      ]
     },
     "execution_count": 54,
     "metadata": {},
     "output_type": "execute_result"
    }
   ],
   "source": [
    "#View data\n",
    "diabetes_df.head()"
   ]
  },
  {
   "cell_type": "code",
   "execution_count": 55,
   "id": "f1acf895",
   "metadata": {},
   "outputs": [
    {
     "name": "stdout",
     "output_type": "stream",
     "text": [
      "<class 'pandas.core.frame.DataFrame'>\n",
      "RangeIndex: 253680 entries, 0 to 253679\n",
      "Data columns (total 25 columns):\n",
      " #   Column                Non-Null Count   Dtype   \n",
      "---  ------                --------------   -----   \n",
      " 0   Diabetes_012          253680 non-null  float64 \n",
      " 1   HighBP                253680 non-null  float64 \n",
      " 2   HighChol              253680 non-null  float64 \n",
      " 3   CholCheck             253680 non-null  float64 \n",
      " 4   BMI                   253680 non-null  float64 \n",
      " 5   Smoker                253680 non-null  float64 \n",
      " 6   Stroke                253680 non-null  float64 \n",
      " 7   HeartDiseaseorAttack  253680 non-null  float64 \n",
      " 8   PhysActivity          253680 non-null  float64 \n",
      " 9   Fruits                253680 non-null  float64 \n",
      " 10  Veggies               253680 non-null  float64 \n",
      " 11  HvyAlcoholConsump     253680 non-null  float64 \n",
      " 12  AnyHealthcare         253680 non-null  float64 \n",
      " 13  NoDocbcCost           253680 non-null  float64 \n",
      " 14  GenHlth               253680 non-null  float64 \n",
      " 15  MentHlth              253680 non-null  float64 \n",
      " 16  PhysHlth              253680 non-null  float64 \n",
      " 17  DiffWalk              253680 non-null  float64 \n",
      " 18  Sex                   253680 non-null  float64 \n",
      " 19  Age                   253680 non-null  float64 \n",
      " 20  Education             253680 non-null  float64 \n",
      " 21  Income                253680 non-null  float64 \n",
      " 22  Diabetes_Status       253680 non-null  category\n",
      " 23  BMI_Range             253680 non-null  category\n",
      " 24  Mental_Health_Range   253680 non-null  category\n",
      "dtypes: category(3), float64(22)\n",
      "memory usage: 43.3 MB\n"
     ]
    }
   ],
   "source": [
    "#Table info \n",
    "diabetes_df.info()"
   ]
  },
  {
   "cell_type": "code",
   "execution_count": null,
   "id": "ed67511c",
   "metadata": {},
   "outputs": [],
   "source": [
    "#Count number of each value in PhysHlth Column\n",
    "#Now thinking about your physical health, which includes physical illness and injury, for how many days \n",
    "#during the past 30 days was your physical health not good? scale 1-30 days\n",
    "diabetes_df['PhysHlth'].value_counts()\n"
   ]
  },
  {
   "cell_type": "code",
   "execution_count": null,
   "id": "fd473a2c",
   "metadata": {
    "scrolled": true
   },
   "outputs": [],
   "source": [
    "#percentage\n",
    "diabetes_df.PhysHlth.value_counts(normalize=True)"
   ]
  },
  {
   "cell_type": "code",
   "execution_count": null,
   "id": "719f591d",
   "metadata": {},
   "outputs": [],
   "source": [
    "#bins\n",
    "# 0 Days\n",
    "# 1-5 Days\n",
    "# 6-10 Days\n",
    "# 11-15 Days\n",
    "# 16-20 Days\n",
    "# 21-25 Days\n",
    "# 26-30 Days"
   ]
  },
  {
   "cell_type": "code",
   "execution_count": 56,
   "id": "0eeaa412",
   "metadata": {},
   "outputs": [
    {
     "data": {
      "text/plain": [
       "count     253680\n",
       "unique         6\n",
       "top            1\n",
       "freq      206863\n",
       "Name: Physical_Health_Range, dtype: int64"
      ]
     },
     "execution_count": 56,
     "metadata": {},
     "output_type": "execute_result"
    }
   ],
   "source": [
    "phealth_bin_range = [-1, 5, 10, 15, 20, 25, 32]\n",
    "\n",
    "phealth_bins = [1, 2, 3, 4, 5, 6]\n",
    "\n",
    "diabetes_df['Physical_Health_Range'] = pd.cut(diabetes_df['PhysHlth'], phealth_bin_range, labels=phealth_bins)\n",
    "\n",
    "diabetes_df.Physical_Health_Range.describe()"
   ]
  },
  {
   "cell_type": "code",
   "execution_count": null,
   "id": "d76dd331",
   "metadata": {},
   "outputs": [],
   "source": [
    "diabetes_df.columns"
   ]
  },
  {
   "cell_type": "code",
   "execution_count": null,
   "id": "6ac60f08",
   "metadata": {},
   "outputs": [],
   "source": [
    "diabetes_df.head()"
   ]
  },
  {
   "cell_type": "code",
   "execution_count": null,
   "id": "1cda8249",
   "metadata": {},
   "outputs": [],
   "source": [
    "diabetes_df.info()"
   ]
  },
  {
   "cell_type": "markdown",
   "id": "1b692ba5",
   "metadata": {},
   "source": [
    "### Recommend bucketing this value to reduce the number of columns \n",
    "#### Buckets \n",
    "0 Days \n",
    "1-5 Days\n",
    "6-10 Days\n",
    "11-15 Days\n",
    "16-20 Days\n",
    "21-25 Days\n",
    "26-30 Days"
   ]
  },
  {
   "cell_type": "code",
   "execution_count": null,
   "id": "87780db9",
   "metadata": {},
   "outputs": [],
   "source": [
    "#Count number of each value in DiffWalk Column\n",
    "#Do you have serious difficulty walking or climbing stairs? 0 = no 1 = yes\n",
    "diabetes_df['DiffWalk'].value_counts()\n"
   ]
  },
  {
   "cell_type": "code",
   "execution_count": null,
   "id": "9ad12276",
   "metadata": {},
   "outputs": [],
   "source": [
    "#percentage\n",
    "diabetes_df.DiffWalk.value_counts(normalize=True)"
   ]
  },
  {
   "cell_type": "code",
   "execution_count": null,
   "id": "c42b36b0",
   "metadata": {},
   "outputs": [],
   "source": [
    "#Count number of each value in Sex Column\n",
    "#0 = female 1 = male\n",
    "diabetes_df['Sex'].value_counts()"
   ]
  },
  {
   "cell_type": "code",
   "execution_count": null,
   "id": "90dfd861",
   "metadata": {},
   "outputs": [],
   "source": [
    "#percentage\n",
    "diabetes_df.Sex.value_counts(normalize=True)"
   ]
  },
  {
   "cell_type": "code",
   "execution_count": null,
   "id": "d641a123",
   "metadata": {},
   "outputs": [],
   "source": [
    "#Count number of each value in Age Column\n",
    "#13-level age category (_AGEG5YR see codebook) 1 = 18-24 9 = 60-64 13 = 80 or older\n",
    "#link to codebook here: https://www.cdc.gov/brfss/annual_data/2015/pdf/codebook15_llcp.pdf\n",
    "diabetes_df['Age'].value_counts()"
   ]
  },
  {
   "cell_type": "code",
   "execution_count": null,
   "id": "4aae6d86",
   "metadata": {},
   "outputs": [],
   "source": [
    "#Percentage\n",
    "diabetes_df.Age.value_counts(normalize=True)"
   ]
  },
  {
   "cell_type": "code",
   "execution_count": null,
   "id": "42eb121f",
   "metadata": {},
   "outputs": [],
   "source": [
    "#Count number of each value in Education Column\n",
    "#Education level (EDUCA see codebook) scale 1-6 1 = Never attended school or only kindergarten \n",
    "#2 = Grades 1 through 8 (Elementary) 3 = Grades 9 through 11 (Some high school) 4 = Grade 12 or GED (High school graduate) \n",
    "#5 = College 1 year to 3 years (Some college or technical school) 6 = College 4 years or more (College graduate)\n",
    "#link to codebook here: https://www.cdc.gov/brfss/annual_data/2015/pdf/codebook15_llcp.pdf\n",
    "diabetes_df['Education'].value_counts()\n"
   ]
  },
  {
   "cell_type": "code",
   "execution_count": null,
   "id": "ddc9dfe9",
   "metadata": {},
   "outputs": [],
   "source": [
    "#percentage\n",
    "diabetes_df.Education.value_counts(normalize=True)"
   ]
  },
  {
   "cell_type": "code",
   "execution_count": null,
   "id": "a25e5a98",
   "metadata": {},
   "outputs": [],
   "source": [
    "#Count number of each value in Income Column\n",
    "#Income scale (INCOME2 see codebook) scale 1-8 1 = less than $10,000 5 = less than $35,000 8 = $75,000 or more\n",
    "#link to codebook here https://www.cdc.gov/brfss/annual_data/2015/pdf/codebook15_llcp.pdf\n",
    "diabetes_df['Income'].value_counts()\n"
   ]
  },
  {
   "cell_type": "code",
   "execution_count": null,
   "id": "5a79e204",
   "metadata": {},
   "outputs": [],
   "source": [
    "#percentage\n",
    "diabetes_df.Income.value_counts(normalize=True)"
   ]
  },
  {
   "cell_type": "code",
   "execution_count": null,
   "id": "1d3fca86",
   "metadata": {},
   "outputs": [],
   "source": [
    "diabetes_df.to_csv('results/diabetes_fullfile.csv', encoding='utf-8')"
   ]
  },
  {
   "cell_type": "code",
   "execution_count": null,
   "id": "f626eec8",
   "metadata": {},
   "outputs": [],
   "source": []
  }
 ],
 "metadata": {
  "kernelspec": {
   "display_name": "mlenv",
   "language": "python",
   "name": "mlenv"
  },
  "language_info": {
   "codemirror_mode": {
    "name": "ipython",
    "version": 3
   },
   "file_extension": ".py",
   "mimetype": "text/x-python",
   "name": "python",
   "nbconvert_exporter": "python",
   "pygments_lexer": "ipython3",
   "version": "3.9.15"
  }
 },
 "nbformat": 4,
 "nbformat_minor": 5
}
