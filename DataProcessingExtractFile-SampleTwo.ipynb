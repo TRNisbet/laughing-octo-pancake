{
 "cells": [
  {
   "cell_type": "code",
   "execution_count": 1,
   "id": "65167cad",
   "metadata": {},
   "outputs": [],
   "source": [
    "#This data processing is run on the original dataset.  Duplicate records are identified and removed AFTER binning has been completed. \n"
   ]
  },
  {
   "cell_type": "code",
   "execution_count": 2,
   "id": "62aa5169",
   "metadata": {},
   "outputs": [
    {
     "name": "stdout",
     "output_type": "stream",
     "text": [
      "done\n"
     ]
    }
   ],
   "source": [
    "#import dependencies\n",
    "import warnings\n",
    "warnings.filterwarnings('ignore')\n",
    "print('done')"
   ]
  },
  {
   "cell_type": "code",
   "execution_count": 3,
   "id": "0e763a16",
   "metadata": {},
   "outputs": [
    {
     "name": "stdout",
     "output_type": "stream",
     "text": [
      "done\n"
     ]
    }
   ],
   "source": [
    "#import processing dependencies\n",
    "import numpy as np\n",
    "import pandas as pd\n",
    "import os\n",
    "from pathlib import Path\n",
    "from collections import Counter\n",
    "print('done')"
   ]
  },
  {
   "cell_type": "code",
   "execution_count": 4,
   "id": "f4ef3560",
   "metadata": {},
   "outputs": [
    {
     "name": "stdout",
     "output_type": "stream",
     "text": [
      "done\n"
     ]
    }
   ],
   "source": [
    "# import modeling dependencies\n",
    "import matplotlib.pyplot as plt\n",
    "import seaborn as sns\n",
    "from sklearn import linear_model\n",
    "from sklearn.linear_model import LogisticRegression\n",
    "from sklearn.feature_selection import SelectPercentile\n",
    "from sklearn.metrics import classification_report\n",
    "from sklearn.model_selection import train_test_split\n",
    "from sklearn.feature_selection import chi2 , f_classif\n",
    "print('done')"
   ]
  },
  {
   "cell_type": "code",
   "execution_count": 5,
   "id": "6f6e6b28",
   "metadata": {},
   "outputs": [
    {
     "data": {
      "text/html": [
       "<div>\n",
       "<style scoped>\n",
       "    .dataframe tbody tr th:only-of-type {\n",
       "        vertical-align: middle;\n",
       "    }\n",
       "\n",
       "    .dataframe tbody tr th {\n",
       "        vertical-align: top;\n",
       "    }\n",
       "\n",
       "    .dataframe thead th {\n",
       "        text-align: right;\n",
       "    }\n",
       "</style>\n",
       "<table border=\"1\" class=\"dataframe\">\n",
       "  <thead>\n",
       "    <tr style=\"text-align: right;\">\n",
       "      <th></th>\n",
       "      <th>Diabetes_012</th>\n",
       "      <th>HighBP</th>\n",
       "      <th>HighChol</th>\n",
       "      <th>CholCheck</th>\n",
       "      <th>BMI</th>\n",
       "      <th>Smoker</th>\n",
       "      <th>Stroke</th>\n",
       "      <th>HeartDiseaseorAttack</th>\n",
       "      <th>PhysActivity</th>\n",
       "      <th>Fruits</th>\n",
       "      <th>...</th>\n",
       "      <th>AnyHealthcare</th>\n",
       "      <th>NoDocbcCost</th>\n",
       "      <th>GenHlth</th>\n",
       "      <th>MentHlth</th>\n",
       "      <th>PhysHlth</th>\n",
       "      <th>DiffWalk</th>\n",
       "      <th>Sex</th>\n",
       "      <th>Age</th>\n",
       "      <th>Education</th>\n",
       "      <th>Income</th>\n",
       "    </tr>\n",
       "  </thead>\n",
       "  <tbody>\n",
       "    <tr>\n",
       "      <th>0</th>\n",
       "      <td>0.0</td>\n",
       "      <td>1.0</td>\n",
       "      <td>1.0</td>\n",
       "      <td>1.0</td>\n",
       "      <td>40.0</td>\n",
       "      <td>1.0</td>\n",
       "      <td>0.0</td>\n",
       "      <td>0.0</td>\n",
       "      <td>0.0</td>\n",
       "      <td>0.0</td>\n",
       "      <td>...</td>\n",
       "      <td>1.0</td>\n",
       "      <td>0.0</td>\n",
       "      <td>5.0</td>\n",
       "      <td>18.0</td>\n",
       "      <td>15.0</td>\n",
       "      <td>1.0</td>\n",
       "      <td>0.0</td>\n",
       "      <td>9.0</td>\n",
       "      <td>4.0</td>\n",
       "      <td>3.0</td>\n",
       "    </tr>\n",
       "    <tr>\n",
       "      <th>1</th>\n",
       "      <td>0.0</td>\n",
       "      <td>0.0</td>\n",
       "      <td>0.0</td>\n",
       "      <td>0.0</td>\n",
       "      <td>25.0</td>\n",
       "      <td>1.0</td>\n",
       "      <td>0.0</td>\n",
       "      <td>0.0</td>\n",
       "      <td>1.0</td>\n",
       "      <td>0.0</td>\n",
       "      <td>...</td>\n",
       "      <td>0.0</td>\n",
       "      <td>1.0</td>\n",
       "      <td>3.0</td>\n",
       "      <td>0.0</td>\n",
       "      <td>0.0</td>\n",
       "      <td>0.0</td>\n",
       "      <td>0.0</td>\n",
       "      <td>7.0</td>\n",
       "      <td>6.0</td>\n",
       "      <td>1.0</td>\n",
       "    </tr>\n",
       "    <tr>\n",
       "      <th>2</th>\n",
       "      <td>0.0</td>\n",
       "      <td>1.0</td>\n",
       "      <td>1.0</td>\n",
       "      <td>1.0</td>\n",
       "      <td>28.0</td>\n",
       "      <td>0.0</td>\n",
       "      <td>0.0</td>\n",
       "      <td>0.0</td>\n",
       "      <td>0.0</td>\n",
       "      <td>1.0</td>\n",
       "      <td>...</td>\n",
       "      <td>1.0</td>\n",
       "      <td>1.0</td>\n",
       "      <td>5.0</td>\n",
       "      <td>30.0</td>\n",
       "      <td>30.0</td>\n",
       "      <td>1.0</td>\n",
       "      <td>0.0</td>\n",
       "      <td>9.0</td>\n",
       "      <td>4.0</td>\n",
       "      <td>8.0</td>\n",
       "    </tr>\n",
       "    <tr>\n",
       "      <th>3</th>\n",
       "      <td>0.0</td>\n",
       "      <td>1.0</td>\n",
       "      <td>0.0</td>\n",
       "      <td>1.0</td>\n",
       "      <td>27.0</td>\n",
       "      <td>0.0</td>\n",
       "      <td>0.0</td>\n",
       "      <td>0.0</td>\n",
       "      <td>1.0</td>\n",
       "      <td>1.0</td>\n",
       "      <td>...</td>\n",
       "      <td>1.0</td>\n",
       "      <td>0.0</td>\n",
       "      <td>2.0</td>\n",
       "      <td>0.0</td>\n",
       "      <td>0.0</td>\n",
       "      <td>0.0</td>\n",
       "      <td>0.0</td>\n",
       "      <td>11.0</td>\n",
       "      <td>3.0</td>\n",
       "      <td>6.0</td>\n",
       "    </tr>\n",
       "    <tr>\n",
       "      <th>4</th>\n",
       "      <td>0.0</td>\n",
       "      <td>1.0</td>\n",
       "      <td>1.0</td>\n",
       "      <td>1.0</td>\n",
       "      <td>24.0</td>\n",
       "      <td>0.0</td>\n",
       "      <td>0.0</td>\n",
       "      <td>0.0</td>\n",
       "      <td>1.0</td>\n",
       "      <td>1.0</td>\n",
       "      <td>...</td>\n",
       "      <td>1.0</td>\n",
       "      <td>0.0</td>\n",
       "      <td>2.0</td>\n",
       "      <td>3.0</td>\n",
       "      <td>0.0</td>\n",
       "      <td>0.0</td>\n",
       "      <td>0.0</td>\n",
       "      <td>11.0</td>\n",
       "      <td>5.0</td>\n",
       "      <td>4.0</td>\n",
       "    </tr>\n",
       "    <tr>\n",
       "      <th>...</th>\n",
       "      <td>...</td>\n",
       "      <td>...</td>\n",
       "      <td>...</td>\n",
       "      <td>...</td>\n",
       "      <td>...</td>\n",
       "      <td>...</td>\n",
       "      <td>...</td>\n",
       "      <td>...</td>\n",
       "      <td>...</td>\n",
       "      <td>...</td>\n",
       "      <td>...</td>\n",
       "      <td>...</td>\n",
       "      <td>...</td>\n",
       "      <td>...</td>\n",
       "      <td>...</td>\n",
       "      <td>...</td>\n",
       "      <td>...</td>\n",
       "      <td>...</td>\n",
       "      <td>...</td>\n",
       "      <td>...</td>\n",
       "      <td>...</td>\n",
       "    </tr>\n",
       "    <tr>\n",
       "      <th>253675</th>\n",
       "      <td>0.0</td>\n",
       "      <td>1.0</td>\n",
       "      <td>1.0</td>\n",
       "      <td>1.0</td>\n",
       "      <td>45.0</td>\n",
       "      <td>0.0</td>\n",
       "      <td>0.0</td>\n",
       "      <td>0.0</td>\n",
       "      <td>0.0</td>\n",
       "      <td>1.0</td>\n",
       "      <td>...</td>\n",
       "      <td>1.0</td>\n",
       "      <td>0.0</td>\n",
       "      <td>3.0</td>\n",
       "      <td>0.0</td>\n",
       "      <td>5.0</td>\n",
       "      <td>0.0</td>\n",
       "      <td>1.0</td>\n",
       "      <td>5.0</td>\n",
       "      <td>6.0</td>\n",
       "      <td>7.0</td>\n",
       "    </tr>\n",
       "    <tr>\n",
       "      <th>253676</th>\n",
       "      <td>2.0</td>\n",
       "      <td>1.0</td>\n",
       "      <td>1.0</td>\n",
       "      <td>1.0</td>\n",
       "      <td>18.0</td>\n",
       "      <td>0.0</td>\n",
       "      <td>0.0</td>\n",
       "      <td>0.0</td>\n",
       "      <td>0.0</td>\n",
       "      <td>0.0</td>\n",
       "      <td>...</td>\n",
       "      <td>1.0</td>\n",
       "      <td>0.0</td>\n",
       "      <td>4.0</td>\n",
       "      <td>0.0</td>\n",
       "      <td>0.0</td>\n",
       "      <td>1.0</td>\n",
       "      <td>0.0</td>\n",
       "      <td>11.0</td>\n",
       "      <td>2.0</td>\n",
       "      <td>4.0</td>\n",
       "    </tr>\n",
       "    <tr>\n",
       "      <th>253677</th>\n",
       "      <td>0.0</td>\n",
       "      <td>0.0</td>\n",
       "      <td>0.0</td>\n",
       "      <td>1.0</td>\n",
       "      <td>28.0</td>\n",
       "      <td>0.0</td>\n",
       "      <td>0.0</td>\n",
       "      <td>0.0</td>\n",
       "      <td>1.0</td>\n",
       "      <td>1.0</td>\n",
       "      <td>...</td>\n",
       "      <td>1.0</td>\n",
       "      <td>0.0</td>\n",
       "      <td>1.0</td>\n",
       "      <td>0.0</td>\n",
       "      <td>0.0</td>\n",
       "      <td>0.0</td>\n",
       "      <td>0.0</td>\n",
       "      <td>2.0</td>\n",
       "      <td>5.0</td>\n",
       "      <td>2.0</td>\n",
       "    </tr>\n",
       "    <tr>\n",
       "      <th>253678</th>\n",
       "      <td>0.0</td>\n",
       "      <td>1.0</td>\n",
       "      <td>0.0</td>\n",
       "      <td>1.0</td>\n",
       "      <td>23.0</td>\n",
       "      <td>0.0</td>\n",
       "      <td>0.0</td>\n",
       "      <td>0.0</td>\n",
       "      <td>0.0</td>\n",
       "      <td>1.0</td>\n",
       "      <td>...</td>\n",
       "      <td>1.0</td>\n",
       "      <td>0.0</td>\n",
       "      <td>3.0</td>\n",
       "      <td>0.0</td>\n",
       "      <td>0.0</td>\n",
       "      <td>0.0</td>\n",
       "      <td>1.0</td>\n",
       "      <td>7.0</td>\n",
       "      <td>5.0</td>\n",
       "      <td>1.0</td>\n",
       "    </tr>\n",
       "    <tr>\n",
       "      <th>253679</th>\n",
       "      <td>2.0</td>\n",
       "      <td>1.0</td>\n",
       "      <td>1.0</td>\n",
       "      <td>1.0</td>\n",
       "      <td>25.0</td>\n",
       "      <td>0.0</td>\n",
       "      <td>0.0</td>\n",
       "      <td>1.0</td>\n",
       "      <td>1.0</td>\n",
       "      <td>1.0</td>\n",
       "      <td>...</td>\n",
       "      <td>1.0</td>\n",
       "      <td>0.0</td>\n",
       "      <td>2.0</td>\n",
       "      <td>0.0</td>\n",
       "      <td>0.0</td>\n",
       "      <td>0.0</td>\n",
       "      <td>0.0</td>\n",
       "      <td>9.0</td>\n",
       "      <td>6.0</td>\n",
       "      <td>2.0</td>\n",
       "    </tr>\n",
       "  </tbody>\n",
       "</table>\n",
       "<p>253680 rows × 22 columns</p>\n",
       "</div>"
      ],
      "text/plain": [
       "        Diabetes_012  HighBP  HighChol  CholCheck   BMI  Smoker  Stroke  \\\n",
       "0                0.0     1.0       1.0        1.0  40.0     1.0     0.0   \n",
       "1                0.0     0.0       0.0        0.0  25.0     1.0     0.0   \n",
       "2                0.0     1.0       1.0        1.0  28.0     0.0     0.0   \n",
       "3                0.0     1.0       0.0        1.0  27.0     0.0     0.0   \n",
       "4                0.0     1.0       1.0        1.0  24.0     0.0     0.0   \n",
       "...              ...     ...       ...        ...   ...     ...     ...   \n",
       "253675           0.0     1.0       1.0        1.0  45.0     0.0     0.0   \n",
       "253676           2.0     1.0       1.0        1.0  18.0     0.0     0.0   \n",
       "253677           0.0     0.0       0.0        1.0  28.0     0.0     0.0   \n",
       "253678           0.0     1.0       0.0        1.0  23.0     0.0     0.0   \n",
       "253679           2.0     1.0       1.0        1.0  25.0     0.0     0.0   \n",
       "\n",
       "        HeartDiseaseorAttack  PhysActivity  Fruits  ...  AnyHealthcare  \\\n",
       "0                        0.0           0.0     0.0  ...            1.0   \n",
       "1                        0.0           1.0     0.0  ...            0.0   \n",
       "2                        0.0           0.0     1.0  ...            1.0   \n",
       "3                        0.0           1.0     1.0  ...            1.0   \n",
       "4                        0.0           1.0     1.0  ...            1.0   \n",
       "...                      ...           ...     ...  ...            ...   \n",
       "253675                   0.0           0.0     1.0  ...            1.0   \n",
       "253676                   0.0           0.0     0.0  ...            1.0   \n",
       "253677                   0.0           1.0     1.0  ...            1.0   \n",
       "253678                   0.0           0.0     1.0  ...            1.0   \n",
       "253679                   1.0           1.0     1.0  ...            1.0   \n",
       "\n",
       "        NoDocbcCost  GenHlth  MentHlth  PhysHlth  DiffWalk  Sex   Age  \\\n",
       "0               0.0      5.0      18.0      15.0       1.0  0.0   9.0   \n",
       "1               1.0      3.0       0.0       0.0       0.0  0.0   7.0   \n",
       "2               1.0      5.0      30.0      30.0       1.0  0.0   9.0   \n",
       "3               0.0      2.0       0.0       0.0       0.0  0.0  11.0   \n",
       "4               0.0      2.0       3.0       0.0       0.0  0.0  11.0   \n",
       "...             ...      ...       ...       ...       ...  ...   ...   \n",
       "253675          0.0      3.0       0.0       5.0       0.0  1.0   5.0   \n",
       "253676          0.0      4.0       0.0       0.0       1.0  0.0  11.0   \n",
       "253677          0.0      1.0       0.0       0.0       0.0  0.0   2.0   \n",
       "253678          0.0      3.0       0.0       0.0       0.0  1.0   7.0   \n",
       "253679          0.0      2.0       0.0       0.0       0.0  0.0   9.0   \n",
       "\n",
       "        Education  Income  \n",
       "0             4.0     3.0  \n",
       "1             6.0     1.0  \n",
       "2             4.0     8.0  \n",
       "3             3.0     6.0  \n",
       "4             5.0     4.0  \n",
       "...           ...     ...  \n",
       "253675        6.0     7.0  \n",
       "253676        2.0     4.0  \n",
       "253677        5.0     2.0  \n",
       "253678        5.0     1.0  \n",
       "253679        6.0     2.0  \n",
       "\n",
       "[253680 rows x 22 columns]"
      ]
     },
     "execution_count": 5,
     "metadata": {},
     "output_type": "execute_result"
    }
   ],
   "source": [
    "#set file path\n",
    "file_path3 = Path(r'resources\\diabetes.csv')\n",
    "\n",
    "#read file into memory\n",
    "diabetes_df = pd.read_csv(file_path3)\n",
    "\n",
    "#validate load\n",
    "diabetes_df"
   ]
  },
  {
   "cell_type": "code",
   "execution_count": 6,
   "id": "8eb4f00b",
   "metadata": {},
   "outputs": [
    {
     "data": {
      "text/plain": [
       "Index(['Diabetes_012', 'HighBP', 'HighChol', 'CholCheck', 'BMI', 'Smoker',\n",
       "       'Stroke', 'HeartDiseaseorAttack', 'PhysActivity', 'Fruits', 'Veggies',\n",
       "       'HvyAlcoholConsump', 'AnyHealthcare', 'NoDocbcCost', 'GenHlth',\n",
       "       'MentHlth', 'PhysHlth', 'DiffWalk', 'Sex', 'Age', 'Education',\n",
       "       'Income'],\n",
       "      dtype='object')"
      ]
     },
     "execution_count": 6,
     "metadata": {},
     "output_type": "execute_result"
    }
   ],
   "source": [
    "#Column_listing\n",
    "diabetes_df.columns"
   ]
  },
  {
   "cell_type": "code",
   "execution_count": 7,
   "id": "26e45c9c",
   "metadata": {},
   "outputs": [
    {
     "data": {
      "text/plain": [
       "0         0\n",
       "1         0\n",
       "2         0\n",
       "3         0\n",
       "4         0\n",
       "         ..\n",
       "253675    0\n",
       "253676    0\n",
       "253677    0\n",
       "253678    0\n",
       "253679    0\n",
       "Length: 253680, dtype: int64"
      ]
     },
     "execution_count": 7,
     "metadata": {},
     "output_type": "execute_result"
    }
   ],
   "source": [
    "#Determine Null Values \n",
    "nan_count = diabetes_df.isna().sum(axis = 1)\n",
    "nan_count"
   ]
  },
  {
   "cell_type": "code",
   "execution_count": 8,
   "id": "0fd32668",
   "metadata": {},
   "outputs": [
    {
     "data": {
      "text/plain": [
       "Diabetes_012            float64\n",
       "HighBP                  float64\n",
       "HighChol                float64\n",
       "CholCheck               float64\n",
       "BMI                     float64\n",
       "Smoker                  float64\n",
       "Stroke                  float64\n",
       "HeartDiseaseorAttack    float64\n",
       "PhysActivity            float64\n",
       "Fruits                  float64\n",
       "Veggies                 float64\n",
       "HvyAlcoholConsump       float64\n",
       "AnyHealthcare           float64\n",
       "NoDocbcCost             float64\n",
       "GenHlth                 float64\n",
       "MentHlth                float64\n",
       "PhysHlth                float64\n",
       "DiffWalk                float64\n",
       "Sex                     float64\n",
       "Age                     float64\n",
       "Education               float64\n",
       "Income                  float64\n",
       "dtype: object"
      ]
     },
     "execution_count": 8,
     "metadata": {},
     "output_type": "execute_result"
    }
   ],
   "source": [
    "#Check Data types - all fields should be numeric \n",
    "diabetes_df.dtypes"
   ]
  },
  {
   "cell_type": "code",
   "execution_count": 9,
   "id": "3fb2a0de",
   "metadata": {},
   "outputs": [
    {
     "data": {
      "text/plain": [
       "0.0    213703\n",
       "2.0     35346\n",
       "1.0      4631\n",
       "Name: Diabetes_012, dtype: int64"
      ]
     },
     "execution_count": 9,
     "metadata": {},
     "output_type": "execute_result"
    }
   ],
   "source": [
    "#Count number of each value in Diabetes 012 column\n",
    "#0-no diabetes, 1-prediabetes 2-diabetes\n",
    "#this is what we want our model to train on - recommend combining 1&2 into one value to make it binary 'get checked'\n",
    "diabetes_df['Diabetes_012'].value_counts()"
   ]
  },
  {
   "cell_type": "code",
   "execution_count": 10,
   "id": "c3312b8b",
   "metadata": {},
   "outputs": [
    {
     "data": {
      "text/plain": [
       "0.0    0.842412\n",
       "2.0    0.139333\n",
       "1.0    0.018255\n",
       "Name: Diabetes_012, dtype: float64"
      ]
     },
     "execution_count": 10,
     "metadata": {},
     "output_type": "execute_result"
    }
   ],
   "source": [
    "#percentage of each value in Diabetes 012 column\n",
    "diabetes_df.Diabetes_012.value_counts(normalize=True)"
   ]
  },
  {
   "cell_type": "code",
   "execution_count": 11,
   "id": "1267af61",
   "metadata": {},
   "outputs": [
    {
     "data": {
      "text/plain": [
       "count     253680\n",
       "unique         2\n",
       "top            1\n",
       "freq      213703\n",
       "Name: Diabetes_Status, dtype: int64"
      ]
     },
     "execution_count": 11,
     "metadata": {},
     "output_type": "execute_result"
    }
   ],
   "source": [
    "#binning of Diabetes Status \n",
    "status_bin_range = [-1, 0, 4]\n",
    "\n",
    "status_bins = [1, 2]\n",
    "\n",
    "diabetes_df['Diabetes_Status'] = pd.cut(diabetes_df['Diabetes_012'], status_bin_range, labels=status_bins)\n",
    "\n",
    "diabetes_df.Diabetes_Status.describe()"
   ]
  },
  {
   "cell_type": "code",
   "execution_count": 12,
   "id": "132ce904",
   "metadata": {},
   "outputs": [
    {
     "data": {
      "text/plain": [
       "Index(['Diabetes_012', 'HighBP', 'HighChol', 'CholCheck', 'BMI', 'Smoker',\n",
       "       'Stroke', 'HeartDiseaseorAttack', 'PhysActivity', 'Fruits', 'Veggies',\n",
       "       'HvyAlcoholConsump', 'AnyHealthcare', 'NoDocbcCost', 'GenHlth',\n",
       "       'MentHlth', 'PhysHlth', 'DiffWalk', 'Sex', 'Age', 'Education', 'Income',\n",
       "       'Diabetes_Status'],\n",
       "      dtype='object')"
      ]
     },
     "execution_count": 12,
     "metadata": {},
     "output_type": "execute_result"
    }
   ],
   "source": [
    "diabetes_df.columns"
   ]
  },
  {
   "cell_type": "code",
   "execution_count": 13,
   "id": "bc15e18a",
   "metadata": {},
   "outputs": [],
   "source": [
    "#rearrange columns\n",
    "diabetes_df = diabetes_df[['Diabetes_Status', 'HighBP', 'HighChol', 'CholCheck', 'BMI', 'Smoker',\n",
    "       'Stroke', 'HeartDiseaseorAttack', 'PhysActivity', 'Fruits', 'Veggies',\n",
    "       'HvyAlcoholConsump', 'AnyHealthcare', 'NoDocbcCost', 'GenHlth',\n",
    "       'MentHlth', 'PhysHlth', 'DiffWalk', 'Sex', 'Age', 'Education', 'Income',\n",
    "       'Diabetes_012']]"
   ]
  },
  {
   "cell_type": "code",
   "execution_count": 14,
   "id": "07a71c36",
   "metadata": {},
   "outputs": [
    {
     "data": {
      "text/html": [
       "<div>\n",
       "<style scoped>\n",
       "    .dataframe tbody tr th:only-of-type {\n",
       "        vertical-align: middle;\n",
       "    }\n",
       "\n",
       "    .dataframe tbody tr th {\n",
       "        vertical-align: top;\n",
       "    }\n",
       "\n",
       "    .dataframe thead th {\n",
       "        text-align: right;\n",
       "    }\n",
       "</style>\n",
       "<table border=\"1\" class=\"dataframe\">\n",
       "  <thead>\n",
       "    <tr style=\"text-align: right;\">\n",
       "      <th></th>\n",
       "      <th>Diabetes_Status</th>\n",
       "      <th>HighBP</th>\n",
       "      <th>HighChol</th>\n",
       "      <th>CholCheck</th>\n",
       "      <th>BMI</th>\n",
       "      <th>Smoker</th>\n",
       "      <th>Stroke</th>\n",
       "      <th>HeartDiseaseorAttack</th>\n",
       "      <th>PhysActivity</th>\n",
       "      <th>Fruits</th>\n",
       "      <th>...</th>\n",
       "      <th>NoDocbcCost</th>\n",
       "      <th>GenHlth</th>\n",
       "      <th>MentHlth</th>\n",
       "      <th>PhysHlth</th>\n",
       "      <th>DiffWalk</th>\n",
       "      <th>Sex</th>\n",
       "      <th>Age</th>\n",
       "      <th>Education</th>\n",
       "      <th>Income</th>\n",
       "      <th>Diabetes_012</th>\n",
       "    </tr>\n",
       "  </thead>\n",
       "  <tbody>\n",
       "    <tr>\n",
       "      <th>0</th>\n",
       "      <td>1</td>\n",
       "      <td>1.0</td>\n",
       "      <td>1.0</td>\n",
       "      <td>1.0</td>\n",
       "      <td>40.0</td>\n",
       "      <td>1.0</td>\n",
       "      <td>0.0</td>\n",
       "      <td>0.0</td>\n",
       "      <td>0.0</td>\n",
       "      <td>0.0</td>\n",
       "      <td>...</td>\n",
       "      <td>0.0</td>\n",
       "      <td>5.0</td>\n",
       "      <td>18.0</td>\n",
       "      <td>15.0</td>\n",
       "      <td>1.0</td>\n",
       "      <td>0.0</td>\n",
       "      <td>9.0</td>\n",
       "      <td>4.0</td>\n",
       "      <td>3.0</td>\n",
       "      <td>0.0</td>\n",
       "    </tr>\n",
       "    <tr>\n",
       "      <th>1</th>\n",
       "      <td>1</td>\n",
       "      <td>0.0</td>\n",
       "      <td>0.0</td>\n",
       "      <td>0.0</td>\n",
       "      <td>25.0</td>\n",
       "      <td>1.0</td>\n",
       "      <td>0.0</td>\n",
       "      <td>0.0</td>\n",
       "      <td>1.0</td>\n",
       "      <td>0.0</td>\n",
       "      <td>...</td>\n",
       "      <td>1.0</td>\n",
       "      <td>3.0</td>\n",
       "      <td>0.0</td>\n",
       "      <td>0.0</td>\n",
       "      <td>0.0</td>\n",
       "      <td>0.0</td>\n",
       "      <td>7.0</td>\n",
       "      <td>6.0</td>\n",
       "      <td>1.0</td>\n",
       "      <td>0.0</td>\n",
       "    </tr>\n",
       "    <tr>\n",
       "      <th>2</th>\n",
       "      <td>1</td>\n",
       "      <td>1.0</td>\n",
       "      <td>1.0</td>\n",
       "      <td>1.0</td>\n",
       "      <td>28.0</td>\n",
       "      <td>0.0</td>\n",
       "      <td>0.0</td>\n",
       "      <td>0.0</td>\n",
       "      <td>0.0</td>\n",
       "      <td>1.0</td>\n",
       "      <td>...</td>\n",
       "      <td>1.0</td>\n",
       "      <td>5.0</td>\n",
       "      <td>30.0</td>\n",
       "      <td>30.0</td>\n",
       "      <td>1.0</td>\n",
       "      <td>0.0</td>\n",
       "      <td>9.0</td>\n",
       "      <td>4.0</td>\n",
       "      <td>8.0</td>\n",
       "      <td>0.0</td>\n",
       "    </tr>\n",
       "    <tr>\n",
       "      <th>3</th>\n",
       "      <td>1</td>\n",
       "      <td>1.0</td>\n",
       "      <td>0.0</td>\n",
       "      <td>1.0</td>\n",
       "      <td>27.0</td>\n",
       "      <td>0.0</td>\n",
       "      <td>0.0</td>\n",
       "      <td>0.0</td>\n",
       "      <td>1.0</td>\n",
       "      <td>1.0</td>\n",
       "      <td>...</td>\n",
       "      <td>0.0</td>\n",
       "      <td>2.0</td>\n",
       "      <td>0.0</td>\n",
       "      <td>0.0</td>\n",
       "      <td>0.0</td>\n",
       "      <td>0.0</td>\n",
       "      <td>11.0</td>\n",
       "      <td>3.0</td>\n",
       "      <td>6.0</td>\n",
       "      <td>0.0</td>\n",
       "    </tr>\n",
       "    <tr>\n",
       "      <th>4</th>\n",
       "      <td>1</td>\n",
       "      <td>1.0</td>\n",
       "      <td>1.0</td>\n",
       "      <td>1.0</td>\n",
       "      <td>24.0</td>\n",
       "      <td>0.0</td>\n",
       "      <td>0.0</td>\n",
       "      <td>0.0</td>\n",
       "      <td>1.0</td>\n",
       "      <td>1.0</td>\n",
       "      <td>...</td>\n",
       "      <td>0.0</td>\n",
       "      <td>2.0</td>\n",
       "      <td>3.0</td>\n",
       "      <td>0.0</td>\n",
       "      <td>0.0</td>\n",
       "      <td>0.0</td>\n",
       "      <td>11.0</td>\n",
       "      <td>5.0</td>\n",
       "      <td>4.0</td>\n",
       "      <td>0.0</td>\n",
       "    </tr>\n",
       "  </tbody>\n",
       "</table>\n",
       "<p>5 rows × 23 columns</p>\n",
       "</div>"
      ],
      "text/plain": [
       "  Diabetes_Status  HighBP  HighChol  CholCheck   BMI  Smoker  Stroke  \\\n",
       "0               1     1.0       1.0        1.0  40.0     1.0     0.0   \n",
       "1               1     0.0       0.0        0.0  25.0     1.0     0.0   \n",
       "2               1     1.0       1.0        1.0  28.0     0.0     0.0   \n",
       "3               1     1.0       0.0        1.0  27.0     0.0     0.0   \n",
       "4               1     1.0       1.0        1.0  24.0     0.0     0.0   \n",
       "\n",
       "   HeartDiseaseorAttack  PhysActivity  Fruits  ...  NoDocbcCost  GenHlth  \\\n",
       "0                   0.0           0.0     0.0  ...          0.0      5.0   \n",
       "1                   0.0           1.0     0.0  ...          1.0      3.0   \n",
       "2                   0.0           0.0     1.0  ...          1.0      5.0   \n",
       "3                   0.0           1.0     1.0  ...          0.0      2.0   \n",
       "4                   0.0           1.0     1.0  ...          0.0      2.0   \n",
       "\n",
       "   MentHlth  PhysHlth  DiffWalk  Sex   Age  Education  Income  Diabetes_012  \n",
       "0      18.0      15.0       1.0  0.0   9.0        4.0     3.0           0.0  \n",
       "1       0.0       0.0       0.0  0.0   7.0        6.0     1.0           0.0  \n",
       "2      30.0      30.0       1.0  0.0   9.0        4.0     8.0           0.0  \n",
       "3       0.0       0.0       0.0  0.0  11.0        3.0     6.0           0.0  \n",
       "4       3.0       0.0       0.0  0.0  11.0        5.0     4.0           0.0  \n",
       "\n",
       "[5 rows x 23 columns]"
      ]
     },
     "execution_count": 14,
     "metadata": {},
     "output_type": "execute_result"
    }
   ],
   "source": [
    "diabetes_df.head()"
   ]
  },
  {
   "cell_type": "code",
   "execution_count": 15,
   "id": "b6968299",
   "metadata": {},
   "outputs": [
    {
     "name": "stdout",
     "output_type": "stream",
     "text": [
      "<class 'pandas.core.frame.DataFrame'>\n",
      "RangeIndex: 253680 entries, 0 to 253679\n",
      "Data columns (total 23 columns):\n",
      " #   Column                Non-Null Count   Dtype   \n",
      "---  ------                --------------   -----   \n",
      " 0   Diabetes_Status       253680 non-null  category\n",
      " 1   HighBP                253680 non-null  float64 \n",
      " 2   HighChol              253680 non-null  float64 \n",
      " 3   CholCheck             253680 non-null  float64 \n",
      " 4   BMI                   253680 non-null  float64 \n",
      " 5   Smoker                253680 non-null  float64 \n",
      " 6   Stroke                253680 non-null  float64 \n",
      " 7   HeartDiseaseorAttack  253680 non-null  float64 \n",
      " 8   PhysActivity          253680 non-null  float64 \n",
      " 9   Fruits                253680 non-null  float64 \n",
      " 10  Veggies               253680 non-null  float64 \n",
      " 11  HvyAlcoholConsump     253680 non-null  float64 \n",
      " 12  AnyHealthcare         253680 non-null  float64 \n",
      " 13  NoDocbcCost           253680 non-null  float64 \n",
      " 14  GenHlth               253680 non-null  float64 \n",
      " 15  MentHlth              253680 non-null  float64 \n",
      " 16  PhysHlth              253680 non-null  float64 \n",
      " 17  DiffWalk              253680 non-null  float64 \n",
      " 18  Sex                   253680 non-null  float64 \n",
      " 19  Age                   253680 non-null  float64 \n",
      " 20  Education             253680 non-null  float64 \n",
      " 21  Income                253680 non-null  float64 \n",
      " 22  Diabetes_012          253680 non-null  float64 \n",
      "dtypes: category(1), float64(22)\n",
      "memory usage: 42.8 MB\n"
     ]
    }
   ],
   "source": [
    "diabetes_df.info()"
   ]
  },
  {
   "cell_type": "code",
   "execution_count": 16,
   "id": "effffb13",
   "metadata": {},
   "outputs": [
    {
     "data": {
      "text/plain": [
       "0.0    144851\n",
       "1.0    108829\n",
       "Name: HighBP, dtype: int64"
      ]
     },
     "execution_count": 16,
     "metadata": {},
     "output_type": "execute_result"
    }
   ],
   "source": [
    "#Count number of each value in HighBP Column\n",
    "# 0 - noHBP, 1 -  HBP \n",
    "diabetes_df['HighBP'].value_counts()\n"
   ]
  },
  {
   "cell_type": "code",
   "execution_count": 17,
   "id": "b63cf394",
   "metadata": {},
   "outputs": [
    {
     "name": "stdout",
     "output_type": "stream",
     "text": [
      "<class 'pandas.core.frame.DataFrame'>\n",
      "RangeIndex: 253680 entries, 0 to 253679\n",
      "Data columns (total 23 columns):\n",
      " #   Column                Non-Null Count   Dtype   \n",
      "---  ------                --------------   -----   \n",
      " 0   Diabetes_Status       253680 non-null  category\n",
      " 1   HighBP                253680 non-null  float64 \n",
      " 2   HighChol              253680 non-null  float64 \n",
      " 3   CholCheck             253680 non-null  float64 \n",
      " 4   BMI                   253680 non-null  float64 \n",
      " 5   Smoker                253680 non-null  float64 \n",
      " 6   Stroke                253680 non-null  float64 \n",
      " 7   HeartDiseaseorAttack  253680 non-null  float64 \n",
      " 8   PhysActivity          253680 non-null  float64 \n",
      " 9   Fruits                253680 non-null  float64 \n",
      " 10  Veggies               253680 non-null  float64 \n",
      " 11  HvyAlcoholConsump     253680 non-null  float64 \n",
      " 12  AnyHealthcare         253680 non-null  float64 \n",
      " 13  NoDocbcCost           253680 non-null  float64 \n",
      " 14  GenHlth               253680 non-null  float64 \n",
      " 15  MentHlth              253680 non-null  float64 \n",
      " 16  PhysHlth              253680 non-null  float64 \n",
      " 17  DiffWalk              253680 non-null  float64 \n",
      " 18  Sex                   253680 non-null  float64 \n",
      " 19  Age                   253680 non-null  float64 \n",
      " 20  Education             253680 non-null  float64 \n",
      " 21  Income                253680 non-null  float64 \n",
      " 22  Diabetes_012          253680 non-null  float64 \n",
      "dtypes: category(1), float64(22)\n",
      "memory usage: 42.8 MB\n"
     ]
    }
   ],
   "source": [
    "diabetes_df.info()"
   ]
  },
  {
   "cell_type": "code",
   "execution_count": 18,
   "id": "989fbf23",
   "metadata": {},
   "outputs": [
    {
     "data": {
      "text/plain": [
       "0.0    0.570999\n",
       "1.0    0.429001\n",
       "Name: HighBP, dtype: float64"
      ]
     },
     "execution_count": 18,
     "metadata": {},
     "output_type": "execute_result"
    }
   ],
   "source": [
    "#percentage of each value \n",
    "diabetes_df.HighBP.value_counts(normalize=True)"
   ]
  },
  {
   "cell_type": "code",
   "execution_count": 19,
   "id": "b286e514",
   "metadata": {},
   "outputs": [
    {
     "data": {
      "text/plain": [
       "0.0    146089\n",
       "1.0    107591\n",
       "Name: HighChol, dtype: int64"
      ]
     },
     "execution_count": 19,
     "metadata": {},
     "output_type": "execute_result"
    }
   ],
   "source": [
    "#Count number of each value in HighChol Column\n",
    "#0 = no high cholesterol 1 = high cholesterol\n",
    "diabetes_df['HighChol'].value_counts()\n"
   ]
  },
  {
   "cell_type": "code",
   "execution_count": 20,
   "id": "e0b3f517",
   "metadata": {},
   "outputs": [
    {
     "data": {
      "text/plain": [
       "0.0    0.575879\n",
       "1.0    0.424121\n",
       "Name: HighChol, dtype: float64"
      ]
     },
     "execution_count": 20,
     "metadata": {},
     "output_type": "execute_result"
    }
   ],
   "source": [
    "#percentage\n",
    "diabetes_df.HighChol.value_counts(normalize=True)"
   ]
  },
  {
   "cell_type": "code",
   "execution_count": 21,
   "id": "23aeb221",
   "metadata": {},
   "outputs": [
    {
     "data": {
      "text/plain": [
       "1.0    244210\n",
       "0.0      9470\n",
       "Name: CholCheck, dtype: int64"
      ]
     },
     "execution_count": 21,
     "metadata": {},
     "output_type": "execute_result"
    }
   ],
   "source": [
    "#Count number of each value in CholCheck Column\n",
    "#0 = no cholesterol check in 5 years 1 = yes cholesterol check in 5 years\n",
    "diabetes_df['CholCheck'].value_counts()\n"
   ]
  },
  {
   "cell_type": "code",
   "execution_count": 22,
   "id": "56139d1f",
   "metadata": {},
   "outputs": [
    {
     "data": {
      "text/plain": [
       "1.0    0.96267\n",
       "0.0    0.03733\n",
       "Name: CholCheck, dtype: float64"
      ]
     },
     "execution_count": 22,
     "metadata": {},
     "output_type": "execute_result"
    }
   ],
   "source": [
    "#percentage\n",
    "diabetes_df.CholCheck.value_counts(normalize=True)"
   ]
  },
  {
   "cell_type": "code",
   "execution_count": 23,
   "id": "7bce4547",
   "metadata": {},
   "outputs": [
    {
     "data": {
      "text/plain": [
       "27.0    24606\n",
       "26.0    20562\n",
       "24.0    19550\n",
       "25.0    17146\n",
       "28.0    16545\n",
       "        ...  \n",
       "85.0        1\n",
       "91.0        1\n",
       "86.0        1\n",
       "90.0        1\n",
       "78.0        1\n",
       "Name: BMI, Length: 84, dtype: int64"
      ]
     },
     "execution_count": 23,
     "metadata": {},
     "output_type": "execute_result"
    }
   ],
   "source": [
    "#Count number of each value in BMI Column\n",
    "#calculate BMI by dividing weight in pounds (lb) by height in inches (in) squared and multiplying by a conversion factor of 703\n",
    "#Will need to have user enter height and weight of subject \n",
    "\n",
    "diabetes_df['BMI'].value_counts()\n"
   ]
  },
  {
   "cell_type": "code",
   "execution_count": 24,
   "id": "2c128a2a",
   "metadata": {},
   "outputs": [
    {
     "data": {
      "text/plain": [
       "27.0    0.096996\n",
       "26.0    0.081055\n",
       "24.0    0.077066\n",
       "25.0    0.067589\n",
       "28.0    0.065220\n",
       "          ...   \n",
       "85.0    0.000004\n",
       "91.0    0.000004\n",
       "86.0    0.000004\n",
       "90.0    0.000004\n",
       "78.0    0.000004\n",
       "Name: BMI, Length: 84, dtype: float64"
      ]
     },
     "execution_count": 24,
     "metadata": {},
     "output_type": "execute_result"
    }
   ],
   "source": [
    "#percentage\n",
    "diabetes_df.BMI.value_counts(normalize=True)"
   ]
  },
  {
   "cell_type": "code",
   "execution_count": 25,
   "id": "4148daa6",
   "metadata": {},
   "outputs": [
    {
     "data": {
      "text/plain": [
       "count    253680.000000\n",
       "mean         28.382364\n",
       "std           6.608694\n",
       "min          12.000000\n",
       "25%          24.000000\n",
       "50%          27.000000\n",
       "75%          31.000000\n",
       "max          98.000000\n",
       "Name: BMI, dtype: float64"
      ]
     },
     "execution_count": 25,
     "metadata": {},
     "output_type": "execute_result"
    }
   ],
   "source": [
    "#Determine bucketing for BMI values \n",
    "diabetes_df.BMI.describe()"
   ]
  },
  {
   "cell_type": "code",
   "execution_count": 26,
   "id": "ce4bc586",
   "metadata": {},
   "outputs": [],
   "source": [
    "# BMI Binning "
   ]
  },
  {
   "cell_type": "code",
   "execution_count": 27,
   "id": "4f9b5267",
   "metadata": {},
   "outputs": [
    {
     "data": {
      "text/plain": [
       "count     253680\n",
       "unique         4\n",
       "top            3\n",
       "freq       93749\n",
       "Name: BMI_Range, dtype: int64"
      ]
     },
     "execution_count": 27,
     "metadata": {},
     "output_type": "execute_result"
    }
   ],
   "source": [
    "# BMI is less than 18.5\n",
    "# BMI is 18.5 to 24.9,\n",
    "# BMI is 25.0 to 29.9\n",
    "# BMI is 30.0 or higher\n",
    "#\n",
    "bmi_bin_range = [0, 18.5, 24.9, 29.9, 100]\n",
    "\n",
    "bmi_bins = [1, 2, 3, 4]\n",
    "diabetes_df['BMI_Range'] = pd.cut(diabetes_df['BMI'], bmi_bin_range, labels=bmi_bins)\n",
    "\n",
    "diabetes_df.BMI_Range.describe()"
   ]
  },
  {
   "cell_type": "code",
   "execution_count": 28,
   "id": "27c16eac",
   "metadata": {},
   "outputs": [
    {
     "data": {
      "text/plain": [
       "Index(['Diabetes_Status', 'HighBP', 'HighChol', 'CholCheck', 'BMI', 'Smoker',\n",
       "       'Stroke', 'HeartDiseaseorAttack', 'PhysActivity', 'Fruits', 'Veggies',\n",
       "       'HvyAlcoholConsump', 'AnyHealthcare', 'NoDocbcCost', 'GenHlth',\n",
       "       'MentHlth', 'PhysHlth', 'DiffWalk', 'Sex', 'Age', 'Education', 'Income',\n",
       "       'Diabetes_012', 'BMI_Range'],\n",
       "      dtype='object')"
      ]
     },
     "execution_count": 28,
     "metadata": {},
     "output_type": "execute_result"
    }
   ],
   "source": [
    "diabetes_df.columns"
   ]
  },
  {
   "cell_type": "code",
   "execution_count": 29,
   "id": "c83e10d7",
   "metadata": {},
   "outputs": [],
   "source": [
    "#re-sort columns \n",
    "diabetes_df = diabetes_df[['Diabetes_Status', 'HighBP', 'HighChol', 'CholCheck', 'BMI_Range', 'Smoker',\n",
    "       'Stroke', 'HeartDiseaseorAttack', 'PhysActivity', 'Fruits', 'Veggies',\n",
    "       'HvyAlcoholConsump', 'AnyHealthcare', 'NoDocbcCost', 'GenHlth',\n",
    "       'MentHlth', 'PhysHlth', 'DiffWalk', 'Sex', 'Age', 'Education', 'Income',\n",
    "       'Diabetes_012', 'BMI']]"
   ]
  },
  {
   "cell_type": "code",
   "execution_count": 30,
   "id": "92281f56",
   "metadata": {},
   "outputs": [
    {
     "data": {
      "text/html": [
       "<div>\n",
       "<style scoped>\n",
       "    .dataframe tbody tr th:only-of-type {\n",
       "        vertical-align: middle;\n",
       "    }\n",
       "\n",
       "    .dataframe tbody tr th {\n",
       "        vertical-align: top;\n",
       "    }\n",
       "\n",
       "    .dataframe thead th {\n",
       "        text-align: right;\n",
       "    }\n",
       "</style>\n",
       "<table border=\"1\" class=\"dataframe\">\n",
       "  <thead>\n",
       "    <tr style=\"text-align: right;\">\n",
       "      <th></th>\n",
       "      <th>Diabetes_Status</th>\n",
       "      <th>HighBP</th>\n",
       "      <th>HighChol</th>\n",
       "      <th>CholCheck</th>\n",
       "      <th>BMI_Range</th>\n",
       "      <th>Smoker</th>\n",
       "      <th>Stroke</th>\n",
       "      <th>HeartDiseaseorAttack</th>\n",
       "      <th>PhysActivity</th>\n",
       "      <th>Fruits</th>\n",
       "      <th>...</th>\n",
       "      <th>GenHlth</th>\n",
       "      <th>MentHlth</th>\n",
       "      <th>PhysHlth</th>\n",
       "      <th>DiffWalk</th>\n",
       "      <th>Sex</th>\n",
       "      <th>Age</th>\n",
       "      <th>Education</th>\n",
       "      <th>Income</th>\n",
       "      <th>Diabetes_012</th>\n",
       "      <th>BMI</th>\n",
       "    </tr>\n",
       "  </thead>\n",
       "  <tbody>\n",
       "    <tr>\n",
       "      <th>0</th>\n",
       "      <td>1</td>\n",
       "      <td>1.0</td>\n",
       "      <td>1.0</td>\n",
       "      <td>1.0</td>\n",
       "      <td>4</td>\n",
       "      <td>1.0</td>\n",
       "      <td>0.0</td>\n",
       "      <td>0.0</td>\n",
       "      <td>0.0</td>\n",
       "      <td>0.0</td>\n",
       "      <td>...</td>\n",
       "      <td>5.0</td>\n",
       "      <td>18.0</td>\n",
       "      <td>15.0</td>\n",
       "      <td>1.0</td>\n",
       "      <td>0.0</td>\n",
       "      <td>9.0</td>\n",
       "      <td>4.0</td>\n",
       "      <td>3.0</td>\n",
       "      <td>0.0</td>\n",
       "      <td>40.0</td>\n",
       "    </tr>\n",
       "    <tr>\n",
       "      <th>1</th>\n",
       "      <td>1</td>\n",
       "      <td>0.0</td>\n",
       "      <td>0.0</td>\n",
       "      <td>0.0</td>\n",
       "      <td>3</td>\n",
       "      <td>1.0</td>\n",
       "      <td>0.0</td>\n",
       "      <td>0.0</td>\n",
       "      <td>1.0</td>\n",
       "      <td>0.0</td>\n",
       "      <td>...</td>\n",
       "      <td>3.0</td>\n",
       "      <td>0.0</td>\n",
       "      <td>0.0</td>\n",
       "      <td>0.0</td>\n",
       "      <td>0.0</td>\n",
       "      <td>7.0</td>\n",
       "      <td>6.0</td>\n",
       "      <td>1.0</td>\n",
       "      <td>0.0</td>\n",
       "      <td>25.0</td>\n",
       "    </tr>\n",
       "    <tr>\n",
       "      <th>2</th>\n",
       "      <td>1</td>\n",
       "      <td>1.0</td>\n",
       "      <td>1.0</td>\n",
       "      <td>1.0</td>\n",
       "      <td>3</td>\n",
       "      <td>0.0</td>\n",
       "      <td>0.0</td>\n",
       "      <td>0.0</td>\n",
       "      <td>0.0</td>\n",
       "      <td>1.0</td>\n",
       "      <td>...</td>\n",
       "      <td>5.0</td>\n",
       "      <td>30.0</td>\n",
       "      <td>30.0</td>\n",
       "      <td>1.0</td>\n",
       "      <td>0.0</td>\n",
       "      <td>9.0</td>\n",
       "      <td>4.0</td>\n",
       "      <td>8.0</td>\n",
       "      <td>0.0</td>\n",
       "      <td>28.0</td>\n",
       "    </tr>\n",
       "    <tr>\n",
       "      <th>3</th>\n",
       "      <td>1</td>\n",
       "      <td>1.0</td>\n",
       "      <td>0.0</td>\n",
       "      <td>1.0</td>\n",
       "      <td>3</td>\n",
       "      <td>0.0</td>\n",
       "      <td>0.0</td>\n",
       "      <td>0.0</td>\n",
       "      <td>1.0</td>\n",
       "      <td>1.0</td>\n",
       "      <td>...</td>\n",
       "      <td>2.0</td>\n",
       "      <td>0.0</td>\n",
       "      <td>0.0</td>\n",
       "      <td>0.0</td>\n",
       "      <td>0.0</td>\n",
       "      <td>11.0</td>\n",
       "      <td>3.0</td>\n",
       "      <td>6.0</td>\n",
       "      <td>0.0</td>\n",
       "      <td>27.0</td>\n",
       "    </tr>\n",
       "    <tr>\n",
       "      <th>4</th>\n",
       "      <td>1</td>\n",
       "      <td>1.0</td>\n",
       "      <td>1.0</td>\n",
       "      <td>1.0</td>\n",
       "      <td>2</td>\n",
       "      <td>0.0</td>\n",
       "      <td>0.0</td>\n",
       "      <td>0.0</td>\n",
       "      <td>1.0</td>\n",
       "      <td>1.0</td>\n",
       "      <td>...</td>\n",
       "      <td>2.0</td>\n",
       "      <td>3.0</td>\n",
       "      <td>0.0</td>\n",
       "      <td>0.0</td>\n",
       "      <td>0.0</td>\n",
       "      <td>11.0</td>\n",
       "      <td>5.0</td>\n",
       "      <td>4.0</td>\n",
       "      <td>0.0</td>\n",
       "      <td>24.0</td>\n",
       "    </tr>\n",
       "  </tbody>\n",
       "</table>\n",
       "<p>5 rows × 24 columns</p>\n",
       "</div>"
      ],
      "text/plain": [
       "  Diabetes_Status  HighBP  HighChol  CholCheck BMI_Range  Smoker  Stroke  \\\n",
       "0               1     1.0       1.0        1.0         4     1.0     0.0   \n",
       "1               1     0.0       0.0        0.0         3     1.0     0.0   \n",
       "2               1     1.0       1.0        1.0         3     0.0     0.0   \n",
       "3               1     1.0       0.0        1.0         3     0.0     0.0   \n",
       "4               1     1.0       1.0        1.0         2     0.0     0.0   \n",
       "\n",
       "   HeartDiseaseorAttack  PhysActivity  Fruits  ...  GenHlth  MentHlth  \\\n",
       "0                   0.0           0.0     0.0  ...      5.0      18.0   \n",
       "1                   0.0           1.0     0.0  ...      3.0       0.0   \n",
       "2                   0.0           0.0     1.0  ...      5.0      30.0   \n",
       "3                   0.0           1.0     1.0  ...      2.0       0.0   \n",
       "4                   0.0           1.0     1.0  ...      2.0       3.0   \n",
       "\n",
       "   PhysHlth  DiffWalk  Sex   Age  Education  Income  Diabetes_012   BMI  \n",
       "0      15.0       1.0  0.0   9.0        4.0     3.0           0.0  40.0  \n",
       "1       0.0       0.0  0.0   7.0        6.0     1.0           0.0  25.0  \n",
       "2      30.0       1.0  0.0   9.0        4.0     8.0           0.0  28.0  \n",
       "3       0.0       0.0  0.0  11.0        3.0     6.0           0.0  27.0  \n",
       "4       0.0       0.0  0.0  11.0        5.0     4.0           0.0  24.0  \n",
       "\n",
       "[5 rows x 24 columns]"
      ]
     },
     "execution_count": 30,
     "metadata": {},
     "output_type": "execute_result"
    }
   ],
   "source": [
    "diabetes_df.head()"
   ]
  },
  {
   "cell_type": "code",
   "execution_count": 31,
   "id": "b2a621b3",
   "metadata": {},
   "outputs": [
    {
     "data": {
      "text/plain": [
       "0.0    141257\n",
       "1.0    112423\n",
       "Name: Smoker, dtype: int64"
      ]
     },
     "execution_count": 31,
     "metadata": {},
     "output_type": "execute_result"
    }
   ],
   "source": [
    "#Count number of each value in Smoker Column\n",
    "#Have you smoked at least 100 cigarettes in your entire life? [Note: 5 packs = 100 cigarettes] 0 = no 1 = yes\n",
    "diabetes_df['Smoker'].value_counts()\n"
   ]
  },
  {
   "cell_type": "code",
   "execution_count": 32,
   "id": "619df326",
   "metadata": {},
   "outputs": [
    {
     "data": {
      "text/plain": [
       "0.0    0.556831\n",
       "1.0    0.443169\n",
       "Name: Smoker, dtype: float64"
      ]
     },
     "execution_count": 32,
     "metadata": {},
     "output_type": "execute_result"
    }
   ],
   "source": [
    "#percentage\n",
    "diabetes_df.Smoker.value_counts(normalize=True)"
   ]
  },
  {
   "cell_type": "code",
   "execution_count": 33,
   "id": "4d310334",
   "metadata": {},
   "outputs": [
    {
     "data": {
      "text/plain": [
       "0.0    243388\n",
       "1.0     10292\n",
       "Name: Stroke, dtype: int64"
      ]
     },
     "execution_count": 33,
     "metadata": {},
     "output_type": "execute_result"
    }
   ],
   "source": [
    "#Count number of each value in Stroke Column\n",
    "#(Ever told) you had a stroke. 0 = no 1 = yes\n",
    "diabetes_df['Stroke'].value_counts()"
   ]
  },
  {
   "cell_type": "code",
   "execution_count": 34,
   "id": "b455355b",
   "metadata": {},
   "outputs": [
    {
     "data": {
      "text/plain": [
       "0.0    0.959429\n",
       "1.0    0.040571\n",
       "Name: Stroke, dtype: float64"
      ]
     },
     "execution_count": 34,
     "metadata": {},
     "output_type": "execute_result"
    }
   ],
   "source": [
    "#Percentage \n",
    "diabetes_df.Stroke.value_counts(normalize=True)"
   ]
  },
  {
   "cell_type": "code",
   "execution_count": 35,
   "id": "164eea01",
   "metadata": {},
   "outputs": [
    {
     "data": {
      "text/plain": [
       "0.0    229787\n",
       "1.0     23893\n",
       "Name: HeartDiseaseorAttack, dtype: int64"
      ]
     },
     "execution_count": 35,
     "metadata": {},
     "output_type": "execute_result"
    }
   ],
   "source": [
    "#Count number of each value in HeartDiseaseorAttack Column\n",
    "#coronary heart disease (CHD) or myocardial infarction (MI) 0 = no 1 = yes\n",
    "diabetes_df['HeartDiseaseorAttack'].value_counts()\n"
   ]
  },
  {
   "cell_type": "code",
   "execution_count": 36,
   "id": "a9d69cce",
   "metadata": {},
   "outputs": [
    {
     "data": {
      "text/plain": [
       "0.0    0.905814\n",
       "1.0    0.094186\n",
       "Name: HeartDiseaseorAttack, dtype: float64"
      ]
     },
     "execution_count": 36,
     "metadata": {},
     "output_type": "execute_result"
    }
   ],
   "source": [
    "#percentage\n",
    "diabetes_df.HeartDiseaseorAttack.value_counts(normalize=True)"
   ]
  },
  {
   "cell_type": "code",
   "execution_count": 37,
   "id": "0d07cfeb",
   "metadata": {},
   "outputs": [
    {
     "data": {
      "text/plain": [
       "1.0    191920\n",
       "0.0     61760\n",
       "Name: PhysActivity, dtype: int64"
      ]
     },
     "execution_count": 37,
     "metadata": {},
     "output_type": "execute_result"
    }
   ],
   "source": [
    "#Count number of each value in PhysActivity Column\n",
    "#physical activity in past 30 days - not including job 0 = no 1 = yes\n",
    "diabetes_df['PhysActivity'].value_counts()\n"
   ]
  },
  {
   "cell_type": "code",
   "execution_count": 38,
   "id": "b1745f8f",
   "metadata": {},
   "outputs": [
    {
     "data": {
      "text/plain": [
       "1.0    0.756544\n",
       "0.0    0.243456\n",
       "Name: PhysActivity, dtype: float64"
      ]
     },
     "execution_count": 38,
     "metadata": {},
     "output_type": "execute_result"
    }
   ],
   "source": [
    "#percentage\n",
    "diabetes_df.PhysActivity.value_counts(normalize=True)"
   ]
  },
  {
   "cell_type": "code",
   "execution_count": 39,
   "id": "273f0353",
   "metadata": {},
   "outputs": [
    {
     "data": {
      "text/plain": [
       "1.0    160898\n",
       "0.0     92782\n",
       "Name: Fruits, dtype: int64"
      ]
     },
     "execution_count": 39,
     "metadata": {},
     "output_type": "execute_result"
    }
   ],
   "source": [
    "#Count number of each value in Fruits Column\n",
    "#Consume Fruit 1 or more times per day 0 = no 1 = yes\n",
    "diabetes_df['Fruits'].value_counts()\n"
   ]
  },
  {
   "cell_type": "code",
   "execution_count": 40,
   "id": "9617019f",
   "metadata": {},
   "outputs": [
    {
     "data": {
      "text/plain": [
       "1.0    0.634256\n",
       "0.0    0.365744\n",
       "Name: Fruits, dtype: float64"
      ]
     },
     "execution_count": 40,
     "metadata": {},
     "output_type": "execute_result"
    }
   ],
   "source": [
    "#percentage\n",
    "diabetes_df.Fruits.value_counts(normalize=True)"
   ]
  },
  {
   "cell_type": "code",
   "execution_count": 41,
   "id": "8722e339",
   "metadata": {},
   "outputs": [
    {
     "data": {
      "text/plain": [
       "1.0    205841\n",
       "0.0     47839\n",
       "Name: Veggies, dtype: int64"
      ]
     },
     "execution_count": 41,
     "metadata": {},
     "output_type": "execute_result"
    }
   ],
   "source": [
    "#Count number of each value in Veggies Column\n",
    "#Consume Vegetables 1 or more times per day 0 = no 1 = yes\n",
    "diabetes_df['Veggies'].value_counts()\n"
   ]
  },
  {
   "cell_type": "code",
   "execution_count": 42,
   "id": "21e341da",
   "metadata": {},
   "outputs": [
    {
     "data": {
      "text/plain": [
       "1.0    0.81142\n",
       "0.0    0.18858\n",
       "Name: Veggies, dtype: float64"
      ]
     },
     "execution_count": 42,
     "metadata": {},
     "output_type": "execute_result"
    }
   ],
   "source": [
    "#percentage\n",
    "diabetes_df.Veggies.value_counts(normalize=True)"
   ]
  },
  {
   "cell_type": "code",
   "execution_count": 43,
   "id": "856d2e78",
   "metadata": {},
   "outputs": [
    {
     "data": {
      "text/plain": [
       "0.0    239424\n",
       "1.0     14256\n",
       "Name: HvyAlcoholConsump, dtype: int64"
      ]
     },
     "execution_count": 43,
     "metadata": {},
     "output_type": "execute_result"
    }
   ],
   "source": [
    "#Count number of each value in HvyAlcoholConsump Column\n",
    "#Heavy drinkers (adult men having more than 14 drinks per week and adult women having more than 7 drinks per week) 0 = no 1 = yes\n",
    "diabetes_df['HvyAlcoholConsump'].value_counts()"
   ]
  },
  {
   "cell_type": "code",
   "execution_count": 44,
   "id": "4c363684",
   "metadata": {},
   "outputs": [
    {
     "data": {
      "text/plain": [
       "0.0    0.943803\n",
       "1.0    0.056197\n",
       "Name: HvyAlcoholConsump, dtype: float64"
      ]
     },
     "execution_count": 44,
     "metadata": {},
     "output_type": "execute_result"
    }
   ],
   "source": [
    "#percentage\n",
    "diabetes_df.HvyAlcoholConsump.value_counts(normalize=True)"
   ]
  },
  {
   "cell_type": "code",
   "execution_count": 45,
   "id": "5627b86c",
   "metadata": {},
   "outputs": [
    {
     "data": {
      "text/plain": [
       "1.0    241263\n",
       "0.0     12417\n",
       "Name: AnyHealthcare, dtype: int64"
      ]
     },
     "execution_count": 45,
     "metadata": {},
     "output_type": "execute_result"
    }
   ],
   "source": [
    "#Count number of each value in AnyHealthcare Column\n",
    "#Have any kind of health care coverage, including health insurance, prepaid plans such as HMO, etc. 0 = no 1 = yes\n",
    "diabetes_df['AnyHealthcare'].value_counts()"
   ]
  },
  {
   "cell_type": "code",
   "execution_count": 46,
   "id": "1d9b5465",
   "metadata": {},
   "outputs": [
    {
     "data": {
      "text/plain": [
       "1.0    0.951053\n",
       "0.0    0.048947\n",
       "Name: AnyHealthcare, dtype: float64"
      ]
     },
     "execution_count": 46,
     "metadata": {},
     "output_type": "execute_result"
    }
   ],
   "source": [
    "#percentage\n",
    "diabetes_df.AnyHealthcare.value_counts(normalize=True)"
   ]
  },
  {
   "cell_type": "code",
   "execution_count": 47,
   "id": "be735e6e",
   "metadata": {},
   "outputs": [
    {
     "data": {
      "text/plain": [
       "0.0    232326\n",
       "1.0     21354\n",
       "Name: NoDocbcCost, dtype: int64"
      ]
     },
     "execution_count": 47,
     "metadata": {},
     "output_type": "execute_result"
    }
   ],
   "source": [
    "#Count number of each value in NoDocbcCost Column\n",
    "#Was there a time in the past 12 months when you needed to see a doctor but could not because of cost? 0 = no 1 = yes\n",
    "diabetes_df['NoDocbcCost'].value_counts()"
   ]
  },
  {
   "cell_type": "code",
   "execution_count": 48,
   "id": "6e65563d",
   "metadata": {},
   "outputs": [
    {
     "data": {
      "text/plain": [
       "0.0    0.915823\n",
       "1.0    0.084177\n",
       "Name: NoDocbcCost, dtype: float64"
      ]
     },
     "execution_count": 48,
     "metadata": {},
     "output_type": "execute_result"
    }
   ],
   "source": [
    "#percentage\n",
    "diabetes_df.NoDocbcCost.value_counts(normalize=True)"
   ]
  },
  {
   "cell_type": "code",
   "execution_count": 49,
   "id": "20eddc7f",
   "metadata": {},
   "outputs": [
    {
     "data": {
      "text/plain": [
       "2.0    89084\n",
       "3.0    75646\n",
       "1.0    45299\n",
       "4.0    31570\n",
       "5.0    12081\n",
       "Name: GenHlth, dtype: int64"
      ]
     },
     "execution_count": 49,
     "metadata": {},
     "output_type": "execute_result"
    }
   ],
   "source": [
    "#Count number of each value in GenHlth Column\n",
    "#Would you say that in general your health is: scale 1-5 1 = excellent 2 = very good 3 = good 4 = fair 5 = poor\n",
    "diabetes_df['GenHlth'].value_counts()"
   ]
  },
  {
   "cell_type": "code",
   "execution_count": 50,
   "id": "2dcbcc30",
   "metadata": {},
   "outputs": [
    {
     "data": {
      "text/plain": [
       "2.0    0.351167\n",
       "3.0    0.298195\n",
       "1.0    0.178567\n",
       "4.0    0.124448\n",
       "5.0    0.047623\n",
       "Name: GenHlth, dtype: float64"
      ]
     },
     "execution_count": 50,
     "metadata": {},
     "output_type": "execute_result"
    }
   ],
   "source": [
    "#percentage\n",
    "diabetes_df.GenHlth.value_counts(normalize=True)"
   ]
  },
  {
   "cell_type": "code",
   "execution_count": 51,
   "id": "d77563c0",
   "metadata": {
    "scrolled": true
   },
   "outputs": [
    {
     "data": {
      "text/plain": [
       "0.0     175680\n",
       "2.0      13054\n",
       "30.0     12088\n",
       "5.0       9030\n",
       "1.0       8538\n",
       "3.0       7381\n",
       "10.0      6373\n",
       "15.0      5505\n",
       "4.0       3789\n",
       "20.0      3364\n",
       "7.0       3100\n",
       "25.0      1188\n",
       "14.0      1167\n",
       "6.0        988\n",
       "8.0        639\n",
       "12.0       398\n",
       "28.0       327\n",
       "21.0       227\n",
       "29.0       158\n",
       "18.0        97\n",
       "9.0         91\n",
       "16.0        88\n",
       "27.0        79\n",
       "22.0        63\n",
       "17.0        54\n",
       "26.0        45\n",
       "11.0        41\n",
       "13.0        41\n",
       "23.0        38\n",
       "24.0        33\n",
       "19.0        16\n",
       "Name: MentHlth, dtype: int64"
      ]
     },
     "execution_count": 51,
     "metadata": {},
     "output_type": "execute_result"
    }
   ],
   "source": [
    "#Count number of each value in MentHlth Column\n",
    "#Now thinking about your mental health, which includes stress, depression, and problems with \n",
    "#emotions, for how many days during the past 30 days was your mental health not good? scale 1-30 days\n",
    "diabetes_df['MentHlth'].value_counts()\n"
   ]
  },
  {
   "cell_type": "code",
   "execution_count": 52,
   "id": "6e655605",
   "metadata": {
    "scrolled": true
   },
   "outputs": [
    {
     "data": {
      "text/plain": [
       "0.0     0.692526\n",
       "2.0     0.051459\n",
       "30.0    0.047651\n",
       "5.0     0.035596\n",
       "1.0     0.033657\n",
       "3.0     0.029096\n",
       "10.0    0.025122\n",
       "15.0    0.021701\n",
       "4.0     0.014936\n",
       "20.0    0.013261\n",
       "7.0     0.012220\n",
       "25.0    0.004683\n",
       "14.0    0.004600\n",
       "6.0     0.003895\n",
       "8.0     0.002519\n",
       "12.0    0.001569\n",
       "28.0    0.001289\n",
       "21.0    0.000895\n",
       "29.0    0.000623\n",
       "18.0    0.000382\n",
       "9.0     0.000359\n",
       "16.0    0.000347\n",
       "27.0    0.000311\n",
       "22.0    0.000248\n",
       "17.0    0.000213\n",
       "26.0    0.000177\n",
       "11.0    0.000162\n",
       "13.0    0.000162\n",
       "23.0    0.000150\n",
       "24.0    0.000130\n",
       "19.0    0.000063\n",
       "Name: MentHlth, dtype: float64"
      ]
     },
     "execution_count": 52,
     "metadata": {},
     "output_type": "execute_result"
    }
   ],
   "source": [
    "#percentage\n",
    "diabetes_df.MentHlth.value_counts(normalize=True)"
   ]
  },
  {
   "cell_type": "code",
   "execution_count": 53,
   "id": "225a8ce7",
   "metadata": {},
   "outputs": [
    {
     "data": {
      "text/plain": [
       "count     253680\n",
       "unique         6\n",
       "top            1\n",
       "freq      217472\n",
       "Name: Mental_Health_Range, dtype: int64"
      ]
     },
     "execution_count": 53,
     "metadata": {},
     "output_type": "execute_result"
    }
   ],
   "source": [
    "mhealth_bin_range = [-1, 5, 10, 15, 20, 25, 32]\n",
    "\n",
    "mhealth_bins = [1, 2, 3, 4, 5, 6]\n",
    "\n",
    "diabetes_df['Mental_Health_Range'] = pd.cut(diabetes_df['MentHlth'], mhealth_bin_range, labels=mhealth_bins)\n",
    "\n",
    "diabetes_df.Mental_Health_Range.describe()"
   ]
  },
  {
   "cell_type": "code",
   "execution_count": 54,
   "id": "77b2a695",
   "metadata": {},
   "outputs": [
    {
     "data": {
      "text/plain": [
       "Index(['Diabetes_Status', 'HighBP', 'HighChol', 'CholCheck', 'BMI_Range',\n",
       "       'Smoker', 'Stroke', 'HeartDiseaseorAttack', 'PhysActivity', 'Fruits',\n",
       "       'Veggies', 'HvyAlcoholConsump', 'AnyHealthcare', 'NoDocbcCost',\n",
       "       'GenHlth', 'MentHlth', 'PhysHlth', 'DiffWalk', 'Sex', 'Age',\n",
       "       'Education', 'Income', 'Diabetes_012', 'BMI', 'Mental_Health_Range'],\n",
       "      dtype='object')"
      ]
     },
     "execution_count": 54,
     "metadata": {},
     "output_type": "execute_result"
    }
   ],
   "source": [
    "diabetes_df.columns"
   ]
  },
  {
   "cell_type": "code",
   "execution_count": 55,
   "id": "133cf408",
   "metadata": {},
   "outputs": [],
   "source": [
    "#reorder columns \n",
    "diabetes_df = diabetes_df[['Diabetes_Status', 'HighBP', 'HighChol', 'CholCheck', 'BMI_Range',\n",
    "       'Smoker', 'Stroke', 'HeartDiseaseorAttack', 'PhysActivity', 'Fruits',\n",
    "       'Veggies', 'HvyAlcoholConsump', 'AnyHealthcare', 'NoDocbcCost',\n",
    "       'GenHlth', 'Mental_Health_Range', 'PhysHlth', 'DiffWalk', 'Sex', 'Age',\n",
    "       'Education', 'Income', 'Diabetes_012', 'BMI', 'MentHlth']]"
   ]
  },
  {
   "cell_type": "code",
   "execution_count": 56,
   "id": "d68b5d72",
   "metadata": {},
   "outputs": [
    {
     "data": {
      "text/html": [
       "<div>\n",
       "<style scoped>\n",
       "    .dataframe tbody tr th:only-of-type {\n",
       "        vertical-align: middle;\n",
       "    }\n",
       "\n",
       "    .dataframe tbody tr th {\n",
       "        vertical-align: top;\n",
       "    }\n",
       "\n",
       "    .dataframe thead th {\n",
       "        text-align: right;\n",
       "    }\n",
       "</style>\n",
       "<table border=\"1\" class=\"dataframe\">\n",
       "  <thead>\n",
       "    <tr style=\"text-align: right;\">\n",
       "      <th></th>\n",
       "      <th>Diabetes_Status</th>\n",
       "      <th>HighBP</th>\n",
       "      <th>HighChol</th>\n",
       "      <th>CholCheck</th>\n",
       "      <th>BMI_Range</th>\n",
       "      <th>Smoker</th>\n",
       "      <th>Stroke</th>\n",
       "      <th>HeartDiseaseorAttack</th>\n",
       "      <th>PhysActivity</th>\n",
       "      <th>Fruits</th>\n",
       "      <th>...</th>\n",
       "      <th>Mental_Health_Range</th>\n",
       "      <th>PhysHlth</th>\n",
       "      <th>DiffWalk</th>\n",
       "      <th>Sex</th>\n",
       "      <th>Age</th>\n",
       "      <th>Education</th>\n",
       "      <th>Income</th>\n",
       "      <th>Diabetes_012</th>\n",
       "      <th>BMI</th>\n",
       "      <th>MentHlth</th>\n",
       "    </tr>\n",
       "  </thead>\n",
       "  <tbody>\n",
       "    <tr>\n",
       "      <th>0</th>\n",
       "      <td>1</td>\n",
       "      <td>1.0</td>\n",
       "      <td>1.0</td>\n",
       "      <td>1.0</td>\n",
       "      <td>4</td>\n",
       "      <td>1.0</td>\n",
       "      <td>0.0</td>\n",
       "      <td>0.0</td>\n",
       "      <td>0.0</td>\n",
       "      <td>0.0</td>\n",
       "      <td>...</td>\n",
       "      <td>4</td>\n",
       "      <td>15.0</td>\n",
       "      <td>1.0</td>\n",
       "      <td>0.0</td>\n",
       "      <td>9.0</td>\n",
       "      <td>4.0</td>\n",
       "      <td>3.0</td>\n",
       "      <td>0.0</td>\n",
       "      <td>40.0</td>\n",
       "      <td>18.0</td>\n",
       "    </tr>\n",
       "    <tr>\n",
       "      <th>1</th>\n",
       "      <td>1</td>\n",
       "      <td>0.0</td>\n",
       "      <td>0.0</td>\n",
       "      <td>0.0</td>\n",
       "      <td>3</td>\n",
       "      <td>1.0</td>\n",
       "      <td>0.0</td>\n",
       "      <td>0.0</td>\n",
       "      <td>1.0</td>\n",
       "      <td>0.0</td>\n",
       "      <td>...</td>\n",
       "      <td>1</td>\n",
       "      <td>0.0</td>\n",
       "      <td>0.0</td>\n",
       "      <td>0.0</td>\n",
       "      <td>7.0</td>\n",
       "      <td>6.0</td>\n",
       "      <td>1.0</td>\n",
       "      <td>0.0</td>\n",
       "      <td>25.0</td>\n",
       "      <td>0.0</td>\n",
       "    </tr>\n",
       "    <tr>\n",
       "      <th>2</th>\n",
       "      <td>1</td>\n",
       "      <td>1.0</td>\n",
       "      <td>1.0</td>\n",
       "      <td>1.0</td>\n",
       "      <td>3</td>\n",
       "      <td>0.0</td>\n",
       "      <td>0.0</td>\n",
       "      <td>0.0</td>\n",
       "      <td>0.0</td>\n",
       "      <td>1.0</td>\n",
       "      <td>...</td>\n",
       "      <td>6</td>\n",
       "      <td>30.0</td>\n",
       "      <td>1.0</td>\n",
       "      <td>0.0</td>\n",
       "      <td>9.0</td>\n",
       "      <td>4.0</td>\n",
       "      <td>8.0</td>\n",
       "      <td>0.0</td>\n",
       "      <td>28.0</td>\n",
       "      <td>30.0</td>\n",
       "    </tr>\n",
       "    <tr>\n",
       "      <th>3</th>\n",
       "      <td>1</td>\n",
       "      <td>1.0</td>\n",
       "      <td>0.0</td>\n",
       "      <td>1.0</td>\n",
       "      <td>3</td>\n",
       "      <td>0.0</td>\n",
       "      <td>0.0</td>\n",
       "      <td>0.0</td>\n",
       "      <td>1.0</td>\n",
       "      <td>1.0</td>\n",
       "      <td>...</td>\n",
       "      <td>1</td>\n",
       "      <td>0.0</td>\n",
       "      <td>0.0</td>\n",
       "      <td>0.0</td>\n",
       "      <td>11.0</td>\n",
       "      <td>3.0</td>\n",
       "      <td>6.0</td>\n",
       "      <td>0.0</td>\n",
       "      <td>27.0</td>\n",
       "      <td>0.0</td>\n",
       "    </tr>\n",
       "    <tr>\n",
       "      <th>4</th>\n",
       "      <td>1</td>\n",
       "      <td>1.0</td>\n",
       "      <td>1.0</td>\n",
       "      <td>1.0</td>\n",
       "      <td>2</td>\n",
       "      <td>0.0</td>\n",
       "      <td>0.0</td>\n",
       "      <td>0.0</td>\n",
       "      <td>1.0</td>\n",
       "      <td>1.0</td>\n",
       "      <td>...</td>\n",
       "      <td>1</td>\n",
       "      <td>0.0</td>\n",
       "      <td>0.0</td>\n",
       "      <td>0.0</td>\n",
       "      <td>11.0</td>\n",
       "      <td>5.0</td>\n",
       "      <td>4.0</td>\n",
       "      <td>0.0</td>\n",
       "      <td>24.0</td>\n",
       "      <td>3.0</td>\n",
       "    </tr>\n",
       "  </tbody>\n",
       "</table>\n",
       "<p>5 rows × 25 columns</p>\n",
       "</div>"
      ],
      "text/plain": [
       "  Diabetes_Status  HighBP  HighChol  CholCheck BMI_Range  Smoker  Stroke  \\\n",
       "0               1     1.0       1.0        1.0         4     1.0     0.0   \n",
       "1               1     0.0       0.0        0.0         3     1.0     0.0   \n",
       "2               1     1.0       1.0        1.0         3     0.0     0.0   \n",
       "3               1     1.0       0.0        1.0         3     0.0     0.0   \n",
       "4               1     1.0       1.0        1.0         2     0.0     0.0   \n",
       "\n",
       "   HeartDiseaseorAttack  PhysActivity  Fruits  ...  Mental_Health_Range  \\\n",
       "0                   0.0           0.0     0.0  ...                    4   \n",
       "1                   0.0           1.0     0.0  ...                    1   \n",
       "2                   0.0           0.0     1.0  ...                    6   \n",
       "3                   0.0           1.0     1.0  ...                    1   \n",
       "4                   0.0           1.0     1.0  ...                    1   \n",
       "\n",
       "   PhysHlth  DiffWalk  Sex   Age Education  Income  Diabetes_012   BMI  \\\n",
       "0      15.0       1.0  0.0   9.0       4.0     3.0           0.0  40.0   \n",
       "1       0.0       0.0  0.0   7.0       6.0     1.0           0.0  25.0   \n",
       "2      30.0       1.0  0.0   9.0       4.0     8.0           0.0  28.0   \n",
       "3       0.0       0.0  0.0  11.0       3.0     6.0           0.0  27.0   \n",
       "4       0.0       0.0  0.0  11.0       5.0     4.0           0.0  24.0   \n",
       "\n",
       "   MentHlth  \n",
       "0      18.0  \n",
       "1       0.0  \n",
       "2      30.0  \n",
       "3       0.0  \n",
       "4       3.0  \n",
       "\n",
       "[5 rows x 25 columns]"
      ]
     },
     "execution_count": 56,
     "metadata": {},
     "output_type": "execute_result"
    }
   ],
   "source": [
    "diabetes_df.head()"
   ]
  },
  {
   "cell_type": "code",
   "execution_count": 57,
   "id": "f1acf895",
   "metadata": {},
   "outputs": [
    {
     "name": "stdout",
     "output_type": "stream",
     "text": [
      "<class 'pandas.core.frame.DataFrame'>\n",
      "RangeIndex: 253680 entries, 0 to 253679\n",
      "Data columns (total 25 columns):\n",
      " #   Column                Non-Null Count   Dtype   \n",
      "---  ------                --------------   -----   \n",
      " 0   Diabetes_Status       253680 non-null  category\n",
      " 1   HighBP                253680 non-null  float64 \n",
      " 2   HighChol              253680 non-null  float64 \n",
      " 3   CholCheck             253680 non-null  float64 \n",
      " 4   BMI_Range             253680 non-null  category\n",
      " 5   Smoker                253680 non-null  float64 \n",
      " 6   Stroke                253680 non-null  float64 \n",
      " 7   HeartDiseaseorAttack  253680 non-null  float64 \n",
      " 8   PhysActivity          253680 non-null  float64 \n",
      " 9   Fruits                253680 non-null  float64 \n",
      " 10  Veggies               253680 non-null  float64 \n",
      " 11  HvyAlcoholConsump     253680 non-null  float64 \n",
      " 12  AnyHealthcare         253680 non-null  float64 \n",
      " 13  NoDocbcCost           253680 non-null  float64 \n",
      " 14  GenHlth               253680 non-null  float64 \n",
      " 15  Mental_Health_Range   253680 non-null  category\n",
      " 16  PhysHlth              253680 non-null  float64 \n",
      " 17  DiffWalk              253680 non-null  float64 \n",
      " 18  Sex                   253680 non-null  float64 \n",
      " 19  Age                   253680 non-null  float64 \n",
      " 20  Education             253680 non-null  float64 \n",
      " 21  Income                253680 non-null  float64 \n",
      " 22  Diabetes_012          253680 non-null  float64 \n",
      " 23  BMI                   253680 non-null  float64 \n",
      " 24  MentHlth              253680 non-null  float64 \n",
      "dtypes: category(3), float64(22)\n",
      "memory usage: 43.3 MB\n"
     ]
    }
   ],
   "source": [
    "diabetes_df.info()"
   ]
  },
  {
   "cell_type": "code",
   "execution_count": 58,
   "id": "ed67511c",
   "metadata": {},
   "outputs": [
    {
     "data": {
      "text/plain": [
       "0.0     160052\n",
       "30.0     19400\n",
       "2.0      14764\n",
       "1.0      11388\n",
       "3.0       8495\n",
       "5.0       7622\n",
       "10.0      5595\n",
       "15.0      4916\n",
       "4.0       4542\n",
       "7.0       4538\n",
       "20.0      3273\n",
       "14.0      2587\n",
       "25.0      1336\n",
       "6.0       1330\n",
       "8.0        809\n",
       "21.0       663\n",
       "12.0       578\n",
       "28.0       522\n",
       "29.0       215\n",
       "9.0        179\n",
       "18.0       152\n",
       "16.0       112\n",
       "27.0        99\n",
       "17.0        96\n",
       "24.0        72\n",
       "22.0        70\n",
       "26.0        69\n",
       "13.0        68\n",
       "11.0        60\n",
       "23.0        56\n",
       "19.0        22\n",
       "Name: PhysHlth, dtype: int64"
      ]
     },
     "execution_count": 58,
     "metadata": {},
     "output_type": "execute_result"
    }
   ],
   "source": [
    "#Count number of each value in PhysHlth Column\n",
    "#Now thinking about your physical health, which includes physical illness and injury, for how many days \n",
    "#during the past 30 days was your physical health not good? scale 1-30 days\n",
    "diabetes_df['PhysHlth'].value_counts()\n"
   ]
  },
  {
   "cell_type": "code",
   "execution_count": 59,
   "id": "fd473a2c",
   "metadata": {
    "scrolled": true
   },
   "outputs": [
    {
     "data": {
      "text/plain": [
       "0.0     0.630921\n",
       "30.0    0.076474\n",
       "2.0     0.058199\n",
       "1.0     0.044891\n",
       "3.0     0.033487\n",
       "5.0     0.030046\n",
       "10.0    0.022055\n",
       "15.0    0.019379\n",
       "4.0     0.017904\n",
       "7.0     0.017889\n",
       "20.0    0.012902\n",
       "14.0    0.010198\n",
       "25.0    0.005266\n",
       "6.0     0.005243\n",
       "8.0     0.003189\n",
       "21.0    0.002614\n",
       "12.0    0.002278\n",
       "28.0    0.002058\n",
       "29.0    0.000848\n",
       "9.0     0.000706\n",
       "18.0    0.000599\n",
       "16.0    0.000442\n",
       "27.0    0.000390\n",
       "17.0    0.000378\n",
       "24.0    0.000284\n",
       "22.0    0.000276\n",
       "26.0    0.000272\n",
       "13.0    0.000268\n",
       "11.0    0.000237\n",
       "23.0    0.000221\n",
       "19.0    0.000087\n",
       "Name: PhysHlth, dtype: float64"
      ]
     },
     "execution_count": 59,
     "metadata": {},
     "output_type": "execute_result"
    }
   ],
   "source": [
    "#percentage\n",
    "diabetes_df.PhysHlth.value_counts(normalize=True)"
   ]
  },
  {
   "cell_type": "code",
   "execution_count": 60,
   "id": "0eeaa412",
   "metadata": {},
   "outputs": [
    {
     "data": {
      "text/plain": [
       "count     253680\n",
       "unique         6\n",
       "top            1\n",
       "freq      206863\n",
       "Name: Physical_Health_Range, dtype: int64"
      ]
     },
     "execution_count": 60,
     "metadata": {},
     "output_type": "execute_result"
    }
   ],
   "source": [
    "phealth_bin_range = [-1, 5, 10, 15, 20, 25, 32]\n",
    "\n",
    "phealth_bins = [1, 2, 3, 4, 5, 6]\n",
    "\n",
    "diabetes_df['Physical_Health_Range'] = pd.cut(diabetes_df['PhysHlth'], phealth_bin_range, labels=phealth_bins)\n",
    "\n",
    "diabetes_df.Physical_Health_Range.describe()"
   ]
  },
  {
   "cell_type": "code",
   "execution_count": 61,
   "id": "d76dd331",
   "metadata": {},
   "outputs": [
    {
     "data": {
      "text/plain": [
       "Index(['Diabetes_Status', 'HighBP', 'HighChol', 'CholCheck', 'BMI_Range',\n",
       "       'Smoker', 'Stroke', 'HeartDiseaseorAttack', 'PhysActivity', 'Fruits',\n",
       "       'Veggies', 'HvyAlcoholConsump', 'AnyHealthcare', 'NoDocbcCost',\n",
       "       'GenHlth', 'Mental_Health_Range', 'PhysHlth', 'DiffWalk', 'Sex', 'Age',\n",
       "       'Education', 'Income', 'Diabetes_012', 'BMI', 'MentHlth',\n",
       "       'Physical_Health_Range'],\n",
       "      dtype='object')"
      ]
     },
     "execution_count": 61,
     "metadata": {},
     "output_type": "execute_result"
    }
   ],
   "source": [
    "diabetes_df.columns"
   ]
  },
  {
   "cell_type": "code",
   "execution_count": 62,
   "id": "d0a73fa5",
   "metadata": {},
   "outputs": [],
   "source": [
    "#reorganize columns \n",
    "diabetes_df = diabetes_df[['Diabetes_Status', 'HighBP', 'HighChol', 'CholCheck', 'BMI_Range',\n",
    "       'Smoker', 'Stroke', 'HeartDiseaseorAttack', 'PhysActivity', 'Fruits',\n",
    "       'Veggies', 'HvyAlcoholConsump', 'AnyHealthcare', 'NoDocbcCost',\n",
    "       'GenHlth', 'Mental_Health_Range', 'Physical_Health_Range', 'DiffWalk', 'Sex', 'Age',\n",
    "       'Education', 'Income', 'Diabetes_012', 'BMI', 'MentHlth', 'PhysHlth']]"
   ]
  },
  {
   "cell_type": "code",
   "execution_count": 63,
   "id": "6ac60f08",
   "metadata": {},
   "outputs": [
    {
     "data": {
      "text/html": [
       "<div>\n",
       "<style scoped>\n",
       "    .dataframe tbody tr th:only-of-type {\n",
       "        vertical-align: middle;\n",
       "    }\n",
       "\n",
       "    .dataframe tbody tr th {\n",
       "        vertical-align: top;\n",
       "    }\n",
       "\n",
       "    .dataframe thead th {\n",
       "        text-align: right;\n",
       "    }\n",
       "</style>\n",
       "<table border=\"1\" class=\"dataframe\">\n",
       "  <thead>\n",
       "    <tr style=\"text-align: right;\">\n",
       "      <th></th>\n",
       "      <th>Diabetes_Status</th>\n",
       "      <th>HighBP</th>\n",
       "      <th>HighChol</th>\n",
       "      <th>CholCheck</th>\n",
       "      <th>BMI_Range</th>\n",
       "      <th>Smoker</th>\n",
       "      <th>Stroke</th>\n",
       "      <th>HeartDiseaseorAttack</th>\n",
       "      <th>PhysActivity</th>\n",
       "      <th>Fruits</th>\n",
       "      <th>...</th>\n",
       "      <th>Physical_Health_Range</th>\n",
       "      <th>DiffWalk</th>\n",
       "      <th>Sex</th>\n",
       "      <th>Age</th>\n",
       "      <th>Education</th>\n",
       "      <th>Income</th>\n",
       "      <th>Diabetes_012</th>\n",
       "      <th>BMI</th>\n",
       "      <th>MentHlth</th>\n",
       "      <th>PhysHlth</th>\n",
       "    </tr>\n",
       "  </thead>\n",
       "  <tbody>\n",
       "    <tr>\n",
       "      <th>0</th>\n",
       "      <td>1</td>\n",
       "      <td>1.0</td>\n",
       "      <td>1.0</td>\n",
       "      <td>1.0</td>\n",
       "      <td>4</td>\n",
       "      <td>1.0</td>\n",
       "      <td>0.0</td>\n",
       "      <td>0.0</td>\n",
       "      <td>0.0</td>\n",
       "      <td>0.0</td>\n",
       "      <td>...</td>\n",
       "      <td>3</td>\n",
       "      <td>1.0</td>\n",
       "      <td>0.0</td>\n",
       "      <td>9.0</td>\n",
       "      <td>4.0</td>\n",
       "      <td>3.0</td>\n",
       "      <td>0.0</td>\n",
       "      <td>40.0</td>\n",
       "      <td>18.0</td>\n",
       "      <td>15.0</td>\n",
       "    </tr>\n",
       "    <tr>\n",
       "      <th>1</th>\n",
       "      <td>1</td>\n",
       "      <td>0.0</td>\n",
       "      <td>0.0</td>\n",
       "      <td>0.0</td>\n",
       "      <td>3</td>\n",
       "      <td>1.0</td>\n",
       "      <td>0.0</td>\n",
       "      <td>0.0</td>\n",
       "      <td>1.0</td>\n",
       "      <td>0.0</td>\n",
       "      <td>...</td>\n",
       "      <td>1</td>\n",
       "      <td>0.0</td>\n",
       "      <td>0.0</td>\n",
       "      <td>7.0</td>\n",
       "      <td>6.0</td>\n",
       "      <td>1.0</td>\n",
       "      <td>0.0</td>\n",
       "      <td>25.0</td>\n",
       "      <td>0.0</td>\n",
       "      <td>0.0</td>\n",
       "    </tr>\n",
       "    <tr>\n",
       "      <th>2</th>\n",
       "      <td>1</td>\n",
       "      <td>1.0</td>\n",
       "      <td>1.0</td>\n",
       "      <td>1.0</td>\n",
       "      <td>3</td>\n",
       "      <td>0.0</td>\n",
       "      <td>0.0</td>\n",
       "      <td>0.0</td>\n",
       "      <td>0.0</td>\n",
       "      <td>1.0</td>\n",
       "      <td>...</td>\n",
       "      <td>6</td>\n",
       "      <td>1.0</td>\n",
       "      <td>0.0</td>\n",
       "      <td>9.0</td>\n",
       "      <td>4.0</td>\n",
       "      <td>8.0</td>\n",
       "      <td>0.0</td>\n",
       "      <td>28.0</td>\n",
       "      <td>30.0</td>\n",
       "      <td>30.0</td>\n",
       "    </tr>\n",
       "    <tr>\n",
       "      <th>3</th>\n",
       "      <td>1</td>\n",
       "      <td>1.0</td>\n",
       "      <td>0.0</td>\n",
       "      <td>1.0</td>\n",
       "      <td>3</td>\n",
       "      <td>0.0</td>\n",
       "      <td>0.0</td>\n",
       "      <td>0.0</td>\n",
       "      <td>1.0</td>\n",
       "      <td>1.0</td>\n",
       "      <td>...</td>\n",
       "      <td>1</td>\n",
       "      <td>0.0</td>\n",
       "      <td>0.0</td>\n",
       "      <td>11.0</td>\n",
       "      <td>3.0</td>\n",
       "      <td>6.0</td>\n",
       "      <td>0.0</td>\n",
       "      <td>27.0</td>\n",
       "      <td>0.0</td>\n",
       "      <td>0.0</td>\n",
       "    </tr>\n",
       "    <tr>\n",
       "      <th>4</th>\n",
       "      <td>1</td>\n",
       "      <td>1.0</td>\n",
       "      <td>1.0</td>\n",
       "      <td>1.0</td>\n",
       "      <td>2</td>\n",
       "      <td>0.0</td>\n",
       "      <td>0.0</td>\n",
       "      <td>0.0</td>\n",
       "      <td>1.0</td>\n",
       "      <td>1.0</td>\n",
       "      <td>...</td>\n",
       "      <td>1</td>\n",
       "      <td>0.0</td>\n",
       "      <td>0.0</td>\n",
       "      <td>11.0</td>\n",
       "      <td>5.0</td>\n",
       "      <td>4.0</td>\n",
       "      <td>0.0</td>\n",
       "      <td>24.0</td>\n",
       "      <td>3.0</td>\n",
       "      <td>0.0</td>\n",
       "    </tr>\n",
       "  </tbody>\n",
       "</table>\n",
       "<p>5 rows × 26 columns</p>\n",
       "</div>"
      ],
      "text/plain": [
       "  Diabetes_Status  HighBP  HighChol  CholCheck BMI_Range  Smoker  Stroke  \\\n",
       "0               1     1.0       1.0        1.0         4     1.0     0.0   \n",
       "1               1     0.0       0.0        0.0         3     1.0     0.0   \n",
       "2               1     1.0       1.0        1.0         3     0.0     0.0   \n",
       "3               1     1.0       0.0        1.0         3     0.0     0.0   \n",
       "4               1     1.0       1.0        1.0         2     0.0     0.0   \n",
       "\n",
       "   HeartDiseaseorAttack  PhysActivity  Fruits  ...  Physical_Health_Range  \\\n",
       "0                   0.0           0.0     0.0  ...                      3   \n",
       "1                   0.0           1.0     0.0  ...                      1   \n",
       "2                   0.0           0.0     1.0  ...                      6   \n",
       "3                   0.0           1.0     1.0  ...                      1   \n",
       "4                   0.0           1.0     1.0  ...                      1   \n",
       "\n",
       "   DiffWalk  Sex   Age  Education Income Diabetes_012   BMI  MentHlth  \\\n",
       "0       1.0  0.0   9.0        4.0    3.0          0.0  40.0      18.0   \n",
       "1       0.0  0.0   7.0        6.0    1.0          0.0  25.0       0.0   \n",
       "2       1.0  0.0   9.0        4.0    8.0          0.0  28.0      30.0   \n",
       "3       0.0  0.0  11.0        3.0    6.0          0.0  27.0       0.0   \n",
       "4       0.0  0.0  11.0        5.0    4.0          0.0  24.0       3.0   \n",
       "\n",
       "   PhysHlth  \n",
       "0      15.0  \n",
       "1       0.0  \n",
       "2      30.0  \n",
       "3       0.0  \n",
       "4       0.0  \n",
       "\n",
       "[5 rows x 26 columns]"
      ]
     },
     "execution_count": 63,
     "metadata": {},
     "output_type": "execute_result"
    }
   ],
   "source": [
    "diabetes_df.head()"
   ]
  },
  {
   "cell_type": "code",
   "execution_count": 64,
   "id": "1cda8249",
   "metadata": {},
   "outputs": [
    {
     "name": "stdout",
     "output_type": "stream",
     "text": [
      "<class 'pandas.core.frame.DataFrame'>\n",
      "RangeIndex: 253680 entries, 0 to 253679\n",
      "Data columns (total 26 columns):\n",
      " #   Column                 Non-Null Count   Dtype   \n",
      "---  ------                 --------------   -----   \n",
      " 0   Diabetes_Status        253680 non-null  category\n",
      " 1   HighBP                 253680 non-null  float64 \n",
      " 2   HighChol               253680 non-null  float64 \n",
      " 3   CholCheck              253680 non-null  float64 \n",
      " 4   BMI_Range              253680 non-null  category\n",
      " 5   Smoker                 253680 non-null  float64 \n",
      " 6   Stroke                 253680 non-null  float64 \n",
      " 7   HeartDiseaseorAttack   253680 non-null  float64 \n",
      " 8   PhysActivity           253680 non-null  float64 \n",
      " 9   Fruits                 253680 non-null  float64 \n",
      " 10  Veggies                253680 non-null  float64 \n",
      " 11  HvyAlcoholConsump      253680 non-null  float64 \n",
      " 12  AnyHealthcare          253680 non-null  float64 \n",
      " 13  NoDocbcCost            253680 non-null  float64 \n",
      " 14  GenHlth                253680 non-null  float64 \n",
      " 15  Mental_Health_Range    253680 non-null  category\n",
      " 16  Physical_Health_Range  253680 non-null  category\n",
      " 17  DiffWalk               253680 non-null  float64 \n",
      " 18  Sex                    253680 non-null  float64 \n",
      " 19  Age                    253680 non-null  float64 \n",
      " 20  Education              253680 non-null  float64 \n",
      " 21  Income                 253680 non-null  float64 \n",
      " 22  Diabetes_012           253680 non-null  float64 \n",
      " 23  BMI                    253680 non-null  float64 \n",
      " 24  MentHlth               253680 non-null  float64 \n",
      " 25  PhysHlth               253680 non-null  float64 \n",
      "dtypes: category(4), float64(22)\n",
      "memory usage: 43.5 MB\n"
     ]
    }
   ],
   "source": [
    "diabetes_df.info()"
   ]
  },
  {
   "cell_type": "code",
   "execution_count": 65,
   "id": "87780db9",
   "metadata": {},
   "outputs": [
    {
     "data": {
      "text/plain": [
       "0.0    211005\n",
       "1.0     42675\n",
       "Name: DiffWalk, dtype: int64"
      ]
     },
     "execution_count": 65,
     "metadata": {},
     "output_type": "execute_result"
    }
   ],
   "source": [
    "#Count number of each value in DiffWalk Column\n",
    "#Do you have serious difficulty walking or climbing stairs? 0 = no 1 = yes\n",
    "diabetes_df['DiffWalk'].value_counts()\n"
   ]
  },
  {
   "cell_type": "code",
   "execution_count": 66,
   "id": "9ad12276",
   "metadata": {},
   "outputs": [
    {
     "data": {
      "text/plain": [
       "0.0    0.831776\n",
       "1.0    0.168224\n",
       "Name: DiffWalk, dtype: float64"
      ]
     },
     "execution_count": 66,
     "metadata": {},
     "output_type": "execute_result"
    }
   ],
   "source": [
    "#percentage\n",
    "diabetes_df.DiffWalk.value_counts(normalize=True)"
   ]
  },
  {
   "cell_type": "code",
   "execution_count": 67,
   "id": "c42b36b0",
   "metadata": {},
   "outputs": [
    {
     "data": {
      "text/plain": [
       "0.0    141974\n",
       "1.0    111706\n",
       "Name: Sex, dtype: int64"
      ]
     },
     "execution_count": 67,
     "metadata": {},
     "output_type": "execute_result"
    }
   ],
   "source": [
    "#Count number of each value in Sex Column\n",
    "#0 = female 1 = male\n",
    "diabetes_df['Sex'].value_counts()"
   ]
  },
  {
   "cell_type": "code",
   "execution_count": 68,
   "id": "90dfd861",
   "metadata": {},
   "outputs": [
    {
     "data": {
      "text/plain": [
       "0.0    0.559658\n",
       "1.0    0.440342\n",
       "Name: Sex, dtype: float64"
      ]
     },
     "execution_count": 68,
     "metadata": {},
     "output_type": "execute_result"
    }
   ],
   "source": [
    "#percentage\n",
    "diabetes_df.Sex.value_counts(normalize=True)"
   ]
  },
  {
   "cell_type": "code",
   "execution_count": 69,
   "id": "d641a123",
   "metadata": {},
   "outputs": [
    {
     "data": {
      "text/plain": [
       "9.0     33244\n",
       "10.0    32194\n",
       "8.0     30832\n",
       "7.0     26314\n",
       "11.0    23533\n",
       "6.0     19819\n",
       "13.0    17363\n",
       "5.0     16157\n",
       "12.0    15980\n",
       "4.0     13823\n",
       "3.0     11123\n",
       "2.0      7598\n",
       "1.0      5700\n",
       "Name: Age, dtype: int64"
      ]
     },
     "execution_count": 69,
     "metadata": {},
     "output_type": "execute_result"
    }
   ],
   "source": [
    "#Count number of each value in Age Column\n",
    "#13-level age category (_AGEG5YR see codebook) 1 = 18-24 9 = 60-64 13 = 80 or older\n",
    "#link to codebook here: https://www.cdc.gov/brfss/annual_data/2015/pdf/codebook15_llcp.pdf\n",
    "diabetes_df['Age'].value_counts()"
   ]
  },
  {
   "cell_type": "code",
   "execution_count": 70,
   "id": "4aae6d86",
   "metadata": {},
   "outputs": [
    {
     "data": {
      "text/plain": [
       "9.0     0.131047\n",
       "10.0    0.126908\n",
       "8.0     0.121539\n",
       "7.0     0.103729\n",
       "11.0    0.092766\n",
       "6.0     0.078126\n",
       "13.0    0.068444\n",
       "5.0     0.063690\n",
       "12.0    0.062993\n",
       "4.0     0.054490\n",
       "3.0     0.043847\n",
       "2.0     0.029951\n",
       "1.0     0.022469\n",
       "Name: Age, dtype: float64"
      ]
     },
     "execution_count": 70,
     "metadata": {},
     "output_type": "execute_result"
    }
   ],
   "source": [
    "#Percentage\n",
    "diabetes_df.Age.value_counts(normalize=True)"
   ]
  },
  {
   "cell_type": "code",
   "execution_count": 71,
   "id": "42eb121f",
   "metadata": {},
   "outputs": [
    {
     "data": {
      "text/plain": [
       "6.0    107325\n",
       "5.0     69910\n",
       "4.0     62750\n",
       "3.0      9478\n",
       "2.0      4043\n",
       "1.0       174\n",
       "Name: Education, dtype: int64"
      ]
     },
     "execution_count": 71,
     "metadata": {},
     "output_type": "execute_result"
    }
   ],
   "source": [
    "#Count number of each value in Education Column\n",
    "#Education level (EDUCA see codebook) scale 1-6 1 = Never attended school or only kindergarten \n",
    "#2 = Grades 1 through 8 (Elementary) 3 = Grades 9 through 11 (Some high school) 4 = Grade 12 or GED (High school graduate) \n",
    "#5 = College 1 year to 3 years (Some college or technical school) 6 = College 4 years or more (College graduate)\n",
    "#link to codebook here: https://www.cdc.gov/brfss/annual_data/2015/pdf/codebook15_llcp.pdf\n",
    "diabetes_df['Education'].value_counts()\n"
   ]
  },
  {
   "cell_type": "code",
   "execution_count": 72,
   "id": "ddc9dfe9",
   "metadata": {},
   "outputs": [
    {
     "data": {
      "text/plain": [
       "6.0    0.423072\n",
       "5.0    0.275583\n",
       "4.0    0.247359\n",
       "3.0    0.037362\n",
       "2.0    0.015937\n",
       "1.0    0.000686\n",
       "Name: Education, dtype: float64"
      ]
     },
     "execution_count": 72,
     "metadata": {},
     "output_type": "execute_result"
    }
   ],
   "source": [
    "#percentage\n",
    "diabetes_df.Education.value_counts(normalize=True)"
   ]
  },
  {
   "cell_type": "code",
   "execution_count": 73,
   "id": "a25e5a98",
   "metadata": {},
   "outputs": [
    {
     "data": {
      "text/plain": [
       "8.0    90385\n",
       "7.0    43219\n",
       "6.0    36470\n",
       "5.0    25883\n",
       "4.0    20135\n",
       "3.0    15994\n",
       "2.0    11783\n",
       "1.0     9811\n",
       "Name: Income, dtype: int64"
      ]
     },
     "execution_count": 73,
     "metadata": {},
     "output_type": "execute_result"
    }
   ],
   "source": [
    "#Count number of each value in Income Column\n",
    "#Income scale (INCOME2 see codebook) scale 1-8 1 = less than $10,000 5 = less than $35,000 8 = $75,000 or more\n",
    "#link to codebook here https://www.cdc.gov/brfss/annual_data/2015/pdf/codebook15_llcp.pdf\n",
    "diabetes_df['Income'].value_counts()\n"
   ]
  },
  {
   "cell_type": "code",
   "execution_count": 74,
   "id": "5a79e204",
   "metadata": {},
   "outputs": [
    {
     "data": {
      "text/plain": [
       "8.0    0.356295\n",
       "7.0    0.170368\n",
       "6.0    0.143764\n",
       "5.0    0.102030\n",
       "4.0    0.079372\n",
       "3.0    0.063048\n",
       "2.0    0.046448\n",
       "1.0    0.038675\n",
       "Name: Income, dtype: float64"
      ]
     },
     "execution_count": 74,
     "metadata": {},
     "output_type": "execute_result"
    }
   ],
   "source": [
    "#percentage\n",
    "diabetes_df.Income.value_counts(normalize=True)"
   ]
  },
  {
   "cell_type": "code",
   "execution_count": 75,
   "id": "499f9b07",
   "metadata": {},
   "outputs": [
    {
     "data": {
      "text/plain": [
       "Index(['Diabetes_Status', 'HighBP', 'HighChol', 'CholCheck', 'BMI_Range',\n",
       "       'Smoker', 'Stroke', 'HeartDiseaseorAttack', 'PhysActivity', 'Fruits',\n",
       "       'Veggies', 'HvyAlcoholConsump', 'AnyHealthcare', 'NoDocbcCost',\n",
       "       'GenHlth', 'Mental_Health_Range', 'Physical_Health_Range', 'DiffWalk',\n",
       "       'Sex', 'Age', 'Education', 'Income', 'Diabetes_012', 'BMI', 'MentHlth',\n",
       "       'PhysHlth'],\n",
       "      dtype='object')"
      ]
     },
     "execution_count": 75,
     "metadata": {},
     "output_type": "execute_result"
    }
   ],
   "source": [
    "#Preprocessing \n",
    "\n",
    "diabetes_df.columns"
   ]
  },
  {
   "cell_type": "code",
   "execution_count": 76,
   "id": "5acdfa1a",
   "metadata": {},
   "outputs": [
    {
     "name": "stdout",
     "output_type": "stream",
     "text": [
      "done\n"
     ]
    }
   ],
   "source": [
    "#drop original columns from binning \n",
    "\n",
    "#drop diabetes_012 \n",
    "diabetes_df = diabetes_df.drop([\"Diabetes_012\"], axis=1)\n",
    "\n",
    "print(\"done\")"
   ]
  },
  {
   "cell_type": "code",
   "execution_count": 77,
   "id": "8c136d34",
   "metadata": {},
   "outputs": [
    {
     "name": "stdout",
     "output_type": "stream",
     "text": [
      "done\n"
     ]
    }
   ],
   "source": [
    "#drop BMI\n",
    "diabetes_df = diabetes_df.drop([\"BMI\"], axis=1)\n",
    "\n",
    "print(\"done\")"
   ]
  },
  {
   "cell_type": "code",
   "execution_count": 78,
   "id": "305d22fd",
   "metadata": {},
   "outputs": [
    {
     "name": "stdout",
     "output_type": "stream",
     "text": [
      "done\n"
     ]
    }
   ],
   "source": [
    "#drop MentHlth\n",
    "diabetes_df = diabetes_df.drop([\"MentHlth\"], axis=1)\n",
    "\n",
    "print(\"done\")"
   ]
  },
  {
   "cell_type": "code",
   "execution_count": 79,
   "id": "d3d3a040",
   "metadata": {},
   "outputs": [
    {
     "name": "stdout",
     "output_type": "stream",
     "text": [
      "done\n"
     ]
    }
   ],
   "source": [
    "#drop PhysHlth\n",
    "diabetes_df = diabetes_df.drop([\"PhysHlth\"], axis=1)\n",
    "\n",
    "print(\"done\")"
   ]
  },
  {
   "cell_type": "code",
   "execution_count": 80,
   "id": "fd528314",
   "metadata": {},
   "outputs": [
    {
     "data": {
      "text/plain": [
       "Index(['Diabetes_Status', 'HighBP', 'HighChol', 'CholCheck', 'BMI_Range',\n",
       "       'Smoker', 'Stroke', 'HeartDiseaseorAttack', 'PhysActivity', 'Fruits',\n",
       "       'Veggies', 'HvyAlcoholConsump', 'AnyHealthcare', 'NoDocbcCost',\n",
       "       'GenHlth', 'Mental_Health_Range', 'Physical_Health_Range', 'DiffWalk',\n",
       "       'Sex', 'Age', 'Education', 'Income'],\n",
       "      dtype='object')"
      ]
     },
     "execution_count": 80,
     "metadata": {},
     "output_type": "execute_result"
    }
   ],
   "source": [
    "diabetes_df.columns"
   ]
  },
  {
   "cell_type": "code",
   "execution_count": 81,
   "id": "00b81e37",
   "metadata": {},
   "outputs": [
    {
     "name": "stdout",
     "output_type": "stream",
     "text": [
      "There are 72588 duplicate records\n"
     ]
    }
   ],
   "source": [
    "#determine count of duplicate values \n",
    "dupe_records = len(diabetes_df)-len(diabetes_df.drop_duplicates())\n",
    "print(f\"There are {dupe_records} duplicate records\")"
   ]
  },
  {
   "cell_type": "code",
   "execution_count": 82,
   "id": "7e61500c",
   "metadata": {},
   "outputs": [
    {
     "data": {
      "text/plain": [
       "Diabetes_Status          181092\n",
       "HighBP                   181092\n",
       "HighChol                 181092\n",
       "CholCheck                181092\n",
       "BMI_Range                181092\n",
       "Smoker                   181092\n",
       "Stroke                   181092\n",
       "HeartDiseaseorAttack     181092\n",
       "PhysActivity             181092\n",
       "Fruits                   181092\n",
       "Veggies                  181092\n",
       "HvyAlcoholConsump        181092\n",
       "AnyHealthcare            181092\n",
       "NoDocbcCost              181092\n",
       "GenHlth                  181092\n",
       "Mental_Health_Range      181092\n",
       "Physical_Health_Range    181092\n",
       "DiffWalk                 181092\n",
       "Sex                      181092\n",
       "Age                      181092\n",
       "Education                181092\n",
       "Income                   181092\n",
       "dtype: int64"
      ]
     },
     "execution_count": 82,
     "metadata": {},
     "output_type": "execute_result"
    }
   ],
   "source": [
    "#Drop all duplicate records\n",
    "diabetes_df = diabetes_df.drop_duplicates() \n",
    "\n",
    "#display count of records after drop\n",
    "diabetes_df.count()"
   ]
  },
  {
   "cell_type": "code",
   "execution_count": 83,
   "id": "36c3f100",
   "metadata": {},
   "outputs": [
    {
     "data": {
      "text/plain": [
       "Index(['Diabetes_Status', 'HighBP', 'HighChol', 'CholCheck', 'BMI_Range',\n",
       "       'Smoker', 'Stroke', 'HeartDiseaseorAttack', 'PhysActivity', 'Fruits',\n",
       "       'Veggies', 'HvyAlcoholConsump', 'AnyHealthcare', 'NoDocbcCost',\n",
       "       'GenHlth', 'Mental_Health_Range', 'Physical_Health_Range', 'DiffWalk',\n",
       "       'Sex', 'Age', 'Education', 'Income'],\n",
       "      dtype='object')"
      ]
     },
     "execution_count": 83,
     "metadata": {},
     "output_type": "execute_result"
    }
   ],
   "source": [
    "diabetes_df.columns"
   ]
  },
  {
   "cell_type": "code",
   "execution_count": 84,
   "id": "8792c87a",
   "metadata": {},
   "outputs": [
    {
     "data": {
      "text/plain": [
       "0         1\n",
       "1         1\n",
       "2         1\n",
       "3         1\n",
       "4         1\n",
       "         ..\n",
       "253675    1\n",
       "253676    2\n",
       "253677    1\n",
       "253678    1\n",
       "253679    2\n",
       "Name: Diabetes_Status, Length: 181092, dtype: category\n",
       "Categories (2, int64): [1 < 2]"
      ]
     },
     "execution_count": 84,
     "metadata": {},
     "output_type": "execute_result"
    }
   ],
   "source": [
    "#split target column out of data \n",
    "y = diabetes_df['Diabetes_Status']\n",
    "\n",
    "y"
   ]
  },
  {
   "cell_type": "code",
   "execution_count": 85,
   "id": "67de4e1f",
   "metadata": {},
   "outputs": [
    {
     "data": {
      "text/plain": [
       "Index(['Diabetes_Status', 'HighBP', 'HighChol', 'CholCheck', 'BMI_Range',\n",
       "       'Smoker', 'Stroke', 'HeartDiseaseorAttack', 'PhysActivity', 'Fruits',\n",
       "       'Veggies', 'HvyAlcoholConsump', 'AnyHealthcare', 'NoDocbcCost',\n",
       "       'GenHlth', 'Mental_Health_Range', 'Physical_Health_Range', 'DiffWalk',\n",
       "       'Sex', 'Age', 'Education', 'Income'],\n",
       "      dtype='object')"
      ]
     },
     "execution_count": 85,
     "metadata": {},
     "output_type": "execute_result"
    }
   ],
   "source": [
    "diabetes_df.columns"
   ]
  },
  {
   "cell_type": "code",
   "execution_count": 86,
   "id": "58cbc8e7",
   "metadata": {},
   "outputs": [
    {
     "name": "stdout",
     "output_type": "stream",
     "text": [
      "<class 'pandas.core.frame.DataFrame'>\n",
      "Int64Index: 181092 entries, 0 to 253679\n",
      "Data columns (total 22 columns):\n",
      " #   Column                 Non-Null Count   Dtype   \n",
      "---  ------                 --------------   -----   \n",
      " 0   Diabetes_Status        181092 non-null  category\n",
      " 1   HighBP                 181092 non-null  float64 \n",
      " 2   HighChol               181092 non-null  float64 \n",
      " 3   CholCheck              181092 non-null  float64 \n",
      " 4   BMI_Range              181092 non-null  category\n",
      " 5   Smoker                 181092 non-null  float64 \n",
      " 6   Stroke                 181092 non-null  float64 \n",
      " 7   HeartDiseaseorAttack   181092 non-null  float64 \n",
      " 8   PhysActivity           181092 non-null  float64 \n",
      " 9   Fruits                 181092 non-null  float64 \n",
      " 10  Veggies                181092 non-null  float64 \n",
      " 11  HvyAlcoholConsump      181092 non-null  float64 \n",
      " 12  AnyHealthcare          181092 non-null  float64 \n",
      " 13  NoDocbcCost            181092 non-null  float64 \n",
      " 14  GenHlth                181092 non-null  float64 \n",
      " 15  Mental_Health_Range    181092 non-null  category\n",
      " 16  Physical_Health_Range  181092 non-null  category\n",
      " 17  DiffWalk               181092 non-null  float64 \n",
      " 18  Sex                    181092 non-null  float64 \n",
      " 19  Age                    181092 non-null  float64 \n",
      " 20  Education              181092 non-null  float64 \n",
      " 21  Income                 181092 non-null  float64 \n",
      "dtypes: category(4), float64(18)\n",
      "memory usage: 26.9 MB\n"
     ]
    }
   ],
   "source": [
    "diabetes_df.info()"
   ]
  },
  {
   "cell_type": "code",
   "execution_count": 87,
   "id": "bf62701e",
   "metadata": {},
   "outputs": [
    {
     "data": {
      "text/html": [
       "<div>\n",
       "<style scoped>\n",
       "    .dataframe tbody tr th:only-of-type {\n",
       "        vertical-align: middle;\n",
       "    }\n",
       "\n",
       "    .dataframe tbody tr th {\n",
       "        vertical-align: top;\n",
       "    }\n",
       "\n",
       "    .dataframe thead th {\n",
       "        text-align: right;\n",
       "    }\n",
       "</style>\n",
       "<table border=\"1\" class=\"dataframe\">\n",
       "  <thead>\n",
       "    <tr style=\"text-align: right;\">\n",
       "      <th></th>\n",
       "      <th>HighBP</th>\n",
       "      <th>HighChol</th>\n",
       "      <th>CholCheck</th>\n",
       "      <th>BMI_Range</th>\n",
       "      <th>Smoker</th>\n",
       "      <th>Stroke</th>\n",
       "      <th>HeartDiseaseorAttack</th>\n",
       "      <th>PhysActivity</th>\n",
       "      <th>Fruits</th>\n",
       "      <th>Veggies</th>\n",
       "      <th>...</th>\n",
       "      <th>AnyHealthcare</th>\n",
       "      <th>NoDocbcCost</th>\n",
       "      <th>GenHlth</th>\n",
       "      <th>Mental_Health_Range</th>\n",
       "      <th>Physical_Health_Range</th>\n",
       "      <th>DiffWalk</th>\n",
       "      <th>Sex</th>\n",
       "      <th>Age</th>\n",
       "      <th>Education</th>\n",
       "      <th>Income</th>\n",
       "    </tr>\n",
       "  </thead>\n",
       "  <tbody>\n",
       "    <tr>\n",
       "      <th>0</th>\n",
       "      <td>1.0</td>\n",
       "      <td>1.0</td>\n",
       "      <td>1.0</td>\n",
       "      <td>4</td>\n",
       "      <td>1.0</td>\n",
       "      <td>0.0</td>\n",
       "      <td>0.0</td>\n",
       "      <td>0.0</td>\n",
       "      <td>0.0</td>\n",
       "      <td>1.0</td>\n",
       "      <td>...</td>\n",
       "      <td>1.0</td>\n",
       "      <td>0.0</td>\n",
       "      <td>5.0</td>\n",
       "      <td>4</td>\n",
       "      <td>3</td>\n",
       "      <td>1.0</td>\n",
       "      <td>0.0</td>\n",
       "      <td>9.0</td>\n",
       "      <td>4.0</td>\n",
       "      <td>3.0</td>\n",
       "    </tr>\n",
       "    <tr>\n",
       "      <th>1</th>\n",
       "      <td>0.0</td>\n",
       "      <td>0.0</td>\n",
       "      <td>0.0</td>\n",
       "      <td>3</td>\n",
       "      <td>1.0</td>\n",
       "      <td>0.0</td>\n",
       "      <td>0.0</td>\n",
       "      <td>1.0</td>\n",
       "      <td>0.0</td>\n",
       "      <td>0.0</td>\n",
       "      <td>...</td>\n",
       "      <td>0.0</td>\n",
       "      <td>1.0</td>\n",
       "      <td>3.0</td>\n",
       "      <td>1</td>\n",
       "      <td>1</td>\n",
       "      <td>0.0</td>\n",
       "      <td>0.0</td>\n",
       "      <td>7.0</td>\n",
       "      <td>6.0</td>\n",
       "      <td>1.0</td>\n",
       "    </tr>\n",
       "    <tr>\n",
       "      <th>2</th>\n",
       "      <td>1.0</td>\n",
       "      <td>1.0</td>\n",
       "      <td>1.0</td>\n",
       "      <td>3</td>\n",
       "      <td>0.0</td>\n",
       "      <td>0.0</td>\n",
       "      <td>0.0</td>\n",
       "      <td>0.0</td>\n",
       "      <td>1.0</td>\n",
       "      <td>0.0</td>\n",
       "      <td>...</td>\n",
       "      <td>1.0</td>\n",
       "      <td>1.0</td>\n",
       "      <td>5.0</td>\n",
       "      <td>6</td>\n",
       "      <td>6</td>\n",
       "      <td>1.0</td>\n",
       "      <td>0.0</td>\n",
       "      <td>9.0</td>\n",
       "      <td>4.0</td>\n",
       "      <td>8.0</td>\n",
       "    </tr>\n",
       "    <tr>\n",
       "      <th>3</th>\n",
       "      <td>1.0</td>\n",
       "      <td>0.0</td>\n",
       "      <td>1.0</td>\n",
       "      <td>3</td>\n",
       "      <td>0.0</td>\n",
       "      <td>0.0</td>\n",
       "      <td>0.0</td>\n",
       "      <td>1.0</td>\n",
       "      <td>1.0</td>\n",
       "      <td>1.0</td>\n",
       "      <td>...</td>\n",
       "      <td>1.0</td>\n",
       "      <td>0.0</td>\n",
       "      <td>2.0</td>\n",
       "      <td>1</td>\n",
       "      <td>1</td>\n",
       "      <td>0.0</td>\n",
       "      <td>0.0</td>\n",
       "      <td>11.0</td>\n",
       "      <td>3.0</td>\n",
       "      <td>6.0</td>\n",
       "    </tr>\n",
       "    <tr>\n",
       "      <th>4</th>\n",
       "      <td>1.0</td>\n",
       "      <td>1.0</td>\n",
       "      <td>1.0</td>\n",
       "      <td>2</td>\n",
       "      <td>0.0</td>\n",
       "      <td>0.0</td>\n",
       "      <td>0.0</td>\n",
       "      <td>1.0</td>\n",
       "      <td>1.0</td>\n",
       "      <td>1.0</td>\n",
       "      <td>...</td>\n",
       "      <td>1.0</td>\n",
       "      <td>0.0</td>\n",
       "      <td>2.0</td>\n",
       "      <td>1</td>\n",
       "      <td>1</td>\n",
       "      <td>0.0</td>\n",
       "      <td>0.0</td>\n",
       "      <td>11.0</td>\n",
       "      <td>5.0</td>\n",
       "      <td>4.0</td>\n",
       "    </tr>\n",
       "    <tr>\n",
       "      <th>...</th>\n",
       "      <td>...</td>\n",
       "      <td>...</td>\n",
       "      <td>...</td>\n",
       "      <td>...</td>\n",
       "      <td>...</td>\n",
       "      <td>...</td>\n",
       "      <td>...</td>\n",
       "      <td>...</td>\n",
       "      <td>...</td>\n",
       "      <td>...</td>\n",
       "      <td>...</td>\n",
       "      <td>...</td>\n",
       "      <td>...</td>\n",
       "      <td>...</td>\n",
       "      <td>...</td>\n",
       "      <td>...</td>\n",
       "      <td>...</td>\n",
       "      <td>...</td>\n",
       "      <td>...</td>\n",
       "      <td>...</td>\n",
       "      <td>...</td>\n",
       "    </tr>\n",
       "    <tr>\n",
       "      <th>253675</th>\n",
       "      <td>1.0</td>\n",
       "      <td>1.0</td>\n",
       "      <td>1.0</td>\n",
       "      <td>4</td>\n",
       "      <td>0.0</td>\n",
       "      <td>0.0</td>\n",
       "      <td>0.0</td>\n",
       "      <td>0.0</td>\n",
       "      <td>1.0</td>\n",
       "      <td>1.0</td>\n",
       "      <td>...</td>\n",
       "      <td>1.0</td>\n",
       "      <td>0.0</td>\n",
       "      <td>3.0</td>\n",
       "      <td>1</td>\n",
       "      <td>1</td>\n",
       "      <td>0.0</td>\n",
       "      <td>1.0</td>\n",
       "      <td>5.0</td>\n",
       "      <td>6.0</td>\n",
       "      <td>7.0</td>\n",
       "    </tr>\n",
       "    <tr>\n",
       "      <th>253676</th>\n",
       "      <td>1.0</td>\n",
       "      <td>1.0</td>\n",
       "      <td>1.0</td>\n",
       "      <td>1</td>\n",
       "      <td>0.0</td>\n",
       "      <td>0.0</td>\n",
       "      <td>0.0</td>\n",
       "      <td>0.0</td>\n",
       "      <td>0.0</td>\n",
       "      <td>0.0</td>\n",
       "      <td>...</td>\n",
       "      <td>1.0</td>\n",
       "      <td>0.0</td>\n",
       "      <td>4.0</td>\n",
       "      <td>1</td>\n",
       "      <td>1</td>\n",
       "      <td>1.0</td>\n",
       "      <td>0.0</td>\n",
       "      <td>11.0</td>\n",
       "      <td>2.0</td>\n",
       "      <td>4.0</td>\n",
       "    </tr>\n",
       "    <tr>\n",
       "      <th>253677</th>\n",
       "      <td>0.0</td>\n",
       "      <td>0.0</td>\n",
       "      <td>1.0</td>\n",
       "      <td>3</td>\n",
       "      <td>0.0</td>\n",
       "      <td>0.0</td>\n",
       "      <td>0.0</td>\n",
       "      <td>1.0</td>\n",
       "      <td>1.0</td>\n",
       "      <td>0.0</td>\n",
       "      <td>...</td>\n",
       "      <td>1.0</td>\n",
       "      <td>0.0</td>\n",
       "      <td>1.0</td>\n",
       "      <td>1</td>\n",
       "      <td>1</td>\n",
       "      <td>0.0</td>\n",
       "      <td>0.0</td>\n",
       "      <td>2.0</td>\n",
       "      <td>5.0</td>\n",
       "      <td>2.0</td>\n",
       "    </tr>\n",
       "    <tr>\n",
       "      <th>253678</th>\n",
       "      <td>1.0</td>\n",
       "      <td>0.0</td>\n",
       "      <td>1.0</td>\n",
       "      <td>2</td>\n",
       "      <td>0.0</td>\n",
       "      <td>0.0</td>\n",
       "      <td>0.0</td>\n",
       "      <td>0.0</td>\n",
       "      <td>1.0</td>\n",
       "      <td>1.0</td>\n",
       "      <td>...</td>\n",
       "      <td>1.0</td>\n",
       "      <td>0.0</td>\n",
       "      <td>3.0</td>\n",
       "      <td>1</td>\n",
       "      <td>1</td>\n",
       "      <td>0.0</td>\n",
       "      <td>1.0</td>\n",
       "      <td>7.0</td>\n",
       "      <td>5.0</td>\n",
       "      <td>1.0</td>\n",
       "    </tr>\n",
       "    <tr>\n",
       "      <th>253679</th>\n",
       "      <td>1.0</td>\n",
       "      <td>1.0</td>\n",
       "      <td>1.0</td>\n",
       "      <td>3</td>\n",
       "      <td>0.0</td>\n",
       "      <td>0.0</td>\n",
       "      <td>1.0</td>\n",
       "      <td>1.0</td>\n",
       "      <td>1.0</td>\n",
       "      <td>0.0</td>\n",
       "      <td>...</td>\n",
       "      <td>1.0</td>\n",
       "      <td>0.0</td>\n",
       "      <td>2.0</td>\n",
       "      <td>1</td>\n",
       "      <td>1</td>\n",
       "      <td>0.0</td>\n",
       "      <td>0.0</td>\n",
       "      <td>9.0</td>\n",
       "      <td>6.0</td>\n",
       "      <td>2.0</td>\n",
       "    </tr>\n",
       "  </tbody>\n",
       "</table>\n",
       "<p>181092 rows × 21 columns</p>\n",
       "</div>"
      ],
      "text/plain": [
       "        HighBP  HighChol  CholCheck BMI_Range  Smoker  Stroke  \\\n",
       "0          1.0       1.0        1.0         4     1.0     0.0   \n",
       "1          0.0       0.0        0.0         3     1.0     0.0   \n",
       "2          1.0       1.0        1.0         3     0.0     0.0   \n",
       "3          1.0       0.0        1.0         3     0.0     0.0   \n",
       "4          1.0       1.0        1.0         2     0.0     0.0   \n",
       "...        ...       ...        ...       ...     ...     ...   \n",
       "253675     1.0       1.0        1.0         4     0.0     0.0   \n",
       "253676     1.0       1.0        1.0         1     0.0     0.0   \n",
       "253677     0.0       0.0        1.0         3     0.0     0.0   \n",
       "253678     1.0       0.0        1.0         2     0.0     0.0   \n",
       "253679     1.0       1.0        1.0         3     0.0     0.0   \n",
       "\n",
       "        HeartDiseaseorAttack  PhysActivity  Fruits  Veggies  ...  \\\n",
       "0                        0.0           0.0     0.0      1.0  ...   \n",
       "1                        0.0           1.0     0.0      0.0  ...   \n",
       "2                        0.0           0.0     1.0      0.0  ...   \n",
       "3                        0.0           1.0     1.0      1.0  ...   \n",
       "4                        0.0           1.0     1.0      1.0  ...   \n",
       "...                      ...           ...     ...      ...  ...   \n",
       "253675                   0.0           0.0     1.0      1.0  ...   \n",
       "253676                   0.0           0.0     0.0      0.0  ...   \n",
       "253677                   0.0           1.0     1.0      0.0  ...   \n",
       "253678                   0.0           0.0     1.0      1.0  ...   \n",
       "253679                   1.0           1.0     1.0      0.0  ...   \n",
       "\n",
       "        AnyHealthcare  NoDocbcCost  GenHlth  Mental_Health_Range  \\\n",
       "0                 1.0          0.0      5.0                    4   \n",
       "1                 0.0          1.0      3.0                    1   \n",
       "2                 1.0          1.0      5.0                    6   \n",
       "3                 1.0          0.0      2.0                    1   \n",
       "4                 1.0          0.0      2.0                    1   \n",
       "...               ...          ...      ...                  ...   \n",
       "253675            1.0          0.0      3.0                    1   \n",
       "253676            1.0          0.0      4.0                    1   \n",
       "253677            1.0          0.0      1.0                    1   \n",
       "253678            1.0          0.0      3.0                    1   \n",
       "253679            1.0          0.0      2.0                    1   \n",
       "\n",
       "       Physical_Health_Range DiffWalk  Sex   Age  Education  Income  \n",
       "0                          3      1.0  0.0   9.0        4.0     3.0  \n",
       "1                          1      0.0  0.0   7.0        6.0     1.0  \n",
       "2                          6      1.0  0.0   9.0        4.0     8.0  \n",
       "3                          1      0.0  0.0  11.0        3.0     6.0  \n",
       "4                          1      0.0  0.0  11.0        5.0     4.0  \n",
       "...                      ...      ...  ...   ...        ...     ...  \n",
       "253675                     1      0.0  1.0   5.0        6.0     7.0  \n",
       "253676                     1      1.0  0.0  11.0        2.0     4.0  \n",
       "253677                     1      0.0  0.0   2.0        5.0     2.0  \n",
       "253678                     1      0.0  1.0   7.0        5.0     1.0  \n",
       "253679                     1      0.0  0.0   9.0        6.0     2.0  \n",
       "\n",
       "[181092 rows x 21 columns]"
      ]
     },
     "execution_count": 87,
     "metadata": {},
     "output_type": "execute_result"
    }
   ],
   "source": [
    "x = diabetes_df.drop(['Diabetes_Status'], axis=1)\n",
    "\n",
    "x"
   ]
  },
  {
   "cell_type": "code",
   "execution_count": 88,
   "id": "2ec3802a",
   "metadata": {},
   "outputs": [
    {
     "name": "stdout",
     "output_type": "stream",
     "text": [
      "<class 'pandas.core.frame.DataFrame'>\n",
      "Int64Index: 181092 entries, 0 to 253679\n",
      "Data columns (total 22 columns):\n",
      " #   Column                 Non-Null Count   Dtype   \n",
      "---  ------                 --------------   -----   \n",
      " 0   Diabetes_Status        181092 non-null  category\n",
      " 1   HighBP                 181092 non-null  float64 \n",
      " 2   HighChol               181092 non-null  float64 \n",
      " 3   CholCheck              181092 non-null  float64 \n",
      " 4   BMI_Range              181092 non-null  category\n",
      " 5   Smoker                 181092 non-null  float64 \n",
      " 6   Stroke                 181092 non-null  float64 \n",
      " 7   HeartDiseaseorAttack   181092 non-null  float64 \n",
      " 8   PhysActivity           181092 non-null  float64 \n",
      " 9   Fruits                 181092 non-null  float64 \n",
      " 10  Veggies                181092 non-null  float64 \n",
      " 11  HvyAlcoholConsump      181092 non-null  float64 \n",
      " 12  AnyHealthcare          181092 non-null  float64 \n",
      " 13  NoDocbcCost            181092 non-null  float64 \n",
      " 14  GenHlth                181092 non-null  float64 \n",
      " 15  Mental_Health_Range    181092 non-null  category\n",
      " 16  Physical_Health_Range  181092 non-null  category\n",
      " 17  DiffWalk               181092 non-null  float64 \n",
      " 18  Sex                    181092 non-null  float64 \n",
      " 19  Age                    181092 non-null  float64 \n",
      " 20  Education              181092 non-null  float64 \n",
      " 21  Income                 181092 non-null  float64 \n",
      "dtypes: category(4), float64(18)\n",
      "memory usage: 26.9 MB\n"
     ]
    }
   ],
   "source": [
    "diabetes_df.info()"
   ]
  },
  {
   "cell_type": "code",
   "execution_count": 89,
   "id": "9bf3f73a",
   "metadata": {},
   "outputs": [
    {
     "name": "stdout",
     "output_type": "stream",
     "text": [
      "done\n"
     ]
    }
   ],
   "source": [
    "diabetes_df.to_csv('results/DataProcessingExtractFile-SampleTwo.csv', encoding='utf-8')\n",
    "print('done')"
   ]
  },
  {
   "cell_type": "code",
   "execution_count": null,
   "id": "5cc7ac3f",
   "metadata": {},
   "outputs": [],
   "source": []
  }
 ],
 "metadata": {
  "kernelspec": {
   "display_name": "PythonData",
   "language": "python",
   "name": "pythondata"
  },
  "language_info": {
   "codemirror_mode": {
    "name": "ipython",
    "version": 3
   },
   "file_extension": ".py",
   "mimetype": "text/x-python",
   "name": "python",
   "nbconvert_exporter": "python",
   "pygments_lexer": "ipython3",
   "version": "3.7.13"
  }
 },
 "nbformat": 4,
 "nbformat_minor": 5
}
