{
 "cells": [
  {
   "cell_type": "code",
   "execution_count": null,
   "id": "c8514460",
   "metadata": {},
   "outputs": [],
   "source": [
    "# FeatureSelection = SelectPercentile(score_func = f_classif, percentile=70) \n",
    "# x = FeatureSelection.fit_transform(x, y)\n",
    "\n",
    "# #showing X Dimension \n",
    "# print('X Shape is ' , x.shape)\n",
    "# print('Selected Features are : ' , FeatureSelection.get_support())"
   ]
  },
  {
   "cell_type": "code",
   "execution_count": null,
   "id": "0937e2c5",
   "metadata": {},
   "outputs": [],
   "source": [
    "# diabetes_train.columns"
   ]
  },
  {
   "cell_type": "code",
   "execution_count": null,
   "id": "65e10df8",
   "metadata": {},
   "outputs": [],
   "source": [
    "# HighBP', \tTRUE\n",
    "# HighChol', \tTRUE\n",
    "# CholCheck', \tTRUE\n",
    "# BMI_Range', \tTRUE\n",
    "# Smoker',\tFALSE\n",
    "#  'Stroke',\tTRUE\n",
    "#  'HeartDiseaseorAttack',\tTRUE\n",
    "#  'PhysActivity', \tTRUE\n",
    "# Fruits',\tFALSE\n",
    "#  'Veggies',\tFALSE\n",
    "# HvyAlcoholConsump', \tFALSE\n",
    "# AnyHealthcare', \tFALSE\n",
    "# NoDocbcCost', \tFALSE\n",
    "# 'GenHlth',\tTRUE\n",
    "#  'Mental_Health_Range',\tTRUE\n",
    "#  'Physical_Health_Range',\tTRUE\n",
    "#  'DiffWalk', \tTRUE\n",
    "# Sex',\tFALSE\n",
    "# Age',\tTRUE\n",
    "#  'Education', \tTRUE\n",
    "# Income'\tTRU"
   ]
  },
  {
   "cell_type": "code",
   "execution_count": null,
   "id": "be294759",
   "metadata": {},
   "outputs": [],
   "source": [
    "# fe=FeatureSelection.get_support()\n",
    "# selected_features=[]\n",
    "# for i in range(len(fe)):\n",
    "#     if fe[i]==True:\n",
    "#         selected_features.append(diabetes_df.columns[i])"
   ]
  }
 ],
 "metadata": {
  "kernelspec": {
   "display_name": "mlenv",
   "language": "python",
   "name": "mlenv"
  },
  "language_info": {
   "codemirror_mode": {
    "name": "ipython",
    "version": 3
   },
   "file_extension": ".py",
   "mimetype": "text/x-python",
   "name": "python",
   "nbconvert_exporter": "python",
   "pygments_lexer": "ipython3",
   "version": "3.9.15"
  }
 },
 "nbformat": 4,
 "nbformat_minor": 5
}
