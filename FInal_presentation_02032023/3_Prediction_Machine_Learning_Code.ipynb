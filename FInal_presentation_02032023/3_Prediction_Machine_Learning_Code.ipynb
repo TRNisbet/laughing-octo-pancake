{
 "cells": [
  {
   "cell_type": "markdown",
   "id": "b01d7655",
   "metadata": {},
   "source": [
    "### This file is a python version of the code run in the JavaScript on Prediction site.  It can be used by reading in a json file that contains results similar to what is generated on the site to validate what the prediction model is doing. "
   ]
  },
  {
   "cell_type": "code",
   "execution_count": 1,
   "id": "cfdb0170",
   "metadata": {},
   "outputs": [],
   "source": [
    "#import dependencies\n",
    "import pandas as pd\n",
    "import matplotlib.pyplot as plt\n",
    "from pathlib import Path\n",
    "from sklearn import tree\n",
    "from sklearn.ensemble import RandomForestClassifier\n",
    "from sklearn.preprocessing import StandardScaler\n",
    "from sklearn.ensemble import GradientBoostingClassifier\n",
    "from collections import Counter\n",
    "from sklearn.datasets import make_blobs\n",
    "from sklearn.model_selection import train_test_split\n",
    "from sklearn.metrics import confusion_matrix, accuracy_score, classification_report\n",
    "from sklearn.linear_model import LogisticRegression\n",
    "import pickle\n",
    "import json\n",
    "from pandas import json_normalize\n",
    "import os\n",
    "import csv\n",
    "import numpy as np\n"
   ]
  },
  {
   "cell_type": "code",
   "execution_count": 2,
   "id": "f0b150cf",
   "metadata": {},
   "outputs": [],
   "source": [
    "loaded_model = pickle.load(open('../model.pkl', 'rb'))\n"
   ]
  },
  {
   "cell_type": "code",
   "execution_count": 3,
   "id": "50eac10a",
   "metadata": {},
   "outputs": [
    {
     "data": {
      "text/html": [
       "<div>\n",
       "<style scoped>\n",
       "    .dataframe tbody tr th:only-of-type {\n",
       "        vertical-align: middle;\n",
       "    }\n",
       "\n",
       "    .dataframe tbody tr th {\n",
       "        vertical-align: top;\n",
       "    }\n",
       "\n",
       "    .dataframe thead th {\n",
       "        text-align: right;\n",
       "    }\n",
       "</style>\n",
       "<table border=\"1\" class=\"dataframe\">\n",
       "  <thead>\n",
       "    <tr style=\"text-align: right;\">\n",
       "      <th></th>\n",
       "      <th>Sex</th>\n",
       "      <th>HighBP</th>\n",
       "      <th>CholCheck</th>\n",
       "      <th>HighChol</th>\n",
       "      <th>PhysActivity</th>\n",
       "      <th>HvyAlcoholConsumP</th>\n",
       "      <th>AnyHealthcare</th>\n",
       "      <th>Education</th>\n",
       "      <th>GenHlth</th>\n",
       "      <th>Income</th>\n",
       "      <th>...</th>\n",
       "      <th>Fruits</th>\n",
       "      <th>Veggies</th>\n",
       "      <th>NoDocbcCost</th>\n",
       "      <th>Mental_Health_Range</th>\n",
       "      <th>Physical_Health_Range</th>\n",
       "      <th>BMI_Range</th>\n",
       "      <th>Smoker</th>\n",
       "      <th>Stroke</th>\n",
       "      <th>HeartDiseaseorAttack</th>\n",
       "      <th>DiffWalk</th>\n",
       "    </tr>\n",
       "  </thead>\n",
       "  <tbody>\n",
       "    <tr>\n",
       "      <th>0</th>\n",
       "      <td>-1</td>\n",
       "      <td>-1</td>\n",
       "      <td>-1</td>\n",
       "      <td>-1</td>\n",
       "      <td>-1</td>\n",
       "      <td>-1</td>\n",
       "      <td>-1</td>\n",
       "      <td>-1</td>\n",
       "      <td>-1</td>\n",
       "      <td>-1</td>\n",
       "      <td>...</td>\n",
       "      <td>-1</td>\n",
       "      <td>-1</td>\n",
       "      <td>-1</td>\n",
       "      <td>-1</td>\n",
       "      <td>-1</td>\n",
       "      <td>-1</td>\n",
       "      <td>-1</td>\n",
       "      <td>-1</td>\n",
       "      <td>-1</td>\n",
       "      <td>-1</td>\n",
       "    </tr>\n",
       "  </tbody>\n",
       "</table>\n",
       "<p>1 rows × 21 columns</p>\n",
       "</div>"
      ],
      "text/plain": [
       "   Sex  HighBP  CholCheck  HighChol  PhysActivity  HvyAlcoholConsumP  \\\n",
       "0   -1      -1         -1        -1            -1                 -1   \n",
       "\n",
       "   AnyHealthcare  Education  GenHlth  Income  ...  Fruits  Veggies  \\\n",
       "0             -1         -1       -1      -1  ...      -1       -1   \n",
       "\n",
       "   NoDocbcCost  Mental_Health_Range  Physical_Health_Range  BMI_Range  Smoker  \\\n",
       "0           -1                   -1                     -1         -1      -1   \n",
       "\n",
       "   Stroke  HeartDiseaseorAttack  DiffWalk  \n",
       "0      -1                    -1        -1  \n",
       "\n",
       "[1 rows x 21 columns]"
      ]
     },
     "execution_count": 3,
     "metadata": {},
     "output_type": "execute_result"
    }
   ],
   "source": [
    "#read in file from survey website\n",
    "final_predict = Path('../site-dashboard/export/surveyExport.json')\n",
    "prediction_df = pd.read_json(final_predict, lines=True)\n",
    "prediction_df"
   ]
  },
  {
   "cell_type": "code",
   "execution_count": 4,
   "id": "bdcfc115",
   "metadata": {},
   "outputs": [],
   "source": [
    "#reset index \n",
    "prediction_df.reset_index(inplace=True)\n"
   ]
  },
  {
   "cell_type": "code",
   "execution_count": 5,
   "id": "2067aef5",
   "metadata": {},
   "outputs": [
    {
     "data": {
      "text/html": [
       "<div>\n",
       "<style scoped>\n",
       "    .dataframe tbody tr th:only-of-type {\n",
       "        vertical-align: middle;\n",
       "    }\n",
       "\n",
       "    .dataframe tbody tr th {\n",
       "        vertical-align: top;\n",
       "    }\n",
       "\n",
       "    .dataframe thead th {\n",
       "        text-align: right;\n",
       "    }\n",
       "</style>\n",
       "<table border=\"1\" class=\"dataframe\">\n",
       "  <thead>\n",
       "    <tr style=\"text-align: right;\">\n",
       "      <th></th>\n",
       "      <th>index</th>\n",
       "      <th>Sex</th>\n",
       "      <th>HighBP</th>\n",
       "      <th>CholCheck</th>\n",
       "      <th>HighChol</th>\n",
       "      <th>PhysActivity</th>\n",
       "      <th>HvyAlcoholConsumP</th>\n",
       "      <th>AnyHealthcare</th>\n",
       "      <th>Education</th>\n",
       "      <th>GenHlth</th>\n",
       "      <th>...</th>\n",
       "      <th>Fruits</th>\n",
       "      <th>Veggies</th>\n",
       "      <th>NoDocbcCost</th>\n",
       "      <th>Mental_Health_Range</th>\n",
       "      <th>Physical_Health_Range</th>\n",
       "      <th>BMI_Range</th>\n",
       "      <th>Smoker</th>\n",
       "      <th>Stroke</th>\n",
       "      <th>HeartDiseaseorAttack</th>\n",
       "      <th>DiffWalk</th>\n",
       "    </tr>\n",
       "  </thead>\n",
       "  <tbody>\n",
       "    <tr>\n",
       "      <th>0</th>\n",
       "      <td>0</td>\n",
       "      <td>-1</td>\n",
       "      <td>-1</td>\n",
       "      <td>-1</td>\n",
       "      <td>-1</td>\n",
       "      <td>-1</td>\n",
       "      <td>-1</td>\n",
       "      <td>-1</td>\n",
       "      <td>-1</td>\n",
       "      <td>-1</td>\n",
       "      <td>...</td>\n",
       "      <td>-1</td>\n",
       "      <td>-1</td>\n",
       "      <td>-1</td>\n",
       "      <td>-1</td>\n",
       "      <td>-1</td>\n",
       "      <td>-1</td>\n",
       "      <td>-1</td>\n",
       "      <td>-1</td>\n",
       "      <td>-1</td>\n",
       "      <td>-1</td>\n",
       "    </tr>\n",
       "  </tbody>\n",
       "</table>\n",
       "<p>1 rows × 22 columns</p>\n",
       "</div>"
      ],
      "text/plain": [
       "   index  Sex  HighBP  CholCheck  HighChol  PhysActivity  HvyAlcoholConsumP  \\\n",
       "0      0   -1      -1         -1        -1            -1                 -1   \n",
       "\n",
       "   AnyHealthcare  Education  GenHlth  ...  Fruits  Veggies  NoDocbcCost  \\\n",
       "0             -1         -1       -1  ...      -1       -1           -1   \n",
       "\n",
       "   Mental_Health_Range  Physical_Health_Range  BMI_Range  Smoker  Stroke  \\\n",
       "0                   -1                     -1         -1      -1      -1   \n",
       "\n",
       "   HeartDiseaseorAttack  DiffWalk  \n",
       "0                    -1        -1  \n",
       "\n",
       "[1 rows x 22 columns]"
      ]
     },
     "execution_count": 5,
     "metadata": {},
     "output_type": "execute_result"
    }
   ],
   "source": [
    "prediction_df"
   ]
  },
  {
   "cell_type": "code",
   "execution_count": 6,
   "id": "08221f10",
   "metadata": {},
   "outputs": [
    {
     "data": {
      "text/html": [
       "<div>\n",
       "<style scoped>\n",
       "    .dataframe tbody tr th:only-of-type {\n",
       "        vertical-align: middle;\n",
       "    }\n",
       "\n",
       "    .dataframe tbody tr th {\n",
       "        vertical-align: top;\n",
       "    }\n",
       "\n",
       "    .dataframe thead th {\n",
       "        text-align: right;\n",
       "    }\n",
       "</style>\n",
       "<table border=\"1\" class=\"dataframe\">\n",
       "  <thead>\n",
       "    <tr style=\"text-align: right;\">\n",
       "      <th></th>\n",
       "      <th>Sex</th>\n",
       "      <th>HighBP</th>\n",
       "      <th>CholCheck</th>\n",
       "      <th>HighChol</th>\n",
       "      <th>PhysActivity</th>\n",
       "      <th>HvyAlcoholConsumP</th>\n",
       "      <th>AnyHealthcare</th>\n",
       "      <th>Education</th>\n",
       "      <th>GenHlth</th>\n",
       "      <th>Income</th>\n",
       "      <th>...</th>\n",
       "      <th>Fruits</th>\n",
       "      <th>Veggies</th>\n",
       "      <th>NoDocbcCost</th>\n",
       "      <th>Mental_Health_Range</th>\n",
       "      <th>Physical_Health_Range</th>\n",
       "      <th>BMI_Range</th>\n",
       "      <th>Smoker</th>\n",
       "      <th>Stroke</th>\n",
       "      <th>HeartDiseaseorAttack</th>\n",
       "      <th>DiffWalk</th>\n",
       "    </tr>\n",
       "  </thead>\n",
       "  <tbody>\n",
       "    <tr>\n",
       "      <th>0</th>\n",
       "      <td>-1</td>\n",
       "      <td>-1</td>\n",
       "      <td>-1</td>\n",
       "      <td>-1</td>\n",
       "      <td>-1</td>\n",
       "      <td>-1</td>\n",
       "      <td>-1</td>\n",
       "      <td>-1</td>\n",
       "      <td>-1</td>\n",
       "      <td>-1</td>\n",
       "      <td>...</td>\n",
       "      <td>-1</td>\n",
       "      <td>-1</td>\n",
       "      <td>-1</td>\n",
       "      <td>-1</td>\n",
       "      <td>-1</td>\n",
       "      <td>-1</td>\n",
       "      <td>-1</td>\n",
       "      <td>-1</td>\n",
       "      <td>-1</td>\n",
       "      <td>-1</td>\n",
       "    </tr>\n",
       "  </tbody>\n",
       "</table>\n",
       "<p>1 rows × 21 columns</p>\n",
       "</div>"
      ],
      "text/plain": [
       "   Sex  HighBP  CholCheck  HighChol  PhysActivity  HvyAlcoholConsumP  \\\n",
       "0   -1      -1         -1        -1            -1                 -1   \n",
       "\n",
       "   AnyHealthcare  Education  GenHlth  Income  ...  Fruits  Veggies  \\\n",
       "0             -1         -1       -1      -1  ...      -1       -1   \n",
       "\n",
       "   NoDocbcCost  Mental_Health_Range  Physical_Health_Range  BMI_Range  Smoker  \\\n",
       "0           -1                   -1                     -1         -1      -1   \n",
       "\n",
       "   Stroke  HeartDiseaseorAttack  DiffWalk  \n",
       "0      -1                    -1        -1  \n",
       "\n",
       "[1 rows x 21 columns]"
      ]
     },
     "execution_count": 6,
     "metadata": {},
     "output_type": "execute_result"
    }
   ],
   "source": [
    "#drop index\n",
    "prediction_df.drop(columns=['index'])\n"
   ]
  },
  {
   "cell_type": "code",
   "execution_count": 7,
   "id": "5df43e7d",
   "metadata": {},
   "outputs": [
    {
     "data": {
      "text/html": [
       "<div>\n",
       "<style scoped>\n",
       "    .dataframe tbody tr th:only-of-type {\n",
       "        vertical-align: middle;\n",
       "    }\n",
       "\n",
       "    .dataframe tbody tr th {\n",
       "        vertical-align: top;\n",
       "    }\n",
       "\n",
       "    .dataframe thead th {\n",
       "        text-align: right;\n",
       "    }\n",
       "</style>\n",
       "<table border=\"1\" class=\"dataframe\">\n",
       "  <thead>\n",
       "    <tr style=\"text-align: right;\">\n",
       "      <th></th>\n",
       "      <th>HighBP</th>\n",
       "      <th>HighChol</th>\n",
       "      <th>CholCheck</th>\n",
       "      <th>BMI_Range</th>\n",
       "      <th>Smoker</th>\n",
       "      <th>Stroke</th>\n",
       "      <th>HeartDiseaseorAttack</th>\n",
       "      <th>PhysActivity</th>\n",
       "      <th>Fruits</th>\n",
       "      <th>Veggies</th>\n",
       "      <th>...</th>\n",
       "      <th>AnyHealthcare</th>\n",
       "      <th>NoDocbcCost</th>\n",
       "      <th>GenHlth</th>\n",
       "      <th>Mental_Health_Range</th>\n",
       "      <th>Physical_Health_Range</th>\n",
       "      <th>DiffWalk</th>\n",
       "      <th>Sex</th>\n",
       "      <th>Age</th>\n",
       "      <th>Education</th>\n",
       "      <th>Income</th>\n",
       "    </tr>\n",
       "  </thead>\n",
       "  <tbody>\n",
       "    <tr>\n",
       "      <th>0</th>\n",
       "      <td>-1</td>\n",
       "      <td>-1</td>\n",
       "      <td>-1</td>\n",
       "      <td>-1</td>\n",
       "      <td>-1</td>\n",
       "      <td>-1</td>\n",
       "      <td>-1</td>\n",
       "      <td>-1</td>\n",
       "      <td>-1</td>\n",
       "      <td>-1</td>\n",
       "      <td>...</td>\n",
       "      <td>-1</td>\n",
       "      <td>-1</td>\n",
       "      <td>-1</td>\n",
       "      <td>-1</td>\n",
       "      <td>-1</td>\n",
       "      <td>-1</td>\n",
       "      <td>-1</td>\n",
       "      <td>-1</td>\n",
       "      <td>-1</td>\n",
       "      <td>-1</td>\n",
       "    </tr>\n",
       "  </tbody>\n",
       "</table>\n",
       "<p>1 rows × 21 columns</p>\n",
       "</div>"
      ],
      "text/plain": [
       "   HighBP  HighChol  CholCheck  BMI_Range  Smoker  Stroke  \\\n",
       "0      -1        -1         -1         -1      -1      -1   \n",
       "\n",
       "   HeartDiseaseorAttack  PhysActivity  Fruits  Veggies  ...  AnyHealthcare  \\\n",
       "0                    -1            -1      -1       -1  ...             -1   \n",
       "\n",
       "   NoDocbcCost  GenHlth  Mental_Health_Range  Physical_Health_Range  DiffWalk  \\\n",
       "0           -1       -1                   -1                     -1        -1   \n",
       "\n",
       "   Sex  Age  Education  Income  \n",
       "0   -1   -1         -1      -1  \n",
       "\n",
       "[1 rows x 21 columns]"
      ]
     },
     "execution_count": 7,
     "metadata": {},
     "output_type": "execute_result"
    }
   ],
   "source": [
    "#validate\n",
    "predict_df = prediction_df[['HighBP', \"HighChol\", \"CholCheck\", \"BMI_Range\", \"Smoker\", \"Stroke\", \"HeartDiseaseorAttack\", \"PhysActivity\", \"Fruits\", \"Veggies\", \"HvyAlcoholConsumP\", \"AnyHealthcare\", \"NoDocbcCost\", \"GenHlth\", \"Mental_Health_Range\", \"Physical_Health_Range\", \"DiffWalk\", \"Sex\", \"Age\", \"Education\", \"Income\"]]\n",
    "predict_df.head()"
   ]
  },
  {
   "cell_type": "code",
   "execution_count": 8,
   "id": "8bffdc15",
   "metadata": {},
   "outputs": [
    {
     "name": "stderr",
     "output_type": "stream",
     "text": [
      "C:\\Users\\kbrabec\\Anaconda3\\lib\\site-packages\\sklearn\\base.py:443: UserWarning: X has feature names, but RandomForestClassifier was fitted without feature names\n",
      "  warnings.warn(\n"
     ]
    },
    {
     "data": {
      "text/plain": [
       "array([1], dtype=int64)"
      ]
     },
     "execution_count": 8,
     "metadata": {},
     "output_type": "execute_result"
    }
   ],
   "source": [
    "#set  predict dataframe to predict values  and run prediction against trained model \n",
    "y_pred = loaded_model.predict(predict_df)\n",
    "#validate result completes \n",
    "y_pred"
   ]
  },
  {
   "cell_type": "code",
   "execution_count": 9,
   "id": "fd9b9af7",
   "metadata": {},
   "outputs": [],
   "source": [
    "#set value to send back to website \n",
    "result = y_pred "
   ]
  },
  {
   "cell_type": "code",
   "execution_count": 10,
   "id": "9f3996da",
   "metadata": {},
   "outputs": [
    {
     "data": {
      "text/plain": [
       "array([1], dtype=int64)"
      ]
     },
     "execution_count": 10,
     "metadata": {},
     "output_type": "execute_result"
    }
   ],
   "source": [
    "result"
   ]
  },
  {
   "cell_type": "code",
   "execution_count": 11,
   "id": "8926f860",
   "metadata": {},
   "outputs": [],
   "source": [
    "result_df=pd.DataFrame(result, columns=['result'])"
   ]
  },
  {
   "cell_type": "code",
   "execution_count": 12,
   "id": "d4b3d9a7",
   "metadata": {},
   "outputs": [],
   "source": [
    "result_df.to_csv('../results/results.csv')"
   ]
  },
  {
   "cell_type": "code",
   "execution_count": 13,
   "id": "51b5e018",
   "metadata": {},
   "outputs": [],
   "source": [
    "result_df.to_json('../results/results.json')"
   ]
  },
  {
   "cell_type": "code",
   "execution_count": null,
   "id": "48bfe5ee",
   "metadata": {},
   "outputs": [],
   "source": []
  }
 ],
 "metadata": {
  "kernelspec": {
   "display_name": "Python 3 (ipykernel)",
   "language": "python",
   "name": "python3"
  },
  "language_info": {
   "codemirror_mode": {
    "name": "ipython",
    "version": 3
   },
   "file_extension": ".py",
   "mimetype": "text/x-python",
   "name": "python",
   "nbconvert_exporter": "python",
   "pygments_lexer": "ipython3",
   "version": "3.9.13"
  },
  "vscode": {
   "interpreter": {
    "hash": "306c8db229f0a89c06d03772a1eff5479204b8baa09cdbdfc80c0ee3ff96995d"
   }
  }
 },
 "nbformat": 4,
 "nbformat_minor": 5
}
