{
 "cells": [
  {
   "cell_type": "code",
   "execution_count": 20,
   "id": "96e66c92",
   "metadata": {},
   "outputs": [
    {
     "name": "stdout",
     "output_type": "stream",
     "text": [
      "Requirement already satisfied: Flask in c:\\users\\kbrabec\\anaconda3\\envs\\mlenv\\lib\\site-packages (2.2.2)Note: you may need to restart the kernel to use updated packages.\n",
      "\n",
      "Requirement already satisfied: Werkzeug>=2.2.2 in c:\\users\\kbrabec\\anaconda3\\envs\\mlenv\\lib\\site-packages (from Flask) (2.2.2)\n",
      "Requirement already satisfied: click>=8.0 in c:\\users\\kbrabec\\anaconda3\\envs\\mlenv\\lib\\site-packages (from Flask) (8.0.4)\n",
      "Requirement already satisfied: importlib-metadata>=3.6.0 in c:\\users\\kbrabec\\anaconda3\\envs\\mlenv\\lib\\site-packages (from Flask) (4.11.3)\n",
      "Requirement already satisfied: Jinja2>=3.0 in c:\\users\\kbrabec\\anaconda3\\envs\\mlenv\\lib\\site-packages (from Flask) (3.1.2)\n",
      "Requirement already satisfied: itsdangerous>=2.0 in c:\\users\\kbrabec\\anaconda3\\envs\\mlenv\\lib\\site-packages (from Flask) (2.0.1)\n",
      "Requirement already satisfied: colorama in c:\\users\\kbrabec\\anaconda3\\envs\\mlenv\\lib\\site-packages (from click>=8.0->Flask) (0.4.6)\n",
      "Requirement already satisfied: zipp>=0.5 in c:\\users\\kbrabec\\anaconda3\\envs\\mlenv\\lib\\site-packages (from importlib-metadata>=3.6.0->Flask) (3.11.0)\n",
      "Requirement already satisfied: MarkupSafe>=2.0 in c:\\users\\kbrabec\\anaconda3\\envs\\mlenv\\lib\\site-packages (from Jinja2>=3.0->Flask) (2.1.1)\n"
     ]
    }
   ],
   "source": [
    "pip install Flask"
   ]
  },
  {
   "cell_type": "code",
   "execution_count": null,
   "id": "6bfd22fd",
   "metadata": {},
   "outputs": [],
   "source": []
  }
 ],
 "metadata": {
  "kernelspec": {
   "display_name": "mlenv",
   "language": "python",
   "name": "mlenv"
  },
  "language_info": {
   "codemirror_mode": {
    "name": "ipython",
    "version": 3
   },
   "file_extension": ".py",
   "mimetype": "text/x-python",
   "name": "python",
   "nbconvert_exporter": "python",
   "pygments_lexer": "ipython3",
   "version": "3.9.15"
  }
 },
 "nbformat": 4,
 "nbformat_minor": 5
}
