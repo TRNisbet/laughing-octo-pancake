{
 "cells": [
  {
   "cell_type": "markdown",
   "id": "41f539dd",
   "metadata": {},
   "source": [
    "### This file reads the survey export file created from answers on the website, passes them through the trained model and generates a prediction results file. "
   ]
  },
  {
   "cell_type": "code",
   "execution_count": null,
   "id": "cfdb0170",
   "metadata": {},
   "outputs": [],
   "source": [
    "#import dependencies\n",
    "import pandas as pd\n",
    "import matplotlib.pyplot as plt\n",
    "from pathlib import Path\n",
    "from sklearn import tree\n",
    "from sklearn.ensemble import RandomForestClassifier\n",
    "from sklearn.preprocessing import StandardScaler\n",
    "from sklearn.ensemble import GradientBoostingClassifier\n",
    "from collections import Counter\n",
    "from sklearn.datasets import make_blobs\n",
    "from sklearn.model_selection import train_test_split\n",
    "from sklearn.metrics import confusion_matrix, accuracy_score, classification_report\n",
    "from sklearn.linear_model import LogisticRegression\n",
    "import pickle\n",
    "import json\n",
    "from pandas import json_normalize\n",
    "import os\n",
    "import csv\n",
    "import numpy as np\n",
    "\n",
    "print(\"Python and Modeling dependencies imported\")"
   ]
  },
  {
   "cell_type": "code",
   "execution_count": null,
   "id": "f0b150cf",
   "metadata": {},
   "outputs": [],
   "source": [
    "#load model exported from step 2 \n",
    "loaded_model = pickle.load(open('model.pkl', 'rb'))\n"
   ]
  },
  {
   "cell_type": "code",
   "execution_count": null,
   "id": "50eac10a",
   "metadata": {},
   "outputs": [],
   "source": [
    "#read in file from survey website\n",
    "final_predict = Path('../site-dashboard/export/surveyExport.json')\n",
    "prediction_df = pd.read_json(final_predict, lines=True)\n",
    "prediction_df"
   ]
  },
  {
   "cell_type": "code",
   "execution_count": null,
   "id": "bdcfc115",
   "metadata": {},
   "outputs": [],
   "source": [
    "#reset index \n",
    "prediction_df.reset_index(inplace=True)\n"
   ]
  },
  {
   "cell_type": "code",
   "execution_count": null,
   "id": "2067aef5",
   "metadata": {},
   "outputs": [],
   "source": [
    "prediction_df"
   ]
  },
  {
   "cell_type": "code",
   "execution_count": null,
   "id": "08221f10",
   "metadata": {},
   "outputs": [],
   "source": [
    "#drop index\n",
    "prediction_df.drop(columns=['index'])\n"
   ]
  },
  {
   "cell_type": "code",
   "execution_count": null,
   "id": "5df43e7d",
   "metadata": {},
   "outputs": [],
   "source": [
    "#validate\n",
    "predict_df = prediction_df[['HighBP', \"HighChol\", \"CholCheck\", \"BMI_Range\", \"Smoker\", \"Stroke\", \"HeartDiseaseorAttack\", \"PhysActivity\", \"Fruits\", \"Veggies\", \"HvyAlcoholConsumP\", \"AnyHealthcare\", \"NoDocbcCost\", \"GenHlth\", \"Mental_Health_Range\", \"Physical_Health_Range\", \"DiffWalk\", \"Sex\", \"Age\", \"Education\", \"Income\"]]\n",
    "predict_df.head()"
   ]
  },
  {
   "cell_type": "code",
   "execution_count": null,
   "id": "8bffdc15",
   "metadata": {},
   "outputs": [],
   "source": [
    "#set  predict dataframe to predict values  and run prediction against trained model \n",
    "y_pred = loaded_model.predict(predict_df)\n",
    "#validate result completes \n",
    "y_pred"
   ]
  },
  {
   "cell_type": "code",
   "execution_count": null,
   "id": "fd9b9af7",
   "metadata": {},
   "outputs": [],
   "source": [
    "#set value to send back to website \n",
    "result = y_pred "
   ]
  },
  {
   "cell_type": "code",
   "execution_count": null,
   "id": "9f3996da",
   "metadata": {},
   "outputs": [],
   "source": [
    "#validate result\n",
    "result"
   ]
  },
  {
   "cell_type": "code",
   "execution_count": null,
   "id": "8926f860",
   "metadata": {},
   "outputs": [],
   "source": [
    "#cast to dataframe \n",
    "result_df=pd.DataFrame(result, columns=['result'])"
   ]
  },
  {
   "cell_type": "code",
   "execution_count": null,
   "id": "d4b3d9a7",
   "metadata": {},
   "outputs": [],
   "source": [
    "#generate result csv file for consumption by site\n",
    "result_df.to_csv('../results/results.csv')"
   ]
  },
  {
   "cell_type": "code",
   "execution_count": null,
   "id": "51b5e018",
   "metadata": {},
   "outputs": [],
   "source": [
    "#generate result json file for consumption by site \n",
    "result_df.to_json('../results/results.json')"
   ]
  },
  {
   "cell_type": "code",
   "execution_count": null,
   "id": "48bfe5ee",
   "metadata": {},
   "outputs": [],
   "source": [
    "#print prediction in a human readable format \n",
    "if y_pred[0] == 1:\n",
    "    prediction = (f'User does not need to see a doctor')\n",
    "else:\n",
    "    prediction = (f'User does need to see a doctor')\n",
    "    \n",
    "print(prediction)"
   ]
  },
  {
   "cell_type": "code",
   "execution_count": null,
   "id": "1c8de6c4",
   "metadata": {},
   "outputs": [],
   "source": []
  }
 ],
 "metadata": {
  "kernelspec": {
   "display_name": "Python 3 (ipykernel)",
   "language": "python",
   "name": "python3"
  },
  "language_info": {
   "codemirror_mode": {
    "name": "ipython",
    "version": 3
   },
   "file_extension": ".py",
   "mimetype": "text/x-python",
   "name": "python",
   "nbconvert_exporter": "python",
   "pygments_lexer": "ipython3",
   "version": "3.9.13"
  },
  "vscode": {
   "interpreter": {
    "hash": "306c8db229f0a89c06d03772a1eff5479204b8baa09cdbdfc80c0ee3ff96995d"
   }
  }
 },
 "nbformat": 4,
 "nbformat_minor": 5
}
